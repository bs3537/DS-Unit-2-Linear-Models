{
  "nbformat": 4,
  "nbformat_minor": 0,
  "metadata": {
    "colab": {
      "name": "Copy1 of Bhav_ridge_regression_assignment.ipynb",
      "provenance": [],
      "collapsed_sections": [],
      "include_colab_link": true
    },
    "kernelspec": {
      "display_name": "Python 3",
      "language": "python",
      "name": "python3"
    },
    "language_info": {
      "codemirror_mode": {
        "name": "ipython",
        "version": 3
      },
      "file_extension": ".py",
      "mimetype": "text/x-python",
      "name": "python",
      "nbconvert_exporter": "python",
      "pygments_lexer": "ipython3",
      "version": "3.7.3"
    }
  },
  "cells": [
    {
      "cell_type": "markdown",
      "metadata": {
        "id": "view-in-github",
        "colab_type": "text"
      },
      "source": [
        "<a href=\"https://colab.research.google.com/github/bs3537/DS-Unit-2-Linear-Models/blob/master/Bhav_ridge_regression_assignment.ipynb\" target=\"_parent\"><img src=\"https://colab.research.google.com/assets/colab-badge.svg\" alt=\"Open In Colab\"/></a>"
      ]
    },
    {
      "cell_type": "markdown",
      "metadata": {
        "id": "i5AU4g4DyD8_",
        "colab_type": "text"
      },
      "source": [
        "Lambda School Data Science\n",
        "\n",
        "*Unit 2, Sprint 1, Module 3*\n",
        "\n",
        "---"
      ]
    },
    {
      "cell_type": "markdown",
      "metadata": {
        "colab_type": "text",
        "id": "7IXUfiQ2UKj6"
      },
      "source": [
        "# Ridge Regression\n",
        "\n",
        "## Assignment\n",
        "\n",
        "We're going back to our other **New York City** real estate dataset. Instead of predicting apartment rents, you'll predict property sales prices.\n",
        "\n",
        "But not just for condos in Tribeca...\n",
        "\n",
        "- [ ] Use a subset of the data where `BUILDING_CLASS_CATEGORY` == `'01 ONE FAMILY DWELLINGS'` and the sale price was more than 100 thousand and less than 2 million.\n",
        "- [ ] Do train/test split. Use data from January — March 2019 to train. Use data from April 2019 to test.\n",
        "- [ ] Do one-hot encoding of categorical features.\n",
        "- [ ] Do feature selection with `SelectKBest`.\n",
        "- [ ] Do [feature scaling](https://scikit-learn.org/stable/modules/preprocessing.html). Use the scaler's `fit_transform` method with the train set. Use the scaler's `transform` method with the test set.\n",
        "- [ ] Fit a ridge regression model with multiple features.\n",
        "- [ ] Get mean absolute error for the test set.\n",
        "- [ ] As always, commit your notebook to your fork of the GitHub repo.\n",
        "\n",
        "The [NYC Department of Finance](https://www1.nyc.gov/site/finance/taxes/property-rolling-sales-data.page) has a glossary of property sales terms and NYC Building Class Code Descriptions. The data comes from the [NYC OpenData](https://data.cityofnewyork.us/browse?q=NYC%20calendar%20sales) portal.\n",
        "\n",
        "\n",
        "## Stretch Goals\n",
        "\n",
        "Don't worry, you aren't expected to do all these stretch goals! These are just ideas to consider and choose from.\n",
        "\n",
        "- [ ] Add your own stretch goal(s) !\n",
        "- [ ] Instead of `Ridge`, try `LinearRegression`. Depending on how many features you select, your errors will probably blow up! 💥\n",
        "- [ ] Instead of `Ridge`, try [`RidgeCV`](https://scikit-learn.org/stable/modules/generated/sklearn.linear_model.RidgeCV.html).\n",
        "- [ ] Learn more about feature selection:\n",
        "    - [\"Permutation importance\"](https://www.kaggle.com/dansbecker/permutation-importance)\n",
        "    - [scikit-learn's User Guide for Feature Selection](https://scikit-learn.org/stable/modules/feature_selection.html)\n",
        "    - [mlxtend](http://rasbt.github.io/mlxtend/) library\n",
        "    - scikit-learn-contrib libraries: [boruta_py](https://github.com/scikit-learn-contrib/boruta_py) & [stability-selection](https://github.com/scikit-learn-contrib/stability-selection)\n",
        "    - [_Feature Engineering and Selection_](http://www.feat.engineering/) by Kuhn & Johnson.\n",
        "- [ ] Try [statsmodels](https://www.statsmodels.org/stable/index.html) if you’re interested in more inferential statistical approach to linear regression and feature selection, looking at p values and 95% confidence intervals for the coefficients.\n",
        "- [ ] Read [_An Introduction to Statistical Learning_](http://faculty.marshall.usc.edu/gareth-james/ISL/ISLR%20Seventh%20Printing.pdf), Chapters 1-3, for more math & theory, but in an accessible, readable way.\n",
        "- [ ] Try [scikit-learn pipelines](https://scikit-learn.org/stable/modules/compose.html)."
      ]
    },
    {
      "cell_type": "code",
      "metadata": {
        "colab_type": "code",
        "id": "o9eSnDYhUGD7",
        "colab": {}
      },
      "source": [
        "%%capture\n",
        "import sys\n",
        "\n",
        "# If you're on Colab:\n",
        "if 'google.colab' in sys.modules:\n",
        "    DATA_PATH = 'https://raw.githubusercontent.com/LambdaSchool/DS-Unit-2-Applied-Modeling/master/data/'\n",
        "    !pip install category_encoders==2.*\n",
        "\n",
        "# If you're working locally:\n",
        "else:\n",
        "    DATA_PATH = '../data/'\n",
        "    \n",
        "# Ignore this Numpy warning when using Plotly Express:\n",
        "# FutureWarning: Method .ptp is deprecated and will be removed in a future version. Use numpy.ptp instead.\n",
        "import warnings\n",
        "warnings.filterwarnings(action='ignore', category=FutureWarning, module='numpy')"
      ],
      "execution_count": 0,
      "outputs": []
    },
    {
      "cell_type": "code",
      "metadata": {
        "colab_type": "code",
        "id": "QJBD4ruICm1m",
        "colab": {}
      },
      "source": [
        "import pandas as pd\n",
        "import pandas_profiling\n",
        "\n",
        "# Read New York City property sales data\n",
        "df = pd.read_csv(DATA_PATH+'condos/NYC_Citywide_Rolling_Calendar_Sales.csv')\n",
        "\n",
        "# Change column names: replace spaces with underscores\n",
        "df.columns = [col.replace(' ', '_') for col in df]\n",
        "\n",
        "# SALE_PRICE was read as strings.\n",
        "# Remove symbols, convert to integer\n",
        "df['SALE_PRICE'] = (\n",
        "    df['SALE_PRICE']\n",
        "    .str.replace('$','')\n",
        "    .str.replace('-','')\n",
        "    .str.replace(',','')\n",
        "    .astype(int)\n",
        ")"
      ],
      "execution_count": 0,
      "outputs": []
    },
    {
      "cell_type": "code",
      "metadata": {
        "id": "ILl8UZrxzC71",
        "colab_type": "code",
        "outputId": "b316228d-d515-4173-c05f-bc22c582d276",
        "colab": {
          "base_uri": "https://localhost:8080/",
          "height": 434
        }
      },
      "source": [
        "df.head()"
      ],
      "execution_count": 3,
      "outputs": [
        {
          "output_type": "execute_result",
          "data": {
            "text/html": [
              "<div>\n",
              "<style scoped>\n",
              "    .dataframe tbody tr th:only-of-type {\n",
              "        vertical-align: middle;\n",
              "    }\n",
              "\n",
              "    .dataframe tbody tr th {\n",
              "        vertical-align: top;\n",
              "    }\n",
              "\n",
              "    .dataframe thead th {\n",
              "        text-align: right;\n",
              "    }\n",
              "</style>\n",
              "<table border=\"1\" class=\"dataframe\">\n",
              "  <thead>\n",
              "    <tr style=\"text-align: right;\">\n",
              "      <th></th>\n",
              "      <th>BOROUGH</th>\n",
              "      <th>NEIGHBORHOOD</th>\n",
              "      <th>BUILDING_CLASS_CATEGORY</th>\n",
              "      <th>TAX_CLASS_AT_PRESENT</th>\n",
              "      <th>BLOCK</th>\n",
              "      <th>LOT</th>\n",
              "      <th>EASE-MENT</th>\n",
              "      <th>BUILDING_CLASS_AT_PRESENT</th>\n",
              "      <th>ADDRESS</th>\n",
              "      <th>APARTMENT_NUMBER</th>\n",
              "      <th>ZIP_CODE</th>\n",
              "      <th>RESIDENTIAL_UNITS</th>\n",
              "      <th>COMMERCIAL_UNITS</th>\n",
              "      <th>TOTAL_UNITS</th>\n",
              "      <th>LAND_SQUARE_FEET</th>\n",
              "      <th>GROSS_SQUARE_FEET</th>\n",
              "      <th>YEAR_BUILT</th>\n",
              "      <th>TAX_CLASS_AT_TIME_OF_SALE</th>\n",
              "      <th>BUILDING_CLASS_AT_TIME_OF_SALE</th>\n",
              "      <th>SALE_PRICE</th>\n",
              "      <th>SALE_DATE</th>\n",
              "    </tr>\n",
              "  </thead>\n",
              "  <tbody>\n",
              "    <tr>\n",
              "      <th>0</th>\n",
              "      <td>1</td>\n",
              "      <td>CHELSEA</td>\n",
              "      <td>13 CONDOS - ELEVATOR APARTMENTS</td>\n",
              "      <td>2</td>\n",
              "      <td>716</td>\n",
              "      <td>1246</td>\n",
              "      <td>NaN</td>\n",
              "      <td>R4</td>\n",
              "      <td>447 WEST 18TH STREET, PH12A</td>\n",
              "      <td>PH12A</td>\n",
              "      <td>10011.0</td>\n",
              "      <td>1.0</td>\n",
              "      <td>0.0</td>\n",
              "      <td>1.0</td>\n",
              "      <td>10,733</td>\n",
              "      <td>1979.0</td>\n",
              "      <td>2007.0</td>\n",
              "      <td>2</td>\n",
              "      <td>R4</td>\n",
              "      <td>0</td>\n",
              "      <td>01/01/2019</td>\n",
              "    </tr>\n",
              "    <tr>\n",
              "      <th>1</th>\n",
              "      <td>1</td>\n",
              "      <td>FASHION</td>\n",
              "      <td>21 OFFICE BUILDINGS</td>\n",
              "      <td>4</td>\n",
              "      <td>812</td>\n",
              "      <td>68</td>\n",
              "      <td>NaN</td>\n",
              "      <td>O5</td>\n",
              "      <td>144 WEST 37TH STREET</td>\n",
              "      <td>NaN</td>\n",
              "      <td>10018.0</td>\n",
              "      <td>0.0</td>\n",
              "      <td>6.0</td>\n",
              "      <td>6.0</td>\n",
              "      <td>2,962</td>\n",
              "      <td>15435.0</td>\n",
              "      <td>1920.0</td>\n",
              "      <td>4</td>\n",
              "      <td>O5</td>\n",
              "      <td>0</td>\n",
              "      <td>01/01/2019</td>\n",
              "    </tr>\n",
              "    <tr>\n",
              "      <th>2</th>\n",
              "      <td>1</td>\n",
              "      <td>FASHION</td>\n",
              "      <td>21 OFFICE BUILDINGS</td>\n",
              "      <td>4</td>\n",
              "      <td>839</td>\n",
              "      <td>69</td>\n",
              "      <td>NaN</td>\n",
              "      <td>O5</td>\n",
              "      <td>40 WEST 38TH STREET</td>\n",
              "      <td>NaN</td>\n",
              "      <td>10018.0</td>\n",
              "      <td>0.0</td>\n",
              "      <td>7.0</td>\n",
              "      <td>7.0</td>\n",
              "      <td>2,074</td>\n",
              "      <td>11332.0</td>\n",
              "      <td>1930.0</td>\n",
              "      <td>4</td>\n",
              "      <td>O5</td>\n",
              "      <td>0</td>\n",
              "      <td>01/01/2019</td>\n",
              "    </tr>\n",
              "    <tr>\n",
              "      <th>3</th>\n",
              "      <td>1</td>\n",
              "      <td>GREENWICH VILLAGE-WEST</td>\n",
              "      <td>13 CONDOS - ELEVATOR APARTMENTS</td>\n",
              "      <td>2</td>\n",
              "      <td>592</td>\n",
              "      <td>1041</td>\n",
              "      <td>NaN</td>\n",
              "      <td>R4</td>\n",
              "      <td>1 SHERIDAN SQUARE, 8C</td>\n",
              "      <td>8C</td>\n",
              "      <td>10014.0</td>\n",
              "      <td>1.0</td>\n",
              "      <td>0.0</td>\n",
              "      <td>1.0</td>\n",
              "      <td>0</td>\n",
              "      <td>500.0</td>\n",
              "      <td>0.0</td>\n",
              "      <td>2</td>\n",
              "      <td>R4</td>\n",
              "      <td>0</td>\n",
              "      <td>01/01/2019</td>\n",
              "    </tr>\n",
              "    <tr>\n",
              "      <th>4</th>\n",
              "      <td>1</td>\n",
              "      <td>UPPER EAST SIDE (59-79)</td>\n",
              "      <td>15 CONDOS - 2-10 UNIT RESIDENTIAL</td>\n",
              "      <td>2C</td>\n",
              "      <td>1379</td>\n",
              "      <td>1402</td>\n",
              "      <td>NaN</td>\n",
              "      <td>R1</td>\n",
              "      <td>20 EAST 65TH STREET, B</td>\n",
              "      <td>B</td>\n",
              "      <td>10065.0</td>\n",
              "      <td>1.0</td>\n",
              "      <td>0.0</td>\n",
              "      <td>1.0</td>\n",
              "      <td>0</td>\n",
              "      <td>6406.0</td>\n",
              "      <td>0.0</td>\n",
              "      <td>2</td>\n",
              "      <td>R1</td>\n",
              "      <td>0</td>\n",
              "      <td>01/01/2019</td>\n",
              "    </tr>\n",
              "  </tbody>\n",
              "</table>\n",
              "</div>"
            ],
            "text/plain": [
              "   BOROUGH             NEIGHBORHOOD  ... SALE_PRICE   SALE_DATE\n",
              "0        1                  CHELSEA  ...          0  01/01/2019\n",
              "1        1                  FASHION  ...          0  01/01/2019\n",
              "2        1                  FASHION  ...          0  01/01/2019\n",
              "3        1   GREENWICH VILLAGE-WEST  ...          0  01/01/2019\n",
              "4        1  UPPER EAST SIDE (59-79)  ...          0  01/01/2019\n",
              "\n",
              "[5 rows x 21 columns]"
            ]
          },
          "metadata": {
            "tags": []
          },
          "execution_count": 3
        }
      ]
    },
    {
      "cell_type": "code",
      "metadata": {
        "id": "_JWM9nAqzHnj",
        "colab_type": "code",
        "outputId": "17ad481d-5937-4e79-94a5-40aae762cf8d",
        "colab": {
          "base_uri": "https://localhost:8080/",
          "height": 34
        }
      },
      "source": [
        "df.shape"
      ],
      "execution_count": 4,
      "outputs": [
        {
          "output_type": "execute_result",
          "data": {
            "text/plain": [
              "(23040, 21)"
            ]
          },
          "metadata": {
            "tags": []
          },
          "execution_count": 4
        }
      ]
    },
    {
      "cell_type": "code",
      "metadata": {
        "id": "hJNdQ6vcyD9O",
        "colab_type": "code",
        "colab": {}
      },
      "source": [
        "# BOROUGH is a numeric column, but arguably should be a categorical feature,\n",
        "# so convert it from a number to a string\n",
        "df['BOROUGH'] = df['BOROUGH'].astype(str)"
      ],
      "execution_count": 0,
      "outputs": []
    },
    {
      "cell_type": "code",
      "metadata": {
        "id": "CPYF_HV3y5By",
        "colab_type": "code",
        "outputId": "ce6407ae-9c10-4f34-a6f3-3175f69c59e5",
        "colab": {
          "base_uri": "https://localhost:8080/",
          "height": 434
        }
      },
      "source": [
        "df.head()"
      ],
      "execution_count": 6,
      "outputs": [
        {
          "output_type": "execute_result",
          "data": {
            "text/html": [
              "<div>\n",
              "<style scoped>\n",
              "    .dataframe tbody tr th:only-of-type {\n",
              "        vertical-align: middle;\n",
              "    }\n",
              "\n",
              "    .dataframe tbody tr th {\n",
              "        vertical-align: top;\n",
              "    }\n",
              "\n",
              "    .dataframe thead th {\n",
              "        text-align: right;\n",
              "    }\n",
              "</style>\n",
              "<table border=\"1\" class=\"dataframe\">\n",
              "  <thead>\n",
              "    <tr style=\"text-align: right;\">\n",
              "      <th></th>\n",
              "      <th>BOROUGH</th>\n",
              "      <th>NEIGHBORHOOD</th>\n",
              "      <th>BUILDING_CLASS_CATEGORY</th>\n",
              "      <th>TAX_CLASS_AT_PRESENT</th>\n",
              "      <th>BLOCK</th>\n",
              "      <th>LOT</th>\n",
              "      <th>EASE-MENT</th>\n",
              "      <th>BUILDING_CLASS_AT_PRESENT</th>\n",
              "      <th>ADDRESS</th>\n",
              "      <th>APARTMENT_NUMBER</th>\n",
              "      <th>ZIP_CODE</th>\n",
              "      <th>RESIDENTIAL_UNITS</th>\n",
              "      <th>COMMERCIAL_UNITS</th>\n",
              "      <th>TOTAL_UNITS</th>\n",
              "      <th>LAND_SQUARE_FEET</th>\n",
              "      <th>GROSS_SQUARE_FEET</th>\n",
              "      <th>YEAR_BUILT</th>\n",
              "      <th>TAX_CLASS_AT_TIME_OF_SALE</th>\n",
              "      <th>BUILDING_CLASS_AT_TIME_OF_SALE</th>\n",
              "      <th>SALE_PRICE</th>\n",
              "      <th>SALE_DATE</th>\n",
              "    </tr>\n",
              "  </thead>\n",
              "  <tbody>\n",
              "    <tr>\n",
              "      <th>0</th>\n",
              "      <td>1</td>\n",
              "      <td>CHELSEA</td>\n",
              "      <td>13 CONDOS - ELEVATOR APARTMENTS</td>\n",
              "      <td>2</td>\n",
              "      <td>716</td>\n",
              "      <td>1246</td>\n",
              "      <td>NaN</td>\n",
              "      <td>R4</td>\n",
              "      <td>447 WEST 18TH STREET, PH12A</td>\n",
              "      <td>PH12A</td>\n",
              "      <td>10011.0</td>\n",
              "      <td>1.0</td>\n",
              "      <td>0.0</td>\n",
              "      <td>1.0</td>\n",
              "      <td>10,733</td>\n",
              "      <td>1979.0</td>\n",
              "      <td>2007.0</td>\n",
              "      <td>2</td>\n",
              "      <td>R4</td>\n",
              "      <td>0</td>\n",
              "      <td>01/01/2019</td>\n",
              "    </tr>\n",
              "    <tr>\n",
              "      <th>1</th>\n",
              "      <td>1</td>\n",
              "      <td>FASHION</td>\n",
              "      <td>21 OFFICE BUILDINGS</td>\n",
              "      <td>4</td>\n",
              "      <td>812</td>\n",
              "      <td>68</td>\n",
              "      <td>NaN</td>\n",
              "      <td>O5</td>\n",
              "      <td>144 WEST 37TH STREET</td>\n",
              "      <td>NaN</td>\n",
              "      <td>10018.0</td>\n",
              "      <td>0.0</td>\n",
              "      <td>6.0</td>\n",
              "      <td>6.0</td>\n",
              "      <td>2,962</td>\n",
              "      <td>15435.0</td>\n",
              "      <td>1920.0</td>\n",
              "      <td>4</td>\n",
              "      <td>O5</td>\n",
              "      <td>0</td>\n",
              "      <td>01/01/2019</td>\n",
              "    </tr>\n",
              "    <tr>\n",
              "      <th>2</th>\n",
              "      <td>1</td>\n",
              "      <td>FASHION</td>\n",
              "      <td>21 OFFICE BUILDINGS</td>\n",
              "      <td>4</td>\n",
              "      <td>839</td>\n",
              "      <td>69</td>\n",
              "      <td>NaN</td>\n",
              "      <td>O5</td>\n",
              "      <td>40 WEST 38TH STREET</td>\n",
              "      <td>NaN</td>\n",
              "      <td>10018.0</td>\n",
              "      <td>0.0</td>\n",
              "      <td>7.0</td>\n",
              "      <td>7.0</td>\n",
              "      <td>2,074</td>\n",
              "      <td>11332.0</td>\n",
              "      <td>1930.0</td>\n",
              "      <td>4</td>\n",
              "      <td>O5</td>\n",
              "      <td>0</td>\n",
              "      <td>01/01/2019</td>\n",
              "    </tr>\n",
              "    <tr>\n",
              "      <th>3</th>\n",
              "      <td>1</td>\n",
              "      <td>GREENWICH VILLAGE-WEST</td>\n",
              "      <td>13 CONDOS - ELEVATOR APARTMENTS</td>\n",
              "      <td>2</td>\n",
              "      <td>592</td>\n",
              "      <td>1041</td>\n",
              "      <td>NaN</td>\n",
              "      <td>R4</td>\n",
              "      <td>1 SHERIDAN SQUARE, 8C</td>\n",
              "      <td>8C</td>\n",
              "      <td>10014.0</td>\n",
              "      <td>1.0</td>\n",
              "      <td>0.0</td>\n",
              "      <td>1.0</td>\n",
              "      <td>0</td>\n",
              "      <td>500.0</td>\n",
              "      <td>0.0</td>\n",
              "      <td>2</td>\n",
              "      <td>R4</td>\n",
              "      <td>0</td>\n",
              "      <td>01/01/2019</td>\n",
              "    </tr>\n",
              "    <tr>\n",
              "      <th>4</th>\n",
              "      <td>1</td>\n",
              "      <td>UPPER EAST SIDE (59-79)</td>\n",
              "      <td>15 CONDOS - 2-10 UNIT RESIDENTIAL</td>\n",
              "      <td>2C</td>\n",
              "      <td>1379</td>\n",
              "      <td>1402</td>\n",
              "      <td>NaN</td>\n",
              "      <td>R1</td>\n",
              "      <td>20 EAST 65TH STREET, B</td>\n",
              "      <td>B</td>\n",
              "      <td>10065.0</td>\n",
              "      <td>1.0</td>\n",
              "      <td>0.0</td>\n",
              "      <td>1.0</td>\n",
              "      <td>0</td>\n",
              "      <td>6406.0</td>\n",
              "      <td>0.0</td>\n",
              "      <td>2</td>\n",
              "      <td>R1</td>\n",
              "      <td>0</td>\n",
              "      <td>01/01/2019</td>\n",
              "    </tr>\n",
              "  </tbody>\n",
              "</table>\n",
              "</div>"
            ],
            "text/plain": [
              "  BOROUGH             NEIGHBORHOOD  ... SALE_PRICE   SALE_DATE\n",
              "0       1                  CHELSEA  ...          0  01/01/2019\n",
              "1       1                  FASHION  ...          0  01/01/2019\n",
              "2       1                  FASHION  ...          0  01/01/2019\n",
              "3       1   GREENWICH VILLAGE-WEST  ...          0  01/01/2019\n",
              "4       1  UPPER EAST SIDE (59-79)  ...          0  01/01/2019\n",
              "\n",
              "[5 rows x 21 columns]"
            ]
          },
          "metadata": {
            "tags": []
          },
          "execution_count": 6
        }
      ]
    },
    {
      "cell_type": "code",
      "metadata": {
        "id": "KXhOtkRGxSdH",
        "colab_type": "code",
        "colab": {}
      },
      "source": [
        ""
      ],
      "execution_count": 0,
      "outputs": []
    },
    {
      "cell_type": "code",
      "metadata": {
        "id": "xu7qpiJSzRty",
        "colab_type": "code",
        "outputId": "2ebe2dfa-ffae-4c2a-95d1-4e89ae6a824b",
        "colab": {
          "base_uri": "https://localhost:8080/",
          "height": 34
        }
      },
      "source": [
        "df.shape"
      ],
      "execution_count": 7,
      "outputs": [
        {
          "output_type": "execute_result",
          "data": {
            "text/plain": [
              "(23040, 21)"
            ]
          },
          "metadata": {
            "tags": []
          },
          "execution_count": 7
        }
      ]
    },
    {
      "cell_type": "code",
      "metadata": {
        "id": "QBME-rj4zT8f",
        "colab_type": "code",
        "outputId": "47540711-2532-423d-ed85-d4cf2a48e062",
        "colab": {
          "base_uri": "https://localhost:8080/",
          "height": 386
        }
      },
      "source": [
        "#find null values\n",
        "df.isnull().sum()"
      ],
      "execution_count": 8,
      "outputs": [
        {
          "output_type": "execute_result",
          "data": {
            "text/plain": [
              "BOROUGH                               0\n",
              "NEIGHBORHOOD                          0\n",
              "BUILDING_CLASS_CATEGORY               0\n",
              "TAX_CLASS_AT_PRESENT                  1\n",
              "BLOCK                                 0\n",
              "LOT                                   0\n",
              "EASE-MENT                         23040\n",
              "BUILDING_CLASS_AT_PRESENT             1\n",
              "ADDRESS                               0\n",
              "APARTMENT_NUMBER                  17839\n",
              "ZIP_CODE                              1\n",
              "RESIDENTIAL_UNITS                     1\n",
              "COMMERCIAL_UNITS                      1\n",
              "TOTAL_UNITS                           1\n",
              "LAND_SQUARE_FEET                     53\n",
              "GROSS_SQUARE_FEET                     1\n",
              "YEAR_BUILT                           35\n",
              "TAX_CLASS_AT_TIME_OF_SALE             0\n",
              "BUILDING_CLASS_AT_TIME_OF_SALE        0\n",
              "SALE_PRICE                            0\n",
              "SALE_DATE                             0\n",
              "dtype: int64"
            ]
          },
          "metadata": {
            "tags": []
          },
          "execution_count": 8
        }
      ]
    },
    {
      "cell_type": "code",
      "metadata": {
        "id": "QUZsIzGszg1J",
        "colab_type": "code",
        "colab": {}
      },
      "source": [
        "#drop apartment number and ease-ment columns\n",
        "\n",
        "df1 = df.drop(columns=['EASE-MENT', 'APARTMENT_NUMBER'])"
      ],
      "execution_count": 0,
      "outputs": []
    },
    {
      "cell_type": "code",
      "metadata": {
        "id": "ZbKA2nKJ09mb",
        "colab_type": "code",
        "outputId": "46e2eb6b-dd8d-491a-ea1c-40b8353d3526",
        "colab": {
          "base_uri": "https://localhost:8080/",
          "height": 643
        }
      },
      "source": [
        "df1.head().T"
      ],
      "execution_count": 10,
      "outputs": [
        {
          "output_type": "execute_result",
          "data": {
            "text/html": [
              "<div>\n",
              "<style scoped>\n",
              "    .dataframe tbody tr th:only-of-type {\n",
              "        vertical-align: middle;\n",
              "    }\n",
              "\n",
              "    .dataframe tbody tr th {\n",
              "        vertical-align: top;\n",
              "    }\n",
              "\n",
              "    .dataframe thead th {\n",
              "        text-align: right;\n",
              "    }\n",
              "</style>\n",
              "<table border=\"1\" class=\"dataframe\">\n",
              "  <thead>\n",
              "    <tr style=\"text-align: right;\">\n",
              "      <th></th>\n",
              "      <th>0</th>\n",
              "      <th>1</th>\n",
              "      <th>2</th>\n",
              "      <th>3</th>\n",
              "      <th>4</th>\n",
              "    </tr>\n",
              "  </thead>\n",
              "  <tbody>\n",
              "    <tr>\n",
              "      <th>BOROUGH</th>\n",
              "      <td>1</td>\n",
              "      <td>1</td>\n",
              "      <td>1</td>\n",
              "      <td>1</td>\n",
              "      <td>1</td>\n",
              "    </tr>\n",
              "    <tr>\n",
              "      <th>NEIGHBORHOOD</th>\n",
              "      <td>CHELSEA</td>\n",
              "      <td>FASHION</td>\n",
              "      <td>FASHION</td>\n",
              "      <td>GREENWICH VILLAGE-WEST</td>\n",
              "      <td>UPPER EAST SIDE (59-79)</td>\n",
              "    </tr>\n",
              "    <tr>\n",
              "      <th>BUILDING_CLASS_CATEGORY</th>\n",
              "      <td>13 CONDOS - ELEVATOR APARTMENTS</td>\n",
              "      <td>21 OFFICE BUILDINGS</td>\n",
              "      <td>21 OFFICE BUILDINGS</td>\n",
              "      <td>13 CONDOS - ELEVATOR APARTMENTS</td>\n",
              "      <td>15 CONDOS - 2-10 UNIT RESIDENTIAL</td>\n",
              "    </tr>\n",
              "    <tr>\n",
              "      <th>TAX_CLASS_AT_PRESENT</th>\n",
              "      <td>2</td>\n",
              "      <td>4</td>\n",
              "      <td>4</td>\n",
              "      <td>2</td>\n",
              "      <td>2C</td>\n",
              "    </tr>\n",
              "    <tr>\n",
              "      <th>BLOCK</th>\n",
              "      <td>716</td>\n",
              "      <td>812</td>\n",
              "      <td>839</td>\n",
              "      <td>592</td>\n",
              "      <td>1379</td>\n",
              "    </tr>\n",
              "    <tr>\n",
              "      <th>LOT</th>\n",
              "      <td>1246</td>\n",
              "      <td>68</td>\n",
              "      <td>69</td>\n",
              "      <td>1041</td>\n",
              "      <td>1402</td>\n",
              "    </tr>\n",
              "    <tr>\n",
              "      <th>BUILDING_CLASS_AT_PRESENT</th>\n",
              "      <td>R4</td>\n",
              "      <td>O5</td>\n",
              "      <td>O5</td>\n",
              "      <td>R4</td>\n",
              "      <td>R1</td>\n",
              "    </tr>\n",
              "    <tr>\n",
              "      <th>ADDRESS</th>\n",
              "      <td>447 WEST 18TH STREET, PH12A</td>\n",
              "      <td>144 WEST 37TH STREET</td>\n",
              "      <td>40 WEST 38TH STREET</td>\n",
              "      <td>1 SHERIDAN SQUARE, 8C</td>\n",
              "      <td>20 EAST 65TH STREET, B</td>\n",
              "    </tr>\n",
              "    <tr>\n",
              "      <th>ZIP_CODE</th>\n",
              "      <td>10011</td>\n",
              "      <td>10018</td>\n",
              "      <td>10018</td>\n",
              "      <td>10014</td>\n",
              "      <td>10065</td>\n",
              "    </tr>\n",
              "    <tr>\n",
              "      <th>RESIDENTIAL_UNITS</th>\n",
              "      <td>1</td>\n",
              "      <td>0</td>\n",
              "      <td>0</td>\n",
              "      <td>1</td>\n",
              "      <td>1</td>\n",
              "    </tr>\n",
              "    <tr>\n",
              "      <th>COMMERCIAL_UNITS</th>\n",
              "      <td>0</td>\n",
              "      <td>6</td>\n",
              "      <td>7</td>\n",
              "      <td>0</td>\n",
              "      <td>0</td>\n",
              "    </tr>\n",
              "    <tr>\n",
              "      <th>TOTAL_UNITS</th>\n",
              "      <td>1</td>\n",
              "      <td>6</td>\n",
              "      <td>7</td>\n",
              "      <td>1</td>\n",
              "      <td>1</td>\n",
              "    </tr>\n",
              "    <tr>\n",
              "      <th>LAND_SQUARE_FEET</th>\n",
              "      <td>10,733</td>\n",
              "      <td>2,962</td>\n",
              "      <td>2,074</td>\n",
              "      <td>0</td>\n",
              "      <td>0</td>\n",
              "    </tr>\n",
              "    <tr>\n",
              "      <th>GROSS_SQUARE_FEET</th>\n",
              "      <td>1979</td>\n",
              "      <td>15435</td>\n",
              "      <td>11332</td>\n",
              "      <td>500</td>\n",
              "      <td>6406</td>\n",
              "    </tr>\n",
              "    <tr>\n",
              "      <th>YEAR_BUILT</th>\n",
              "      <td>2007</td>\n",
              "      <td>1920</td>\n",
              "      <td>1930</td>\n",
              "      <td>0</td>\n",
              "      <td>0</td>\n",
              "    </tr>\n",
              "    <tr>\n",
              "      <th>TAX_CLASS_AT_TIME_OF_SALE</th>\n",
              "      <td>2</td>\n",
              "      <td>4</td>\n",
              "      <td>4</td>\n",
              "      <td>2</td>\n",
              "      <td>2</td>\n",
              "    </tr>\n",
              "    <tr>\n",
              "      <th>BUILDING_CLASS_AT_TIME_OF_SALE</th>\n",
              "      <td>R4</td>\n",
              "      <td>O5</td>\n",
              "      <td>O5</td>\n",
              "      <td>R4</td>\n",
              "      <td>R1</td>\n",
              "    </tr>\n",
              "    <tr>\n",
              "      <th>SALE_PRICE</th>\n",
              "      <td>0</td>\n",
              "      <td>0</td>\n",
              "      <td>0</td>\n",
              "      <td>0</td>\n",
              "      <td>0</td>\n",
              "    </tr>\n",
              "    <tr>\n",
              "      <th>SALE_DATE</th>\n",
              "      <td>01/01/2019</td>\n",
              "      <td>01/01/2019</td>\n",
              "      <td>01/01/2019</td>\n",
              "      <td>01/01/2019</td>\n",
              "      <td>01/01/2019</td>\n",
              "    </tr>\n",
              "  </tbody>\n",
              "</table>\n",
              "</div>"
            ],
            "text/plain": [
              "                                                              0  ...                                  4\n",
              "BOROUGH                                                       1  ...                                  1\n",
              "NEIGHBORHOOD                                            CHELSEA  ...            UPPER EAST SIDE (59-79)\n",
              "BUILDING_CLASS_CATEGORY         13 CONDOS - ELEVATOR APARTMENTS  ...  15 CONDOS - 2-10 UNIT RESIDENTIAL\n",
              "TAX_CLASS_AT_PRESENT                                          2  ...                                 2C\n",
              "BLOCK                                                       716  ...                               1379\n",
              "LOT                                                        1246  ...                               1402\n",
              "BUILDING_CLASS_AT_PRESENT                                    R4  ...                                 R1\n",
              "ADDRESS                             447 WEST 18TH STREET, PH12A  ...             20 EAST 65TH STREET, B\n",
              "ZIP_CODE                                                  10011  ...                              10065\n",
              "RESIDENTIAL_UNITS                                             1  ...                                  1\n",
              "COMMERCIAL_UNITS                                              0  ...                                  0\n",
              "TOTAL_UNITS                                                   1  ...                                  1\n",
              "LAND_SQUARE_FEET                                         10,733  ...                                  0\n",
              "GROSS_SQUARE_FEET                                          1979  ...                               6406\n",
              "YEAR_BUILT                                                 2007  ...                                  0\n",
              "TAX_CLASS_AT_TIME_OF_SALE                                     2  ...                                  2\n",
              "BUILDING_CLASS_AT_TIME_OF_SALE                               R4  ...                                 R1\n",
              "SALE_PRICE                                                    0  ...                                  0\n",
              "SALE_DATE                                            01/01/2019  ...                         01/01/2019\n",
              "\n",
              "[19 rows x 5 columns]"
            ]
          },
          "metadata": {
            "tags": []
          },
          "execution_count": 10
        }
      ]
    },
    {
      "cell_type": "code",
      "metadata": {
        "id": "tl1iTZkN1CkM",
        "colab_type": "code",
        "outputId": "ced7a415-885b-4b9c-e1ff-bc127be34978",
        "colab": {
          "base_uri": "https://localhost:8080/",
          "height": 353
        }
      },
      "source": [
        "df1.isnull().sum()"
      ],
      "execution_count": 11,
      "outputs": [
        {
          "output_type": "execute_result",
          "data": {
            "text/plain": [
              "BOROUGH                            0\n",
              "NEIGHBORHOOD                       0\n",
              "BUILDING_CLASS_CATEGORY            0\n",
              "TAX_CLASS_AT_PRESENT               1\n",
              "BLOCK                              0\n",
              "LOT                                0\n",
              "BUILDING_CLASS_AT_PRESENT          1\n",
              "ADDRESS                            0\n",
              "ZIP_CODE                           1\n",
              "RESIDENTIAL_UNITS                  1\n",
              "COMMERCIAL_UNITS                   1\n",
              "TOTAL_UNITS                        1\n",
              "LAND_SQUARE_FEET                  53\n",
              "GROSS_SQUARE_FEET                  1\n",
              "YEAR_BUILT                        35\n",
              "TAX_CLASS_AT_TIME_OF_SALE          0\n",
              "BUILDING_CLASS_AT_TIME_OF_SALE     0\n",
              "SALE_PRICE                         0\n",
              "SALE_DATE                          0\n",
              "dtype: int64"
            ]
          },
          "metadata": {
            "tags": []
          },
          "execution_count": 11
        }
      ]
    },
    {
      "cell_type": "code",
      "metadata": {
        "id": "SEg3dgwj1P1e",
        "colab_type": "code",
        "outputId": "8cfea40d-522f-4d5b-db66-9aca7b273733",
        "colab": {
          "base_uri": "https://localhost:8080/",
          "height": 34
        }
      },
      "source": [
        "df1.shape"
      ],
      "execution_count": 12,
      "outputs": [
        {
          "output_type": "execute_result",
          "data": {
            "text/plain": [
              "(23040, 19)"
            ]
          },
          "metadata": {
            "tags": []
          },
          "execution_count": 12
        }
      ]
    },
    {
      "cell_type": "code",
      "metadata": {
        "id": "P7l2ytL31Hjt",
        "colab_type": "code",
        "colab": {}
      },
      "source": [
        "#drop null values\n",
        "df2 = df1.dropna()"
      ],
      "execution_count": 0,
      "outputs": []
    },
    {
      "cell_type": "code",
      "metadata": {
        "id": "P-nUkWNw1MKt",
        "colab_type": "code",
        "outputId": "acc116ea-a4dc-47e8-8bd1-743848ffa7d0",
        "colab": {
          "base_uri": "https://localhost:8080/",
          "height": 34
        }
      },
      "source": [
        "df2.shape"
      ],
      "execution_count": 14,
      "outputs": [
        {
          "output_type": "execute_result",
          "data": {
            "text/plain": [
              "(22953, 19)"
            ]
          },
          "metadata": {
            "tags": []
          },
          "execution_count": 14
        }
      ]
    },
    {
      "cell_type": "code",
      "metadata": {
        "id": "thOl9KsE1SQT",
        "colab_type": "code",
        "outputId": "14fdfdf4-5e3c-40c9-faac-2ed4401866e1",
        "colab": {
          "base_uri": "https://localhost:8080/",
          "height": 353
        }
      },
      "source": [
        "df2.isnull().sum()"
      ],
      "execution_count": 15,
      "outputs": [
        {
          "output_type": "execute_result",
          "data": {
            "text/plain": [
              "BOROUGH                           0\n",
              "NEIGHBORHOOD                      0\n",
              "BUILDING_CLASS_CATEGORY           0\n",
              "TAX_CLASS_AT_PRESENT              0\n",
              "BLOCK                             0\n",
              "LOT                               0\n",
              "BUILDING_CLASS_AT_PRESENT         0\n",
              "ADDRESS                           0\n",
              "ZIP_CODE                          0\n",
              "RESIDENTIAL_UNITS                 0\n",
              "COMMERCIAL_UNITS                  0\n",
              "TOTAL_UNITS                       0\n",
              "LAND_SQUARE_FEET                  0\n",
              "GROSS_SQUARE_FEET                 0\n",
              "YEAR_BUILT                        0\n",
              "TAX_CLASS_AT_TIME_OF_SALE         0\n",
              "BUILDING_CLASS_AT_TIME_OF_SALE    0\n",
              "SALE_PRICE                        0\n",
              "SALE_DATE                         0\n",
              "dtype: int64"
            ]
          },
          "metadata": {
            "tags": []
          },
          "execution_count": 15
        }
      ]
    },
    {
      "cell_type": "code",
      "metadata": {
        "id": "vwQtiSg71VwG",
        "colab_type": "code",
        "colab": {}
      },
      "source": [
        "#So our dataset is now clean with no null values"
      ],
      "execution_count": 0,
      "outputs": []
    },
    {
      "cell_type": "markdown",
      "metadata": {
        "id": "DvJLapda2yqp",
        "colab_type": "text"
      },
      "source": [
        "Use a subset of the data where BUILDING_CLASS_CATEGORY == '01 ONE FAMILY DWELLINGS' and the sale price was more than 100 thousand and less than 2 million."
      ]
    },
    {
      "cell_type": "code",
      "metadata": {
        "id": "xZYCtQJl4tt0",
        "colab_type": "code",
        "outputId": "83491917-54c8-4024-aec6-7ddc53ce1f68",
        "colab": {
          "base_uri": "https://localhost:8080/",
          "height": 383
        }
      },
      "source": [
        "df3 = df2[df2['BUILDING_CLASS_CATEGORY'].str.match('01 ONE FAMILY DWELLINGS')]\n",
        "df3.head()"
      ],
      "execution_count": 17,
      "outputs": [
        {
          "output_type": "execute_result",
          "data": {
            "text/html": [
              "<div>\n",
              "<style scoped>\n",
              "    .dataframe tbody tr th:only-of-type {\n",
              "        vertical-align: middle;\n",
              "    }\n",
              "\n",
              "    .dataframe tbody tr th {\n",
              "        vertical-align: top;\n",
              "    }\n",
              "\n",
              "    .dataframe thead th {\n",
              "        text-align: right;\n",
              "    }\n",
              "</style>\n",
              "<table border=\"1\" class=\"dataframe\">\n",
              "  <thead>\n",
              "    <tr style=\"text-align: right;\">\n",
              "      <th></th>\n",
              "      <th>BOROUGH</th>\n",
              "      <th>NEIGHBORHOOD</th>\n",
              "      <th>BUILDING_CLASS_CATEGORY</th>\n",
              "      <th>TAX_CLASS_AT_PRESENT</th>\n",
              "      <th>BLOCK</th>\n",
              "      <th>LOT</th>\n",
              "      <th>BUILDING_CLASS_AT_PRESENT</th>\n",
              "      <th>ADDRESS</th>\n",
              "      <th>ZIP_CODE</th>\n",
              "      <th>RESIDENTIAL_UNITS</th>\n",
              "      <th>COMMERCIAL_UNITS</th>\n",
              "      <th>TOTAL_UNITS</th>\n",
              "      <th>LAND_SQUARE_FEET</th>\n",
              "      <th>GROSS_SQUARE_FEET</th>\n",
              "      <th>YEAR_BUILT</th>\n",
              "      <th>TAX_CLASS_AT_TIME_OF_SALE</th>\n",
              "      <th>BUILDING_CLASS_AT_TIME_OF_SALE</th>\n",
              "      <th>SALE_PRICE</th>\n",
              "      <th>SALE_DATE</th>\n",
              "    </tr>\n",
              "  </thead>\n",
              "  <tbody>\n",
              "    <tr>\n",
              "      <th>7</th>\n",
              "      <td>2</td>\n",
              "      <td>MORRIS PARK/VAN NEST</td>\n",
              "      <td>01 ONE FAMILY DWELLINGS</td>\n",
              "      <td>1</td>\n",
              "      <td>4090</td>\n",
              "      <td>37</td>\n",
              "      <td>A1</td>\n",
              "      <td>1193 SACKET AVENUE</td>\n",
              "      <td>10461.0</td>\n",
              "      <td>1.0</td>\n",
              "      <td>0.0</td>\n",
              "      <td>1.0</td>\n",
              "      <td>3,404</td>\n",
              "      <td>1328.0</td>\n",
              "      <td>1925.0</td>\n",
              "      <td>1</td>\n",
              "      <td>A1</td>\n",
              "      <td>0</td>\n",
              "      <td>01/01/2019</td>\n",
              "    </tr>\n",
              "    <tr>\n",
              "      <th>8</th>\n",
              "      <td>2</td>\n",
              "      <td>MORRIS PARK/VAN NEST</td>\n",
              "      <td>01 ONE FAMILY DWELLINGS</td>\n",
              "      <td>1</td>\n",
              "      <td>4120</td>\n",
              "      <td>18</td>\n",
              "      <td>A5</td>\n",
              "      <td>1215 VAN NEST AVENUE</td>\n",
              "      <td>10461.0</td>\n",
              "      <td>1.0</td>\n",
              "      <td>0.0</td>\n",
              "      <td>1.0</td>\n",
              "      <td>2,042</td>\n",
              "      <td>1728.0</td>\n",
              "      <td>1935.0</td>\n",
              "      <td>1</td>\n",
              "      <td>A5</td>\n",
              "      <td>0</td>\n",
              "      <td>01/01/2019</td>\n",
              "    </tr>\n",
              "    <tr>\n",
              "      <th>9</th>\n",
              "      <td>2</td>\n",
              "      <td>MORRIS PARK/VAN NEST</td>\n",
              "      <td>01 ONE FAMILY DWELLINGS</td>\n",
              "      <td>1</td>\n",
              "      <td>4120</td>\n",
              "      <td>20</td>\n",
              "      <td>A5</td>\n",
              "      <td>1211 VAN NEST AVENUE</td>\n",
              "      <td>10461.0</td>\n",
              "      <td>1.0</td>\n",
              "      <td>0.0</td>\n",
              "      <td>1.0</td>\n",
              "      <td>2,042</td>\n",
              "      <td>1728.0</td>\n",
              "      <td>1935.0</td>\n",
              "      <td>1</td>\n",
              "      <td>A5</td>\n",
              "      <td>0</td>\n",
              "      <td>01/01/2019</td>\n",
              "    </tr>\n",
              "    <tr>\n",
              "      <th>42</th>\n",
              "      <td>3</td>\n",
              "      <td>MADISON</td>\n",
              "      <td>01 ONE FAMILY DWELLINGS</td>\n",
              "      <td>1</td>\n",
              "      <td>6809</td>\n",
              "      <td>54</td>\n",
              "      <td>A1</td>\n",
              "      <td>2601 AVENUE R</td>\n",
              "      <td>11229.0</td>\n",
              "      <td>1.0</td>\n",
              "      <td>0.0</td>\n",
              "      <td>1.0</td>\n",
              "      <td>3,333</td>\n",
              "      <td>1262.0</td>\n",
              "      <td>1925.0</td>\n",
              "      <td>1</td>\n",
              "      <td>A1</td>\n",
              "      <td>0</td>\n",
              "      <td>01/01/2019</td>\n",
              "    </tr>\n",
              "    <tr>\n",
              "      <th>44</th>\n",
              "      <td>3</td>\n",
              "      <td>OCEAN PARKWAY-NORTH</td>\n",
              "      <td>01 ONE FAMILY DWELLINGS</td>\n",
              "      <td>1</td>\n",
              "      <td>5495</td>\n",
              "      <td>801</td>\n",
              "      <td>A9</td>\n",
              "      <td>4832 BAY PARKWAY</td>\n",
              "      <td>11230.0</td>\n",
              "      <td>1.0</td>\n",
              "      <td>0.0</td>\n",
              "      <td>1.0</td>\n",
              "      <td>6,800</td>\n",
              "      <td>1325.0</td>\n",
              "      <td>1930.0</td>\n",
              "      <td>1</td>\n",
              "      <td>A9</td>\n",
              "      <td>550000</td>\n",
              "      <td>01/01/2019</td>\n",
              "    </tr>\n",
              "  </tbody>\n",
              "</table>\n",
              "</div>"
            ],
            "text/plain": [
              "   BOROUGH          NEIGHBORHOOD  ... SALE_PRICE   SALE_DATE\n",
              "7        2  MORRIS PARK/VAN NEST  ...          0  01/01/2019\n",
              "8        2  MORRIS PARK/VAN NEST  ...          0  01/01/2019\n",
              "9        2  MORRIS PARK/VAN NEST  ...          0  01/01/2019\n",
              "42       3               MADISON  ...          0  01/01/2019\n",
              "44       3   OCEAN PARKWAY-NORTH  ...     550000  01/01/2019\n",
              "\n",
              "[5 rows x 19 columns]"
            ]
          },
          "metadata": {
            "tags": []
          },
          "execution_count": 17
        }
      ]
    },
    {
      "cell_type": "code",
      "metadata": {
        "id": "e3LPCjzG5FN0",
        "colab_type": "code",
        "colab": {}
      },
      "source": [
        "df4 = df3.query('100000 < SALE_PRICE < 2000000')"
      ],
      "execution_count": 0,
      "outputs": []
    },
    {
      "cell_type": "code",
      "metadata": {
        "id": "mMebIKlV6RzU",
        "colab_type": "code",
        "outputId": "1e728b90-75f6-47f2-cc88-1e91f9eb19b4",
        "colab": {
          "base_uri": "https://localhost:8080/",
          "height": 333
        }
      },
      "source": [
        "df4.head()"
      ],
      "execution_count": 19,
      "outputs": [
        {
          "output_type": "execute_result",
          "data": {
            "text/html": [
              "<div>\n",
              "<style scoped>\n",
              "    .dataframe tbody tr th:only-of-type {\n",
              "        vertical-align: middle;\n",
              "    }\n",
              "\n",
              "    .dataframe tbody tr th {\n",
              "        vertical-align: top;\n",
              "    }\n",
              "\n",
              "    .dataframe thead th {\n",
              "        text-align: right;\n",
              "    }\n",
              "</style>\n",
              "<table border=\"1\" class=\"dataframe\">\n",
              "  <thead>\n",
              "    <tr style=\"text-align: right;\">\n",
              "      <th></th>\n",
              "      <th>BOROUGH</th>\n",
              "      <th>NEIGHBORHOOD</th>\n",
              "      <th>BUILDING_CLASS_CATEGORY</th>\n",
              "      <th>TAX_CLASS_AT_PRESENT</th>\n",
              "      <th>BLOCK</th>\n",
              "      <th>LOT</th>\n",
              "      <th>BUILDING_CLASS_AT_PRESENT</th>\n",
              "      <th>ADDRESS</th>\n",
              "      <th>ZIP_CODE</th>\n",
              "      <th>RESIDENTIAL_UNITS</th>\n",
              "      <th>COMMERCIAL_UNITS</th>\n",
              "      <th>TOTAL_UNITS</th>\n",
              "      <th>LAND_SQUARE_FEET</th>\n",
              "      <th>GROSS_SQUARE_FEET</th>\n",
              "      <th>YEAR_BUILT</th>\n",
              "      <th>TAX_CLASS_AT_TIME_OF_SALE</th>\n",
              "      <th>BUILDING_CLASS_AT_TIME_OF_SALE</th>\n",
              "      <th>SALE_PRICE</th>\n",
              "      <th>SALE_DATE</th>\n",
              "    </tr>\n",
              "  </thead>\n",
              "  <tbody>\n",
              "    <tr>\n",
              "      <th>44</th>\n",
              "      <td>3</td>\n",
              "      <td>OCEAN PARKWAY-NORTH</td>\n",
              "      <td>01 ONE FAMILY DWELLINGS</td>\n",
              "      <td>1</td>\n",
              "      <td>5495</td>\n",
              "      <td>801</td>\n",
              "      <td>A9</td>\n",
              "      <td>4832 BAY PARKWAY</td>\n",
              "      <td>11230.0</td>\n",
              "      <td>1.0</td>\n",
              "      <td>0.0</td>\n",
              "      <td>1.0</td>\n",
              "      <td>6,800</td>\n",
              "      <td>1325.0</td>\n",
              "      <td>1930.0</td>\n",
              "      <td>1</td>\n",
              "      <td>A9</td>\n",
              "      <td>550000</td>\n",
              "      <td>01/01/2019</td>\n",
              "    </tr>\n",
              "    <tr>\n",
              "      <th>61</th>\n",
              "      <td>4</td>\n",
              "      <td>QUEENS VILLAGE</td>\n",
              "      <td>01 ONE FAMILY DWELLINGS</td>\n",
              "      <td>1</td>\n",
              "      <td>7918</td>\n",
              "      <td>72</td>\n",
              "      <td>A1</td>\n",
              "      <td>80-23 232ND STREET</td>\n",
              "      <td>11427.0</td>\n",
              "      <td>1.0</td>\n",
              "      <td>0.0</td>\n",
              "      <td>1.0</td>\n",
              "      <td>4,000</td>\n",
              "      <td>2001.0</td>\n",
              "      <td>1940.0</td>\n",
              "      <td>1</td>\n",
              "      <td>A1</td>\n",
              "      <td>200000</td>\n",
              "      <td>01/01/2019</td>\n",
              "    </tr>\n",
              "    <tr>\n",
              "      <th>78</th>\n",
              "      <td>2</td>\n",
              "      <td>PELHAM PARKWAY SOUTH</td>\n",
              "      <td>01 ONE FAMILY DWELLINGS</td>\n",
              "      <td>1</td>\n",
              "      <td>4210</td>\n",
              "      <td>19</td>\n",
              "      <td>A1</td>\n",
              "      <td>1260 RHINELANDER AVE</td>\n",
              "      <td>10461.0</td>\n",
              "      <td>1.0</td>\n",
              "      <td>0.0</td>\n",
              "      <td>1.0</td>\n",
              "      <td>3,500</td>\n",
              "      <td>2043.0</td>\n",
              "      <td>1925.0</td>\n",
              "      <td>1</td>\n",
              "      <td>A1</td>\n",
              "      <td>810000</td>\n",
              "      <td>01/02/2019</td>\n",
              "    </tr>\n",
              "    <tr>\n",
              "      <th>108</th>\n",
              "      <td>3</td>\n",
              "      <td>FLATBUSH-CENTRAL</td>\n",
              "      <td>01 ONE FAMILY DWELLINGS</td>\n",
              "      <td>1</td>\n",
              "      <td>5212</td>\n",
              "      <td>69</td>\n",
              "      <td>A1</td>\n",
              "      <td>469 E 25TH ST</td>\n",
              "      <td>11226.0</td>\n",
              "      <td>1.0</td>\n",
              "      <td>0.0</td>\n",
              "      <td>1.0</td>\n",
              "      <td>4,000</td>\n",
              "      <td>2680.0</td>\n",
              "      <td>1899.0</td>\n",
              "      <td>1</td>\n",
              "      <td>A1</td>\n",
              "      <td>125000</td>\n",
              "      <td>01/02/2019</td>\n",
              "    </tr>\n",
              "    <tr>\n",
              "      <th>111</th>\n",
              "      <td>3</td>\n",
              "      <td>FLATBUSH-EAST</td>\n",
              "      <td>01 ONE FAMILY DWELLINGS</td>\n",
              "      <td>1</td>\n",
              "      <td>7930</td>\n",
              "      <td>121</td>\n",
              "      <td>A5</td>\n",
              "      <td>5521 WHITTY LANE</td>\n",
              "      <td>11203.0</td>\n",
              "      <td>1.0</td>\n",
              "      <td>0.0</td>\n",
              "      <td>1.0</td>\n",
              "      <td>1,710</td>\n",
              "      <td>1872.0</td>\n",
              "      <td>1940.0</td>\n",
              "      <td>1</td>\n",
              "      <td>A5</td>\n",
              "      <td>620000</td>\n",
              "      <td>01/02/2019</td>\n",
              "    </tr>\n",
              "  </tbody>\n",
              "</table>\n",
              "</div>"
            ],
            "text/plain": [
              "    BOROUGH          NEIGHBORHOOD  ... SALE_PRICE   SALE_DATE\n",
              "44        3   OCEAN PARKWAY-NORTH  ...     550000  01/01/2019\n",
              "61        4        QUEENS VILLAGE  ...     200000  01/01/2019\n",
              "78        2  PELHAM PARKWAY SOUTH  ...     810000  01/02/2019\n",
              "108       3      FLATBUSH-CENTRAL  ...     125000  01/02/2019\n",
              "111       3         FLATBUSH-EAST  ...     620000  01/02/2019\n",
              "\n",
              "[5 rows x 19 columns]"
            ]
          },
          "metadata": {
            "tags": []
          },
          "execution_count": 19
        }
      ]
    },
    {
      "cell_type": "code",
      "metadata": {
        "id": "Wz63jbfK7JsJ",
        "colab_type": "code",
        "colab": {}
      },
      "source": [
        "#So, we have isolated the part of the dataset with BUILDING_CLASS_CATEGORY == '01 ONE FAMILY DWELLINGS' and the sale price was more than 100 thousand and less than 2 million."
      ],
      "execution_count": 0,
      "outputs": []
    },
    {
      "cell_type": "code",
      "metadata": {
        "id": "aQdtWb8N47YP",
        "colab_type": "code",
        "outputId": "5a879de9-b62c-4e04-d3e3-4cdeb6999987",
        "colab": {
          "base_uri": "https://localhost:8080/",
          "height": 353
        }
      },
      "source": [
        "df4.dtypes"
      ],
      "execution_count": 21,
      "outputs": [
        {
          "output_type": "execute_result",
          "data": {
            "text/plain": [
              "BOROUGH                            object\n",
              "NEIGHBORHOOD                       object\n",
              "BUILDING_CLASS_CATEGORY            object\n",
              "TAX_CLASS_AT_PRESENT               object\n",
              "BLOCK                               int64\n",
              "LOT                                 int64\n",
              "BUILDING_CLASS_AT_PRESENT          object\n",
              "ADDRESS                            object\n",
              "ZIP_CODE                          float64\n",
              "RESIDENTIAL_UNITS                 float64\n",
              "COMMERCIAL_UNITS                  float64\n",
              "TOTAL_UNITS                       float64\n",
              "LAND_SQUARE_FEET                   object\n",
              "GROSS_SQUARE_FEET                 float64\n",
              "YEAR_BUILT                        float64\n",
              "TAX_CLASS_AT_TIME_OF_SALE           int64\n",
              "BUILDING_CLASS_AT_TIME_OF_SALE     object\n",
              "SALE_PRICE                          int64\n",
              "SALE_DATE                          object\n",
              "dtype: object"
            ]
          },
          "metadata": {
            "tags": []
          },
          "execution_count": 21
        }
      ]
    },
    {
      "cell_type": "code",
      "metadata": {
        "id": "3lhEcZT88M63",
        "colab_type": "code",
        "outputId": "080d3b0b-687d-4632-940c-bc620fdda45a",
        "colab": {
          "base_uri": "https://localhost:8080/",
          "height": 34
        }
      },
      "source": [
        "df4.shape"
      ],
      "execution_count": 22,
      "outputs": [
        {
          "output_type": "execute_result",
          "data": {
            "text/plain": [
              "(3151, 19)"
            ]
          },
          "metadata": {
            "tags": []
          },
          "execution_count": 22
        }
      ]
    },
    {
      "cell_type": "code",
      "metadata": {
        "id": "IYMoNTXg8TVn",
        "colab_type": "code",
        "colab": {}
      },
      "source": [
        "import numpy as np\n",
        "from scipy import stats"
      ],
      "execution_count": 0,
      "outputs": []
    },
    {
      "cell_type": "code",
      "metadata": {
        "id": "vmhAdCCP8AZT",
        "colab_type": "code",
        "colab": {}
      },
      "source": [
        "#remove outliers for Sales price\n",
        "df5 = df4[(np.abs(stats.zscore(df4[['SALE_PRICE']])) < 3).all(axis=1)]\n"
      ],
      "execution_count": 0,
      "outputs": []
    },
    {
      "cell_type": "code",
      "metadata": {
        "id": "pMvbnH1882ha",
        "colab_type": "code",
        "outputId": "15b8db77-337f-4e53-8336-3bbc68f00307",
        "colab": {
          "base_uri": "https://localhost:8080/",
          "height": 34
        }
      },
      "source": [
        "df5.shape"
      ],
      "execution_count": 25,
      "outputs": [
        {
          "output_type": "execute_result",
          "data": {
            "text/plain": [
              "(3093, 19)"
            ]
          },
          "metadata": {
            "tags": []
          },
          "execution_count": 25
        }
      ]
    },
    {
      "cell_type": "code",
      "metadata": {
        "id": "P18nzJazyD9R",
        "colab_type": "code",
        "outputId": "3921ca90-3b9d-420e-ebf4-ed4be72cd674",
        "colab": {
          "base_uri": "https://localhost:8080/",
          "height": 84
        }
      },
      "source": [
        "# Reduce cardinality for NEIGHBORHOOD feature\n",
        "\n",
        "# Get a list of the top 10 neighborhoods\n",
        "df_top10 = df5['NEIGHBORHOOD'].value_counts()[:10].index\n",
        "df_top10\n"
      ],
      "execution_count": 26,
      "outputs": [
        {
          "output_type": "execute_result",
          "data": {
            "text/plain": [
              "Index(['FLUSHING-NORTH', 'ST. ALBANS', 'SPRINGFIELD GARDENS',\n",
              "       'SO. JAMAICA-BAISLEY PARK', 'QUEENS VILLAGE', 'GREAT KILLS',\n",
              "       'SOUTH OZONE PARK', 'BAYSIDE', 'LAURELTON', 'FLUSHING-SOUTH'],\n",
              "      dtype='object')"
            ]
          },
          "metadata": {
            "tags": []
          },
          "execution_count": 26
        }
      ]
    },
    {
      "cell_type": "code",
      "metadata": {
        "id": "a-44Ldgl21lf",
        "colab_type": "code",
        "outputId": "47388419-c408-4f6f-c5b7-d7fc766374e4",
        "colab": {
          "base_uri": "https://localhost:8080/",
          "height": 118
        }
      },
      "source": [
        "\n",
        "# At locations where the neighborhood is NOT in the top 10, \n",
        "# replace the neighborhood with 'OTHER'\n",
        "df5.loc[~df5['NEIGHBORHOOD'].isin(df_top10), 'NEIGHBORHOOD'] = 'OTHER'"
      ],
      "execution_count": 27,
      "outputs": [
        {
          "output_type": "stream",
          "text": [
            "/usr/local/lib/python3.6/dist-packages/pandas/core/indexing.py:494: SettingWithCopyWarning: \n",
            "A value is trying to be set on a copy of a slice from a DataFrame.\n",
            "Try using .loc[row_indexer,col_indexer] = value instead\n",
            "\n",
            "See the caveats in the documentation: http://pandas.pydata.org/pandas-docs/stable/user_guide/indexing.html#returning-a-view-versus-a-copy\n",
            "  self.obj[item] = s\n"
          ],
          "name": "stderr"
        }
      ]
    },
    {
      "cell_type": "code",
      "metadata": {
        "id": "NqGu_NucyD9U",
        "colab_type": "code",
        "outputId": "00cf8675-a67d-405b-cf84-08887a29f17e",
        "colab": {
          "base_uri": "https://localhost:8080/",
          "height": 316
        }
      },
      "source": [
        "df5.head()"
      ],
      "execution_count": 28,
      "outputs": [
        {
          "output_type": "execute_result",
          "data": {
            "text/html": [
              "<div>\n",
              "<style scoped>\n",
              "    .dataframe tbody tr th:only-of-type {\n",
              "        vertical-align: middle;\n",
              "    }\n",
              "\n",
              "    .dataframe tbody tr th {\n",
              "        vertical-align: top;\n",
              "    }\n",
              "\n",
              "    .dataframe thead th {\n",
              "        text-align: right;\n",
              "    }\n",
              "</style>\n",
              "<table border=\"1\" class=\"dataframe\">\n",
              "  <thead>\n",
              "    <tr style=\"text-align: right;\">\n",
              "      <th></th>\n",
              "      <th>BOROUGH</th>\n",
              "      <th>NEIGHBORHOOD</th>\n",
              "      <th>BUILDING_CLASS_CATEGORY</th>\n",
              "      <th>TAX_CLASS_AT_PRESENT</th>\n",
              "      <th>BLOCK</th>\n",
              "      <th>LOT</th>\n",
              "      <th>BUILDING_CLASS_AT_PRESENT</th>\n",
              "      <th>ADDRESS</th>\n",
              "      <th>ZIP_CODE</th>\n",
              "      <th>RESIDENTIAL_UNITS</th>\n",
              "      <th>COMMERCIAL_UNITS</th>\n",
              "      <th>TOTAL_UNITS</th>\n",
              "      <th>LAND_SQUARE_FEET</th>\n",
              "      <th>GROSS_SQUARE_FEET</th>\n",
              "      <th>YEAR_BUILT</th>\n",
              "      <th>TAX_CLASS_AT_TIME_OF_SALE</th>\n",
              "      <th>BUILDING_CLASS_AT_TIME_OF_SALE</th>\n",
              "      <th>SALE_PRICE</th>\n",
              "      <th>SALE_DATE</th>\n",
              "    </tr>\n",
              "  </thead>\n",
              "  <tbody>\n",
              "    <tr>\n",
              "      <th>44</th>\n",
              "      <td>3</td>\n",
              "      <td>OTHER</td>\n",
              "      <td>01 ONE FAMILY DWELLINGS</td>\n",
              "      <td>1</td>\n",
              "      <td>5495</td>\n",
              "      <td>801</td>\n",
              "      <td>A9</td>\n",
              "      <td>4832 BAY PARKWAY</td>\n",
              "      <td>11230.0</td>\n",
              "      <td>1.0</td>\n",
              "      <td>0.0</td>\n",
              "      <td>1.0</td>\n",
              "      <td>6,800</td>\n",
              "      <td>1325.0</td>\n",
              "      <td>1930.0</td>\n",
              "      <td>1</td>\n",
              "      <td>A9</td>\n",
              "      <td>550000</td>\n",
              "      <td>01/01/2019</td>\n",
              "    </tr>\n",
              "    <tr>\n",
              "      <th>61</th>\n",
              "      <td>4</td>\n",
              "      <td>QUEENS VILLAGE</td>\n",
              "      <td>01 ONE FAMILY DWELLINGS</td>\n",
              "      <td>1</td>\n",
              "      <td>7918</td>\n",
              "      <td>72</td>\n",
              "      <td>A1</td>\n",
              "      <td>80-23 232ND STREET</td>\n",
              "      <td>11427.0</td>\n",
              "      <td>1.0</td>\n",
              "      <td>0.0</td>\n",
              "      <td>1.0</td>\n",
              "      <td>4,000</td>\n",
              "      <td>2001.0</td>\n",
              "      <td>1940.0</td>\n",
              "      <td>1</td>\n",
              "      <td>A1</td>\n",
              "      <td>200000</td>\n",
              "      <td>01/01/2019</td>\n",
              "    </tr>\n",
              "    <tr>\n",
              "      <th>78</th>\n",
              "      <td>2</td>\n",
              "      <td>OTHER</td>\n",
              "      <td>01 ONE FAMILY DWELLINGS</td>\n",
              "      <td>1</td>\n",
              "      <td>4210</td>\n",
              "      <td>19</td>\n",
              "      <td>A1</td>\n",
              "      <td>1260 RHINELANDER AVE</td>\n",
              "      <td>10461.0</td>\n",
              "      <td>1.0</td>\n",
              "      <td>0.0</td>\n",
              "      <td>1.0</td>\n",
              "      <td>3,500</td>\n",
              "      <td>2043.0</td>\n",
              "      <td>1925.0</td>\n",
              "      <td>1</td>\n",
              "      <td>A1</td>\n",
              "      <td>810000</td>\n",
              "      <td>01/02/2019</td>\n",
              "    </tr>\n",
              "    <tr>\n",
              "      <th>108</th>\n",
              "      <td>3</td>\n",
              "      <td>OTHER</td>\n",
              "      <td>01 ONE FAMILY DWELLINGS</td>\n",
              "      <td>1</td>\n",
              "      <td>5212</td>\n",
              "      <td>69</td>\n",
              "      <td>A1</td>\n",
              "      <td>469 E 25TH ST</td>\n",
              "      <td>11226.0</td>\n",
              "      <td>1.0</td>\n",
              "      <td>0.0</td>\n",
              "      <td>1.0</td>\n",
              "      <td>4,000</td>\n",
              "      <td>2680.0</td>\n",
              "      <td>1899.0</td>\n",
              "      <td>1</td>\n",
              "      <td>A1</td>\n",
              "      <td>125000</td>\n",
              "      <td>01/02/2019</td>\n",
              "    </tr>\n",
              "    <tr>\n",
              "      <th>111</th>\n",
              "      <td>3</td>\n",
              "      <td>OTHER</td>\n",
              "      <td>01 ONE FAMILY DWELLINGS</td>\n",
              "      <td>1</td>\n",
              "      <td>7930</td>\n",
              "      <td>121</td>\n",
              "      <td>A5</td>\n",
              "      <td>5521 WHITTY LANE</td>\n",
              "      <td>11203.0</td>\n",
              "      <td>1.0</td>\n",
              "      <td>0.0</td>\n",
              "      <td>1.0</td>\n",
              "      <td>1,710</td>\n",
              "      <td>1872.0</td>\n",
              "      <td>1940.0</td>\n",
              "      <td>1</td>\n",
              "      <td>A5</td>\n",
              "      <td>620000</td>\n",
              "      <td>01/02/2019</td>\n",
              "    </tr>\n",
              "  </tbody>\n",
              "</table>\n",
              "</div>"
            ],
            "text/plain": [
              "    BOROUGH    NEIGHBORHOOD  ... SALE_PRICE   SALE_DATE\n",
              "44        3           OTHER  ...     550000  01/01/2019\n",
              "61        4  QUEENS VILLAGE  ...     200000  01/01/2019\n",
              "78        2           OTHER  ...     810000  01/02/2019\n",
              "108       3           OTHER  ...     125000  01/02/2019\n",
              "111       3           OTHER  ...     620000  01/02/2019\n",
              "\n",
              "[5 rows x 19 columns]"
            ]
          },
          "metadata": {
            "tags": []
          },
          "execution_count": 28
        }
      ]
    },
    {
      "cell_type": "code",
      "metadata": {
        "id": "ZMfpk40YBZ0l",
        "colab_type": "code",
        "outputId": "7b0043bf-96cb-4d18-baf1-4e3a65e35784",
        "colab": {
          "base_uri": "https://localhost:8080/",
          "height": 353
        }
      },
      "source": [
        "df5.dtypes"
      ],
      "execution_count": 29,
      "outputs": [
        {
          "output_type": "execute_result",
          "data": {
            "text/plain": [
              "BOROUGH                            object\n",
              "NEIGHBORHOOD                       object\n",
              "BUILDING_CLASS_CATEGORY            object\n",
              "TAX_CLASS_AT_PRESENT               object\n",
              "BLOCK                               int64\n",
              "LOT                                 int64\n",
              "BUILDING_CLASS_AT_PRESENT          object\n",
              "ADDRESS                            object\n",
              "ZIP_CODE                          float64\n",
              "RESIDENTIAL_UNITS                 float64\n",
              "COMMERCIAL_UNITS                  float64\n",
              "TOTAL_UNITS                       float64\n",
              "LAND_SQUARE_FEET                   object\n",
              "GROSS_SQUARE_FEET                 float64\n",
              "YEAR_BUILT                        float64\n",
              "TAX_CLASS_AT_TIME_OF_SALE           int64\n",
              "BUILDING_CLASS_AT_TIME_OF_SALE     object\n",
              "SALE_PRICE                          int64\n",
              "SALE_DATE                          object\n",
              "dtype: object"
            ]
          },
          "metadata": {
            "tags": []
          },
          "execution_count": 29
        }
      ]
    },
    {
      "cell_type": "code",
      "metadata": {
        "id": "H6u6K0gZBsAJ",
        "colab_type": "code",
        "outputId": "a8f97f81-39c0-42b3-fe9d-2b41fd62bdc3",
        "colab": {
          "base_uri": "https://localhost:8080/",
          "height": 118
        }
      },
      "source": [
        "# Sales date needs to be converted to numeric value\n",
        "\n",
        "df5['SALE_DATE'] = pd.to_datetime(df5[\"SALE_DATE\"]).dt.strftime(\"%Y%m%d\")"
      ],
      "execution_count": 30,
      "outputs": [
        {
          "output_type": "stream",
          "text": [
            "/usr/local/lib/python3.6/dist-packages/ipykernel_launcher.py:2: SettingWithCopyWarning: \n",
            "A value is trying to be set on a copy of a slice from a DataFrame.\n",
            "Try using .loc[row_indexer,col_indexer] = value instead\n",
            "\n",
            "See the caveats in the documentation: http://pandas.pydata.org/pandas-docs/stable/user_guide/indexing.html#returning-a-view-versus-a-copy\n",
            "  \n"
          ],
          "name": "stderr"
        }
      ]
    },
    {
      "cell_type": "code",
      "metadata": {
        "id": "NmPhTsX7DnOV",
        "colab_type": "code",
        "outputId": "ad13fdfe-a9c9-4caa-8315-1baadfd21ebd",
        "colab": {
          "base_uri": "https://localhost:8080/",
          "height": 316
        }
      },
      "source": [
        "df5.head()"
      ],
      "execution_count": 31,
      "outputs": [
        {
          "output_type": "execute_result",
          "data": {
            "text/html": [
              "<div>\n",
              "<style scoped>\n",
              "    .dataframe tbody tr th:only-of-type {\n",
              "        vertical-align: middle;\n",
              "    }\n",
              "\n",
              "    .dataframe tbody tr th {\n",
              "        vertical-align: top;\n",
              "    }\n",
              "\n",
              "    .dataframe thead th {\n",
              "        text-align: right;\n",
              "    }\n",
              "</style>\n",
              "<table border=\"1\" class=\"dataframe\">\n",
              "  <thead>\n",
              "    <tr style=\"text-align: right;\">\n",
              "      <th></th>\n",
              "      <th>BOROUGH</th>\n",
              "      <th>NEIGHBORHOOD</th>\n",
              "      <th>BUILDING_CLASS_CATEGORY</th>\n",
              "      <th>TAX_CLASS_AT_PRESENT</th>\n",
              "      <th>BLOCK</th>\n",
              "      <th>LOT</th>\n",
              "      <th>BUILDING_CLASS_AT_PRESENT</th>\n",
              "      <th>ADDRESS</th>\n",
              "      <th>ZIP_CODE</th>\n",
              "      <th>RESIDENTIAL_UNITS</th>\n",
              "      <th>COMMERCIAL_UNITS</th>\n",
              "      <th>TOTAL_UNITS</th>\n",
              "      <th>LAND_SQUARE_FEET</th>\n",
              "      <th>GROSS_SQUARE_FEET</th>\n",
              "      <th>YEAR_BUILT</th>\n",
              "      <th>TAX_CLASS_AT_TIME_OF_SALE</th>\n",
              "      <th>BUILDING_CLASS_AT_TIME_OF_SALE</th>\n",
              "      <th>SALE_PRICE</th>\n",
              "      <th>SALE_DATE</th>\n",
              "    </tr>\n",
              "  </thead>\n",
              "  <tbody>\n",
              "    <tr>\n",
              "      <th>44</th>\n",
              "      <td>3</td>\n",
              "      <td>OTHER</td>\n",
              "      <td>01 ONE FAMILY DWELLINGS</td>\n",
              "      <td>1</td>\n",
              "      <td>5495</td>\n",
              "      <td>801</td>\n",
              "      <td>A9</td>\n",
              "      <td>4832 BAY PARKWAY</td>\n",
              "      <td>11230.0</td>\n",
              "      <td>1.0</td>\n",
              "      <td>0.0</td>\n",
              "      <td>1.0</td>\n",
              "      <td>6,800</td>\n",
              "      <td>1325.0</td>\n",
              "      <td>1930.0</td>\n",
              "      <td>1</td>\n",
              "      <td>A9</td>\n",
              "      <td>550000</td>\n",
              "      <td>20190101</td>\n",
              "    </tr>\n",
              "    <tr>\n",
              "      <th>61</th>\n",
              "      <td>4</td>\n",
              "      <td>QUEENS VILLAGE</td>\n",
              "      <td>01 ONE FAMILY DWELLINGS</td>\n",
              "      <td>1</td>\n",
              "      <td>7918</td>\n",
              "      <td>72</td>\n",
              "      <td>A1</td>\n",
              "      <td>80-23 232ND STREET</td>\n",
              "      <td>11427.0</td>\n",
              "      <td>1.0</td>\n",
              "      <td>0.0</td>\n",
              "      <td>1.0</td>\n",
              "      <td>4,000</td>\n",
              "      <td>2001.0</td>\n",
              "      <td>1940.0</td>\n",
              "      <td>1</td>\n",
              "      <td>A1</td>\n",
              "      <td>200000</td>\n",
              "      <td>20190101</td>\n",
              "    </tr>\n",
              "    <tr>\n",
              "      <th>78</th>\n",
              "      <td>2</td>\n",
              "      <td>OTHER</td>\n",
              "      <td>01 ONE FAMILY DWELLINGS</td>\n",
              "      <td>1</td>\n",
              "      <td>4210</td>\n",
              "      <td>19</td>\n",
              "      <td>A1</td>\n",
              "      <td>1260 RHINELANDER AVE</td>\n",
              "      <td>10461.0</td>\n",
              "      <td>1.0</td>\n",
              "      <td>0.0</td>\n",
              "      <td>1.0</td>\n",
              "      <td>3,500</td>\n",
              "      <td>2043.0</td>\n",
              "      <td>1925.0</td>\n",
              "      <td>1</td>\n",
              "      <td>A1</td>\n",
              "      <td>810000</td>\n",
              "      <td>20190102</td>\n",
              "    </tr>\n",
              "    <tr>\n",
              "      <th>108</th>\n",
              "      <td>3</td>\n",
              "      <td>OTHER</td>\n",
              "      <td>01 ONE FAMILY DWELLINGS</td>\n",
              "      <td>1</td>\n",
              "      <td>5212</td>\n",
              "      <td>69</td>\n",
              "      <td>A1</td>\n",
              "      <td>469 E 25TH ST</td>\n",
              "      <td>11226.0</td>\n",
              "      <td>1.0</td>\n",
              "      <td>0.0</td>\n",
              "      <td>1.0</td>\n",
              "      <td>4,000</td>\n",
              "      <td>2680.0</td>\n",
              "      <td>1899.0</td>\n",
              "      <td>1</td>\n",
              "      <td>A1</td>\n",
              "      <td>125000</td>\n",
              "      <td>20190102</td>\n",
              "    </tr>\n",
              "    <tr>\n",
              "      <th>111</th>\n",
              "      <td>3</td>\n",
              "      <td>OTHER</td>\n",
              "      <td>01 ONE FAMILY DWELLINGS</td>\n",
              "      <td>1</td>\n",
              "      <td>7930</td>\n",
              "      <td>121</td>\n",
              "      <td>A5</td>\n",
              "      <td>5521 WHITTY LANE</td>\n",
              "      <td>11203.0</td>\n",
              "      <td>1.0</td>\n",
              "      <td>0.0</td>\n",
              "      <td>1.0</td>\n",
              "      <td>1,710</td>\n",
              "      <td>1872.0</td>\n",
              "      <td>1940.0</td>\n",
              "      <td>1</td>\n",
              "      <td>A5</td>\n",
              "      <td>620000</td>\n",
              "      <td>20190102</td>\n",
              "    </tr>\n",
              "  </tbody>\n",
              "</table>\n",
              "</div>"
            ],
            "text/plain": [
              "    BOROUGH    NEIGHBORHOOD  ... SALE_PRICE SALE_DATE\n",
              "44        3           OTHER  ...     550000  20190101\n",
              "61        4  QUEENS VILLAGE  ...     200000  20190101\n",
              "78        2           OTHER  ...     810000  20190102\n",
              "108       3           OTHER  ...     125000  20190102\n",
              "111       3           OTHER  ...     620000  20190102\n",
              "\n",
              "[5 rows x 19 columns]"
            ]
          },
          "metadata": {
            "tags": []
          },
          "execution_count": 31
        }
      ]
    },
    {
      "cell_type": "code",
      "metadata": {
        "id": "6mhPoU9XzOCq",
        "colab_type": "code",
        "colab": {
          "base_uri": "https://localhost:8080/",
          "height": 118
        },
        "outputId": "f8f5a8e3-7a08-4e71-9fe4-d8612a2fcb34"
      },
      "source": [
        "df5['SALE_DATE'] = pd.to_numeric(df5.SALE_DATE.str.replace('-',''))"
      ],
      "execution_count": 33,
      "outputs": [
        {
          "output_type": "stream",
          "text": [
            "/usr/local/lib/python3.6/dist-packages/ipykernel_launcher.py:1: SettingWithCopyWarning: \n",
            "A value is trying to be set on a copy of a slice from a DataFrame.\n",
            "Try using .loc[row_indexer,col_indexer] = value instead\n",
            "\n",
            "See the caveats in the documentation: http://pandas.pydata.org/pandas-docs/stable/user_guide/indexing.html#returning-a-view-versus-a-copy\n",
            "  \"\"\"Entry point for launching an IPython kernel.\n"
          ],
          "name": "stderr"
        }
      ]
    },
    {
      "cell_type": "code",
      "metadata": {
        "id": "V3eU29MZEEDY",
        "colab_type": "code",
        "outputId": "60a5dbaa-7507-4e7a-d21f-335955f8dfe2",
        "colab": {
          "base_uri": "https://localhost:8080/",
          "height": 353
        }
      },
      "source": [
        "df5.dtypes"
      ],
      "execution_count": 34,
      "outputs": [
        {
          "output_type": "execute_result",
          "data": {
            "text/plain": [
              "BOROUGH                            object\n",
              "NEIGHBORHOOD                       object\n",
              "BUILDING_CLASS_CATEGORY            object\n",
              "TAX_CLASS_AT_PRESENT               object\n",
              "BLOCK                               int64\n",
              "LOT                                 int64\n",
              "BUILDING_CLASS_AT_PRESENT          object\n",
              "ADDRESS                            object\n",
              "ZIP_CODE                          float64\n",
              "RESIDENTIAL_UNITS                 float64\n",
              "COMMERCIAL_UNITS                  float64\n",
              "TOTAL_UNITS                       float64\n",
              "LAND_SQUARE_FEET                   object\n",
              "GROSS_SQUARE_FEET                 float64\n",
              "YEAR_BUILT                        float64\n",
              "TAX_CLASS_AT_TIME_OF_SALE           int64\n",
              "BUILDING_CLASS_AT_TIME_OF_SALE     object\n",
              "SALE_PRICE                          int64\n",
              "SALE_DATE                           int64\n",
              "dtype: object"
            ]
          },
          "metadata": {
            "tags": []
          },
          "execution_count": 34
        }
      ]
    },
    {
      "cell_type": "code",
      "metadata": {
        "id": "bNSI5jZoEHd2",
        "colab_type": "code",
        "outputId": "4a052fba-65e6-4c66-858d-e2fbe0306874",
        "colab": {
          "base_uri": "https://localhost:8080/",
          "height": 316
        }
      },
      "source": [
        "df5.head()"
      ],
      "execution_count": 35,
      "outputs": [
        {
          "output_type": "execute_result",
          "data": {
            "text/html": [
              "<div>\n",
              "<style scoped>\n",
              "    .dataframe tbody tr th:only-of-type {\n",
              "        vertical-align: middle;\n",
              "    }\n",
              "\n",
              "    .dataframe tbody tr th {\n",
              "        vertical-align: top;\n",
              "    }\n",
              "\n",
              "    .dataframe thead th {\n",
              "        text-align: right;\n",
              "    }\n",
              "</style>\n",
              "<table border=\"1\" class=\"dataframe\">\n",
              "  <thead>\n",
              "    <tr style=\"text-align: right;\">\n",
              "      <th></th>\n",
              "      <th>BOROUGH</th>\n",
              "      <th>NEIGHBORHOOD</th>\n",
              "      <th>BUILDING_CLASS_CATEGORY</th>\n",
              "      <th>TAX_CLASS_AT_PRESENT</th>\n",
              "      <th>BLOCK</th>\n",
              "      <th>LOT</th>\n",
              "      <th>BUILDING_CLASS_AT_PRESENT</th>\n",
              "      <th>ADDRESS</th>\n",
              "      <th>ZIP_CODE</th>\n",
              "      <th>RESIDENTIAL_UNITS</th>\n",
              "      <th>COMMERCIAL_UNITS</th>\n",
              "      <th>TOTAL_UNITS</th>\n",
              "      <th>LAND_SQUARE_FEET</th>\n",
              "      <th>GROSS_SQUARE_FEET</th>\n",
              "      <th>YEAR_BUILT</th>\n",
              "      <th>TAX_CLASS_AT_TIME_OF_SALE</th>\n",
              "      <th>BUILDING_CLASS_AT_TIME_OF_SALE</th>\n",
              "      <th>SALE_PRICE</th>\n",
              "      <th>SALE_DATE</th>\n",
              "    </tr>\n",
              "  </thead>\n",
              "  <tbody>\n",
              "    <tr>\n",
              "      <th>44</th>\n",
              "      <td>3</td>\n",
              "      <td>OTHER</td>\n",
              "      <td>01 ONE FAMILY DWELLINGS</td>\n",
              "      <td>1</td>\n",
              "      <td>5495</td>\n",
              "      <td>801</td>\n",
              "      <td>A9</td>\n",
              "      <td>4832 BAY PARKWAY</td>\n",
              "      <td>11230.0</td>\n",
              "      <td>1.0</td>\n",
              "      <td>0.0</td>\n",
              "      <td>1.0</td>\n",
              "      <td>6,800</td>\n",
              "      <td>1325.0</td>\n",
              "      <td>1930.0</td>\n",
              "      <td>1</td>\n",
              "      <td>A9</td>\n",
              "      <td>550000</td>\n",
              "      <td>20190101</td>\n",
              "    </tr>\n",
              "    <tr>\n",
              "      <th>61</th>\n",
              "      <td>4</td>\n",
              "      <td>QUEENS VILLAGE</td>\n",
              "      <td>01 ONE FAMILY DWELLINGS</td>\n",
              "      <td>1</td>\n",
              "      <td>7918</td>\n",
              "      <td>72</td>\n",
              "      <td>A1</td>\n",
              "      <td>80-23 232ND STREET</td>\n",
              "      <td>11427.0</td>\n",
              "      <td>1.0</td>\n",
              "      <td>0.0</td>\n",
              "      <td>1.0</td>\n",
              "      <td>4,000</td>\n",
              "      <td>2001.0</td>\n",
              "      <td>1940.0</td>\n",
              "      <td>1</td>\n",
              "      <td>A1</td>\n",
              "      <td>200000</td>\n",
              "      <td>20190101</td>\n",
              "    </tr>\n",
              "    <tr>\n",
              "      <th>78</th>\n",
              "      <td>2</td>\n",
              "      <td>OTHER</td>\n",
              "      <td>01 ONE FAMILY DWELLINGS</td>\n",
              "      <td>1</td>\n",
              "      <td>4210</td>\n",
              "      <td>19</td>\n",
              "      <td>A1</td>\n",
              "      <td>1260 RHINELANDER AVE</td>\n",
              "      <td>10461.0</td>\n",
              "      <td>1.0</td>\n",
              "      <td>0.0</td>\n",
              "      <td>1.0</td>\n",
              "      <td>3,500</td>\n",
              "      <td>2043.0</td>\n",
              "      <td>1925.0</td>\n",
              "      <td>1</td>\n",
              "      <td>A1</td>\n",
              "      <td>810000</td>\n",
              "      <td>20190102</td>\n",
              "    </tr>\n",
              "    <tr>\n",
              "      <th>108</th>\n",
              "      <td>3</td>\n",
              "      <td>OTHER</td>\n",
              "      <td>01 ONE FAMILY DWELLINGS</td>\n",
              "      <td>1</td>\n",
              "      <td>5212</td>\n",
              "      <td>69</td>\n",
              "      <td>A1</td>\n",
              "      <td>469 E 25TH ST</td>\n",
              "      <td>11226.0</td>\n",
              "      <td>1.0</td>\n",
              "      <td>0.0</td>\n",
              "      <td>1.0</td>\n",
              "      <td>4,000</td>\n",
              "      <td>2680.0</td>\n",
              "      <td>1899.0</td>\n",
              "      <td>1</td>\n",
              "      <td>A1</td>\n",
              "      <td>125000</td>\n",
              "      <td>20190102</td>\n",
              "    </tr>\n",
              "    <tr>\n",
              "      <th>111</th>\n",
              "      <td>3</td>\n",
              "      <td>OTHER</td>\n",
              "      <td>01 ONE FAMILY DWELLINGS</td>\n",
              "      <td>1</td>\n",
              "      <td>7930</td>\n",
              "      <td>121</td>\n",
              "      <td>A5</td>\n",
              "      <td>5521 WHITTY LANE</td>\n",
              "      <td>11203.0</td>\n",
              "      <td>1.0</td>\n",
              "      <td>0.0</td>\n",
              "      <td>1.0</td>\n",
              "      <td>1,710</td>\n",
              "      <td>1872.0</td>\n",
              "      <td>1940.0</td>\n",
              "      <td>1</td>\n",
              "      <td>A5</td>\n",
              "      <td>620000</td>\n",
              "      <td>20190102</td>\n",
              "    </tr>\n",
              "  </tbody>\n",
              "</table>\n",
              "</div>"
            ],
            "text/plain": [
              "    BOROUGH    NEIGHBORHOOD  ... SALE_PRICE SALE_DATE\n",
              "44        3           OTHER  ...     550000  20190101\n",
              "61        4  QUEENS VILLAGE  ...     200000  20190101\n",
              "78        2           OTHER  ...     810000  20190102\n",
              "108       3           OTHER  ...     125000  20190102\n",
              "111       3           OTHER  ...     620000  20190102\n",
              "\n",
              "[5 rows x 19 columns]"
            ]
          },
          "metadata": {
            "tags": []
          },
          "execution_count": 35
        }
      ]
    },
    {
      "cell_type": "code",
      "metadata": {
        "id": "I4TR51DHEKuE",
        "colab_type": "code",
        "colab": {}
      },
      "source": [
        "#The date is now coverted to numeric form"
      ],
      "execution_count": 0,
      "outputs": []
    },
    {
      "cell_type": "markdown",
      "metadata": {
        "id": "fYKDoTW3-h1o",
        "colab_type": "text"
      },
      "source": [
        "Do train/test split. Use data from January — March 2019 to train. Use data from April 2019 to test."
      ]
    },
    {
      "cell_type": "code",
      "metadata": {
        "id": "0s2yo1weE-MF",
        "colab_type": "code",
        "colab": {}
      },
      "source": [
        "#isolate train dataset\n",
        "mask = (df5['SALE_DATE'] > 20190101) & (df5['SALE_DATE'] <= 20190331)"
      ],
      "execution_count": 0,
      "outputs": []
    },
    {
      "cell_type": "code",
      "metadata": {
        "id": "D_-j93RTFNRj",
        "colab_type": "code",
        "colab": {}
      },
      "source": [
        "train = df5.loc[mask]\n"
      ],
      "execution_count": 0,
      "outputs": []
    },
    {
      "cell_type": "code",
      "metadata": {
        "id": "enCqhRoiFWWq",
        "colab_type": "code",
        "outputId": "3acb4ea7-1118-443b-de55-b3f6ae704c3a",
        "colab": {
          "base_uri": "https://localhost:8080/",
          "height": 316
        }
      },
      "source": [
        "train.head()"
      ],
      "execution_count": 39,
      "outputs": [
        {
          "output_type": "execute_result",
          "data": {
            "text/html": [
              "<div>\n",
              "<style scoped>\n",
              "    .dataframe tbody tr th:only-of-type {\n",
              "        vertical-align: middle;\n",
              "    }\n",
              "\n",
              "    .dataframe tbody tr th {\n",
              "        vertical-align: top;\n",
              "    }\n",
              "\n",
              "    .dataframe thead th {\n",
              "        text-align: right;\n",
              "    }\n",
              "</style>\n",
              "<table border=\"1\" class=\"dataframe\">\n",
              "  <thead>\n",
              "    <tr style=\"text-align: right;\">\n",
              "      <th></th>\n",
              "      <th>BOROUGH</th>\n",
              "      <th>NEIGHBORHOOD</th>\n",
              "      <th>BUILDING_CLASS_CATEGORY</th>\n",
              "      <th>TAX_CLASS_AT_PRESENT</th>\n",
              "      <th>BLOCK</th>\n",
              "      <th>LOT</th>\n",
              "      <th>BUILDING_CLASS_AT_PRESENT</th>\n",
              "      <th>ADDRESS</th>\n",
              "      <th>ZIP_CODE</th>\n",
              "      <th>RESIDENTIAL_UNITS</th>\n",
              "      <th>COMMERCIAL_UNITS</th>\n",
              "      <th>TOTAL_UNITS</th>\n",
              "      <th>LAND_SQUARE_FEET</th>\n",
              "      <th>GROSS_SQUARE_FEET</th>\n",
              "      <th>YEAR_BUILT</th>\n",
              "      <th>TAX_CLASS_AT_TIME_OF_SALE</th>\n",
              "      <th>BUILDING_CLASS_AT_TIME_OF_SALE</th>\n",
              "      <th>SALE_PRICE</th>\n",
              "      <th>SALE_DATE</th>\n",
              "    </tr>\n",
              "  </thead>\n",
              "  <tbody>\n",
              "    <tr>\n",
              "      <th>78</th>\n",
              "      <td>2</td>\n",
              "      <td>OTHER</td>\n",
              "      <td>01 ONE FAMILY DWELLINGS</td>\n",
              "      <td>1</td>\n",
              "      <td>4210</td>\n",
              "      <td>19</td>\n",
              "      <td>A1</td>\n",
              "      <td>1260 RHINELANDER AVE</td>\n",
              "      <td>10461.0</td>\n",
              "      <td>1.0</td>\n",
              "      <td>0.0</td>\n",
              "      <td>1.0</td>\n",
              "      <td>3,500</td>\n",
              "      <td>2043.0</td>\n",
              "      <td>1925.0</td>\n",
              "      <td>1</td>\n",
              "      <td>A1</td>\n",
              "      <td>810000</td>\n",
              "      <td>20190102</td>\n",
              "    </tr>\n",
              "    <tr>\n",
              "      <th>108</th>\n",
              "      <td>3</td>\n",
              "      <td>OTHER</td>\n",
              "      <td>01 ONE FAMILY DWELLINGS</td>\n",
              "      <td>1</td>\n",
              "      <td>5212</td>\n",
              "      <td>69</td>\n",
              "      <td>A1</td>\n",
              "      <td>469 E 25TH ST</td>\n",
              "      <td>11226.0</td>\n",
              "      <td>1.0</td>\n",
              "      <td>0.0</td>\n",
              "      <td>1.0</td>\n",
              "      <td>4,000</td>\n",
              "      <td>2680.0</td>\n",
              "      <td>1899.0</td>\n",
              "      <td>1</td>\n",
              "      <td>A1</td>\n",
              "      <td>125000</td>\n",
              "      <td>20190102</td>\n",
              "    </tr>\n",
              "    <tr>\n",
              "      <th>111</th>\n",
              "      <td>3</td>\n",
              "      <td>OTHER</td>\n",
              "      <td>01 ONE FAMILY DWELLINGS</td>\n",
              "      <td>1</td>\n",
              "      <td>7930</td>\n",
              "      <td>121</td>\n",
              "      <td>A5</td>\n",
              "      <td>5521 WHITTY LANE</td>\n",
              "      <td>11203.0</td>\n",
              "      <td>1.0</td>\n",
              "      <td>0.0</td>\n",
              "      <td>1.0</td>\n",
              "      <td>1,710</td>\n",
              "      <td>1872.0</td>\n",
              "      <td>1940.0</td>\n",
              "      <td>1</td>\n",
              "      <td>A5</td>\n",
              "      <td>620000</td>\n",
              "      <td>20190102</td>\n",
              "    </tr>\n",
              "    <tr>\n",
              "      <th>120</th>\n",
              "      <td>3</td>\n",
              "      <td>OTHER</td>\n",
              "      <td>01 ONE FAMILY DWELLINGS</td>\n",
              "      <td>1</td>\n",
              "      <td>6806</td>\n",
              "      <td>72</td>\n",
              "      <td>A1</td>\n",
              "      <td>1747 EAST 23RD STREET</td>\n",
              "      <td>11229.0</td>\n",
              "      <td>1.0</td>\n",
              "      <td>0.0</td>\n",
              "      <td>1.0</td>\n",
              "      <td>4,000</td>\n",
              "      <td>1932.0</td>\n",
              "      <td>1930.0</td>\n",
              "      <td>1</td>\n",
              "      <td>A1</td>\n",
              "      <td>1150000</td>\n",
              "      <td>20190102</td>\n",
              "    </tr>\n",
              "    <tr>\n",
              "      <th>121</th>\n",
              "      <td>3</td>\n",
              "      <td>OTHER</td>\n",
              "      <td>01 ONE FAMILY DWELLINGS</td>\n",
              "      <td>1</td>\n",
              "      <td>6761</td>\n",
              "      <td>42</td>\n",
              "      <td>A1</td>\n",
              "      <td>1582 EAST 15TH STREET</td>\n",
              "      <td>11230.0</td>\n",
              "      <td>1.0</td>\n",
              "      <td>0.0</td>\n",
              "      <td>1.0</td>\n",
              "      <td>2,000</td>\n",
              "      <td>1722.0</td>\n",
              "      <td>1920.0</td>\n",
              "      <td>1</td>\n",
              "      <td>A1</td>\n",
              "      <td>836500</td>\n",
              "      <td>20190102</td>\n",
              "    </tr>\n",
              "  </tbody>\n",
              "</table>\n",
              "</div>"
            ],
            "text/plain": [
              "    BOROUGH NEIGHBORHOOD  ... SALE_PRICE SALE_DATE\n",
              "78        2        OTHER  ...     810000  20190102\n",
              "108       3        OTHER  ...     125000  20190102\n",
              "111       3        OTHER  ...     620000  20190102\n",
              "120       3        OTHER  ...    1150000  20190102\n",
              "121       3        OTHER  ...     836500  20190102\n",
              "\n",
              "[5 rows x 19 columns]"
            ]
          },
          "metadata": {
            "tags": []
          },
          "execution_count": 39
        }
      ]
    },
    {
      "cell_type": "code",
      "metadata": {
        "id": "o5CN1uPVHKiR",
        "colab_type": "code",
        "outputId": "8401adc9-aea1-47c0-ba5b-477ade27d50c",
        "colab": {
          "base_uri": "https://localhost:8080/",
          "height": 34
        }
      },
      "source": [
        "train.shape"
      ],
      "execution_count": 40,
      "outputs": [
        {
          "output_type": "execute_result",
          "data": {
            "text/plain": [
              "(2460, 19)"
            ]
          },
          "metadata": {
            "tags": []
          },
          "execution_count": 40
        }
      ]
    },
    {
      "cell_type": "code",
      "metadata": {
        "id": "ZHM5zb9uFbeq",
        "colab_type": "code",
        "outputId": "d6871fe5-329a-4e2f-b009-7c1353e850bf",
        "colab": {
          "base_uri": "https://localhost:8080/",
          "height": 400
        }
      },
      "source": [
        "#isolating test dataset\n",
        "df5.tail()"
      ],
      "execution_count": 42,
      "outputs": [
        {
          "output_type": "execute_result",
          "data": {
            "text/html": [
              "<div>\n",
              "<style scoped>\n",
              "    .dataframe tbody tr th:only-of-type {\n",
              "        vertical-align: middle;\n",
              "    }\n",
              "\n",
              "    .dataframe tbody tr th {\n",
              "        vertical-align: top;\n",
              "    }\n",
              "\n",
              "    .dataframe thead th {\n",
              "        text-align: right;\n",
              "    }\n",
              "</style>\n",
              "<table border=\"1\" class=\"dataframe\">\n",
              "  <thead>\n",
              "    <tr style=\"text-align: right;\">\n",
              "      <th></th>\n",
              "      <th>BOROUGH</th>\n",
              "      <th>NEIGHBORHOOD</th>\n",
              "      <th>BUILDING_CLASS_CATEGORY</th>\n",
              "      <th>TAX_CLASS_AT_PRESENT</th>\n",
              "      <th>BLOCK</th>\n",
              "      <th>LOT</th>\n",
              "      <th>BUILDING_CLASS_AT_PRESENT</th>\n",
              "      <th>ADDRESS</th>\n",
              "      <th>ZIP_CODE</th>\n",
              "      <th>RESIDENTIAL_UNITS</th>\n",
              "      <th>COMMERCIAL_UNITS</th>\n",
              "      <th>TOTAL_UNITS</th>\n",
              "      <th>LAND_SQUARE_FEET</th>\n",
              "      <th>GROSS_SQUARE_FEET</th>\n",
              "      <th>YEAR_BUILT</th>\n",
              "      <th>TAX_CLASS_AT_TIME_OF_SALE</th>\n",
              "      <th>BUILDING_CLASS_AT_TIME_OF_SALE</th>\n",
              "      <th>SALE_PRICE</th>\n",
              "      <th>SALE_DATE</th>\n",
              "    </tr>\n",
              "  </thead>\n",
              "  <tbody>\n",
              "    <tr>\n",
              "      <th>23029</th>\n",
              "      <td>4</td>\n",
              "      <td>OTHER</td>\n",
              "      <td>01 ONE FAMILY DWELLINGS</td>\n",
              "      <td>1</td>\n",
              "      <td>13215</td>\n",
              "      <td>3</td>\n",
              "      <td>A2</td>\n",
              "      <td>244-15 135 AVENUE</td>\n",
              "      <td>11422.0</td>\n",
              "      <td>1.0</td>\n",
              "      <td>0.0</td>\n",
              "      <td>1.0</td>\n",
              "      <td>3,300</td>\n",
              "      <td>1478.0</td>\n",
              "      <td>1925.0</td>\n",
              "      <td>1</td>\n",
              "      <td>A2</td>\n",
              "      <td>635000</td>\n",
              "      <td>20190430</td>\n",
              "    </tr>\n",
              "    <tr>\n",
              "      <th>23031</th>\n",
              "      <td>4</td>\n",
              "      <td>SOUTH OZONE PARK</td>\n",
              "      <td>01 ONE FAMILY DWELLINGS</td>\n",
              "      <td>1</td>\n",
              "      <td>11612</td>\n",
              "      <td>73</td>\n",
              "      <td>A1</td>\n",
              "      <td>10919 132ND STREET</td>\n",
              "      <td>11420.0</td>\n",
              "      <td>1.0</td>\n",
              "      <td>0.0</td>\n",
              "      <td>1.0</td>\n",
              "      <td>2,400</td>\n",
              "      <td>1280.0</td>\n",
              "      <td>1930.0</td>\n",
              "      <td>1</td>\n",
              "      <td>A1</td>\n",
              "      <td>514000</td>\n",
              "      <td>20190430</td>\n",
              "    </tr>\n",
              "    <tr>\n",
              "      <th>23032</th>\n",
              "      <td>4</td>\n",
              "      <td>SOUTH OZONE PARK</td>\n",
              "      <td>01 ONE FAMILY DWELLINGS</td>\n",
              "      <td>1</td>\n",
              "      <td>11808</td>\n",
              "      <td>50</td>\n",
              "      <td>A0</td>\n",
              "      <td>135-24 122ND STREET</td>\n",
              "      <td>11420.0</td>\n",
              "      <td>1.0</td>\n",
              "      <td>0.0</td>\n",
              "      <td>1.0</td>\n",
              "      <td>4,000</td>\n",
              "      <td>1333.0</td>\n",
              "      <td>1945.0</td>\n",
              "      <td>1</td>\n",
              "      <td>A0</td>\n",
              "      <td>635000</td>\n",
              "      <td>20190430</td>\n",
              "    </tr>\n",
              "    <tr>\n",
              "      <th>23033</th>\n",
              "      <td>4</td>\n",
              "      <td>SPRINGFIELD GARDENS</td>\n",
              "      <td>01 ONE FAMILY DWELLINGS</td>\n",
              "      <td>1</td>\n",
              "      <td>12295</td>\n",
              "      <td>23</td>\n",
              "      <td>A1</td>\n",
              "      <td>134-34 157TH STREET</td>\n",
              "      <td>11434.0</td>\n",
              "      <td>1.0</td>\n",
              "      <td>0.0</td>\n",
              "      <td>1.0</td>\n",
              "      <td>2,500</td>\n",
              "      <td>1020.0</td>\n",
              "      <td>1935.0</td>\n",
              "      <td>1</td>\n",
              "      <td>A1</td>\n",
              "      <td>545000</td>\n",
              "      <td>20190430</td>\n",
              "    </tr>\n",
              "    <tr>\n",
              "      <th>23035</th>\n",
              "      <td>4</td>\n",
              "      <td>ST. ALBANS</td>\n",
              "      <td>01 ONE FAMILY DWELLINGS</td>\n",
              "      <td>1</td>\n",
              "      <td>10965</td>\n",
              "      <td>276</td>\n",
              "      <td>A5</td>\n",
              "      <td>111-17 FRANCIS LEWIS BLVD</td>\n",
              "      <td>11429.0</td>\n",
              "      <td>1.0</td>\n",
              "      <td>0.0</td>\n",
              "      <td>1.0</td>\n",
              "      <td>1,800</td>\n",
              "      <td>1224.0</td>\n",
              "      <td>1945.0</td>\n",
              "      <td>1</td>\n",
              "      <td>A5</td>\n",
              "      <td>510000</td>\n",
              "      <td>20190430</td>\n",
              "    </tr>\n",
              "  </tbody>\n",
              "</table>\n",
              "</div>"
            ],
            "text/plain": [
              "      BOROUGH         NEIGHBORHOOD  ... SALE_PRICE SALE_DATE\n",
              "23029       4                OTHER  ...     635000  20190430\n",
              "23031       4     SOUTH OZONE PARK  ...     514000  20190430\n",
              "23032       4     SOUTH OZONE PARK  ...     635000  20190430\n",
              "23033       4  SPRINGFIELD GARDENS  ...     545000  20190430\n",
              "23035       4           ST. ALBANS  ...     510000  20190430\n",
              "\n",
              "[5 rows x 19 columns]"
            ]
          },
          "metadata": {
            "tags": []
          },
          "execution_count": 42
        }
      ]
    },
    {
      "cell_type": "code",
      "metadata": {
        "id": "23445v93GS5l",
        "colab_type": "code",
        "colab": {}
      },
      "source": [
        "#The maximum date is till April 30, so we need to isolate data from April 1, 2019 to APRIL 30, 2019 in TEST DATASET\n",
        "mask2 = (df5['SALE_DATE'] > 20190401) & (df5['SALE_DATE'] <= 20190430)\n"
      ],
      "execution_count": 0,
      "outputs": []
    },
    {
      "cell_type": "code",
      "metadata": {
        "id": "0KbDlIvNA2fO",
        "colab_type": "code",
        "colab": {}
      },
      "source": [
        "test = df5.loc[mask2]"
      ],
      "execution_count": 0,
      "outputs": []
    },
    {
      "cell_type": "code",
      "metadata": {
        "id": "u3M57nuMHF03",
        "colab_type": "code",
        "outputId": "97382e6f-2018-40c9-bb8a-272c2edeb244",
        "colab": {
          "base_uri": "https://localhost:8080/",
          "height": 383
        }
      },
      "source": [
        "test.head()"
      ],
      "execution_count": 45,
      "outputs": [
        {
          "output_type": "execute_result",
          "data": {
            "text/html": [
              "<div>\n",
              "<style scoped>\n",
              "    .dataframe tbody tr th:only-of-type {\n",
              "        vertical-align: middle;\n",
              "    }\n",
              "\n",
              "    .dataframe tbody tr th {\n",
              "        vertical-align: top;\n",
              "    }\n",
              "\n",
              "    .dataframe thead th {\n",
              "        text-align: right;\n",
              "    }\n",
              "</style>\n",
              "<table border=\"1\" class=\"dataframe\">\n",
              "  <thead>\n",
              "    <tr style=\"text-align: right;\">\n",
              "      <th></th>\n",
              "      <th>BOROUGH</th>\n",
              "      <th>NEIGHBORHOOD</th>\n",
              "      <th>BUILDING_CLASS_CATEGORY</th>\n",
              "      <th>TAX_CLASS_AT_PRESENT</th>\n",
              "      <th>BLOCK</th>\n",
              "      <th>LOT</th>\n",
              "      <th>BUILDING_CLASS_AT_PRESENT</th>\n",
              "      <th>ADDRESS</th>\n",
              "      <th>ZIP_CODE</th>\n",
              "      <th>RESIDENTIAL_UNITS</th>\n",
              "      <th>COMMERCIAL_UNITS</th>\n",
              "      <th>TOTAL_UNITS</th>\n",
              "      <th>LAND_SQUARE_FEET</th>\n",
              "      <th>GROSS_SQUARE_FEET</th>\n",
              "      <th>YEAR_BUILT</th>\n",
              "      <th>TAX_CLASS_AT_TIME_OF_SALE</th>\n",
              "      <th>BUILDING_CLASS_AT_TIME_OF_SALE</th>\n",
              "      <th>SALE_PRICE</th>\n",
              "      <th>SALE_DATE</th>\n",
              "    </tr>\n",
              "  </thead>\n",
              "  <tbody>\n",
              "    <tr>\n",
              "      <th>18500</th>\n",
              "      <td>2</td>\n",
              "      <td>OTHER</td>\n",
              "      <td>01 ONE FAMILY DWELLINGS</td>\n",
              "      <td>1</td>\n",
              "      <td>2555</td>\n",
              "      <td>25</td>\n",
              "      <td>A5</td>\n",
              "      <td>607 OAK TERRACE</td>\n",
              "      <td>10454.0</td>\n",
              "      <td>1.0</td>\n",
              "      <td>0.0</td>\n",
              "      <td>1.0</td>\n",
              "      <td>2,089</td>\n",
              "      <td>1104.0</td>\n",
              "      <td>2000.0</td>\n",
              "      <td>1</td>\n",
              "      <td>A5</td>\n",
              "      <td>375000</td>\n",
              "      <td>20190402</td>\n",
              "    </tr>\n",
              "    <tr>\n",
              "      <th>18521</th>\n",
              "      <td>3</td>\n",
              "      <td>OTHER</td>\n",
              "      <td>01 ONE FAMILY DWELLINGS</td>\n",
              "      <td>1</td>\n",
              "      <td>6293</td>\n",
              "      <td>29</td>\n",
              "      <td>A1</td>\n",
              "      <td>1448 81ST STREET</td>\n",
              "      <td>11228.0</td>\n",
              "      <td>1.0</td>\n",
              "      <td>0.0</td>\n",
              "      <td>1.0</td>\n",
              "      <td>2,633</td>\n",
              "      <td>1296.0</td>\n",
              "      <td>1930.0</td>\n",
              "      <td>1</td>\n",
              "      <td>A1</td>\n",
              "      <td>900000</td>\n",
              "      <td>20190402</td>\n",
              "    </tr>\n",
              "    <tr>\n",
              "      <th>18525</th>\n",
              "      <td>3</td>\n",
              "      <td>OTHER</td>\n",
              "      <td>01 ONE FAMILY DWELLINGS</td>\n",
              "      <td>1</td>\n",
              "      <td>8448</td>\n",
              "      <td>68</td>\n",
              "      <td>A5</td>\n",
              "      <td>2374 EAST 71ST STREET</td>\n",
              "      <td>11234.0</td>\n",
              "      <td>1.0</td>\n",
              "      <td>0.0</td>\n",
              "      <td>1.0</td>\n",
              "      <td>2,717</td>\n",
              "      <td>1665.0</td>\n",
              "      <td>1970.0</td>\n",
              "      <td>1</td>\n",
              "      <td>A5</td>\n",
              "      <td>780000</td>\n",
              "      <td>20190402</td>\n",
              "    </tr>\n",
              "    <tr>\n",
              "      <th>18549</th>\n",
              "      <td>3</td>\n",
              "      <td>OTHER</td>\n",
              "      <td>01 ONE FAMILY DWELLINGS</td>\n",
              "      <td>1</td>\n",
              "      <td>7017</td>\n",
              "      <td>110</td>\n",
              "      <td>A5</td>\n",
              "      <td>2129 MERMAID AVENUE</td>\n",
              "      <td>11224.0</td>\n",
              "      <td>1.0</td>\n",
              "      <td>0.0</td>\n",
              "      <td>1.0</td>\n",
              "      <td>1,479</td>\n",
              "      <td>1344.0</td>\n",
              "      <td>1993.0</td>\n",
              "      <td>1</td>\n",
              "      <td>A5</td>\n",
              "      <td>580000</td>\n",
              "      <td>20190402</td>\n",
              "    </tr>\n",
              "    <tr>\n",
              "      <th>18555</th>\n",
              "      <td>3</td>\n",
              "      <td>OTHER</td>\n",
              "      <td>01 ONE FAMILY DWELLINGS</td>\n",
              "      <td>1</td>\n",
              "      <td>3841</td>\n",
              "      <td>37</td>\n",
              "      <td>S1</td>\n",
              "      <td>427 NEW LOTS AVENUE</td>\n",
              "      <td>11207.0</td>\n",
              "      <td>1.0</td>\n",
              "      <td>1.0</td>\n",
              "      <td>2.0</td>\n",
              "      <td>2,154</td>\n",
              "      <td>2668.0</td>\n",
              "      <td>1930.0</td>\n",
              "      <td>1</td>\n",
              "      <td>S1</td>\n",
              "      <td>500000</td>\n",
              "      <td>20190402</td>\n",
              "    </tr>\n",
              "  </tbody>\n",
              "</table>\n",
              "</div>"
            ],
            "text/plain": [
              "      BOROUGH NEIGHBORHOOD  ... SALE_PRICE SALE_DATE\n",
              "18500       2        OTHER  ...     375000  20190402\n",
              "18521       3        OTHER  ...     900000  20190402\n",
              "18525       3        OTHER  ...     780000  20190402\n",
              "18549       3        OTHER  ...     580000  20190402\n",
              "18555       3        OTHER  ...     500000  20190402\n",
              "\n",
              "[5 rows x 19 columns]"
            ]
          },
          "metadata": {
            "tags": []
          },
          "execution_count": 45
        }
      ]
    },
    {
      "cell_type": "code",
      "metadata": {
        "id": "j8hp4Zv7HNNM",
        "colab_type": "code",
        "outputId": "45eb6a93-19db-4282-a08d-93e1fa64e78c",
        "colab": {
          "base_uri": "https://localhost:8080/",
          "height": 34
        }
      },
      "source": [
        "test.shape"
      ],
      "execution_count": 46,
      "outputs": [
        {
          "output_type": "execute_result",
          "data": {
            "text/plain": [
              "(590, 19)"
            ]
          },
          "metadata": {
            "tags": []
          },
          "execution_count": 46
        }
      ]
    },
    {
      "cell_type": "code",
      "metadata": {
        "id": "fb4s2Gh5H0Br",
        "colab_type": "code",
        "outputId": "20e68b43-6007-499c-f30b-1fa67a1071ea",
        "colab": {
          "base_uri": "https://localhost:8080/",
          "height": 353
        }
      },
      "source": [
        "train.dtypes"
      ],
      "execution_count": 47,
      "outputs": [
        {
          "output_type": "execute_result",
          "data": {
            "text/plain": [
              "BOROUGH                            object\n",
              "NEIGHBORHOOD                       object\n",
              "BUILDING_CLASS_CATEGORY            object\n",
              "TAX_CLASS_AT_PRESENT               object\n",
              "BLOCK                               int64\n",
              "LOT                                 int64\n",
              "BUILDING_CLASS_AT_PRESENT          object\n",
              "ADDRESS                            object\n",
              "ZIP_CODE                          float64\n",
              "RESIDENTIAL_UNITS                 float64\n",
              "COMMERCIAL_UNITS                  float64\n",
              "TOTAL_UNITS                       float64\n",
              "LAND_SQUARE_FEET                   object\n",
              "GROSS_SQUARE_FEET                 float64\n",
              "YEAR_BUILT                        float64\n",
              "TAX_CLASS_AT_TIME_OF_SALE           int64\n",
              "BUILDING_CLASS_AT_TIME_OF_SALE     object\n",
              "SALE_PRICE                          int64\n",
              "SALE_DATE                           int64\n",
              "dtype: object"
            ]
          },
          "metadata": {
            "tags": []
          },
          "execution_count": 47
        }
      ]
    },
    {
      "cell_type": "code",
      "metadata": {
        "id": "kNzq_UWwIE07",
        "colab_type": "code",
        "colab": {}
      },
      "source": [
        "#Many numeric columns in train dataset are still in object form like Borough, tax class, etc. and need to be converted to numeric form"
      ],
      "execution_count": 0,
      "outputs": []
    },
    {
      "cell_type": "code",
      "metadata": {
        "id": "u1xXrXpaIXAk",
        "colab_type": "code",
        "outputId": "5202f765-3721-4624-c692-3b547d35bb66",
        "colab": {
          "base_uri": "https://localhost:8080/",
          "height": 118
        }
      },
      "source": [
        "train[[\"BOROUGH\", \"TAX_CLASS_AT_PRESENT\", \"LAND_SQUARE_FEET\"]] = train[[\"BOROUGH\", \"TAX_CLASS_AT_PRESENT\", \"LAND_SQUARE_FEET\"]].apply(pd.to_numeric, errors='ignore')"
      ],
      "execution_count": 49,
      "outputs": [
        {
          "output_type": "stream",
          "text": [
            "/usr/local/lib/python3.6/dist-packages/pandas/core/frame.py:3509: SettingWithCopyWarning: \n",
            "A value is trying to be set on a copy of a slice from a DataFrame.\n",
            "Try using .loc[row_indexer,col_indexer] = value instead\n",
            "\n",
            "See the caveats in the documentation: http://pandas.pydata.org/pandas-docs/stable/user_guide/indexing.html#returning-a-view-versus-a-copy\n",
            "  self[k1] = value[k2]\n"
          ],
          "name": "stderr"
        }
      ]
    },
    {
      "cell_type": "code",
      "metadata": {
        "id": "6GlP9HvqKx5-",
        "colab_type": "code",
        "outputId": "95d6e9df-23fb-45f7-f8a0-eb514b7dc9fc",
        "colab": {
          "base_uri": "https://localhost:8080/",
          "height": 353
        }
      },
      "source": [
        "train.dtypes"
      ],
      "execution_count": 50,
      "outputs": [
        {
          "output_type": "execute_result",
          "data": {
            "text/plain": [
              "BOROUGH                             int64\n",
              "NEIGHBORHOOD                       object\n",
              "BUILDING_CLASS_CATEGORY            object\n",
              "TAX_CLASS_AT_PRESENT               object\n",
              "BLOCK                               int64\n",
              "LOT                                 int64\n",
              "BUILDING_CLASS_AT_PRESENT          object\n",
              "ADDRESS                            object\n",
              "ZIP_CODE                          float64\n",
              "RESIDENTIAL_UNITS                 float64\n",
              "COMMERCIAL_UNITS                  float64\n",
              "TOTAL_UNITS                       float64\n",
              "LAND_SQUARE_FEET                   object\n",
              "GROSS_SQUARE_FEET                 float64\n",
              "YEAR_BUILT                        float64\n",
              "TAX_CLASS_AT_TIME_OF_SALE           int64\n",
              "BUILDING_CLASS_AT_TIME_OF_SALE     object\n",
              "SALE_PRICE                          int64\n",
              "SALE_DATE                           int64\n",
              "dtype: object"
            ]
          },
          "metadata": {
            "tags": []
          },
          "execution_count": 50
        }
      ]
    },
    {
      "cell_type": "code",
      "metadata": {
        "id": "8rNDT3CrSdUs",
        "colab_type": "code",
        "colab": {}
      },
      "source": [
        "#Let us drop tax class from the dataset"
      ],
      "execution_count": 0,
      "outputs": []
    },
    {
      "cell_type": "code",
      "metadata": {
        "id": "TzsSY7bdShif",
        "colab_type": "code",
        "colab": {}
      },
      "source": [
        "train2 = train.drop(['TAX_CLASS_AT_TIME_OF_SALE'], axis = 1)\n"
      ],
      "execution_count": 0,
      "outputs": []
    },
    {
      "cell_type": "code",
      "metadata": {
        "id": "CQdGAymdTVu4",
        "colab_type": "code",
        "outputId": "f191dd2c-f034-4c93-e741-f4b7ca41faac",
        "colab": {
          "base_uri": "https://localhost:8080/",
          "height": 316
        }
      },
      "source": [
        "train2.head()"
      ],
      "execution_count": 54,
      "outputs": [
        {
          "output_type": "execute_result",
          "data": {
            "text/html": [
              "<div>\n",
              "<style scoped>\n",
              "    .dataframe tbody tr th:only-of-type {\n",
              "        vertical-align: middle;\n",
              "    }\n",
              "\n",
              "    .dataframe tbody tr th {\n",
              "        vertical-align: top;\n",
              "    }\n",
              "\n",
              "    .dataframe thead th {\n",
              "        text-align: right;\n",
              "    }\n",
              "</style>\n",
              "<table border=\"1\" class=\"dataframe\">\n",
              "  <thead>\n",
              "    <tr style=\"text-align: right;\">\n",
              "      <th></th>\n",
              "      <th>BOROUGH</th>\n",
              "      <th>NEIGHBORHOOD</th>\n",
              "      <th>BUILDING_CLASS_CATEGORY</th>\n",
              "      <th>TAX_CLASS_AT_PRESENT</th>\n",
              "      <th>BLOCK</th>\n",
              "      <th>LOT</th>\n",
              "      <th>BUILDING_CLASS_AT_PRESENT</th>\n",
              "      <th>ADDRESS</th>\n",
              "      <th>ZIP_CODE</th>\n",
              "      <th>RESIDENTIAL_UNITS</th>\n",
              "      <th>COMMERCIAL_UNITS</th>\n",
              "      <th>TOTAL_UNITS</th>\n",
              "      <th>LAND_SQUARE_FEET</th>\n",
              "      <th>GROSS_SQUARE_FEET</th>\n",
              "      <th>YEAR_BUILT</th>\n",
              "      <th>BUILDING_CLASS_AT_TIME_OF_SALE</th>\n",
              "      <th>SALE_PRICE</th>\n",
              "      <th>SALE_DATE</th>\n",
              "    </tr>\n",
              "  </thead>\n",
              "  <tbody>\n",
              "    <tr>\n",
              "      <th>78</th>\n",
              "      <td>2</td>\n",
              "      <td>OTHER</td>\n",
              "      <td>01 ONE FAMILY DWELLINGS</td>\n",
              "      <td>1</td>\n",
              "      <td>4210</td>\n",
              "      <td>19</td>\n",
              "      <td>A1</td>\n",
              "      <td>1260 RHINELANDER AVE</td>\n",
              "      <td>10461.0</td>\n",
              "      <td>1.0</td>\n",
              "      <td>0.0</td>\n",
              "      <td>1.0</td>\n",
              "      <td>3,500</td>\n",
              "      <td>2043.0</td>\n",
              "      <td>1925.0</td>\n",
              "      <td>A1</td>\n",
              "      <td>810000</td>\n",
              "      <td>20190102</td>\n",
              "    </tr>\n",
              "    <tr>\n",
              "      <th>108</th>\n",
              "      <td>3</td>\n",
              "      <td>OTHER</td>\n",
              "      <td>01 ONE FAMILY DWELLINGS</td>\n",
              "      <td>1</td>\n",
              "      <td>5212</td>\n",
              "      <td>69</td>\n",
              "      <td>A1</td>\n",
              "      <td>469 E 25TH ST</td>\n",
              "      <td>11226.0</td>\n",
              "      <td>1.0</td>\n",
              "      <td>0.0</td>\n",
              "      <td>1.0</td>\n",
              "      <td>4,000</td>\n",
              "      <td>2680.0</td>\n",
              "      <td>1899.0</td>\n",
              "      <td>A1</td>\n",
              "      <td>125000</td>\n",
              "      <td>20190102</td>\n",
              "    </tr>\n",
              "    <tr>\n",
              "      <th>111</th>\n",
              "      <td>3</td>\n",
              "      <td>OTHER</td>\n",
              "      <td>01 ONE FAMILY DWELLINGS</td>\n",
              "      <td>1</td>\n",
              "      <td>7930</td>\n",
              "      <td>121</td>\n",
              "      <td>A5</td>\n",
              "      <td>5521 WHITTY LANE</td>\n",
              "      <td>11203.0</td>\n",
              "      <td>1.0</td>\n",
              "      <td>0.0</td>\n",
              "      <td>1.0</td>\n",
              "      <td>1,710</td>\n",
              "      <td>1872.0</td>\n",
              "      <td>1940.0</td>\n",
              "      <td>A5</td>\n",
              "      <td>620000</td>\n",
              "      <td>20190102</td>\n",
              "    </tr>\n",
              "    <tr>\n",
              "      <th>120</th>\n",
              "      <td>3</td>\n",
              "      <td>OTHER</td>\n",
              "      <td>01 ONE FAMILY DWELLINGS</td>\n",
              "      <td>1</td>\n",
              "      <td>6806</td>\n",
              "      <td>72</td>\n",
              "      <td>A1</td>\n",
              "      <td>1747 EAST 23RD STREET</td>\n",
              "      <td>11229.0</td>\n",
              "      <td>1.0</td>\n",
              "      <td>0.0</td>\n",
              "      <td>1.0</td>\n",
              "      <td>4,000</td>\n",
              "      <td>1932.0</td>\n",
              "      <td>1930.0</td>\n",
              "      <td>A1</td>\n",
              "      <td>1150000</td>\n",
              "      <td>20190102</td>\n",
              "    </tr>\n",
              "    <tr>\n",
              "      <th>121</th>\n",
              "      <td>3</td>\n",
              "      <td>OTHER</td>\n",
              "      <td>01 ONE FAMILY DWELLINGS</td>\n",
              "      <td>1</td>\n",
              "      <td>6761</td>\n",
              "      <td>42</td>\n",
              "      <td>A1</td>\n",
              "      <td>1582 EAST 15TH STREET</td>\n",
              "      <td>11230.0</td>\n",
              "      <td>1.0</td>\n",
              "      <td>0.0</td>\n",
              "      <td>1.0</td>\n",
              "      <td>2,000</td>\n",
              "      <td>1722.0</td>\n",
              "      <td>1920.0</td>\n",
              "      <td>A1</td>\n",
              "      <td>836500</td>\n",
              "      <td>20190102</td>\n",
              "    </tr>\n",
              "  </tbody>\n",
              "</table>\n",
              "</div>"
            ],
            "text/plain": [
              "     BOROUGH NEIGHBORHOOD  ... SALE_PRICE SALE_DATE\n",
              "78         2        OTHER  ...     810000  20190102\n",
              "108        3        OTHER  ...     125000  20190102\n",
              "111        3        OTHER  ...     620000  20190102\n",
              "120        3        OTHER  ...    1150000  20190102\n",
              "121        3        OTHER  ...     836500  20190102\n",
              "\n",
              "[5 rows x 18 columns]"
            ]
          },
          "metadata": {
            "tags": []
          },
          "execution_count": 54
        }
      ]
    },
    {
      "cell_type": "code",
      "metadata": {
        "id": "r0aOiu-gTyQz",
        "colab_type": "code",
        "colab": {}
      },
      "source": [
        "train3 = train2.drop(['BUILDING_CLASS_CATEGORY', 'TAX_CLASS_AT_PRESENT', 'ADDRESS', 'SALE_DATE'], axis = 1)"
      ],
      "execution_count": 0,
      "outputs": []
    },
    {
      "cell_type": "code",
      "metadata": {
        "id": "yySR3c4JUgJA",
        "colab_type": "code",
        "outputId": "cf40370d-b9b8-4b29-a3c0-6e80da1db815",
        "colab": {
          "base_uri": "https://localhost:8080/",
          "height": 215
        }
      },
      "source": [
        "train3.head()"
      ],
      "execution_count": 56,
      "outputs": [
        {
          "output_type": "execute_result",
          "data": {
            "text/html": [
              "<div>\n",
              "<style scoped>\n",
              "    .dataframe tbody tr th:only-of-type {\n",
              "        vertical-align: middle;\n",
              "    }\n",
              "\n",
              "    .dataframe tbody tr th {\n",
              "        vertical-align: top;\n",
              "    }\n",
              "\n",
              "    .dataframe thead th {\n",
              "        text-align: right;\n",
              "    }\n",
              "</style>\n",
              "<table border=\"1\" class=\"dataframe\">\n",
              "  <thead>\n",
              "    <tr style=\"text-align: right;\">\n",
              "      <th></th>\n",
              "      <th>BOROUGH</th>\n",
              "      <th>NEIGHBORHOOD</th>\n",
              "      <th>BLOCK</th>\n",
              "      <th>LOT</th>\n",
              "      <th>BUILDING_CLASS_AT_PRESENT</th>\n",
              "      <th>ZIP_CODE</th>\n",
              "      <th>RESIDENTIAL_UNITS</th>\n",
              "      <th>COMMERCIAL_UNITS</th>\n",
              "      <th>TOTAL_UNITS</th>\n",
              "      <th>LAND_SQUARE_FEET</th>\n",
              "      <th>GROSS_SQUARE_FEET</th>\n",
              "      <th>YEAR_BUILT</th>\n",
              "      <th>BUILDING_CLASS_AT_TIME_OF_SALE</th>\n",
              "      <th>SALE_PRICE</th>\n",
              "    </tr>\n",
              "  </thead>\n",
              "  <tbody>\n",
              "    <tr>\n",
              "      <th>78</th>\n",
              "      <td>2</td>\n",
              "      <td>OTHER</td>\n",
              "      <td>4210</td>\n",
              "      <td>19</td>\n",
              "      <td>A1</td>\n",
              "      <td>10461.0</td>\n",
              "      <td>1.0</td>\n",
              "      <td>0.0</td>\n",
              "      <td>1.0</td>\n",
              "      <td>3,500</td>\n",
              "      <td>2043.0</td>\n",
              "      <td>1925.0</td>\n",
              "      <td>A1</td>\n",
              "      <td>810000</td>\n",
              "    </tr>\n",
              "    <tr>\n",
              "      <th>108</th>\n",
              "      <td>3</td>\n",
              "      <td>OTHER</td>\n",
              "      <td>5212</td>\n",
              "      <td>69</td>\n",
              "      <td>A1</td>\n",
              "      <td>11226.0</td>\n",
              "      <td>1.0</td>\n",
              "      <td>0.0</td>\n",
              "      <td>1.0</td>\n",
              "      <td>4,000</td>\n",
              "      <td>2680.0</td>\n",
              "      <td>1899.0</td>\n",
              "      <td>A1</td>\n",
              "      <td>125000</td>\n",
              "    </tr>\n",
              "    <tr>\n",
              "      <th>111</th>\n",
              "      <td>3</td>\n",
              "      <td>OTHER</td>\n",
              "      <td>7930</td>\n",
              "      <td>121</td>\n",
              "      <td>A5</td>\n",
              "      <td>11203.0</td>\n",
              "      <td>1.0</td>\n",
              "      <td>0.0</td>\n",
              "      <td>1.0</td>\n",
              "      <td>1,710</td>\n",
              "      <td>1872.0</td>\n",
              "      <td>1940.0</td>\n",
              "      <td>A5</td>\n",
              "      <td>620000</td>\n",
              "    </tr>\n",
              "    <tr>\n",
              "      <th>120</th>\n",
              "      <td>3</td>\n",
              "      <td>OTHER</td>\n",
              "      <td>6806</td>\n",
              "      <td>72</td>\n",
              "      <td>A1</td>\n",
              "      <td>11229.0</td>\n",
              "      <td>1.0</td>\n",
              "      <td>0.0</td>\n",
              "      <td>1.0</td>\n",
              "      <td>4,000</td>\n",
              "      <td>1932.0</td>\n",
              "      <td>1930.0</td>\n",
              "      <td>A1</td>\n",
              "      <td>1150000</td>\n",
              "    </tr>\n",
              "    <tr>\n",
              "      <th>121</th>\n",
              "      <td>3</td>\n",
              "      <td>OTHER</td>\n",
              "      <td>6761</td>\n",
              "      <td>42</td>\n",
              "      <td>A1</td>\n",
              "      <td>11230.0</td>\n",
              "      <td>1.0</td>\n",
              "      <td>0.0</td>\n",
              "      <td>1.0</td>\n",
              "      <td>2,000</td>\n",
              "      <td>1722.0</td>\n",
              "      <td>1920.0</td>\n",
              "      <td>A1</td>\n",
              "      <td>836500</td>\n",
              "    </tr>\n",
              "  </tbody>\n",
              "</table>\n",
              "</div>"
            ],
            "text/plain": [
              "     BOROUGH NEIGHBORHOOD  ...  BUILDING_CLASS_AT_TIME_OF_SALE  SALE_PRICE\n",
              "78         2        OTHER  ...                              A1      810000\n",
              "108        3        OTHER  ...                              A1      125000\n",
              "111        3        OTHER  ...                              A5      620000\n",
              "120        3        OTHER  ...                              A1     1150000\n",
              "121        3        OTHER  ...                              A1      836500\n",
              "\n",
              "[5 rows x 14 columns]"
            ]
          },
          "metadata": {
            "tags": []
          },
          "execution_count": 56
        }
      ]
    },
    {
      "cell_type": "code",
      "metadata": {
        "id": "gMbpCJjXUizJ",
        "colab_type": "code",
        "outputId": "3bf9b133-6064-4afb-e238-eeae275432d2",
        "colab": {
          "base_uri": "https://localhost:8080/",
          "height": 269
        }
      },
      "source": [
        "train3.dtypes"
      ],
      "execution_count": 57,
      "outputs": [
        {
          "output_type": "execute_result",
          "data": {
            "text/plain": [
              "BOROUGH                             int64\n",
              "NEIGHBORHOOD                       object\n",
              "BLOCK                               int64\n",
              "LOT                                 int64\n",
              "BUILDING_CLASS_AT_PRESENT          object\n",
              "ZIP_CODE                          float64\n",
              "RESIDENTIAL_UNITS                 float64\n",
              "COMMERCIAL_UNITS                  float64\n",
              "TOTAL_UNITS                       float64\n",
              "LAND_SQUARE_FEET                   object\n",
              "GROSS_SQUARE_FEET                 float64\n",
              "YEAR_BUILT                        float64\n",
              "BUILDING_CLASS_AT_TIME_OF_SALE     object\n",
              "SALE_PRICE                          int64\n",
              "dtype: object"
            ]
          },
          "metadata": {
            "tags": []
          },
          "execution_count": 57
        }
      ]
    },
    {
      "cell_type": "code",
      "metadata": {
        "id": "gGBr_Tdo2tv8",
        "colab_type": "code",
        "colab": {}
      },
      "source": [
        "train3[\"LAND_SQUARE_FEET\"] = train3[\"LAND_SQUARE_FEET\"].str.replace(',','').astype(float)"
      ],
      "execution_count": 0,
      "outputs": []
    },
    {
      "cell_type": "code",
      "metadata": {
        "id": "j--9i3vU2zJa",
        "colab_type": "code",
        "colab": {
          "base_uri": "https://localhost:8080/",
          "height": 269
        },
        "outputId": "998b1c4a-7a69-4688-d8e2-2c5aa85965a9"
      },
      "source": [
        "train3.dtypes"
      ],
      "execution_count": 61,
      "outputs": [
        {
          "output_type": "execute_result",
          "data": {
            "text/plain": [
              "BOROUGH                             int64\n",
              "NEIGHBORHOOD                       object\n",
              "BLOCK                               int64\n",
              "LOT                                 int64\n",
              "BUILDING_CLASS_AT_PRESENT          object\n",
              "ZIP_CODE                          float64\n",
              "RESIDENTIAL_UNITS                 float64\n",
              "COMMERCIAL_UNITS                  float64\n",
              "TOTAL_UNITS                       float64\n",
              "LAND_SQUARE_FEET                  float64\n",
              "GROSS_SQUARE_FEET                 float64\n",
              "YEAR_BUILT                        float64\n",
              "BUILDING_CLASS_AT_TIME_OF_SALE     object\n",
              "SALE_PRICE                          int64\n",
              "dtype: object"
            ]
          },
          "metadata": {
            "tags": []
          },
          "execution_count": 61
        }
      ]
    },
    {
      "cell_type": "code",
      "metadata": {
        "id": "HvlmHaeopR0Q",
        "colab_type": "code",
        "colab": {}
      },
      "source": [
        "#Let us also do the same exercise with the test dataset"
      ],
      "execution_count": 0,
      "outputs": []
    },
    {
      "cell_type": "code",
      "metadata": {
        "id": "Dq_51jUApbrn",
        "colab_type": "code",
        "outputId": "f6b983b7-9309-4359-9f6a-1f1d63a316af",
        "colab": {
          "base_uri": "https://localhost:8080/",
          "height": 353
        }
      },
      "source": [
        "test.dtypes"
      ],
      "execution_count": 62,
      "outputs": [
        {
          "output_type": "execute_result",
          "data": {
            "text/plain": [
              "BOROUGH                             int64\n",
              "NEIGHBORHOOD                       object\n",
              "BUILDING_CLASS_CATEGORY            object\n",
              "TAX_CLASS_AT_PRESENT               object\n",
              "BLOCK                               int64\n",
              "LOT                                 int64\n",
              "BUILDING_CLASS_AT_PRESENT          object\n",
              "ADDRESS                            object\n",
              "ZIP_CODE                          float64\n",
              "RESIDENTIAL_UNITS                 float64\n",
              "COMMERCIAL_UNITS                  float64\n",
              "TOTAL_UNITS                       float64\n",
              "LAND_SQUARE_FEET                   object\n",
              "GROSS_SQUARE_FEET                 float64\n",
              "YEAR_BUILT                        float64\n",
              "TAX_CLASS_AT_TIME_OF_SALE           int64\n",
              "BUILDING_CLASS_AT_TIME_OF_SALE     object\n",
              "SALE_PRICE                          int64\n",
              "SALE_DATE                           int64\n",
              "dtype: object"
            ]
          },
          "metadata": {
            "tags": []
          },
          "execution_count": 62
        }
      ]
    },
    {
      "cell_type": "code",
      "metadata": {
        "id": "QdhEnNaepqlS",
        "colab_type": "code",
        "outputId": "b951dc67-0c9e-4045-bcbd-56fadfecf51a",
        "colab": {
          "base_uri": "https://localhost:8080/",
          "height": 118
        }
      },
      "source": [
        "test[[\"BOROUGH\", \"TAX_CLASS_AT_PRESENT\", \"LAND_SQUARE_FEET\"]] = test[[\"BOROUGH\", \"TAX_CLASS_AT_PRESENT\", \"LAND_SQUARE_FEET\"]].apply(pd.to_numeric, errors='ignore')"
      ],
      "execution_count": 63,
      "outputs": [
        {
          "output_type": "stream",
          "text": [
            "/usr/local/lib/python3.6/dist-packages/pandas/core/frame.py:3509: SettingWithCopyWarning: \n",
            "A value is trying to be set on a copy of a slice from a DataFrame.\n",
            "Try using .loc[row_indexer,col_indexer] = value instead\n",
            "\n",
            "See the caveats in the documentation: http://pandas.pydata.org/pandas-docs/stable/user_guide/indexing.html#returning-a-view-versus-a-copy\n",
            "  self[k1] = value[k2]\n"
          ],
          "name": "stderr"
        }
      ]
    },
    {
      "cell_type": "code",
      "metadata": {
        "id": "UbWAxezGpvkc",
        "colab_type": "code",
        "outputId": "2805efd3-8854-493a-94ed-e9d3d07b9670",
        "colab": {
          "base_uri": "https://localhost:8080/",
          "height": 353
        }
      },
      "source": [
        "test.dtypes"
      ],
      "execution_count": 64,
      "outputs": [
        {
          "output_type": "execute_result",
          "data": {
            "text/plain": [
              "BOROUGH                             int64\n",
              "NEIGHBORHOOD                       object\n",
              "BUILDING_CLASS_CATEGORY            object\n",
              "TAX_CLASS_AT_PRESENT               object\n",
              "BLOCK                               int64\n",
              "LOT                                 int64\n",
              "BUILDING_CLASS_AT_PRESENT          object\n",
              "ADDRESS                            object\n",
              "ZIP_CODE                          float64\n",
              "RESIDENTIAL_UNITS                 float64\n",
              "COMMERCIAL_UNITS                  float64\n",
              "TOTAL_UNITS                       float64\n",
              "LAND_SQUARE_FEET                   object\n",
              "GROSS_SQUARE_FEET                 float64\n",
              "YEAR_BUILT                        float64\n",
              "TAX_CLASS_AT_TIME_OF_SALE           int64\n",
              "BUILDING_CLASS_AT_TIME_OF_SALE     object\n",
              "SALE_PRICE                          int64\n",
              "SALE_DATE                           int64\n",
              "dtype: object"
            ]
          },
          "metadata": {
            "tags": []
          },
          "execution_count": 64
        }
      ]
    },
    {
      "cell_type": "code",
      "metadata": {
        "id": "u9xfcvP_p1aW",
        "colab_type": "code",
        "colab": {}
      },
      "source": [
        "#Land sq foot is still in object form, "
      ],
      "execution_count": 0,
      "outputs": []
    },
    {
      "cell_type": "code",
      "metadata": {
        "id": "UltYDkpLqMm2",
        "colab_type": "code",
        "outputId": "418b407a-31e0-415e-be89-9aa830267611",
        "colab": {
          "base_uri": "https://localhost:8080/",
          "height": 118
        }
      },
      "source": [
        "#We need to remove commas from land sq foot column to enbale it to convert to numeric form\n",
        "\n",
        "test[\"LAND_SQUARE_FEET\"] = test[\"LAND_SQUARE_FEET\"].str.replace(',','').astype(float)"
      ],
      "execution_count": 65,
      "outputs": [
        {
          "output_type": "stream",
          "text": [
            "/usr/local/lib/python3.6/dist-packages/ipykernel_launcher.py:2: SettingWithCopyWarning: \n",
            "A value is trying to be set on a copy of a slice from a DataFrame.\n",
            "Try using .loc[row_indexer,col_indexer] = value instead\n",
            "\n",
            "See the caveats in the documentation: http://pandas.pydata.org/pandas-docs/stable/user_guide/indexing.html#returning-a-view-versus-a-copy\n",
            "  \n"
          ],
          "name": "stderr"
        }
      ]
    },
    {
      "cell_type": "code",
      "metadata": {
        "id": "sIRjlgc-rl_b",
        "colab_type": "code",
        "outputId": "8a1a8f55-4627-4983-e4ae-238df4568208",
        "colab": {
          "base_uri": "https://localhost:8080/",
          "height": 353
        }
      },
      "source": [
        "test.dtypes"
      ],
      "execution_count": 67,
      "outputs": [
        {
          "output_type": "execute_result",
          "data": {
            "text/plain": [
              "BOROUGH                             int64\n",
              "NEIGHBORHOOD                       object\n",
              "BUILDING_CLASS_CATEGORY            object\n",
              "TAX_CLASS_AT_PRESENT               object\n",
              "BLOCK                               int64\n",
              "LOT                                 int64\n",
              "BUILDING_CLASS_AT_PRESENT          object\n",
              "ADDRESS                            object\n",
              "ZIP_CODE                          float64\n",
              "RESIDENTIAL_UNITS                 float64\n",
              "COMMERCIAL_UNITS                  float64\n",
              "TOTAL_UNITS                       float64\n",
              "LAND_SQUARE_FEET                  float64\n",
              "GROSS_SQUARE_FEET                 float64\n",
              "YEAR_BUILT                        float64\n",
              "TAX_CLASS_AT_TIME_OF_SALE           int64\n",
              "BUILDING_CLASS_AT_TIME_OF_SALE     object\n",
              "SALE_PRICE                          int64\n",
              "SALE_DATE                           int64\n",
              "dtype: object"
            ]
          },
          "metadata": {
            "tags": []
          },
          "execution_count": 67
        }
      ]
    },
    {
      "cell_type": "code",
      "metadata": {
        "id": "y4tjgLra3SWO",
        "colab_type": "code",
        "colab": {}
      },
      "source": [
        "test2 = test.drop(['BUILDING_CLASS_CATEGORY', 'TAX_CLASS_AT_PRESENT', 'ADDRESS', 'SALE_DATE', 'TAX_CLASS_AT_TIME_OF_SALE'], axis = 1)"
      ],
      "execution_count": 0,
      "outputs": []
    },
    {
      "cell_type": "code",
      "metadata": {
        "id": "jkb-BV2QsCO6",
        "colab_type": "code",
        "outputId": "3457b08f-f2ef-4ea9-b156-d6670d579449",
        "colab": {
          "base_uri": "https://localhost:8080/",
          "height": 215
        }
      },
      "source": [
        "test2.head()"
      ],
      "execution_count": 69,
      "outputs": [
        {
          "output_type": "execute_result",
          "data": {
            "text/html": [
              "<div>\n",
              "<style scoped>\n",
              "    .dataframe tbody tr th:only-of-type {\n",
              "        vertical-align: middle;\n",
              "    }\n",
              "\n",
              "    .dataframe tbody tr th {\n",
              "        vertical-align: top;\n",
              "    }\n",
              "\n",
              "    .dataframe thead th {\n",
              "        text-align: right;\n",
              "    }\n",
              "</style>\n",
              "<table border=\"1\" class=\"dataframe\">\n",
              "  <thead>\n",
              "    <tr style=\"text-align: right;\">\n",
              "      <th></th>\n",
              "      <th>BOROUGH</th>\n",
              "      <th>NEIGHBORHOOD</th>\n",
              "      <th>BLOCK</th>\n",
              "      <th>LOT</th>\n",
              "      <th>BUILDING_CLASS_AT_PRESENT</th>\n",
              "      <th>ZIP_CODE</th>\n",
              "      <th>RESIDENTIAL_UNITS</th>\n",
              "      <th>COMMERCIAL_UNITS</th>\n",
              "      <th>TOTAL_UNITS</th>\n",
              "      <th>LAND_SQUARE_FEET</th>\n",
              "      <th>GROSS_SQUARE_FEET</th>\n",
              "      <th>YEAR_BUILT</th>\n",
              "      <th>BUILDING_CLASS_AT_TIME_OF_SALE</th>\n",
              "      <th>SALE_PRICE</th>\n",
              "    </tr>\n",
              "  </thead>\n",
              "  <tbody>\n",
              "    <tr>\n",
              "      <th>18500</th>\n",
              "      <td>2</td>\n",
              "      <td>OTHER</td>\n",
              "      <td>2555</td>\n",
              "      <td>25</td>\n",
              "      <td>A5</td>\n",
              "      <td>10454.0</td>\n",
              "      <td>1.0</td>\n",
              "      <td>0.0</td>\n",
              "      <td>1.0</td>\n",
              "      <td>2089.0</td>\n",
              "      <td>1104.0</td>\n",
              "      <td>2000.0</td>\n",
              "      <td>A5</td>\n",
              "      <td>375000</td>\n",
              "    </tr>\n",
              "    <tr>\n",
              "      <th>18521</th>\n",
              "      <td>3</td>\n",
              "      <td>OTHER</td>\n",
              "      <td>6293</td>\n",
              "      <td>29</td>\n",
              "      <td>A1</td>\n",
              "      <td>11228.0</td>\n",
              "      <td>1.0</td>\n",
              "      <td>0.0</td>\n",
              "      <td>1.0</td>\n",
              "      <td>2633.0</td>\n",
              "      <td>1296.0</td>\n",
              "      <td>1930.0</td>\n",
              "      <td>A1</td>\n",
              "      <td>900000</td>\n",
              "    </tr>\n",
              "    <tr>\n",
              "      <th>18525</th>\n",
              "      <td>3</td>\n",
              "      <td>OTHER</td>\n",
              "      <td>8448</td>\n",
              "      <td>68</td>\n",
              "      <td>A5</td>\n",
              "      <td>11234.0</td>\n",
              "      <td>1.0</td>\n",
              "      <td>0.0</td>\n",
              "      <td>1.0</td>\n",
              "      <td>2717.0</td>\n",
              "      <td>1665.0</td>\n",
              "      <td>1970.0</td>\n",
              "      <td>A5</td>\n",
              "      <td>780000</td>\n",
              "    </tr>\n",
              "    <tr>\n",
              "      <th>18549</th>\n",
              "      <td>3</td>\n",
              "      <td>OTHER</td>\n",
              "      <td>7017</td>\n",
              "      <td>110</td>\n",
              "      <td>A5</td>\n",
              "      <td>11224.0</td>\n",
              "      <td>1.0</td>\n",
              "      <td>0.0</td>\n",
              "      <td>1.0</td>\n",
              "      <td>1479.0</td>\n",
              "      <td>1344.0</td>\n",
              "      <td>1993.0</td>\n",
              "      <td>A5</td>\n",
              "      <td>580000</td>\n",
              "    </tr>\n",
              "    <tr>\n",
              "      <th>18555</th>\n",
              "      <td>3</td>\n",
              "      <td>OTHER</td>\n",
              "      <td>3841</td>\n",
              "      <td>37</td>\n",
              "      <td>S1</td>\n",
              "      <td>11207.0</td>\n",
              "      <td>1.0</td>\n",
              "      <td>1.0</td>\n",
              "      <td>2.0</td>\n",
              "      <td>2154.0</td>\n",
              "      <td>2668.0</td>\n",
              "      <td>1930.0</td>\n",
              "      <td>S1</td>\n",
              "      <td>500000</td>\n",
              "    </tr>\n",
              "  </tbody>\n",
              "</table>\n",
              "</div>"
            ],
            "text/plain": [
              "       BOROUGH NEIGHBORHOOD  ...  BUILDING_CLASS_AT_TIME_OF_SALE  SALE_PRICE\n",
              "18500        2        OTHER  ...                              A5      375000\n",
              "18521        3        OTHER  ...                              A1      900000\n",
              "18525        3        OTHER  ...                              A5      780000\n",
              "18549        3        OTHER  ...                              A5      580000\n",
              "18555        3        OTHER  ...                              S1      500000\n",
              "\n",
              "[5 rows x 14 columns]"
            ]
          },
          "metadata": {
            "tags": []
          },
          "execution_count": 69
        }
      ]
    },
    {
      "cell_type": "code",
      "metadata": {
        "id": "zE-oenQLsbWI",
        "colab_type": "code",
        "outputId": "69543ad7-3b17-4a17-86ee-c0f3b471ba4b",
        "colab": {
          "base_uri": "https://localhost:8080/",
          "height": 269
        }
      },
      "source": [
        "test2.dtypes"
      ],
      "execution_count": 70,
      "outputs": [
        {
          "output_type": "execute_result",
          "data": {
            "text/plain": [
              "BOROUGH                             int64\n",
              "NEIGHBORHOOD                       object\n",
              "BLOCK                               int64\n",
              "LOT                                 int64\n",
              "BUILDING_CLASS_AT_PRESENT          object\n",
              "ZIP_CODE                          float64\n",
              "RESIDENTIAL_UNITS                 float64\n",
              "COMMERCIAL_UNITS                  float64\n",
              "TOTAL_UNITS                       float64\n",
              "LAND_SQUARE_FEET                  float64\n",
              "GROSS_SQUARE_FEET                 float64\n",
              "YEAR_BUILT                        float64\n",
              "BUILDING_CLASS_AT_TIME_OF_SALE     object\n",
              "SALE_PRICE                          int64\n",
              "dtype: object"
            ]
          },
          "metadata": {
            "tags": []
          },
          "execution_count": 70
        }
      ]
    },
    {
      "cell_type": "code",
      "metadata": {
        "id": "xqkrERjxsd2q",
        "colab_type": "code",
        "colab": {}
      },
      "source": [
        "#So, we have our train and test datasets isolated and we may need to do one hot encoding of features like neighborhood, building class etc."
      ],
      "execution_count": 0,
      "outputs": []
    },
    {
      "cell_type": "code",
      "metadata": {
        "id": "vKVUNkF3swAT",
        "colab_type": "code",
        "colab": {}
      },
      "source": [
        "#Let us check the train data column for sales price with no features as the baseline"
      ],
      "execution_count": 0,
      "outputs": []
    },
    {
      "cell_type": "code",
      "metadata": {
        "id": "ivJp338htx-M",
        "colab_type": "code",
        "outputId": "a519af9f-4cc9-42ec-bf1c-883e1b91bbb0",
        "colab": {
          "base_uri": "https://localhost:8080/",
          "height": 34
        }
      },
      "source": [
        "train3['SALE_PRICE'].mean()"
      ],
      "execution_count": 71,
      "outputs": [
        {
          "output_type": "execute_result",
          "data": {
            "text/plain": [
              "602150.9882113821"
            ]
          },
          "metadata": {
            "tags": []
          },
          "execution_count": 71
        }
      ]
    },
    {
      "cell_type": "code",
      "metadata": {
        "id": "omMQP4g2uEBs",
        "colab_type": "code",
        "outputId": "19bfb33b-155f-4ef6-9ee4-fdf4a035c893",
        "colab": {
          "base_uri": "https://localhost:8080/",
          "height": 67
        }
      },
      "source": [
        "from sklearn.metrics import mean_absolute_error\n",
        "\n",
        "# Arrange y target vectors\n",
        "target = 'SALE_PRICE'\n",
        "y_train = train3[target]\n",
        "y_test = test2[target]\n",
        "\n",
        "# Get mean baseline\n",
        "print('Mean Baseline (using 0 features)')\n",
        "guess = y_train.mean()\n",
        "\n",
        "# Train Error\n",
        "y_pred = [guess] * len(y_train)\n",
        "mae = mean_absolute_error(y_train, y_pred)\n",
        "print(f'Train Error (sale price): {mae:.2f} USD')\n",
        "\n",
        "# Test Error\n",
        "y_pred = [guess] * len(y_test)\n",
        "mae = mean_absolute_error(y_test, y_pred)\n",
        "print(f'Test Error (sale price): {mae:.2f} USD')"
      ],
      "execution_count": 73,
      "outputs": [
        {
          "output_type": "stream",
          "text": [
            "Mean Baseline (using 0 features)\n",
            "Train Error (sale price): 194994.90 USD\n",
            "Test Error (sale price): 187755.33 USD\n"
          ],
          "name": "stdout"
        }
      ]
    },
    {
      "cell_type": "code",
      "metadata": {
        "id": "huI8qOLounAY",
        "colab_type": "code",
        "colab": {}
      },
      "source": [
        "#Building multiple regression model"
      ],
      "execution_count": 0,
      "outputs": []
    },
    {
      "cell_type": "code",
      "metadata": {
        "id": "Yql6SBUw4Rb9",
        "colab_type": "code",
        "colab": {}
      },
      "source": [
        "#Apply one hot encoding on train and test datasets\n",
        "import category_encoders as ce\n",
        "\n",
        "encoder = ce.OneHotEncoder(use_cat_names=True)\n",
        "hot_train = encoder.fit_transform(train3)\n",
        "hot_test = encoder.transform(test2)"
      ],
      "execution_count": 0,
      "outputs": []
    },
    {
      "cell_type": "code",
      "metadata": {
        "id": "x-DcTmyP4tWP",
        "colab_type": "code",
        "colab": {
          "base_uri": "https://localhost:8080/",
          "height": 266
        },
        "outputId": "4092d218-d3cc-4fc1-84c9-3a6b263d2f8b"
      },
      "source": [
        "print(hot_train.shape)\n",
        "hot_train.head()\n",
        "#The output shows new columns added representing neighborhood and building class at sale after one hot encoding."
      ],
      "execution_count": 79,
      "outputs": [
        {
          "output_type": "stream",
          "text": [
            "(2460, 44)\n"
          ],
          "name": "stdout"
        },
        {
          "output_type": "execute_result",
          "data": {
            "text/html": [
              "<div>\n",
              "<style scoped>\n",
              "    .dataframe tbody tr th:only-of-type {\n",
              "        vertical-align: middle;\n",
              "    }\n",
              "\n",
              "    .dataframe tbody tr th {\n",
              "        vertical-align: top;\n",
              "    }\n",
              "\n",
              "    .dataframe thead th {\n",
              "        text-align: right;\n",
              "    }\n",
              "</style>\n",
              "<table border=\"1\" class=\"dataframe\">\n",
              "  <thead>\n",
              "    <tr style=\"text-align: right;\">\n",
              "      <th></th>\n",
              "      <th>BOROUGH</th>\n",
              "      <th>NEIGHBORHOOD_OTHER</th>\n",
              "      <th>NEIGHBORHOOD_BAYSIDE</th>\n",
              "      <th>NEIGHBORHOOD_FLUSHING-NORTH</th>\n",
              "      <th>NEIGHBORHOOD_LAURELTON</th>\n",
              "      <th>NEIGHBORHOOD_SO. JAMAICA-BAISLEY PARK</th>\n",
              "      <th>NEIGHBORHOOD_SPRINGFIELD GARDENS</th>\n",
              "      <th>NEIGHBORHOOD_GREAT KILLS</th>\n",
              "      <th>NEIGHBORHOOD_FLUSHING-SOUTH</th>\n",
              "      <th>NEIGHBORHOOD_SOUTH OZONE PARK</th>\n",
              "      <th>NEIGHBORHOOD_QUEENS VILLAGE</th>\n",
              "      <th>NEIGHBORHOOD_ST. ALBANS</th>\n",
              "      <th>BLOCK</th>\n",
              "      <th>LOT</th>\n",
              "      <th>BUILDING_CLASS_AT_PRESENT_A1</th>\n",
              "      <th>BUILDING_CLASS_AT_PRESENT_A5</th>\n",
              "      <th>BUILDING_CLASS_AT_PRESENT_A0</th>\n",
              "      <th>BUILDING_CLASS_AT_PRESENT_A2</th>\n",
              "      <th>BUILDING_CLASS_AT_PRESENT_A3</th>\n",
              "      <th>BUILDING_CLASS_AT_PRESENT_A9</th>\n",
              "      <th>BUILDING_CLASS_AT_PRESENT_S1</th>\n",
              "      <th>BUILDING_CLASS_AT_PRESENT_A4</th>\n",
              "      <th>BUILDING_CLASS_AT_PRESENT_A6</th>\n",
              "      <th>BUILDING_CLASS_AT_PRESENT_A8</th>\n",
              "      <th>BUILDING_CLASS_AT_PRESENT_B2</th>\n",
              "      <th>BUILDING_CLASS_AT_PRESENT_B3</th>\n",
              "      <th>ZIP_CODE</th>\n",
              "      <th>RESIDENTIAL_UNITS</th>\n",
              "      <th>COMMERCIAL_UNITS</th>\n",
              "      <th>TOTAL_UNITS</th>\n",
              "      <th>LAND_SQUARE_FEET</th>\n",
              "      <th>GROSS_SQUARE_FEET</th>\n",
              "      <th>YEAR_BUILT</th>\n",
              "      <th>BUILDING_CLASS_AT_TIME_OF_SALE_A1</th>\n",
              "      <th>BUILDING_CLASS_AT_TIME_OF_SALE_A5</th>\n",
              "      <th>BUILDING_CLASS_AT_TIME_OF_SALE_A0</th>\n",
              "      <th>BUILDING_CLASS_AT_TIME_OF_SALE_A2</th>\n",
              "      <th>BUILDING_CLASS_AT_TIME_OF_SALE_A3</th>\n",
              "      <th>BUILDING_CLASS_AT_TIME_OF_SALE_A9</th>\n",
              "      <th>BUILDING_CLASS_AT_TIME_OF_SALE_S1</th>\n",
              "      <th>BUILDING_CLASS_AT_TIME_OF_SALE_A4</th>\n",
              "      <th>BUILDING_CLASS_AT_TIME_OF_SALE_A6</th>\n",
              "      <th>BUILDING_CLASS_AT_TIME_OF_SALE_A8</th>\n",
              "      <th>SALE_PRICE</th>\n",
              "    </tr>\n",
              "  </thead>\n",
              "  <tbody>\n",
              "    <tr>\n",
              "      <th>78</th>\n",
              "      <td>2</td>\n",
              "      <td>1</td>\n",
              "      <td>0</td>\n",
              "      <td>0</td>\n",
              "      <td>0</td>\n",
              "      <td>0</td>\n",
              "      <td>0</td>\n",
              "      <td>0</td>\n",
              "      <td>0</td>\n",
              "      <td>0</td>\n",
              "      <td>0</td>\n",
              "      <td>0</td>\n",
              "      <td>4210</td>\n",
              "      <td>19</td>\n",
              "      <td>1</td>\n",
              "      <td>0</td>\n",
              "      <td>0</td>\n",
              "      <td>0</td>\n",
              "      <td>0</td>\n",
              "      <td>0</td>\n",
              "      <td>0</td>\n",
              "      <td>0</td>\n",
              "      <td>0</td>\n",
              "      <td>0</td>\n",
              "      <td>0</td>\n",
              "      <td>0</td>\n",
              "      <td>10461.0</td>\n",
              "      <td>1.0</td>\n",
              "      <td>0.0</td>\n",
              "      <td>1.0</td>\n",
              "      <td>3500.0</td>\n",
              "      <td>2043.0</td>\n",
              "      <td>1925.0</td>\n",
              "      <td>1</td>\n",
              "      <td>0</td>\n",
              "      <td>0</td>\n",
              "      <td>0</td>\n",
              "      <td>0</td>\n",
              "      <td>0</td>\n",
              "      <td>0</td>\n",
              "      <td>0</td>\n",
              "      <td>0</td>\n",
              "      <td>0</td>\n",
              "      <td>810000</td>\n",
              "    </tr>\n",
              "    <tr>\n",
              "      <th>108</th>\n",
              "      <td>3</td>\n",
              "      <td>1</td>\n",
              "      <td>0</td>\n",
              "      <td>0</td>\n",
              "      <td>0</td>\n",
              "      <td>0</td>\n",
              "      <td>0</td>\n",
              "      <td>0</td>\n",
              "      <td>0</td>\n",
              "      <td>0</td>\n",
              "      <td>0</td>\n",
              "      <td>0</td>\n",
              "      <td>5212</td>\n",
              "      <td>69</td>\n",
              "      <td>1</td>\n",
              "      <td>0</td>\n",
              "      <td>0</td>\n",
              "      <td>0</td>\n",
              "      <td>0</td>\n",
              "      <td>0</td>\n",
              "      <td>0</td>\n",
              "      <td>0</td>\n",
              "      <td>0</td>\n",
              "      <td>0</td>\n",
              "      <td>0</td>\n",
              "      <td>0</td>\n",
              "      <td>11226.0</td>\n",
              "      <td>1.0</td>\n",
              "      <td>0.0</td>\n",
              "      <td>1.0</td>\n",
              "      <td>4000.0</td>\n",
              "      <td>2680.0</td>\n",
              "      <td>1899.0</td>\n",
              "      <td>1</td>\n",
              "      <td>0</td>\n",
              "      <td>0</td>\n",
              "      <td>0</td>\n",
              "      <td>0</td>\n",
              "      <td>0</td>\n",
              "      <td>0</td>\n",
              "      <td>0</td>\n",
              "      <td>0</td>\n",
              "      <td>0</td>\n",
              "      <td>125000</td>\n",
              "    </tr>\n",
              "    <tr>\n",
              "      <th>111</th>\n",
              "      <td>3</td>\n",
              "      <td>1</td>\n",
              "      <td>0</td>\n",
              "      <td>0</td>\n",
              "      <td>0</td>\n",
              "      <td>0</td>\n",
              "      <td>0</td>\n",
              "      <td>0</td>\n",
              "      <td>0</td>\n",
              "      <td>0</td>\n",
              "      <td>0</td>\n",
              "      <td>0</td>\n",
              "      <td>7930</td>\n",
              "      <td>121</td>\n",
              "      <td>0</td>\n",
              "      <td>1</td>\n",
              "      <td>0</td>\n",
              "      <td>0</td>\n",
              "      <td>0</td>\n",
              "      <td>0</td>\n",
              "      <td>0</td>\n",
              "      <td>0</td>\n",
              "      <td>0</td>\n",
              "      <td>0</td>\n",
              "      <td>0</td>\n",
              "      <td>0</td>\n",
              "      <td>11203.0</td>\n",
              "      <td>1.0</td>\n",
              "      <td>0.0</td>\n",
              "      <td>1.0</td>\n",
              "      <td>1710.0</td>\n",
              "      <td>1872.0</td>\n",
              "      <td>1940.0</td>\n",
              "      <td>0</td>\n",
              "      <td>1</td>\n",
              "      <td>0</td>\n",
              "      <td>0</td>\n",
              "      <td>0</td>\n",
              "      <td>0</td>\n",
              "      <td>0</td>\n",
              "      <td>0</td>\n",
              "      <td>0</td>\n",
              "      <td>0</td>\n",
              "      <td>620000</td>\n",
              "    </tr>\n",
              "    <tr>\n",
              "      <th>120</th>\n",
              "      <td>3</td>\n",
              "      <td>1</td>\n",
              "      <td>0</td>\n",
              "      <td>0</td>\n",
              "      <td>0</td>\n",
              "      <td>0</td>\n",
              "      <td>0</td>\n",
              "      <td>0</td>\n",
              "      <td>0</td>\n",
              "      <td>0</td>\n",
              "      <td>0</td>\n",
              "      <td>0</td>\n",
              "      <td>6806</td>\n",
              "      <td>72</td>\n",
              "      <td>1</td>\n",
              "      <td>0</td>\n",
              "      <td>0</td>\n",
              "      <td>0</td>\n",
              "      <td>0</td>\n",
              "      <td>0</td>\n",
              "      <td>0</td>\n",
              "      <td>0</td>\n",
              "      <td>0</td>\n",
              "      <td>0</td>\n",
              "      <td>0</td>\n",
              "      <td>0</td>\n",
              "      <td>11229.0</td>\n",
              "      <td>1.0</td>\n",
              "      <td>0.0</td>\n",
              "      <td>1.0</td>\n",
              "      <td>4000.0</td>\n",
              "      <td>1932.0</td>\n",
              "      <td>1930.0</td>\n",
              "      <td>1</td>\n",
              "      <td>0</td>\n",
              "      <td>0</td>\n",
              "      <td>0</td>\n",
              "      <td>0</td>\n",
              "      <td>0</td>\n",
              "      <td>0</td>\n",
              "      <td>0</td>\n",
              "      <td>0</td>\n",
              "      <td>0</td>\n",
              "      <td>1150000</td>\n",
              "    </tr>\n",
              "    <tr>\n",
              "      <th>121</th>\n",
              "      <td>3</td>\n",
              "      <td>1</td>\n",
              "      <td>0</td>\n",
              "      <td>0</td>\n",
              "      <td>0</td>\n",
              "      <td>0</td>\n",
              "      <td>0</td>\n",
              "      <td>0</td>\n",
              "      <td>0</td>\n",
              "      <td>0</td>\n",
              "      <td>0</td>\n",
              "      <td>0</td>\n",
              "      <td>6761</td>\n",
              "      <td>42</td>\n",
              "      <td>1</td>\n",
              "      <td>0</td>\n",
              "      <td>0</td>\n",
              "      <td>0</td>\n",
              "      <td>0</td>\n",
              "      <td>0</td>\n",
              "      <td>0</td>\n",
              "      <td>0</td>\n",
              "      <td>0</td>\n",
              "      <td>0</td>\n",
              "      <td>0</td>\n",
              "      <td>0</td>\n",
              "      <td>11230.0</td>\n",
              "      <td>1.0</td>\n",
              "      <td>0.0</td>\n",
              "      <td>1.0</td>\n",
              "      <td>2000.0</td>\n",
              "      <td>1722.0</td>\n",
              "      <td>1920.0</td>\n",
              "      <td>1</td>\n",
              "      <td>0</td>\n",
              "      <td>0</td>\n",
              "      <td>0</td>\n",
              "      <td>0</td>\n",
              "      <td>0</td>\n",
              "      <td>0</td>\n",
              "      <td>0</td>\n",
              "      <td>0</td>\n",
              "      <td>0</td>\n",
              "      <td>836500</td>\n",
              "    </tr>\n",
              "  </tbody>\n",
              "</table>\n",
              "</div>"
            ],
            "text/plain": [
              "     BOROUGH  NEIGHBORHOOD_OTHER  ...  BUILDING_CLASS_AT_TIME_OF_SALE_A8  SALE_PRICE\n",
              "78         2                   1  ...                                  0      810000\n",
              "108        3                   1  ...                                  0      125000\n",
              "111        3                   1  ...                                  0      620000\n",
              "120        3                   1  ...                                  0     1150000\n",
              "121        3                   1  ...                                  0      836500\n",
              "\n",
              "[5 rows x 44 columns]"
            ]
          },
          "metadata": {
            "tags": []
          },
          "execution_count": 79
        }
      ]
    },
    {
      "cell_type": "code",
      "metadata": {
        "id": "nZb3SlNi5J6n",
        "colab_type": "code",
        "colab": {
          "base_uri": "https://localhost:8080/",
          "height": 266
        },
        "outputId": "b47e4fff-aa1d-4875-ef6e-9666e8521c60"
      },
      "source": [
        "print(hot_test.shape)\n",
        "hot_test.head()"
      ],
      "execution_count": 80,
      "outputs": [
        {
          "output_type": "stream",
          "text": [
            "(590, 44)\n"
          ],
          "name": "stdout"
        },
        {
          "output_type": "execute_result",
          "data": {
            "text/html": [
              "<div>\n",
              "<style scoped>\n",
              "    .dataframe tbody tr th:only-of-type {\n",
              "        vertical-align: middle;\n",
              "    }\n",
              "\n",
              "    .dataframe tbody tr th {\n",
              "        vertical-align: top;\n",
              "    }\n",
              "\n",
              "    .dataframe thead th {\n",
              "        text-align: right;\n",
              "    }\n",
              "</style>\n",
              "<table border=\"1\" class=\"dataframe\">\n",
              "  <thead>\n",
              "    <tr style=\"text-align: right;\">\n",
              "      <th></th>\n",
              "      <th>BOROUGH</th>\n",
              "      <th>NEIGHBORHOOD_OTHER</th>\n",
              "      <th>NEIGHBORHOOD_BAYSIDE</th>\n",
              "      <th>NEIGHBORHOOD_FLUSHING-NORTH</th>\n",
              "      <th>NEIGHBORHOOD_LAURELTON</th>\n",
              "      <th>NEIGHBORHOOD_SO. JAMAICA-BAISLEY PARK</th>\n",
              "      <th>NEIGHBORHOOD_SPRINGFIELD GARDENS</th>\n",
              "      <th>NEIGHBORHOOD_GREAT KILLS</th>\n",
              "      <th>NEIGHBORHOOD_FLUSHING-SOUTH</th>\n",
              "      <th>NEIGHBORHOOD_SOUTH OZONE PARK</th>\n",
              "      <th>NEIGHBORHOOD_QUEENS VILLAGE</th>\n",
              "      <th>NEIGHBORHOOD_ST. ALBANS</th>\n",
              "      <th>BLOCK</th>\n",
              "      <th>LOT</th>\n",
              "      <th>BUILDING_CLASS_AT_PRESENT_A1</th>\n",
              "      <th>BUILDING_CLASS_AT_PRESENT_A5</th>\n",
              "      <th>BUILDING_CLASS_AT_PRESENT_A0</th>\n",
              "      <th>BUILDING_CLASS_AT_PRESENT_A2</th>\n",
              "      <th>BUILDING_CLASS_AT_PRESENT_A3</th>\n",
              "      <th>BUILDING_CLASS_AT_PRESENT_A9</th>\n",
              "      <th>BUILDING_CLASS_AT_PRESENT_S1</th>\n",
              "      <th>BUILDING_CLASS_AT_PRESENT_A4</th>\n",
              "      <th>BUILDING_CLASS_AT_PRESENT_A6</th>\n",
              "      <th>BUILDING_CLASS_AT_PRESENT_A8</th>\n",
              "      <th>BUILDING_CLASS_AT_PRESENT_B2</th>\n",
              "      <th>BUILDING_CLASS_AT_PRESENT_B3</th>\n",
              "      <th>ZIP_CODE</th>\n",
              "      <th>RESIDENTIAL_UNITS</th>\n",
              "      <th>COMMERCIAL_UNITS</th>\n",
              "      <th>TOTAL_UNITS</th>\n",
              "      <th>LAND_SQUARE_FEET</th>\n",
              "      <th>GROSS_SQUARE_FEET</th>\n",
              "      <th>YEAR_BUILT</th>\n",
              "      <th>BUILDING_CLASS_AT_TIME_OF_SALE_A1</th>\n",
              "      <th>BUILDING_CLASS_AT_TIME_OF_SALE_A5</th>\n",
              "      <th>BUILDING_CLASS_AT_TIME_OF_SALE_A0</th>\n",
              "      <th>BUILDING_CLASS_AT_TIME_OF_SALE_A2</th>\n",
              "      <th>BUILDING_CLASS_AT_TIME_OF_SALE_A3</th>\n",
              "      <th>BUILDING_CLASS_AT_TIME_OF_SALE_A9</th>\n",
              "      <th>BUILDING_CLASS_AT_TIME_OF_SALE_S1</th>\n",
              "      <th>BUILDING_CLASS_AT_TIME_OF_SALE_A4</th>\n",
              "      <th>BUILDING_CLASS_AT_TIME_OF_SALE_A6</th>\n",
              "      <th>BUILDING_CLASS_AT_TIME_OF_SALE_A8</th>\n",
              "      <th>SALE_PRICE</th>\n",
              "    </tr>\n",
              "  </thead>\n",
              "  <tbody>\n",
              "    <tr>\n",
              "      <th>18500</th>\n",
              "      <td>2</td>\n",
              "      <td>1</td>\n",
              "      <td>0</td>\n",
              "      <td>0</td>\n",
              "      <td>0</td>\n",
              "      <td>0</td>\n",
              "      <td>0</td>\n",
              "      <td>0</td>\n",
              "      <td>0</td>\n",
              "      <td>0</td>\n",
              "      <td>0</td>\n",
              "      <td>0</td>\n",
              "      <td>2555</td>\n",
              "      <td>25</td>\n",
              "      <td>0</td>\n",
              "      <td>1</td>\n",
              "      <td>0</td>\n",
              "      <td>0</td>\n",
              "      <td>0</td>\n",
              "      <td>0</td>\n",
              "      <td>0</td>\n",
              "      <td>0</td>\n",
              "      <td>0</td>\n",
              "      <td>0</td>\n",
              "      <td>0</td>\n",
              "      <td>0</td>\n",
              "      <td>10454.0</td>\n",
              "      <td>1.0</td>\n",
              "      <td>0.0</td>\n",
              "      <td>1.0</td>\n",
              "      <td>2089.0</td>\n",
              "      <td>1104.0</td>\n",
              "      <td>2000.0</td>\n",
              "      <td>0</td>\n",
              "      <td>1</td>\n",
              "      <td>0</td>\n",
              "      <td>0</td>\n",
              "      <td>0</td>\n",
              "      <td>0</td>\n",
              "      <td>0</td>\n",
              "      <td>0</td>\n",
              "      <td>0</td>\n",
              "      <td>0</td>\n",
              "      <td>375000</td>\n",
              "    </tr>\n",
              "    <tr>\n",
              "      <th>18521</th>\n",
              "      <td>3</td>\n",
              "      <td>1</td>\n",
              "      <td>0</td>\n",
              "      <td>0</td>\n",
              "      <td>0</td>\n",
              "      <td>0</td>\n",
              "      <td>0</td>\n",
              "      <td>0</td>\n",
              "      <td>0</td>\n",
              "      <td>0</td>\n",
              "      <td>0</td>\n",
              "      <td>0</td>\n",
              "      <td>6293</td>\n",
              "      <td>29</td>\n",
              "      <td>1</td>\n",
              "      <td>0</td>\n",
              "      <td>0</td>\n",
              "      <td>0</td>\n",
              "      <td>0</td>\n",
              "      <td>0</td>\n",
              "      <td>0</td>\n",
              "      <td>0</td>\n",
              "      <td>0</td>\n",
              "      <td>0</td>\n",
              "      <td>0</td>\n",
              "      <td>0</td>\n",
              "      <td>11228.0</td>\n",
              "      <td>1.0</td>\n",
              "      <td>0.0</td>\n",
              "      <td>1.0</td>\n",
              "      <td>2633.0</td>\n",
              "      <td>1296.0</td>\n",
              "      <td>1930.0</td>\n",
              "      <td>1</td>\n",
              "      <td>0</td>\n",
              "      <td>0</td>\n",
              "      <td>0</td>\n",
              "      <td>0</td>\n",
              "      <td>0</td>\n",
              "      <td>0</td>\n",
              "      <td>0</td>\n",
              "      <td>0</td>\n",
              "      <td>0</td>\n",
              "      <td>900000</td>\n",
              "    </tr>\n",
              "    <tr>\n",
              "      <th>18525</th>\n",
              "      <td>3</td>\n",
              "      <td>1</td>\n",
              "      <td>0</td>\n",
              "      <td>0</td>\n",
              "      <td>0</td>\n",
              "      <td>0</td>\n",
              "      <td>0</td>\n",
              "      <td>0</td>\n",
              "      <td>0</td>\n",
              "      <td>0</td>\n",
              "      <td>0</td>\n",
              "      <td>0</td>\n",
              "      <td>8448</td>\n",
              "      <td>68</td>\n",
              "      <td>0</td>\n",
              "      <td>1</td>\n",
              "      <td>0</td>\n",
              "      <td>0</td>\n",
              "      <td>0</td>\n",
              "      <td>0</td>\n",
              "      <td>0</td>\n",
              "      <td>0</td>\n",
              "      <td>0</td>\n",
              "      <td>0</td>\n",
              "      <td>0</td>\n",
              "      <td>0</td>\n",
              "      <td>11234.0</td>\n",
              "      <td>1.0</td>\n",
              "      <td>0.0</td>\n",
              "      <td>1.0</td>\n",
              "      <td>2717.0</td>\n",
              "      <td>1665.0</td>\n",
              "      <td>1970.0</td>\n",
              "      <td>0</td>\n",
              "      <td>1</td>\n",
              "      <td>0</td>\n",
              "      <td>0</td>\n",
              "      <td>0</td>\n",
              "      <td>0</td>\n",
              "      <td>0</td>\n",
              "      <td>0</td>\n",
              "      <td>0</td>\n",
              "      <td>0</td>\n",
              "      <td>780000</td>\n",
              "    </tr>\n",
              "    <tr>\n",
              "      <th>18549</th>\n",
              "      <td>3</td>\n",
              "      <td>1</td>\n",
              "      <td>0</td>\n",
              "      <td>0</td>\n",
              "      <td>0</td>\n",
              "      <td>0</td>\n",
              "      <td>0</td>\n",
              "      <td>0</td>\n",
              "      <td>0</td>\n",
              "      <td>0</td>\n",
              "      <td>0</td>\n",
              "      <td>0</td>\n",
              "      <td>7017</td>\n",
              "      <td>110</td>\n",
              "      <td>0</td>\n",
              "      <td>1</td>\n",
              "      <td>0</td>\n",
              "      <td>0</td>\n",
              "      <td>0</td>\n",
              "      <td>0</td>\n",
              "      <td>0</td>\n",
              "      <td>0</td>\n",
              "      <td>0</td>\n",
              "      <td>0</td>\n",
              "      <td>0</td>\n",
              "      <td>0</td>\n",
              "      <td>11224.0</td>\n",
              "      <td>1.0</td>\n",
              "      <td>0.0</td>\n",
              "      <td>1.0</td>\n",
              "      <td>1479.0</td>\n",
              "      <td>1344.0</td>\n",
              "      <td>1993.0</td>\n",
              "      <td>0</td>\n",
              "      <td>1</td>\n",
              "      <td>0</td>\n",
              "      <td>0</td>\n",
              "      <td>0</td>\n",
              "      <td>0</td>\n",
              "      <td>0</td>\n",
              "      <td>0</td>\n",
              "      <td>0</td>\n",
              "      <td>0</td>\n",
              "      <td>580000</td>\n",
              "    </tr>\n",
              "    <tr>\n",
              "      <th>18555</th>\n",
              "      <td>3</td>\n",
              "      <td>1</td>\n",
              "      <td>0</td>\n",
              "      <td>0</td>\n",
              "      <td>0</td>\n",
              "      <td>0</td>\n",
              "      <td>0</td>\n",
              "      <td>0</td>\n",
              "      <td>0</td>\n",
              "      <td>0</td>\n",
              "      <td>0</td>\n",
              "      <td>0</td>\n",
              "      <td>3841</td>\n",
              "      <td>37</td>\n",
              "      <td>0</td>\n",
              "      <td>0</td>\n",
              "      <td>0</td>\n",
              "      <td>0</td>\n",
              "      <td>0</td>\n",
              "      <td>0</td>\n",
              "      <td>1</td>\n",
              "      <td>0</td>\n",
              "      <td>0</td>\n",
              "      <td>0</td>\n",
              "      <td>0</td>\n",
              "      <td>0</td>\n",
              "      <td>11207.0</td>\n",
              "      <td>1.0</td>\n",
              "      <td>1.0</td>\n",
              "      <td>2.0</td>\n",
              "      <td>2154.0</td>\n",
              "      <td>2668.0</td>\n",
              "      <td>1930.0</td>\n",
              "      <td>0</td>\n",
              "      <td>0</td>\n",
              "      <td>0</td>\n",
              "      <td>0</td>\n",
              "      <td>0</td>\n",
              "      <td>0</td>\n",
              "      <td>1</td>\n",
              "      <td>0</td>\n",
              "      <td>0</td>\n",
              "      <td>0</td>\n",
              "      <td>500000</td>\n",
              "    </tr>\n",
              "  </tbody>\n",
              "</table>\n",
              "</div>"
            ],
            "text/plain": [
              "       BOROUGH  ...  SALE_PRICE\n",
              "18500        2  ...      375000\n",
              "18521        3  ...      900000\n",
              "18525        3  ...      780000\n",
              "18549        3  ...      580000\n",
              "18555        3  ...      500000\n",
              "\n",
              "[5 rows x 44 columns]"
            ]
          },
          "metadata": {
            "tags": []
          },
          "execution_count": 80
        }
      ]
    },
    {
      "cell_type": "code",
      "metadata": {
        "id": "kxMSZaAa5eGT",
        "colab_type": "code",
        "colab": {}
      },
      "source": [
        "#Building multiple regression model after hot encoding categorical features"
      ],
      "execution_count": 0,
      "outputs": []
    },
    {
      "cell_type": "code",
      "metadata": {
        "id": "VJzg9BRDvKEe",
        "colab_type": "code",
        "colab": {}
      },
      "source": [
        "target = 'SALE_PRICE'\n",
        "\n",
        "features = hot_train.columns.drop([target])\n",
        "\n",
        "X_train = hot_train[features]\n",
        "y_train = hot_train[target]\n",
        "X_test = hot_test[features]\n",
        "y_test = hot_test[target]"
      ],
      "execution_count": 0,
      "outputs": []
    },
    {
      "cell_type": "code",
      "metadata": {
        "id": "bTIVyiVqvv60",
        "colab_type": "code",
        "outputId": "90d2da9b-3b23-4b26-f0fc-d4761364cfb4",
        "colab": {
          "base_uri": "https://localhost:8080/",
          "height": 266
        }
      },
      "source": [
        "print(X_train.shape)\n",
        "X_train.head()"
      ],
      "execution_count": 84,
      "outputs": [
        {
          "output_type": "stream",
          "text": [
            "(2460, 43)\n"
          ],
          "name": "stdout"
        },
        {
          "output_type": "execute_result",
          "data": {
            "text/html": [
              "<div>\n",
              "<style scoped>\n",
              "    .dataframe tbody tr th:only-of-type {\n",
              "        vertical-align: middle;\n",
              "    }\n",
              "\n",
              "    .dataframe tbody tr th {\n",
              "        vertical-align: top;\n",
              "    }\n",
              "\n",
              "    .dataframe thead th {\n",
              "        text-align: right;\n",
              "    }\n",
              "</style>\n",
              "<table border=\"1\" class=\"dataframe\">\n",
              "  <thead>\n",
              "    <tr style=\"text-align: right;\">\n",
              "      <th></th>\n",
              "      <th>BOROUGH</th>\n",
              "      <th>NEIGHBORHOOD_OTHER</th>\n",
              "      <th>NEIGHBORHOOD_BAYSIDE</th>\n",
              "      <th>NEIGHBORHOOD_FLUSHING-NORTH</th>\n",
              "      <th>NEIGHBORHOOD_LAURELTON</th>\n",
              "      <th>NEIGHBORHOOD_SO. JAMAICA-BAISLEY PARK</th>\n",
              "      <th>NEIGHBORHOOD_SPRINGFIELD GARDENS</th>\n",
              "      <th>NEIGHBORHOOD_GREAT KILLS</th>\n",
              "      <th>NEIGHBORHOOD_FLUSHING-SOUTH</th>\n",
              "      <th>NEIGHBORHOOD_SOUTH OZONE PARK</th>\n",
              "      <th>NEIGHBORHOOD_QUEENS VILLAGE</th>\n",
              "      <th>NEIGHBORHOOD_ST. ALBANS</th>\n",
              "      <th>BLOCK</th>\n",
              "      <th>LOT</th>\n",
              "      <th>BUILDING_CLASS_AT_PRESENT_A1</th>\n",
              "      <th>BUILDING_CLASS_AT_PRESENT_A5</th>\n",
              "      <th>BUILDING_CLASS_AT_PRESENT_A0</th>\n",
              "      <th>BUILDING_CLASS_AT_PRESENT_A2</th>\n",
              "      <th>BUILDING_CLASS_AT_PRESENT_A3</th>\n",
              "      <th>BUILDING_CLASS_AT_PRESENT_A9</th>\n",
              "      <th>BUILDING_CLASS_AT_PRESENT_S1</th>\n",
              "      <th>BUILDING_CLASS_AT_PRESENT_A4</th>\n",
              "      <th>BUILDING_CLASS_AT_PRESENT_A6</th>\n",
              "      <th>BUILDING_CLASS_AT_PRESENT_A8</th>\n",
              "      <th>BUILDING_CLASS_AT_PRESENT_B2</th>\n",
              "      <th>BUILDING_CLASS_AT_PRESENT_B3</th>\n",
              "      <th>ZIP_CODE</th>\n",
              "      <th>RESIDENTIAL_UNITS</th>\n",
              "      <th>COMMERCIAL_UNITS</th>\n",
              "      <th>TOTAL_UNITS</th>\n",
              "      <th>LAND_SQUARE_FEET</th>\n",
              "      <th>GROSS_SQUARE_FEET</th>\n",
              "      <th>YEAR_BUILT</th>\n",
              "      <th>BUILDING_CLASS_AT_TIME_OF_SALE_A1</th>\n",
              "      <th>BUILDING_CLASS_AT_TIME_OF_SALE_A5</th>\n",
              "      <th>BUILDING_CLASS_AT_TIME_OF_SALE_A0</th>\n",
              "      <th>BUILDING_CLASS_AT_TIME_OF_SALE_A2</th>\n",
              "      <th>BUILDING_CLASS_AT_TIME_OF_SALE_A3</th>\n",
              "      <th>BUILDING_CLASS_AT_TIME_OF_SALE_A9</th>\n",
              "      <th>BUILDING_CLASS_AT_TIME_OF_SALE_S1</th>\n",
              "      <th>BUILDING_CLASS_AT_TIME_OF_SALE_A4</th>\n",
              "      <th>BUILDING_CLASS_AT_TIME_OF_SALE_A6</th>\n",
              "      <th>BUILDING_CLASS_AT_TIME_OF_SALE_A8</th>\n",
              "    </tr>\n",
              "  </thead>\n",
              "  <tbody>\n",
              "    <tr>\n",
              "      <th>78</th>\n",
              "      <td>2</td>\n",
              "      <td>1</td>\n",
              "      <td>0</td>\n",
              "      <td>0</td>\n",
              "      <td>0</td>\n",
              "      <td>0</td>\n",
              "      <td>0</td>\n",
              "      <td>0</td>\n",
              "      <td>0</td>\n",
              "      <td>0</td>\n",
              "      <td>0</td>\n",
              "      <td>0</td>\n",
              "      <td>4210</td>\n",
              "      <td>19</td>\n",
              "      <td>1</td>\n",
              "      <td>0</td>\n",
              "      <td>0</td>\n",
              "      <td>0</td>\n",
              "      <td>0</td>\n",
              "      <td>0</td>\n",
              "      <td>0</td>\n",
              "      <td>0</td>\n",
              "      <td>0</td>\n",
              "      <td>0</td>\n",
              "      <td>0</td>\n",
              "      <td>0</td>\n",
              "      <td>10461.0</td>\n",
              "      <td>1.0</td>\n",
              "      <td>0.0</td>\n",
              "      <td>1.0</td>\n",
              "      <td>3500.0</td>\n",
              "      <td>2043.0</td>\n",
              "      <td>1925.0</td>\n",
              "      <td>1</td>\n",
              "      <td>0</td>\n",
              "      <td>0</td>\n",
              "      <td>0</td>\n",
              "      <td>0</td>\n",
              "      <td>0</td>\n",
              "      <td>0</td>\n",
              "      <td>0</td>\n",
              "      <td>0</td>\n",
              "      <td>0</td>\n",
              "    </tr>\n",
              "    <tr>\n",
              "      <th>108</th>\n",
              "      <td>3</td>\n",
              "      <td>1</td>\n",
              "      <td>0</td>\n",
              "      <td>0</td>\n",
              "      <td>0</td>\n",
              "      <td>0</td>\n",
              "      <td>0</td>\n",
              "      <td>0</td>\n",
              "      <td>0</td>\n",
              "      <td>0</td>\n",
              "      <td>0</td>\n",
              "      <td>0</td>\n",
              "      <td>5212</td>\n",
              "      <td>69</td>\n",
              "      <td>1</td>\n",
              "      <td>0</td>\n",
              "      <td>0</td>\n",
              "      <td>0</td>\n",
              "      <td>0</td>\n",
              "      <td>0</td>\n",
              "      <td>0</td>\n",
              "      <td>0</td>\n",
              "      <td>0</td>\n",
              "      <td>0</td>\n",
              "      <td>0</td>\n",
              "      <td>0</td>\n",
              "      <td>11226.0</td>\n",
              "      <td>1.0</td>\n",
              "      <td>0.0</td>\n",
              "      <td>1.0</td>\n",
              "      <td>4000.0</td>\n",
              "      <td>2680.0</td>\n",
              "      <td>1899.0</td>\n",
              "      <td>1</td>\n",
              "      <td>0</td>\n",
              "      <td>0</td>\n",
              "      <td>0</td>\n",
              "      <td>0</td>\n",
              "      <td>0</td>\n",
              "      <td>0</td>\n",
              "      <td>0</td>\n",
              "      <td>0</td>\n",
              "      <td>0</td>\n",
              "    </tr>\n",
              "    <tr>\n",
              "      <th>111</th>\n",
              "      <td>3</td>\n",
              "      <td>1</td>\n",
              "      <td>0</td>\n",
              "      <td>0</td>\n",
              "      <td>0</td>\n",
              "      <td>0</td>\n",
              "      <td>0</td>\n",
              "      <td>0</td>\n",
              "      <td>0</td>\n",
              "      <td>0</td>\n",
              "      <td>0</td>\n",
              "      <td>0</td>\n",
              "      <td>7930</td>\n",
              "      <td>121</td>\n",
              "      <td>0</td>\n",
              "      <td>1</td>\n",
              "      <td>0</td>\n",
              "      <td>0</td>\n",
              "      <td>0</td>\n",
              "      <td>0</td>\n",
              "      <td>0</td>\n",
              "      <td>0</td>\n",
              "      <td>0</td>\n",
              "      <td>0</td>\n",
              "      <td>0</td>\n",
              "      <td>0</td>\n",
              "      <td>11203.0</td>\n",
              "      <td>1.0</td>\n",
              "      <td>0.0</td>\n",
              "      <td>1.0</td>\n",
              "      <td>1710.0</td>\n",
              "      <td>1872.0</td>\n",
              "      <td>1940.0</td>\n",
              "      <td>0</td>\n",
              "      <td>1</td>\n",
              "      <td>0</td>\n",
              "      <td>0</td>\n",
              "      <td>0</td>\n",
              "      <td>0</td>\n",
              "      <td>0</td>\n",
              "      <td>0</td>\n",
              "      <td>0</td>\n",
              "      <td>0</td>\n",
              "    </tr>\n",
              "    <tr>\n",
              "      <th>120</th>\n",
              "      <td>3</td>\n",
              "      <td>1</td>\n",
              "      <td>0</td>\n",
              "      <td>0</td>\n",
              "      <td>0</td>\n",
              "      <td>0</td>\n",
              "      <td>0</td>\n",
              "      <td>0</td>\n",
              "      <td>0</td>\n",
              "      <td>0</td>\n",
              "      <td>0</td>\n",
              "      <td>0</td>\n",
              "      <td>6806</td>\n",
              "      <td>72</td>\n",
              "      <td>1</td>\n",
              "      <td>0</td>\n",
              "      <td>0</td>\n",
              "      <td>0</td>\n",
              "      <td>0</td>\n",
              "      <td>0</td>\n",
              "      <td>0</td>\n",
              "      <td>0</td>\n",
              "      <td>0</td>\n",
              "      <td>0</td>\n",
              "      <td>0</td>\n",
              "      <td>0</td>\n",
              "      <td>11229.0</td>\n",
              "      <td>1.0</td>\n",
              "      <td>0.0</td>\n",
              "      <td>1.0</td>\n",
              "      <td>4000.0</td>\n",
              "      <td>1932.0</td>\n",
              "      <td>1930.0</td>\n",
              "      <td>1</td>\n",
              "      <td>0</td>\n",
              "      <td>0</td>\n",
              "      <td>0</td>\n",
              "      <td>0</td>\n",
              "      <td>0</td>\n",
              "      <td>0</td>\n",
              "      <td>0</td>\n",
              "      <td>0</td>\n",
              "      <td>0</td>\n",
              "    </tr>\n",
              "    <tr>\n",
              "      <th>121</th>\n",
              "      <td>3</td>\n",
              "      <td>1</td>\n",
              "      <td>0</td>\n",
              "      <td>0</td>\n",
              "      <td>0</td>\n",
              "      <td>0</td>\n",
              "      <td>0</td>\n",
              "      <td>0</td>\n",
              "      <td>0</td>\n",
              "      <td>0</td>\n",
              "      <td>0</td>\n",
              "      <td>0</td>\n",
              "      <td>6761</td>\n",
              "      <td>42</td>\n",
              "      <td>1</td>\n",
              "      <td>0</td>\n",
              "      <td>0</td>\n",
              "      <td>0</td>\n",
              "      <td>0</td>\n",
              "      <td>0</td>\n",
              "      <td>0</td>\n",
              "      <td>0</td>\n",
              "      <td>0</td>\n",
              "      <td>0</td>\n",
              "      <td>0</td>\n",
              "      <td>0</td>\n",
              "      <td>11230.0</td>\n",
              "      <td>1.0</td>\n",
              "      <td>0.0</td>\n",
              "      <td>1.0</td>\n",
              "      <td>2000.0</td>\n",
              "      <td>1722.0</td>\n",
              "      <td>1920.0</td>\n",
              "      <td>1</td>\n",
              "      <td>0</td>\n",
              "      <td>0</td>\n",
              "      <td>0</td>\n",
              "      <td>0</td>\n",
              "      <td>0</td>\n",
              "      <td>0</td>\n",
              "      <td>0</td>\n",
              "      <td>0</td>\n",
              "      <td>0</td>\n",
              "    </tr>\n",
              "  </tbody>\n",
              "</table>\n",
              "</div>"
            ],
            "text/plain": [
              "     BOROUGH  ...  BUILDING_CLASS_AT_TIME_OF_SALE_A8\n",
              "78         2  ...                                  0\n",
              "108        3  ...                                  0\n",
              "111        3  ...                                  0\n",
              "120        3  ...                                  0\n",
              "121        3  ...                                  0\n",
              "\n",
              "[5 rows x 43 columns]"
            ]
          },
          "metadata": {
            "tags": []
          },
          "execution_count": 84
        }
      ]
    },
    {
      "cell_type": "code",
      "metadata": {
        "id": "vzfIwRlzwTev",
        "colab_type": "code",
        "outputId": "5023a753-a1d2-43ca-e66c-89ebc443b816",
        "colab": {
          "base_uri": "https://localhost:8080/",
          "height": 266
        }
      },
      "source": [
        "print(X_test.shape)\n",
        "X_test.head()"
      ],
      "execution_count": 85,
      "outputs": [
        {
          "output_type": "stream",
          "text": [
            "(590, 43)\n"
          ],
          "name": "stdout"
        },
        {
          "output_type": "execute_result",
          "data": {
            "text/html": [
              "<div>\n",
              "<style scoped>\n",
              "    .dataframe tbody tr th:only-of-type {\n",
              "        vertical-align: middle;\n",
              "    }\n",
              "\n",
              "    .dataframe tbody tr th {\n",
              "        vertical-align: top;\n",
              "    }\n",
              "\n",
              "    .dataframe thead th {\n",
              "        text-align: right;\n",
              "    }\n",
              "</style>\n",
              "<table border=\"1\" class=\"dataframe\">\n",
              "  <thead>\n",
              "    <tr style=\"text-align: right;\">\n",
              "      <th></th>\n",
              "      <th>BOROUGH</th>\n",
              "      <th>NEIGHBORHOOD_OTHER</th>\n",
              "      <th>NEIGHBORHOOD_BAYSIDE</th>\n",
              "      <th>NEIGHBORHOOD_FLUSHING-NORTH</th>\n",
              "      <th>NEIGHBORHOOD_LAURELTON</th>\n",
              "      <th>NEIGHBORHOOD_SO. JAMAICA-BAISLEY PARK</th>\n",
              "      <th>NEIGHBORHOOD_SPRINGFIELD GARDENS</th>\n",
              "      <th>NEIGHBORHOOD_GREAT KILLS</th>\n",
              "      <th>NEIGHBORHOOD_FLUSHING-SOUTH</th>\n",
              "      <th>NEIGHBORHOOD_SOUTH OZONE PARK</th>\n",
              "      <th>NEIGHBORHOOD_QUEENS VILLAGE</th>\n",
              "      <th>NEIGHBORHOOD_ST. ALBANS</th>\n",
              "      <th>BLOCK</th>\n",
              "      <th>LOT</th>\n",
              "      <th>BUILDING_CLASS_AT_PRESENT_A1</th>\n",
              "      <th>BUILDING_CLASS_AT_PRESENT_A5</th>\n",
              "      <th>BUILDING_CLASS_AT_PRESENT_A0</th>\n",
              "      <th>BUILDING_CLASS_AT_PRESENT_A2</th>\n",
              "      <th>BUILDING_CLASS_AT_PRESENT_A3</th>\n",
              "      <th>BUILDING_CLASS_AT_PRESENT_A9</th>\n",
              "      <th>BUILDING_CLASS_AT_PRESENT_S1</th>\n",
              "      <th>BUILDING_CLASS_AT_PRESENT_A4</th>\n",
              "      <th>BUILDING_CLASS_AT_PRESENT_A6</th>\n",
              "      <th>BUILDING_CLASS_AT_PRESENT_A8</th>\n",
              "      <th>BUILDING_CLASS_AT_PRESENT_B2</th>\n",
              "      <th>BUILDING_CLASS_AT_PRESENT_B3</th>\n",
              "      <th>ZIP_CODE</th>\n",
              "      <th>RESIDENTIAL_UNITS</th>\n",
              "      <th>COMMERCIAL_UNITS</th>\n",
              "      <th>TOTAL_UNITS</th>\n",
              "      <th>LAND_SQUARE_FEET</th>\n",
              "      <th>GROSS_SQUARE_FEET</th>\n",
              "      <th>YEAR_BUILT</th>\n",
              "      <th>BUILDING_CLASS_AT_TIME_OF_SALE_A1</th>\n",
              "      <th>BUILDING_CLASS_AT_TIME_OF_SALE_A5</th>\n",
              "      <th>BUILDING_CLASS_AT_TIME_OF_SALE_A0</th>\n",
              "      <th>BUILDING_CLASS_AT_TIME_OF_SALE_A2</th>\n",
              "      <th>BUILDING_CLASS_AT_TIME_OF_SALE_A3</th>\n",
              "      <th>BUILDING_CLASS_AT_TIME_OF_SALE_A9</th>\n",
              "      <th>BUILDING_CLASS_AT_TIME_OF_SALE_S1</th>\n",
              "      <th>BUILDING_CLASS_AT_TIME_OF_SALE_A4</th>\n",
              "      <th>BUILDING_CLASS_AT_TIME_OF_SALE_A6</th>\n",
              "      <th>BUILDING_CLASS_AT_TIME_OF_SALE_A8</th>\n",
              "    </tr>\n",
              "  </thead>\n",
              "  <tbody>\n",
              "    <tr>\n",
              "      <th>18500</th>\n",
              "      <td>2</td>\n",
              "      <td>1</td>\n",
              "      <td>0</td>\n",
              "      <td>0</td>\n",
              "      <td>0</td>\n",
              "      <td>0</td>\n",
              "      <td>0</td>\n",
              "      <td>0</td>\n",
              "      <td>0</td>\n",
              "      <td>0</td>\n",
              "      <td>0</td>\n",
              "      <td>0</td>\n",
              "      <td>2555</td>\n",
              "      <td>25</td>\n",
              "      <td>0</td>\n",
              "      <td>1</td>\n",
              "      <td>0</td>\n",
              "      <td>0</td>\n",
              "      <td>0</td>\n",
              "      <td>0</td>\n",
              "      <td>0</td>\n",
              "      <td>0</td>\n",
              "      <td>0</td>\n",
              "      <td>0</td>\n",
              "      <td>0</td>\n",
              "      <td>0</td>\n",
              "      <td>10454.0</td>\n",
              "      <td>1.0</td>\n",
              "      <td>0.0</td>\n",
              "      <td>1.0</td>\n",
              "      <td>2089.0</td>\n",
              "      <td>1104.0</td>\n",
              "      <td>2000.0</td>\n",
              "      <td>0</td>\n",
              "      <td>1</td>\n",
              "      <td>0</td>\n",
              "      <td>0</td>\n",
              "      <td>0</td>\n",
              "      <td>0</td>\n",
              "      <td>0</td>\n",
              "      <td>0</td>\n",
              "      <td>0</td>\n",
              "      <td>0</td>\n",
              "    </tr>\n",
              "    <tr>\n",
              "      <th>18521</th>\n",
              "      <td>3</td>\n",
              "      <td>1</td>\n",
              "      <td>0</td>\n",
              "      <td>0</td>\n",
              "      <td>0</td>\n",
              "      <td>0</td>\n",
              "      <td>0</td>\n",
              "      <td>0</td>\n",
              "      <td>0</td>\n",
              "      <td>0</td>\n",
              "      <td>0</td>\n",
              "      <td>0</td>\n",
              "      <td>6293</td>\n",
              "      <td>29</td>\n",
              "      <td>1</td>\n",
              "      <td>0</td>\n",
              "      <td>0</td>\n",
              "      <td>0</td>\n",
              "      <td>0</td>\n",
              "      <td>0</td>\n",
              "      <td>0</td>\n",
              "      <td>0</td>\n",
              "      <td>0</td>\n",
              "      <td>0</td>\n",
              "      <td>0</td>\n",
              "      <td>0</td>\n",
              "      <td>11228.0</td>\n",
              "      <td>1.0</td>\n",
              "      <td>0.0</td>\n",
              "      <td>1.0</td>\n",
              "      <td>2633.0</td>\n",
              "      <td>1296.0</td>\n",
              "      <td>1930.0</td>\n",
              "      <td>1</td>\n",
              "      <td>0</td>\n",
              "      <td>0</td>\n",
              "      <td>0</td>\n",
              "      <td>0</td>\n",
              "      <td>0</td>\n",
              "      <td>0</td>\n",
              "      <td>0</td>\n",
              "      <td>0</td>\n",
              "      <td>0</td>\n",
              "    </tr>\n",
              "    <tr>\n",
              "      <th>18525</th>\n",
              "      <td>3</td>\n",
              "      <td>1</td>\n",
              "      <td>0</td>\n",
              "      <td>0</td>\n",
              "      <td>0</td>\n",
              "      <td>0</td>\n",
              "      <td>0</td>\n",
              "      <td>0</td>\n",
              "      <td>0</td>\n",
              "      <td>0</td>\n",
              "      <td>0</td>\n",
              "      <td>0</td>\n",
              "      <td>8448</td>\n",
              "      <td>68</td>\n",
              "      <td>0</td>\n",
              "      <td>1</td>\n",
              "      <td>0</td>\n",
              "      <td>0</td>\n",
              "      <td>0</td>\n",
              "      <td>0</td>\n",
              "      <td>0</td>\n",
              "      <td>0</td>\n",
              "      <td>0</td>\n",
              "      <td>0</td>\n",
              "      <td>0</td>\n",
              "      <td>0</td>\n",
              "      <td>11234.0</td>\n",
              "      <td>1.0</td>\n",
              "      <td>0.0</td>\n",
              "      <td>1.0</td>\n",
              "      <td>2717.0</td>\n",
              "      <td>1665.0</td>\n",
              "      <td>1970.0</td>\n",
              "      <td>0</td>\n",
              "      <td>1</td>\n",
              "      <td>0</td>\n",
              "      <td>0</td>\n",
              "      <td>0</td>\n",
              "      <td>0</td>\n",
              "      <td>0</td>\n",
              "      <td>0</td>\n",
              "      <td>0</td>\n",
              "      <td>0</td>\n",
              "    </tr>\n",
              "    <tr>\n",
              "      <th>18549</th>\n",
              "      <td>3</td>\n",
              "      <td>1</td>\n",
              "      <td>0</td>\n",
              "      <td>0</td>\n",
              "      <td>0</td>\n",
              "      <td>0</td>\n",
              "      <td>0</td>\n",
              "      <td>0</td>\n",
              "      <td>0</td>\n",
              "      <td>0</td>\n",
              "      <td>0</td>\n",
              "      <td>0</td>\n",
              "      <td>7017</td>\n",
              "      <td>110</td>\n",
              "      <td>0</td>\n",
              "      <td>1</td>\n",
              "      <td>0</td>\n",
              "      <td>0</td>\n",
              "      <td>0</td>\n",
              "      <td>0</td>\n",
              "      <td>0</td>\n",
              "      <td>0</td>\n",
              "      <td>0</td>\n",
              "      <td>0</td>\n",
              "      <td>0</td>\n",
              "      <td>0</td>\n",
              "      <td>11224.0</td>\n",
              "      <td>1.0</td>\n",
              "      <td>0.0</td>\n",
              "      <td>1.0</td>\n",
              "      <td>1479.0</td>\n",
              "      <td>1344.0</td>\n",
              "      <td>1993.0</td>\n",
              "      <td>0</td>\n",
              "      <td>1</td>\n",
              "      <td>0</td>\n",
              "      <td>0</td>\n",
              "      <td>0</td>\n",
              "      <td>0</td>\n",
              "      <td>0</td>\n",
              "      <td>0</td>\n",
              "      <td>0</td>\n",
              "      <td>0</td>\n",
              "    </tr>\n",
              "    <tr>\n",
              "      <th>18555</th>\n",
              "      <td>3</td>\n",
              "      <td>1</td>\n",
              "      <td>0</td>\n",
              "      <td>0</td>\n",
              "      <td>0</td>\n",
              "      <td>0</td>\n",
              "      <td>0</td>\n",
              "      <td>0</td>\n",
              "      <td>0</td>\n",
              "      <td>0</td>\n",
              "      <td>0</td>\n",
              "      <td>0</td>\n",
              "      <td>3841</td>\n",
              "      <td>37</td>\n",
              "      <td>0</td>\n",
              "      <td>0</td>\n",
              "      <td>0</td>\n",
              "      <td>0</td>\n",
              "      <td>0</td>\n",
              "      <td>0</td>\n",
              "      <td>1</td>\n",
              "      <td>0</td>\n",
              "      <td>0</td>\n",
              "      <td>0</td>\n",
              "      <td>0</td>\n",
              "      <td>0</td>\n",
              "      <td>11207.0</td>\n",
              "      <td>1.0</td>\n",
              "      <td>1.0</td>\n",
              "      <td>2.0</td>\n",
              "      <td>2154.0</td>\n",
              "      <td>2668.0</td>\n",
              "      <td>1930.0</td>\n",
              "      <td>0</td>\n",
              "      <td>0</td>\n",
              "      <td>0</td>\n",
              "      <td>0</td>\n",
              "      <td>0</td>\n",
              "      <td>0</td>\n",
              "      <td>1</td>\n",
              "      <td>0</td>\n",
              "      <td>0</td>\n",
              "      <td>0</td>\n",
              "    </tr>\n",
              "  </tbody>\n",
              "</table>\n",
              "</div>"
            ],
            "text/plain": [
              "       BOROUGH  ...  BUILDING_CLASS_AT_TIME_OF_SALE_A8\n",
              "18500        2  ...                                  0\n",
              "18521        3  ...                                  0\n",
              "18525        3  ...                                  0\n",
              "18549        3  ...                                  0\n",
              "18555        3  ...                                  0\n",
              "\n",
              "[5 rows x 43 columns]"
            ]
          },
          "metadata": {
            "tags": []
          },
          "execution_count": 85
        }
      ]
    },
    {
      "cell_type": "code",
      "metadata": {
        "id": "MDjgAm8_wZtL",
        "colab_type": "code",
        "colab": {}
      },
      "source": [
        "#Do feature selection with SelectKBest."
      ],
      "execution_count": 0,
      "outputs": []
    },
    {
      "cell_type": "code",
      "metadata": {
        "id": "kf-heQV17gUa",
        "colab_type": "code",
        "colab": {
          "base_uri": "https://localhost:8080/",
          "height": 34
        },
        "outputId": "c0819f91-fbf2-4e04-e2fd-76f9718f8d09"
      },
      "source": [
        "#number of features in X train dataset\n",
        "features = X_train.columns\n",
        "n = len(features)\n",
        "n"
      ],
      "execution_count": 86,
      "outputs": [
        {
          "output_type": "execute_result",
          "data": {
            "text/plain": [
              "43"
            ]
          },
          "metadata": {
            "tags": []
          },
          "execution_count": 86
        }
      ]
    },
    {
      "cell_type": "code",
      "metadata": {
        "id": "sBpyX2Z47u6v",
        "colab_type": "code",
        "colab": {
          "base_uri": "https://localhost:8080/",
          "height": 34
        },
        "outputId": "bb404762-a485-4934-9fc6-8b84ec2efd13"
      },
      "source": [
        "# Select the 15 features that best correlate with the target Sale price\n",
        "\n",
        "from sklearn.feature_selection import f_regression, SelectKBest\n",
        "\n",
        "selector = SelectKBest(score_func=f_regression, k=15)\n",
        "X_train_selected = selector.fit_transform(X_train, y_train)\n",
        "X_test_selected = selector.transform(X_test)\n",
        "X_train_selected.shape"
      ],
      "execution_count": 87,
      "outputs": [
        {
          "output_type": "execute_result",
          "data": {
            "text/plain": [
              "(2460, 15)"
            ]
          },
          "metadata": {
            "tags": []
          },
          "execution_count": 87
        }
      ]
    },
    {
      "cell_type": "code",
      "metadata": {
        "id": "oyq_qDij8KVI",
        "colab_type": "code",
        "colab": {
          "base_uri": "https://localhost:8080/",
          "height": 790
        },
        "outputId": "d4443b99-c936-4ff9-a268-3f72b08f63f2"
      },
      "source": [
        "#Which features were selected?\n",
        "all_names = X_train.columns\n",
        "selected_mask = selector.get_support()\n",
        "selected_names = all_names[selected_mask]\n",
        "unselected_names = all_names[~selected_mask]\n",
        "\n",
        "print('Features Selected:')\n",
        "for name in selected_names:\n",
        "  print(name)\n",
        "\n",
        "print('')\n",
        "print('Features Not Selected:')\n",
        "for name in unselected_names:\n",
        "  print(name)"
      ],
      "execution_count": 88,
      "outputs": [
        {
          "output_type": "stream",
          "text": [
            "Features Selected:\n",
            "NEIGHBORHOOD_BAYSIDE\n",
            "NEIGHBORHOOD_FLUSHING-NORTH\n",
            "NEIGHBORHOOD_SO. JAMAICA-BAISLEY PARK\n",
            "NEIGHBORHOOD_SPRINGFIELD GARDENS\n",
            "NEIGHBORHOOD_FLUSHING-SOUTH\n",
            "NEIGHBORHOOD_ST. ALBANS\n",
            "BLOCK\n",
            "BUILDING_CLASS_AT_PRESENT_A3\n",
            "BUILDING_CLASS_AT_PRESENT_A6\n",
            "ZIP_CODE\n",
            "TOTAL_UNITS\n",
            "LAND_SQUARE_FEET\n",
            "GROSS_SQUARE_FEET\n",
            "BUILDING_CLASS_AT_TIME_OF_SALE_A3\n",
            "BUILDING_CLASS_AT_TIME_OF_SALE_A6\n",
            "\n",
            "Features Not Selected:\n",
            "BOROUGH\n",
            "NEIGHBORHOOD_OTHER\n",
            "NEIGHBORHOOD_LAURELTON\n",
            "NEIGHBORHOOD_GREAT KILLS\n",
            "NEIGHBORHOOD_SOUTH OZONE PARK\n",
            "NEIGHBORHOOD_QUEENS VILLAGE\n",
            "LOT\n",
            "BUILDING_CLASS_AT_PRESENT_A1\n",
            "BUILDING_CLASS_AT_PRESENT_A5\n",
            "BUILDING_CLASS_AT_PRESENT_A0\n",
            "BUILDING_CLASS_AT_PRESENT_A2\n",
            "BUILDING_CLASS_AT_PRESENT_A9\n",
            "BUILDING_CLASS_AT_PRESENT_S1\n",
            "BUILDING_CLASS_AT_PRESENT_A4\n",
            "BUILDING_CLASS_AT_PRESENT_A8\n",
            "BUILDING_CLASS_AT_PRESENT_B2\n",
            "BUILDING_CLASS_AT_PRESENT_B3\n",
            "RESIDENTIAL_UNITS\n",
            "COMMERCIAL_UNITS\n",
            "YEAR_BUILT\n",
            "BUILDING_CLASS_AT_TIME_OF_SALE_A1\n",
            "BUILDING_CLASS_AT_TIME_OF_SALE_A5\n",
            "BUILDING_CLASS_AT_TIME_OF_SALE_A0\n",
            "BUILDING_CLASS_AT_TIME_OF_SALE_A2\n",
            "BUILDING_CLASS_AT_TIME_OF_SALE_A9\n",
            "BUILDING_CLASS_AT_TIME_OF_SALE_S1\n",
            "BUILDING_CLASS_AT_TIME_OF_SALE_A4\n",
            "BUILDING_CLASS_AT_TIME_OF_SALE_A8\n"
          ],
          "name": "stdout"
        }
      ]
    },
    {
      "cell_type": "code",
      "metadata": {
        "id": "AeR_ww3-BvEZ",
        "colab_type": "code",
        "colab": {
          "base_uri": "https://localhost:8080/",
          "height": 1000
        },
        "outputId": "5123c823-3304-499d-cc77-7d6558a0ae10"
      },
      "source": [
        "# How many features should be selected?\n",
        "#MAE with different number of features in the linear regression model\n",
        "\n",
        "from sklearn.linear_model import LinearRegression\n",
        "from sklearn.metrics import mean_absolute_error\n",
        "\n",
        "for k in range(1, len(X_train.columns) + 1):\n",
        "  print(f'{k} features:')\n",
        "\n",
        "  selector = SelectKBest(score_func=f_regression, k=k)\n",
        "  X_train_selected = selector.fit_transform(X_train, y_train)\n",
        "  X_test_selected = selector.transform(X_test)\n",
        "\n",
        "  model = LinearRegression()\n",
        "  model.fit(X_train_selected, y_train)\n",
        "  y_pred = model.predict(X_test_selected)\n",
        "\n",
        "  mae = mean_absolute_error(y_test, y_pred)\n",
        "  print(f'Test MAE: ${mae:,.0f} \\n')"
      ],
      "execution_count": 96,
      "outputs": [
        {
          "output_type": "stream",
          "text": [
            "1 features:\n",
            "Test MAE: $168,652 \n",
            "\n",
            "2 features:\n",
            "Test MAE: $164,672 \n",
            "\n",
            "3 features:\n",
            "Test MAE: $163,000 \n",
            "\n",
            "4 features:\n",
            "Test MAE: $158,623 \n",
            "\n",
            "5 features:\n",
            "Test MAE: $158,230 \n",
            "\n",
            "6 features:\n",
            "Test MAE: $158,230 \n",
            "\n",
            "7 features:\n",
            "Test MAE: $142,836 \n",
            "\n",
            "8 features:\n",
            "Test MAE: $141,192 \n",
            "\n",
            "9 features:\n",
            "Test MAE: $140,937 \n",
            "\n",
            "10 features:\n",
            "Test MAE: $140,937 \n",
            "\n",
            "11 features:\n",
            "Test MAE: $139,670 \n",
            "\n",
            "12 features:\n",
            "Test MAE: $142,008 \n",
            "\n",
            "13 features:\n",
            "Test MAE: $142,148 \n",
            "\n",
            "14 features:\n",
            "Test MAE: $141,586 \n",
            "\n",
            "15 features:\n",
            "Test MAE: $142,015 \n",
            "\n",
            "16 features:\n",
            "Test MAE: $142,157 \n",
            "\n",
            "17 features:\n",
            "Test MAE: $142,203 \n",
            "\n",
            "18 features:\n",
            "Test MAE: $142,203 \n",
            "\n",
            "19 features:\n",
            "Test MAE: $142,203 \n",
            "\n",
            "20 features:\n",
            "Test MAE: $142,217 \n",
            "\n",
            "21 features:\n",
            "Test MAE: $142,219 \n",
            "\n",
            "22 features:\n",
            "Test MAE: $142,219 \n",
            "\n",
            "23 features:\n",
            "Test MAE: $142,226 \n",
            "\n",
            "24 features:\n",
            "Test MAE: $141,712 \n",
            "\n",
            "25 features:\n",
            "Test MAE: $141,310 \n",
            "\n",
            "26 features:\n",
            "Test MAE: $141,310 \n",
            "\n",
            "27 features:\n",
            "Test MAE: $141,310 \n",
            "\n",
            "28 features:\n",
            "Test MAE: $141,310 \n",
            "\n",
            "29 features:\n",
            "Test MAE: $141,171 \n",
            "\n",
            "30 features:\n",
            "Test MAE: $141,171 \n",
            "\n",
            "31 features:\n",
            "Test MAE: $141,191 \n",
            "\n",
            "32 features:\n",
            "Test MAE: $141,191 \n",
            "\n",
            "33 features:\n",
            "Test MAE: $141,329 \n",
            "\n",
            "34 features:\n",
            "Test MAE: $141,561 \n",
            "\n",
            "35 features:\n",
            "Test MAE: $140,994 \n",
            "\n",
            "36 features:\n",
            "Test MAE: $140,994 \n",
            "\n",
            "37 features:\n",
            "Test MAE: $140,044 \n",
            "\n",
            "38 features:\n",
            "Test MAE: $140,109 \n",
            "\n",
            "39 features:\n",
            "Test MAE: $140,113 \n",
            "\n",
            "40 features:\n",
            "Test MAE: $140,180 \n",
            "\n",
            "41 features:\n",
            "Test MAE: $140,180 \n",
            "\n",
            "42 features:\n",
            "Test MAE: $140,180 \n",
            "\n",
            "43 features:\n",
            "Test MAE: $140,180 \n",
            "\n"
          ],
          "name": "stdout"
        }
      ]
    },
    {
      "cell_type": "code",
      "metadata": {
        "id": "L_VkGnu3-Bij",
        "colab_type": "code",
        "colab": {}
      },
      "source": [
        "#Fit a ridge regression model with multiple features."
      ],
      "execution_count": 0,
      "outputs": []
    },
    {
      "cell_type": "code",
      "metadata": {
        "id": "zlzvA62P-L_a",
        "colab_type": "code",
        "colab": {
          "base_uri": "https://localhost:8080/",
          "height": 1000
        },
        "outputId": "25839ff5-53d0-4fdb-9a68-989a269a3b55"
      },
      "source": [
        "%matplotlib inline\n",
        "from IPython.display import display, HTML\n",
        "from ipywidgets import interact\n",
        "import matplotlib.pyplot as plt\n",
        "from sklearn.linear_model import Ridge\n",
        "from sklearn.preprocessing import StandardScaler\n",
        "\n",
        "\n",
        "# Try a range of alpha parameters for Ridge Regression.\n",
        "\n",
        "# The scikit-learn docs explain, \n",
        "# alpha : Regularization strength; must be a positive float. Regularization \n",
        "# improves the conditioning of the problem and reduces the variance of the \n",
        "# estimates. Larger values specify stronger regularization.\n",
        "# https://scikit-learn.org/stable/modules/generated/sklearn.linear_model.Ridge.html\n",
        "\n",
        "for alpha in [10**1, 10**2, 10**3, 10**4, 10**5, 10**6]:\n",
        "    \n",
        "    # Scale data before doing Ridge Regression\n",
        "    scaler = StandardScaler()\n",
        "    X_train_scaled = scaler.fit_transform(X_train)\n",
        "    X_test_scaled = scaler.transform(X_test)\n",
        "    \n",
        "    # Fit Ridge Regression model\n",
        "    display(HTML(f'Ridge Regression, with alpha={alpha}'))\n",
        "    model = Ridge(alpha=alpha)\n",
        "    model.fit(X_train_scaled, y_train)\n",
        "    y_pred = model.predict(X_test_scaled)\n",
        "\n",
        "    # Get Test MAE\n",
        "    mae = mean_absolute_error(y_test, y_pred)\n",
        "    display(HTML(f'Test Mean Absolute Error: ${mae:,.0f}'))\n",
        "    \n",
        "    # Plot coefficients\n",
        "    coefficients = pd.Series(model.coef_, X_train.columns)\n",
        "    plt.figure(figsize=(16,8))\n",
        "    coefficients.sort_values().plot.barh(color='grey')\n",
        "    plt.xlim(-400,700)\n",
        "    plt.show()"
      ],
      "execution_count": 97,
      "outputs": [
        {
          "output_type": "display_data",
          "data": {
            "text/html": [
              "Ridge Regression, with alpha=10"
            ],
            "text/plain": [
              "<IPython.core.display.HTML object>"
            ]
          },
          "metadata": {
            "tags": []
          }
        },
        {
          "output_type": "display_data",
          "data": {
            "text/html": [
              "Test Mean Absolute Error: $140,021"
            ],
            "text/plain": [
              "<IPython.core.display.HTML object>"
            ]
          },
          "metadata": {
            "tags": []
          }
        },
        {
          "output_type": "display_data",
          "data": {
            "image/png": "[encoded data removed]",
            "text/plain": [
              "<Figure size 1152x576 with 1 Axes>"
            ]
          },
          "metadata": {
            "tags": []
          }
        },
        {
          "output_type": "display_data",
          "data": {
            "text/html": [
              "Ridge Regression, with alpha=100"
            ],
            "text/plain": [
              "<IPython.core.display.HTML object>"
            ]
          },
          "metadata": {
            "tags": []
          }
        },
        {
          "output_type": "display_data",
          "data": {
            "text/html": [
              "Test Mean Absolute Error: $139,482"
            ],
            "text/plain": [
              "<IPython.core.display.HTML object>"
            ]
          },
          "metadata": {
            "tags": []
          }
        },
        {
          "output_type": "display_data",
          "data": {
            "image/png": "[encoded data removed]",
            "text/plain": [
              "<Figure size 1152x576 with 1 Axes>"
            ]
          },
          "metadata": {
            "tags": []
          }
        },
        {
          "output_type": "display_data",
          "data": {
            "text/html": [
              "Ridge Regression, with alpha=1000"
            ],
            "text/plain": [
              "<IPython.core.display.HTML object>"
            ]
          },
          "metadata": {
            "tags": []
          }
        },
        {
          "output_type": "display_data",
          "data": {
            "text/html": [
              "Test Mean Absolute Error: $144,490"
            ],
            "text/plain": [
              "<IPython.core.display.HTML object>"
            ]
          },
          "metadata": {
            "tags": []
          }
        },
        {
          "output_type": "display_data",
          "data": {
            "image/png": "[encoded data removed]",
            "text/plain": [
              "<Figure size 1152x576 with 1 Axes>"
            ]
          },
          "metadata": {
            "tags": []
          }
        },
        {
          "output_type": "display_data",
          "data": {
            "text/html": [
              "Ridge Regression, with alpha=10000"
            ],
            "text/plain": [
              "<IPython.core.display.HTML object>"
            ]
          },
          "metadata": {
            "tags": []
          }
        },
        {
          "output_type": "display_data",
          "data": {
            "text/html": [
              "Test Mean Absolute Error: $170,235"
            ],
            "text/plain": [
              "<IPython.core.display.HTML object>"
            ]
          },
          "metadata": {
            "tags": []
          }
        },
        {
          "output_type": "display_data",
          "data": {
            "image/png": "[encoded data removed]",
            "text/plain": [
              "<Figure size 1152x576 with 1 Axes>"
            ]
          },
          "metadata": {
            "tags": []
          }
        },
        {
          "output_type": "display_data",
          "data": {
            "text/html": [
              "Ridge Regression, with alpha=100000"
            ],
            "text/plain": [
              "<IPython.core.display.HTML object>"
            ]
          },
          "metadata": {
            "tags": []
          }
        },
        {
          "output_type": "display_data",
          "data": {
            "text/html": [
              "Test Mean Absolute Error: $185,113"
            ],
            "text/plain": [
              "<IPython.core.display.HTML object>"
            ]
          },
          "metadata": {
            "tags": []
          }
        },
        {
          "output_type": "display_data",
          "data": {
            "image/png": "[encoded data removed]",
            "text/plain": [
              "<Figure size 1152x576 with 1 Axes>"
            ]
          },
          "metadata": {
            "tags": []
          }
        },
        {
          "output_type": "display_data",
          "data": {
            "text/html": [
              "Ridge Regression, with alpha=1000000"
            ],
            "text/plain": [
              "<IPython.core.display.HTML object>"
            ]
          },
          "metadata": {
            "tags": []
          }
        },
        {
          "output_type": "display_data",
          "data": {
            "text/html": [
              "Test Mean Absolute Error: $187,476"
            ],
            "text/plain": [
              "<IPython.core.display.HTML object>"
            ]
          },
          "metadata": {
            "tags": []
          }
        },
        {
          "output_type": "display_data",
          "data": {
            "image/png": "[encoded data removed]",
            "text/plain": [
              "<Figure size 1152x576 with 1 Axes>"
            ]
          },
          "metadata": {
            "tags": []
          }
        }
      ]
    },
    {
      "cell_type": "code",
      "metadata": {
        "id": "kVfz4a3zE0wA",
        "colab_type": "code",
        "colab": {
          "base_uri": "https://localhost:8080/",
          "height": 1000
        },
        "outputId": "476cbbaa-d430-4a97-9ac3-6e18050072ee"
      },
      "source": [
        "from sklearn.metrics import mean_squared_error\n",
        "\n",
        "alphas = []\n",
        "mses = []\n",
        "\n",
        "for alpha in range(0, 200, 1):\n",
        "    ridge_reg_split = Ridge(alpha=alpha).fit(X_train_scaled, y_train)\n",
        "    mse = mean_squared_error(y_test, ridge_reg_split.predict(X_test_scaled))\n",
        "    print(alpha, mse)\n",
        "    alphas.append(alpha)\n",
        "    mses.append(mse)"
      ],
      "execution_count": 98,
      "outputs": [
        {
          "output_type": "stream",
          "text": [
            "0 40049336483.13622\n",
            "1 38405089961.412285\n",
            "2 38400864003.38084\n",
            "3 38396726512.43237\n",
            "4 38392670110.23928\n",
            "5 38388689901.37846\n",
            "6 38384782429.01406\n",
            "7 38380945118.07181\n",
            "8 38377175959.55797\n",
            "9 38373473322.36917\n",
            "10 38369835836.2961\n",
            "11 38366262316.6494\n",
            "12 38362751714.18789\n",
            "13 38359303080.95441\n",
            "14 38355915546.41081\n",
            "15 38352588300.415016\n",
            "16 38349320580.848946\n",
            "17 38346111664.47289\n",
            "18 38342960860.05995\n",
            "19 38339867503.1686\n",
            "20 38336830952.11021\n",
            "21 38333850584.800224\n",
            "22 38330925796.27128\n",
            "23 38328055996.68793\n",
            "24 38325240609.74558\n",
            "25 38322479071.36675\n",
            "26 38319770828.629486\n",
            "27 38317115338.87883\n",
            "28 38314512068.98345\n",
            "29 38311960494.70882\n",
            "30 38309460100.18402\n",
            "31 38307010377.4449\n",
            "32 38304610826.03935\n",
            "33 38302260952.68395\n",
            "34 38299960270.962845\n",
            "35 38297708301.062065\n",
            "36 38295504569.5332\n",
            "37 38293348609.082085\n",
            "38 38291239958.37835\n",
            "39 38289178161.88292\n",
            "40 38287162769.69076\n",
            "41 38285193337.386734\n",
            "42 38283269425.91271\n",
            "43 38281390601.444534\n",
            "44 38279556435.277466\n",
            "45 38277766503.719124\n",
            "46 38276020387.98889\n",
            "47 38274317674.12322\n",
            "48 38272657952.88596\n",
            "49 38271040819.68322\n",
            "50 38269465874.48239\n",
            "51 38267932721.73474\n",
            "52 38266440970.30134\n",
            "53 38264990233.3819\n",
            "54 38263580128.446396\n",
            "55 38262210277.16906\n",
            "56 38260880305.36469\n",
            "57 38259589842.92698\n",
            "58 38258338523.76881\n",
            "59 38257125985.764206\n",
            "60 38255951870.69207\n",
            "61 38254815824.18127\n",
            "62 38253717495.65727\n",
            "63 38252656538.290085\n",
            "64 38251632608.94339\n",
            "65 38250645368.12493\n",
            "66 38249694479.93795\n",
            "67 38248779612.03374\n",
            "68 38247900435.56514\n",
            "69 38247056625.14101\n",
            "70 38246247858.78165\n",
            "71 38245473817.875\n",
            "72 38244734187.133766\n",
            "73 38244028654.55326\n",
            "74 38243356911.37009\n",
            "75 38242718652.02149\n",
            "76 38242113574.10546\n",
            "77 38241541378.34155\n",
            "78 38241001768.53224\n",
            "79 38240494451.525116\n",
            "80 38240019137.17551\n",
            "81 38239575538.30982\n",
            "82 38239163370.689476\n",
            "83 38238782352.9753\n",
            "84 38238432206.69261\n",
            "85 38238112656.196754\n",
            "86 38237823428.6392\n",
            "87 38237564253.9341\n",
            "88 38237334864.725464\n",
            "89 38237134996.3547\n",
            "90 38236964386.8287\n",
            "91 38236822776.7883\n",
            "92 38236709909.477425\n",
            "93 38236625530.71235\n",
            "94 38236569388.851685\n",
            "95 38236541234.76665\n",
            "96 38236540821.81176\n",
            "97 38236567905.796\n",
            "98 38236622244.95436\n",
            "99 38236703599.919716\n",
            "100 38236811733.69518\n",
            "101 38236946411.6268\n",
            "102 38237107401.376656\n",
            "103 38237294472.896225\n",
            "104 38237507398.40023\n",
            "105 38237745952.34082\n",
            "106 38238009911.38199\n",
            "107 38238299054.3745\n",
            "108 38238613162.33099\n",
            "109 38238952018.40156\n",
            "110 38239315407.8495\n",
            "111 38239703118.02757\n",
            "112 38240114938.35434\n",
            "113 38240550660.29105\n",
            "114 38241010077.31866\n",
            "115 38241492984.91519\n",
            "116 38241999180.533485\n",
            "117 38242528463.57906\n",
            "118 38243080635.38845\n",
            "119 38243655499.207664\n",
            "120 38244252860.17104\n",
            "121 38244872525.28026\n",
            "122 38245514303.383736\n",
            "123 38246178005.15623\n",
            "124 38246863443.07867\n",
            "125 38247570431.41831\n",
            "126 38248298786.20911\n",
            "127 38249048325.232285\n",
            "128 38249818867.99726\n",
            "129 38250610235.72277\n",
            "130 38251422251.31813\n",
            "131 38252254739.36487\n",
            "132 38253107526.09854\n",
            "133 38253980439.39075\n",
            "134 38254873308.731384\n",
            "135 38255785965.21115\n",
            "136 38256718241.50421\n",
            "137 38257669971.85114\n",
            "138 38258640992.04204\n",
            "139 38259631139.399826\n",
            "140 38260640252.763824\n",
            "141 38261668172.473495\n",
            "142 38262714740.35232\n",
            "143 38263779799.69199\n",
            "144 38264863195.23675\n",
            "145 38265964773.16781\n",
            "146 38267084381.0882\n",
            "147 38268221868.00757\n",
            "148 38269377084.32725\n",
            "149 38270549881.82558\n",
            "150 38271740113.64329\n",
            "151 38272947634.26915\n",
            "152 38274172299.52572\n",
            "153 38275413966.5553\n",
            "154 38276672493.80611\n",
            "155 38277947741.0185\n",
            "156 38279239569.21148\n",
            "157 38280547840.66928\n",
            "158 38281872418.92818\n",
            "159 38283213168.76336\n",
            "160 38284569956.17607\n",
            "161 38285942648.380844\n",
            "162 38287331113.79286\n",
            "163 38288735222.01555\n",
            "164 38290154843.82819\n",
            "165 38291589851.17386\n",
            "166 38293040117.1473\n",
            "167 38294505515.9831\n",
            "168 38295985923.04395\n",
            "169 38297481214.80901\n",
            "170 38298991268.86246\n",
            "171 38300515963.88215\n",
            "172 38302055179.62843\n",
            "173 38303608796.933044\n",
            "174 38305176697.6882\n",
            "175 38306758764.83574\n",
            "176 38308354882.356476\n",
            "177 38309964935.2596\n",
            "178 38311588809.57225\n",
            "179 38313226392.329185\n",
            "180 38314877571.56255\n",
            "181 38316542236.29184\n",
            "182 38318220276.51389\n",
            "183 38319911583.19303\n",
            "184 38321616048.25135\n",
            "185 38323333564.55902\n",
            "186 38325064025.92483\n",
            "187 38326807327.086716\n",
            "188 38328563363.70252\n",
            "189 38330332032.34072\n",
            "190 38332113230.47137\n",
            "191 38333906856.457085\n",
            "192 38335712809.544174\n",
            "193 38337530989.85384\n",
            "194 38339361298.37347\n",
            "195 38341203636.94803\n",
            "196 38343057908.27164\n",
            "197 38344924015.87908\n",
            "198 38346801864.137535\n",
            "199 38348691358.23836\n"
          ],
          "name": "stdout"
        }
      ]
    },
    {
      "cell_type": "code",
      "metadata": {
        "id": "7EbGMJi0Fjkr",
        "colab_type": "code",
        "colab": {
          "base_uri": "https://localhost:8080/",
          "height": 276
        },
        "outputId": "c2da36d2-f984-4915-fd5a-072580197d3e"
      },
      "source": [
        "%matplotlib inline\n",
        "import matplotlib.pyplot as plt\n",
        "plt.scatter(alphas, mses);"
      ],
      "execution_count": 99,
      "outputs": [
        {
          "output_type": "display_data",
          "data": {
            "image/png": "[encoded data removed]",
            "text/plain": [
              "<Figure size 432x288 with 1 Axes>"
            ]
          },
          "metadata": {
            "tags": []
          }
        }
      ]
    },
    {
      "cell_type": "markdown",
      "metadata": {
        "id": "7FqF_xTUGBB4",
        "colab_type": "text"
      },
      "source": [
        "The alpha parameter corresponds to the weight being given to the extra penalty being calculated by Tikhonov regularization (this parameter is sometimes referred to as $\\lambda$ in the context of ridge regression).\n",
        "\n",
        "Normal linear regression (OLS) minimizes the sum of square error of the residuals.\n",
        "\n",
        "Ridge regression minimizes the sum of square error of the residuals AND the squared slope of the fit model, times the alpha parameter.\n",
        "\n",
        "This is why the MSE for the first model in the for loop (alpha=0) is the same as the MSE for linear regression - it's the same model!\n",
        "\n",
        "As alpha is increased, we give more and more penalty to a steep slope. In two or three dimensions this is fairly easy to visualize - beyond, think of it as penalizing coefficient size. Each coefficient represents the slope of an individual dimension (feature) of the model, so ridge regression is just squaring and summing those.\n",
        "\n",
        "So while alpha=0 reduces to OLS, as alpha approaches infinity eventually the penalty gets so extreme that the model will always output every coefficient as 0 (any non-zero coefficient resulting in a penalty that outweighs whatever improvement in the residuals), and just fit a flat model with intercept at the mean of the dependent variable.\n",
        "\n",
        "Of course, what we want is somewhere in-between these extremes. Intuitively, what we want to do is apply an appropriate \"cost\" or penalty to the model for fitting parameters, much like adjusted $R^2$ takes into account the cost of adding complexity to a model. What exactly is an appropriate penalty will vary, so you'll have to put on your model comparison hat and give it a go!\n",
        "\n",
        "PS - scaling the data helps, as that way this cost is consistent and can be added uniformly across features, and it is simpler to search for the alpha parameter."
      ]
    },
    {
      "cell_type": "markdown",
      "metadata": {
        "id": "CE8Un91KGdMd",
        "colab_type": "text"
      },
      "source": [
        "The regularization used by Ridge Regression is also known as $L^2$ regularization</strong>, due to the squaring of the slopes being summed. This corresponds to $L^2$ space, a metric space of square-integrable functions that generally measure what we intuitively think of as \"distance\" (at least, on a plane) - what is referred to as Euclidean distance."
      ]
    },
    {
      "cell_type": "markdown",
      "metadata": {
        "id": "ut7a7hNgG22M",
        "colab_type": "text"
      },
      "source": [
        "The other famous norm is $L^1$, also known as taxicab geometry, because it follows the \"grid\" to measure distance like a car driving around city blocks (rather than going directly like $L^2$). When referred to as a distance this is called \"Manhattan distance\", and can be used for regularization"
      ]
    },
    {
      "cell_type": "markdown",
      "metadata": {
        "id": "xEPRmEKqHBZ0",
        "colab_type": "text"
      },
      "source": [
        "All this comes down to - regularization means increasing model bias by \"watering down\" coefficients with a penalty typically based on some sort of distance metric, and thus reducing variance (overfitting the model to the noise in the data). It gives us another lever to try and another tool for our toolchest!"
      ]
    },
    {
      "cell_type": "code",
      "metadata": {
        "id": "PARK0px8GO_d",
        "colab_type": "code",
        "colab": {}
      },
      "source": [
        ""
      ],
      "execution_count": 0,
      "outputs": []
    }
  ]
}