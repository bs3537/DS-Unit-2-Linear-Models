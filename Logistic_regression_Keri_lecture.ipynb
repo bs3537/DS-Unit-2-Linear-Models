{
  "nbformat": 4,
  "nbformat_minor": 0,
  "metadata": {
    "jupytext": {
      "main_language": "python"
    },
    "kernelspec": {
      "display_name": "Python 3",
      "language": "python",
      "name": "python3"
    },
    "language_info": {
      "codemirror_mode": {
        "name": "ipython",
        "version": 3
      },
      "file_extension": ".py",
      "mimetype": "text/x-python",
      "name": "python",
      "nbconvert_exporter": "python",
      "pygments_lexer": "ipython3",
      "version": "3.7.3"
    },
    "colab": {
      "name": "Logistic_regression_Keri_lecture.ipynb",
      "provenance": [],
      "collapsed_sections": [],
      "include_colab_link": true
    }
  },
  "cells": [
    {
      "cell_type": "markdown",
      "metadata": {
        "id": "view-in-github",
        "colab_type": "text"
      },
      "source": [
        "<a href=\"https://colab.research.google.com/github/bs3537/DS-Unit-2-Linear-Models/blob/master/Logistic_regression_Keri_lecture.ipynb\" target=\"_parent\"><img src=\"https://colab.research.google.com/assets/colab-badge.svg\" alt=\"Open In Colab\"/></a>"
      ]
    },
    {
      "cell_type": "markdown",
      "metadata": {
        "id": "i64sBMYtj2or",
        "colab_type": "text"
      },
      "source": [
        ""
      ]
    },
    {
      "cell_type": "markdown",
      "metadata": {
        "id": "JKUFJNVo_ZdG",
        "colab_type": "text"
      },
      "source": [
        "Lambda School Data Science\n",
        "\n",
        "*Unit 2, Sprint 1, Module 4*\n",
        "\n",
        "---\n",
        "\n",
        "# Regression & Classification, Module 4 (Logistic Regression)\n",
        "- do train/validate/test split\n",
        "- begin with baselines for classification\n",
        "- express and explain the intuition and interpretation of Logistic Regression\n",
        "- use sklearn.linear_model.LogisticRegression to fit and interpret Logistic Regression models\n",
        "\n",
        "Logistic regression is the baseline for classification models, as well as a handy way to predict probabilities (since those too live in the unit interval). While relatively simple, it is also the foundation for more sophisticated classification techniques such as neural networks (many of which can effectively be thought of as networks of logistic models)."
      ]
    },
    {
      "cell_type": "markdown",
      "metadata": {
        "id": "UOWOAZ4j_ZdH",
        "colab_type": "text"
      },
      "source": [
        "### Setup\n",
        "\n",
        "You can work locally (follow the [local setup instructions](https://lambdaschool.github.io/ds/unit2/local/)) or on Colab (run the code cell below).\n",
        "\n",
        "Libraries:\n",
        "- category_encoders 2.0.0\n",
        "- numpy\n",
        "- pandas\n",
        "- scikit-learn"
      ]
    },
    {
      "cell_type": "code",
      "metadata": {
        "id": "qm6vYbwf_ZdI",
        "colab_type": "code",
        "outputId": "1dfab4e9-adfc-4f99-ad4e-40a3063bdb85",
        "colab": {
          "base_uri": "https://localhost:8080/",
          "height": 155
        }
      },
      "source": [
        "import os, sys\n",
        "in_colab = 'google.colab' in sys.modules\n",
        "\n",
        "# If you're in Colab...\n",
        "if in_colab:\n",
        "    # Pull files from Github repo\n",
        "    os.chdir('/content')\n",
        "    !git init .\n",
        "    !git remote add origin https://github.com/LambdaSchool/DS-Unit-2-Regression-Classification.git\n",
        "    !git pull origin master\n",
        "    \n",
        "    # Install required python packages\n",
        "    \n",
        "    # Change into directory for module\n",
        "    os.chdir('module4-logistic-regression')"
      ],
      "execution_count": 0,
      "outputs": [
        {
          "output_type": "stream",
          "text": [
            "Initialized empty Git repository in /content/.git/\n",
            "remote: Enumerating objects: 228, done.\u001b[K\n",
            "remote: Total 228 (delta 0), reused 0 (delta 0), pack-reused 228\u001b[K\n",
            "Receiving objects: 100% (228/228), 19.37 MiB | 20.43 MiB/s, done.\n",
            "Resolving deltas: 100% (103/103), done.\n",
            "From https://github.com/LambdaSchool/DS-Unit-2-Regression-Classification\n",
            " * branch            master     -> FETCH_HEAD\n",
            " * [new branch]      master     -> origin/master\n"
          ],
          "name": "stdout"
        }
      ]
    },
    {
      "cell_type": "markdown",
      "metadata": {
        "id": "nL8t2bsG_ZdK",
        "colab_type": "text"
      },
      "source": [
        "# Do train/validate/test split"
      ]
    },
    {
      "cell_type": "markdown",
      "metadata": {
        "id": "tkisqDOL_ZdL",
        "colab_type": "text"
      },
      "source": [
        "## Overview"
      ]
    },
    {
      "cell_type": "markdown",
      "metadata": {
        "id": "XD0RUQXT_ZdL",
        "colab_type": "text"
      },
      "source": [
        "### Predict Titanic survival 🚢\n",
        "\n",
        "Kaggle is a platform for machine learning competitions. [Kaggle has used the Titanic dataset](https://www.kaggle.com/c/titanic/data) for their most popular \"getting started\" competition. \n",
        "\n",
        "Kaggle splits the data into train and test sets for participants. Let's load both:"
      ]
    },
    {
      "cell_type": "code",
      "metadata": {
        "id": "Z6jF0S9r_ZdM",
        "colab_type": "code",
        "colab": {}
      },
      "source": [
        "import pandas as pd\n",
        "train = pd.read_csv('../data/titanic/train.csv')\n",
        "test = pd.read_csv('../data/titanic/test.csv')"
      ],
      "execution_count": 0,
      "outputs": []
    },
    {
      "cell_type": "markdown",
      "metadata": {
        "id": "k0hYiQV4_ZdO",
        "colab_type": "text"
      },
      "source": [
        "Notice that the train set has one more column than the test set:"
      ]
    },
    {
      "cell_type": "code",
      "metadata": {
        "id": "1-hkvDRO_ZdO",
        "colab_type": "code",
        "outputId": "059eb704-b4b7-4a93-d279-c695c2650575",
        "colab": {
          "base_uri": "https://localhost:8080/",
          "height": 35
        }
      },
      "source": [
        "train.shape, test.shape"
      ],
      "execution_count": 0,
      "outputs": [
        {
          "output_type": "execute_result",
          "data": {
            "text/plain": [
              "((891, 12), (418, 11))"
            ]
          },
          "metadata": {
            "tags": []
          },
          "execution_count": 3
        }
      ]
    },
    {
      "cell_type": "markdown",
      "metadata": {
        "id": "BMPxzuG8_ZdR",
        "colab_type": "text"
      },
      "source": [
        "Which column is in train but not test? The target!"
      ]
    },
    {
      "cell_type": "code",
      "metadata": {
        "id": "DRIKjL6O_ZdR",
        "colab_type": "code",
        "outputId": "99c48e5d-61b4-4cd2-91ea-e4699cc4d27e",
        "colab": {
          "base_uri": "https://localhost:8080/",
          "height": 35
        }
      },
      "source": [
        "set(train.columns) - set(test.columns)"
      ],
      "execution_count": 0,
      "outputs": [
        {
          "output_type": "execute_result",
          "data": {
            "text/plain": [
              "{'Survived'}"
            ]
          },
          "metadata": {
            "tags": []
          },
          "execution_count": 4
        }
      ]
    },
    {
      "cell_type": "markdown",
      "metadata": {
        "id": "tEZcHtT7_ZdT",
        "colab_type": "text"
      },
      "source": [
        "### Why doesn't Kaggle give you the target for the test set?\n",
        "\n",
        "#### Rachel Thomas, [How (and why) to create a good validation set](https://www.fast.ai/2017/11/13/validation-sets/)\n",
        "\n",
        "> One great thing about Kaggle competitions is that they force you to think about validation sets more rigorously (in order to do well). For those who are new to Kaggle, it is a platform that hosts machine learning competitions. Kaggle typically breaks the data into two sets you can download:\n",
        ">\n",
        "> 1. a **training set**, which includes the _independent variables,_ as well as the _dependent variable_ (what you are trying to predict).\n",
        ">\n",
        "> 2. a **test set**, which just has the _independent variables._ You will make predictions for the test set, which you can submit to Kaggle and get back a score of how well you did.\n",
        ">\n",
        "> This is the basic idea needed to get started with machine learning, but to do well, there is a bit more complexity to understand. **You will want to create your own training and validation sets (by splitting the Kaggle “training” data). You will just use your smaller training set (a subset of Kaggle’s training data) for building your model, and you can evaluate it on your validation set (also a subset of Kaggle’s training data) before you submit to Kaggle.**\n",
        ">\n",
        "> The most important reason for this is that Kaggle has split the test data into two sets: for the public and private leaderboards. The score you see on the public leaderboard is just for a subset of your predictions (and you don’t know which subset!). How your predictions fare on the private leaderboard won’t be revealed until the end of the competition. The reason this is important is that you could end up overfitting to the public leaderboard and you wouldn’t realize it until the very end when you did poorly on the private leaderboard. Using a good validation set can prevent this. You can check if your validation set is any good by seeing if your model has similar scores on it to compared with on the Kaggle test set. ...\n",
        ">\n",
        "> Understanding these distinctions is not just useful for Kaggle. In any predictive machine learning project, you want your model to be able to perform well on new data."
      ]
    },
    {
      "cell_type": "markdown",
      "metadata": {
        "id": "cu43FFyY_ZdU",
        "colab_type": "text"
      },
      "source": [
        "### 2-way train/test split is not enough\n",
        "\n",
        "#### Hastie, Tibshirani, and Friedman, [The Elements of Statistical Learning](http://statweb.stanford.edu/~tibs/ElemStatLearn/), Chapter 7: Model Assessment and Selection\n",
        "\n",
        "> If we are in a data-rich situation, the best approach is to randomly divide the dataset into three parts: a training set, a validation set, and a test set. The training set is used to fit the models; the validation set is used to estimate prediction error for model selection; the test set is used for assessment of the generalization error of the final chosen model. Ideally, the test set should be kept in a \"vault,\" and be brought out only at the end of the data analysis. Suppose instead that we use the test-set repeatedly, choosing the model with the smallest test-set error. Then the test set error of the final chosen model will underestimate the true test error, sometimes substantially.\n",
        "\n",
        "#### Andreas Mueller and Sarah Guido, [Introduction to Machine Learning with Python](https://books.google.com/books?id=1-4lDQAAQBAJ&pg=PA270)\n",
        "\n",
        "> The distinction between the training set, validation set, and test set is fundamentally important to applying machine learning methods in practice. Any choices made based on the test set accuracy \"leak\" information from the test set into the model. Therefore, it is important to keep a separate test set, which is only used for the final evaluation. It is good practice to do all exploratory analysis and model selection using the combination of a training and a validation set, and reserve the test set for a final evaluation - this is even true for exploratory visualization. Strictly speaking, evaluating more than one model on the test set and choosing the better of the two will result in an overly optimistic estimate of how accurate the model is.\n",
        "\n",
        "#### Hadley Wickham, [R for Data Science](https://r4ds.had.co.nz/model-intro.html#hypothesis-generation-vs.hypothesis-confirmation)\n",
        "\n",
        "> There is a pair of ideas that you must understand in order to do inference correctly:\n",
        ">\n",
        "> 1. Each observation can either be used for exploration or confirmation, not both.\n",
        ">\n",
        "> 2. You can use an observation as many times as you like for exploration, but you can only use it once for confirmation. As soon as you use an observation twice, you’ve switched from confirmation to exploration.\n",
        ">\n",
        "> This is necessary because to confirm a hypothesis you must use data independent of the data that you used to generate the hypothesis. Otherwise you will be over optimistic. There is absolutely nothing wrong with exploration, but you should never sell an exploratory analysis as a confirmatory analysis because it is fundamentally misleading.\n",
        ">\n",
        "> If you are serious about doing an confirmatory analysis, one approach is to split your data into three pieces before you begin the analysis.\n",
        "\n",
        "\n",
        "#### Sebastian Raschka, [Model Evaluation](https://sebastianraschka.com/blog/2018/model-evaluation-selection-part4.html)\n",
        "\n",
        "> Since “a picture is worth a thousand words,” I want to conclude with a figure (shown below) that summarizes my personal recommendations ...\n",
        "\n",
        "<img src=\"https://sebastianraschka.com/images/blog/2018/model-evaluation-selection-part4/model-eval-conclusions.jpg\" width=\"600\">\n",
        "\n",
        "Usually, we want to do **\"Model selection (hyperparameter optimization) _and_ performance estimation.\"** (The green box in the diagram.)\n",
        "\n",
        "Therefore, we usually do **\"3-way holdout method (train/validation/test split)\"** or **\"cross-validation with independent test set.\"**"
      ]
    },
    {
      "cell_type": "markdown",
      "metadata": {
        "id": "qCfCfaru_ZdU",
        "colab_type": "text"
      },
      "source": [
        "### What's the difference between Training, Validation, and Testing sets?\n",
        "\n",
        "#### Brandon Rohrer, [Training, Validation, and Testing Data Sets](https://end-to-end-machine-learning.teachable.com/blog/146320/training-validation-testing-data-sets)\n",
        "\n",
        "> The validation set is for adjusting a model's hyperparameters. The testing data set is the ultimate judge of model performance.\n",
        ">\n",
        "> Testing data is what you hold out until very last. You only run your model on it once. You don’t make any changes or adjustments to your model after that. ..."
      ]
    },
    {
      "cell_type": "markdown",
      "metadata": {
        "id": "kq6jmQeq_ZdV",
        "colab_type": "text"
      },
      "source": [
        "## Follow Along\n",
        "\n",
        "> You will want to create your own training and validation sets (by splitting the Kaggle “training” data).\n",
        "\n",
        "Do this, using the [sklearn.model_selection.train_test_split](https://scikit-learn.org/stable/modules/generated/sklearn.model_selection.train_test_split.html) function:"
      ]
    },
    {
      "cell_type": "code",
      "metadata": {
        "id": "Gx4LD2me_ZdV",
        "colab_type": "code",
        "outputId": "a0e4232d-eda5-4907-dd0d-0682f826df0e",
        "colab": {
          "base_uri": "https://localhost:8080/",
          "height": 35
        }
      },
      "source": [
        "from sklearn.model_selection import train_test_split\n",
        "\n",
        "train, val = train_test_split(train, random_state=42)\n",
        "\n",
        "train.shape, val.shape"
      ],
      "execution_count": 0,
      "outputs": [
        {
          "output_type": "execute_result",
          "data": {
            "text/plain": [
              "((668, 12), (223, 12))"
            ]
          },
          "metadata": {
            "tags": []
          },
          "execution_count": 5
        }
      ]
    },
    {
      "cell_type": "markdown",
      "metadata": {
        "id": "SzrFtf5Y_ZdX",
        "colab_type": "text"
      },
      "source": [
        "## Challenge"
      ]
    },
    {
      "cell_type": "markdown",
      "metadata": {
        "id": "vDIcDYjh_ZdY",
        "colab_type": "text"
      },
      "source": [
        "For your assignment, you'll begin to participate in a private Kaggle challenge, just for your cohort! \n",
        "\n",
        "You will be provided with data split into 2 sets: training and test. You will create your own training and validation sets, by splitting the Kaggle \"training\" data, so you'll end up with 3 sets total."
      ]
    },
    {
      "cell_type": "markdown",
      "metadata": {
        "id": "oULVoX6z_ZdY",
        "colab_type": "text"
      },
      "source": [
        "# Begin with baselines for classification"
      ]
    },
    {
      "cell_type": "markdown",
      "metadata": {
        "id": "M7PZnaYk_ZdZ",
        "colab_type": "text"
      },
      "source": [
        "## Overview"
      ]
    },
    {
      "cell_type": "markdown",
      "metadata": {
        "id": "NxNbXXY8_ZdZ",
        "colab_type": "text"
      },
      "source": [
        "We'll begin with the **majority class baseline.**\n",
        "\n",
        "[Will Koehrsen](https://twitter.com/koehrsen_will/status/1088863527778111488)\n",
        "\n",
        "> A baseline for classification can be the most common class in the training dataset.\n",
        "\n",
        "[*Data Science for Business*](https://books.google.com/books?id=4ZctAAAAQBAJ&pg=PT276), Chapter 7.3: Evaluation, Baseline Performance, and Implications for Investments in Data\n",
        "\n",
        "> For classification tasks, one good baseline is the _majority classifier,_ a naive classifier that always chooses the majority class of the training dataset (see Note: Base rate in Holdout Data and Fitting Graphs). This may seem like advice so obvious it can be passed over quickly, but it is worth spending an extra moment here. There are many cases where smart, analytical people have been tripped up in skipping over this basic comparison. For example, an analyst may see a classification accuracy of 94% from her classifier and conclude that it is doing fairly well—when in fact only 6% of the instances are positive. So, the simple majority prediction classifier also would have an accuracy of 94%. "
      ]
    },
    {
      "cell_type": "markdown",
      "metadata": {
        "id": "VlhEdyIj_Zda",
        "colab_type": "text"
      },
      "source": [
        "## Follow Along"
      ]
    },
    {
      "cell_type": "markdown",
      "metadata": {
        "id": "yH9JSjtQ_Zda",
        "colab_type": "text"
      },
      "source": [
        "Determine majority class"
      ]
    },
    {
      "cell_type": "code",
      "metadata": {
        "id": "eQhF4oHH_Zdb",
        "colab_type": "code",
        "outputId": "1cc7351c-70d4-4cbe-e390-f3f13188087b",
        "colab": {
          "base_uri": "https://localhost:8080/",
          "height": 69
        }
      },
      "source": [
        "# TODO\n",
        "target = 'Survived'\n",
        "y_train = train[target]\n",
        "y_train.value_counts(normalize=True)"
      ],
      "execution_count": 0,
      "outputs": [
        {
          "output_type": "execute_result",
          "data": {
            "text/plain": [
              "0    0.621257\n",
              "1    0.378743\n",
              "Name: Survived, dtype: float64"
            ]
          },
          "metadata": {
            "tags": []
          },
          "execution_count": 7
        }
      ]
    },
    {
      "cell_type": "markdown",
      "metadata": {
        "id": "QkMMNbBC_Zdc",
        "colab_type": "text"
      },
      "source": [
        "What if we guessed the majority class for every prediction?"
      ]
    },
    {
      "cell_type": "code",
      "metadata": {
        "id": "kG6Q3lFC_Zdd",
        "colab_type": "code",
        "outputId": "4946746c-2aa9-43f7-a2e0-716e0e6d348c",
        "colab": {
          "base_uri": "https://localhost:8080/",
          "height": 1000
        }
      },
      "source": [
        "# TODO\n",
        "\n",
        "majority_class = y_train.mode()[0]\n",
        "y_pred = [majority_class] * len(y_train)\n",
        "y_pred"
      ],
      "execution_count": 0,
      "outputs": [
        {
          "output_type": "execute_result",
          "data": {
            "text/plain": [
              "[0,\n",
              " 0,\n",
              " 0,\n",
              " 0,\n",
              " 0,\n",
              " 0,\n",
              " 0,\n",
              " 0,\n",
              " 0,\n",
              " 0,\n",
              " 0,\n",
              " 0,\n",
              " 0,\n",
              " 0,\n",
              " 0,\n",
              " 0,\n",
              " 0,\n",
              " 0,\n",
              " 0,\n",
              " 0,\n",
              " 0,\n",
              " 0,\n",
              " 0,\n",
              " 0,\n",
              " 0,\n",
              " 0,\n",
              " 0,\n",
              " 0,\n",
              " 0,\n",
              " 0,\n",
              " 0,\n",
              " 0,\n",
              " 0,\n",
              " 0,\n",
              " 0,\n",
              " 0,\n",
              " 0,\n",
              " 0,\n",
              " 0,\n",
              " 0,\n",
              " 0,\n",
              " 0,\n",
              " 0,\n",
              " 0,\n",
              " 0,\n",
              " 0,\n",
              " 0,\n",
              " 0,\n",
              " 0,\n",
              " 0,\n",
              " 0,\n",
              " 0,\n",
              " 0,\n",
              " 0,\n",
              " 0,\n",
              " 0,\n",
              " 0,\n",
              " 0,\n",
              " 0,\n",
              " 0,\n",
              " 0,\n",
              " 0,\n",
              " 0,\n",
              " 0,\n",
              " 0,\n",
              " 0,\n",
              " 0,\n",
              " 0,\n",
              " 0,\n",
              " 0,\n",
              " 0,\n",
              " 0,\n",
              " 0,\n",
              " 0,\n",
              " 0,\n",
              " 0,\n",
              " 0,\n",
              " 0,\n",
              " 0,\n",
              " 0,\n",
              " 0,\n",
              " 0,\n",
              " 0,\n",
              " 0,\n",
              " 0,\n",
              " 0,\n",
              " 0,\n",
              " 0,\n",
              " 0,\n",
              " 0,\n",
              " 0,\n",
              " 0,\n",
              " 0,\n",
              " 0,\n",
              " 0,\n",
              " 0,\n",
              " 0,\n",
              " 0,\n",
              " 0,\n",
              " 0,\n",
              " 0,\n",
              " 0,\n",
              " 0,\n",
              " 0,\n",
              " 0,\n",
              " 0,\n",
              " 0,\n",
              " 0,\n",
              " 0,\n",
              " 0,\n",
              " 0,\n",
              " 0,\n",
              " 0,\n",
              " 0,\n",
              " 0,\n",
              " 0,\n",
              " 0,\n",
              " 0,\n",
              " 0,\n",
              " 0,\n",
              " 0,\n",
              " 0,\n",
              " 0,\n",
              " 0,\n",
              " 0,\n",
              " 0,\n",
              " 0,\n",
              " 0,\n",
              " 0,\n",
              " 0,\n",
              " 0,\n",
              " 0,\n",
              " 0,\n",
              " 0,\n",
              " 0,\n",
              " 0,\n",
              " 0,\n",
              " 0,\n",
              " 0,\n",
              " 0,\n",
              " 0,\n",
              " 0,\n",
              " 0,\n",
              " 0,\n",
              " 0,\n",
              " 0,\n",
              " 0,\n",
              " 0,\n",
              " 0,\n",
              " 0,\n",
              " 0,\n",
              " 0,\n",
              " 0,\n",
              " 0,\n",
              " 0,\n",
              " 0,\n",
              " 0,\n",
              " 0,\n",
              " 0,\n",
              " 0,\n",
              " 0,\n",
              " 0,\n",
              " 0,\n",
              " 0,\n",
              " 0,\n",
              " 0,\n",
              " 0,\n",
              " 0,\n",
              " 0,\n",
              " 0,\n",
              " 0,\n",
              " 0,\n",
              " 0,\n",
              " 0,\n",
              " 0,\n",
              " 0,\n",
              " 0,\n",
              " 0,\n",
              " 0,\n",
              " 0,\n",
              " 0,\n",
              " 0,\n",
              " 0,\n",
              " 0,\n",
              " 0,\n",
              " 0,\n",
              " 0,\n",
              " 0,\n",
              " 0,\n",
              " 0,\n",
              " 0,\n",
              " 0,\n",
              " 0,\n",
              " 0,\n",
              " 0,\n",
              " 0,\n",
              " 0,\n",
              " 0,\n",
              " 0,\n",
              " 0,\n",
              " 0,\n",
              " 0,\n",
              " 0,\n",
              " 0,\n",
              " 0,\n",
              " 0,\n",
              " 0,\n",
              " 0,\n",
              " 0,\n",
              " 0,\n",
              " 0,\n",
              " 0,\n",
              " 0,\n",
              " 0,\n",
              " 0,\n",
              " 0,\n",
              " 0,\n",
              " 0,\n",
              " 0,\n",
              " 0,\n",
              " 0,\n",
              " 0,\n",
              " 0,\n",
              " 0,\n",
              " 0,\n",
              " 0,\n",
              " 0,\n",
              " 0,\n",
              " 0,\n",
              " 0,\n",
              " 0,\n",
              " 0,\n",
              " 0,\n",
              " 0,\n",
              " 0,\n",
              " 0,\n",
              " 0,\n",
              " 0,\n",
              " 0,\n",
              " 0,\n",
              " 0,\n",
              " 0,\n",
              " 0,\n",
              " 0,\n",
              " 0,\n",
              " 0,\n",
              " 0,\n",
              " 0,\n",
              " 0,\n",
              " 0,\n",
              " 0,\n",
              " 0,\n",
              " 0,\n",
              " 0,\n",
              " 0,\n",
              " 0,\n",
              " 0,\n",
              " 0,\n",
              " 0,\n",
              " 0,\n",
              " 0,\n",
              " 0,\n",
              " 0,\n",
              " 0,\n",
              " 0,\n",
              " 0,\n",
              " 0,\n",
              " 0,\n",
              " 0,\n",
              " 0,\n",
              " 0,\n",
              " 0,\n",
              " 0,\n",
              " 0,\n",
              " 0,\n",
              " 0,\n",
              " 0,\n",
              " 0,\n",
              " 0,\n",
              " 0,\n",
              " 0,\n",
              " 0,\n",
              " 0,\n",
              " 0,\n",
              " 0,\n",
              " 0,\n",
              " 0,\n",
              " 0,\n",
              " 0,\n",
              " 0,\n",
              " 0,\n",
              " 0,\n",
              " 0,\n",
              " 0,\n",
              " 0,\n",
              " 0,\n",
              " 0,\n",
              " 0,\n",
              " 0,\n",
              " 0,\n",
              " 0,\n",
              " 0,\n",
              " 0,\n",
              " 0,\n",
              " 0,\n",
              " 0,\n",
              " 0,\n",
              " 0,\n",
              " 0,\n",
              " 0,\n",
              " 0,\n",
              " 0,\n",
              " 0,\n",
              " 0,\n",
              " 0,\n",
              " 0,\n",
              " 0,\n",
              " 0,\n",
              " 0,\n",
              " 0,\n",
              " 0,\n",
              " 0,\n",
              " 0,\n",
              " 0,\n",
              " 0,\n",
              " 0,\n",
              " 0,\n",
              " 0,\n",
              " 0,\n",
              " 0,\n",
              " 0,\n",
              " 0,\n",
              " 0,\n",
              " 0,\n",
              " 0,\n",
              " 0,\n",
              " 0,\n",
              " 0,\n",
              " 0,\n",
              " 0,\n",
              " 0,\n",
              " 0,\n",
              " 0,\n",
              " 0,\n",
              " 0,\n",
              " 0,\n",
              " 0,\n",
              " 0,\n",
              " 0,\n",
              " 0,\n",
              " 0,\n",
              " 0,\n",
              " 0,\n",
              " 0,\n",
              " 0,\n",
              " 0,\n",
              " 0,\n",
              " 0,\n",
              " 0,\n",
              " 0,\n",
              " 0,\n",
              " 0,\n",
              " 0,\n",
              " 0,\n",
              " 0,\n",
              " 0,\n",
              " 0,\n",
              " 0,\n",
              " 0,\n",
              " 0,\n",
              " 0,\n",
              " 0,\n",
              " 0,\n",
              " 0,\n",
              " 0,\n",
              " 0,\n",
              " 0,\n",
              " 0,\n",
              " 0,\n",
              " 0,\n",
              " 0,\n",
              " 0,\n",
              " 0,\n",
              " 0,\n",
              " 0,\n",
              " 0,\n",
              " 0,\n",
              " 0,\n",
              " 0,\n",
              " 0,\n",
              " 0,\n",
              " 0,\n",
              " 0,\n",
              " 0,\n",
              " 0,\n",
              " 0,\n",
              " 0,\n",
              " 0,\n",
              " 0,\n",
              " 0,\n",
              " 0,\n",
              " 0,\n",
              " 0,\n",
              " 0,\n",
              " 0,\n",
              " 0,\n",
              " 0,\n",
              " 0,\n",
              " 0,\n",
              " 0,\n",
              " 0,\n",
              " 0,\n",
              " 0,\n",
              " 0,\n",
              " 0,\n",
              " 0,\n",
              " 0,\n",
              " 0,\n",
              " 0,\n",
              " 0,\n",
              " 0,\n",
              " 0,\n",
              " 0,\n",
              " 0,\n",
              " 0,\n",
              " 0,\n",
              " 0,\n",
              " 0,\n",
              " 0,\n",
              " 0,\n",
              " 0,\n",
              " 0,\n",
              " 0,\n",
              " 0,\n",
              " 0,\n",
              " 0,\n",
              " 0,\n",
              " 0,\n",
              " 0,\n",
              " 0,\n",
              " 0,\n",
              " 0,\n",
              " 0,\n",
              " 0,\n",
              " 0,\n",
              " 0,\n",
              " 0,\n",
              " 0,\n",
              " 0,\n",
              " 0,\n",
              " 0,\n",
              " 0,\n",
              " 0,\n",
              " 0,\n",
              " 0,\n",
              " 0,\n",
              " 0,\n",
              " 0,\n",
              " 0,\n",
              " 0,\n",
              " 0,\n",
              " 0,\n",
              " 0,\n",
              " 0,\n",
              " 0,\n",
              " 0,\n",
              " 0,\n",
              " 0,\n",
              " 0,\n",
              " 0,\n",
              " 0,\n",
              " 0,\n",
              " 0,\n",
              " 0,\n",
              " 0,\n",
              " 0,\n",
              " 0,\n",
              " 0,\n",
              " 0,\n",
              " 0,\n",
              " 0,\n",
              " 0,\n",
              " 0,\n",
              " 0,\n",
              " 0,\n",
              " 0,\n",
              " 0,\n",
              " 0,\n",
              " 0,\n",
              " 0,\n",
              " 0,\n",
              " 0,\n",
              " 0,\n",
              " 0,\n",
              " 0,\n",
              " 0,\n",
              " 0,\n",
              " 0,\n",
              " 0,\n",
              " 0,\n",
              " 0,\n",
              " 0,\n",
              " 0,\n",
              " 0,\n",
              " 0,\n",
              " 0,\n",
              " 0,\n",
              " 0,\n",
              " 0,\n",
              " 0,\n",
              " 0,\n",
              " 0,\n",
              " 0,\n",
              " 0,\n",
              " 0,\n",
              " 0,\n",
              " 0,\n",
              " 0,\n",
              " 0,\n",
              " 0,\n",
              " 0,\n",
              " 0,\n",
              " 0,\n",
              " 0,\n",
              " 0,\n",
              " 0,\n",
              " 0,\n",
              " 0,\n",
              " 0,\n",
              " 0,\n",
              " 0,\n",
              " 0,\n",
              " 0,\n",
              " 0,\n",
              " 0,\n",
              " 0,\n",
              " 0,\n",
              " 0,\n",
              " 0,\n",
              " 0,\n",
              " 0,\n",
              " 0,\n",
              " 0,\n",
              " 0,\n",
              " 0,\n",
              " 0,\n",
              " 0,\n",
              " 0,\n",
              " 0,\n",
              " 0,\n",
              " 0,\n",
              " 0,\n",
              " 0,\n",
              " 0,\n",
              " 0,\n",
              " 0,\n",
              " 0,\n",
              " 0,\n",
              " 0,\n",
              " 0,\n",
              " 0,\n",
              " 0,\n",
              " 0,\n",
              " 0,\n",
              " 0,\n",
              " 0,\n",
              " 0,\n",
              " 0,\n",
              " 0,\n",
              " 0,\n",
              " 0,\n",
              " 0,\n",
              " 0,\n",
              " 0,\n",
              " 0,\n",
              " 0,\n",
              " 0,\n",
              " 0,\n",
              " 0,\n",
              " 0,\n",
              " 0,\n",
              " 0,\n",
              " 0,\n",
              " 0,\n",
              " 0,\n",
              " 0,\n",
              " 0,\n",
              " 0,\n",
              " 0,\n",
              " 0,\n",
              " 0,\n",
              " 0,\n",
              " 0,\n",
              " 0,\n",
              " 0,\n",
              " 0,\n",
              " 0,\n",
              " 0,\n",
              " 0,\n",
              " 0,\n",
              " 0,\n",
              " 0,\n",
              " 0,\n",
              " 0,\n",
              " 0,\n",
              " 0,\n",
              " 0,\n",
              " 0,\n",
              " 0,\n",
              " 0,\n",
              " 0,\n",
              " 0,\n",
              " 0,\n",
              " 0,\n",
              " 0,\n",
              " 0,\n",
              " 0,\n",
              " 0,\n",
              " 0,\n",
              " 0,\n",
              " 0,\n",
              " 0,\n",
              " 0,\n",
              " 0,\n",
              " 0,\n",
              " 0,\n",
              " 0,\n",
              " 0,\n",
              " 0,\n",
              " 0,\n",
              " 0,\n",
              " 0,\n",
              " 0,\n",
              " 0,\n",
              " 0,\n",
              " 0,\n",
              " 0,\n",
              " 0,\n",
              " 0,\n",
              " 0,\n",
              " 0,\n",
              " 0,\n",
              " 0,\n",
              " 0,\n",
              " 0,\n",
              " 0,\n",
              " 0,\n",
              " 0,\n",
              " 0,\n",
              " 0,\n",
              " 0,\n",
              " 0,\n",
              " 0,\n",
              " 0,\n",
              " 0,\n",
              " 0,\n",
              " 0,\n",
              " 0,\n",
              " 0,\n",
              " 0,\n",
              " 0,\n",
              " 0,\n",
              " 0,\n",
              " 0,\n",
              " 0,\n",
              " 0,\n",
              " 0,\n",
              " 0]"
            ]
          },
          "metadata": {
            "tags": []
          },
          "execution_count": 10
        }
      ]
    },
    {
      "cell_type": "code",
      "metadata": {
        "id": "Dg615Th7XdOj",
        "colab_type": "code",
        "colab": {}
      },
      "source": [
        ""
      ],
      "execution_count": 0,
      "outputs": []
    },
    {
      "cell_type": "markdown",
      "metadata": {
        "id": "Evpdx9pv_Zdf",
        "colab_type": "text"
      },
      "source": [
        "#### Use a classification metric: accuracy\n",
        "\n",
        "[Classification metrics are different from regression metrics!](https://scikit-learn.org/stable/modules/model_evaluation.html)\n",
        "- Don't use _regression_ metrics to evaluate _classification_ tasks.\n",
        "- Don't use _classification_ metrics to evaluate _regression_ tasks.\n",
        "\n",
        "[Accuracy](https://scikit-learn.org/stable/modules/model_evaluation.html#accuracy-score) is a common metric for classification. Accuracy is the [\"proportion of correct classifications\"](https://en.wikipedia.org/wiki/Confusion_matrix): the number of correct predictions divided by the total number of predictions."
      ]
    },
    {
      "cell_type": "markdown",
      "metadata": {
        "id": "CJW4YkD2_Zdf",
        "colab_type": "text"
      },
      "source": [
        "What is the baseline accuracy if we guessed the majority class for every prediction?"
      ]
    },
    {
      "cell_type": "code",
      "metadata": {
        "id": "LW4ApxYX_Zdg",
        "colab_type": "code",
        "outputId": "a4a79ca1-0424-44e4-96dd-2918024208b5",
        "colab": {
          "base_uri": "https://localhost:8080/",
          "height": 35
        }
      },
      "source": [
        "# TODO\n",
        "from sklearn.metrics import accuracy_score\n",
        "accuracy_score(y_train, y_pred)"
      ],
      "execution_count": 0,
      "outputs": [
        {
          "output_type": "execute_result",
          "data": {
            "text/plain": [
              "0.6212574850299402"
            ]
          },
          "metadata": {
            "tags": []
          },
          "execution_count": 11
        }
      ]
    },
    {
      "cell_type": "code",
      "metadata": {
        "id": "4sxxaeP4_Zdh",
        "colab_type": "code",
        "outputId": "1a22d3c6-237d-4a66-f87e-fe47d43db29f",
        "colab": {
          "base_uri": "https://localhost:8080/",
          "height": 35
        }
      },
      "source": [
        "# TODO\n",
        "y_val = val[target]\n",
        "y_pred = [majority_class] * len(y_val)\n",
        "accuracy_score(y_val, y_pred)\n"
      ],
      "execution_count": 0,
      "outputs": [
        {
          "output_type": "execute_result",
          "data": {
            "text/plain": [
              "0.600896860986547"
            ]
          },
          "metadata": {
            "tags": []
          },
          "execution_count": 12
        }
      ]
    },
    {
      "cell_type": "markdown",
      "metadata": {
        "id": "4U-GHxwC_Zdj",
        "colab_type": "text"
      },
      "source": [
        "## Challenge"
      ]
    },
    {
      "cell_type": "markdown",
      "metadata": {
        "id": "f8sviLP4_Zdk",
        "colab_type": "text"
      },
      "source": [
        "In your Kaggle challenge, you'll begin with the majority class baseline. How quickly can you beat this baseline?"
      ]
    },
    {
      "cell_type": "markdown",
      "metadata": {
        "id": "bEUSRL_y_Zdk",
        "colab_type": "text"
      },
      "source": [
        "# Express and explain the intuition and interpretation of Logistic Regression\n"
      ]
    },
    {
      "cell_type": "markdown",
      "metadata": {
        "id": "4zvqXlsa_Zdl",
        "colab_type": "text"
      },
      "source": [
        "## Overview\n",
        "\n",
        "To help us get an intuition for *Logistic* Regression, let's start by trying *Linear* Regression instead, and see what happens..."
      ]
    },
    {
      "cell_type": "markdown",
      "metadata": {
        "id": "f8NNILEs_Zdl",
        "colab_type": "text"
      },
      "source": [
        "## Follow Along"
      ]
    },
    {
      "cell_type": "markdown",
      "metadata": {
        "id": "7zqKhbCK_Zdm",
        "colab_type": "text"
      },
      "source": [
        "### Linear Regression?"
      ]
    },
    {
      "cell_type": "code",
      "metadata": {
        "id": "glYHTpUz_Zdm",
        "colab_type": "code",
        "outputId": "33d42153-5986-4d83-e853-13520cf898a1",
        "colab": {
          "base_uri": "https://localhost:8080/",
          "height": 288
        }
      },
      "source": [
        "train.describe()"
      ],
      "execution_count": 0,
      "outputs": [
        {
          "output_type": "execute_result",
          "data": {
            "text/html": [
              "<div>\n",
              "<style scoped>\n",
              "    .dataframe tbody tr th:only-of-type {\n",
              "        vertical-align: middle;\n",
              "    }\n",
              "\n",
              "    .dataframe tbody tr th {\n",
              "        vertical-align: top;\n",
              "    }\n",
              "\n",
              "    .dataframe thead th {\n",
              "        text-align: right;\n",
              "    }\n",
              "</style>\n",
              "<table border=\"1\" class=\"dataframe\">\n",
              "  <thead>\n",
              "    <tr style=\"text-align: right;\">\n",
              "      <th></th>\n",
              "      <th>PassengerId</th>\n",
              "      <th>Survived</th>\n",
              "      <th>Pclass</th>\n",
              "      <th>Age</th>\n",
              "      <th>SibSp</th>\n",
              "      <th>Parch</th>\n",
              "      <th>Fare</th>\n",
              "    </tr>\n",
              "  </thead>\n",
              "  <tbody>\n",
              "    <tr>\n",
              "      <th>count</th>\n",
              "      <td>668.000000</td>\n",
              "      <td>668.000000</td>\n",
              "      <td>668.000000</td>\n",
              "      <td>536.000000</td>\n",
              "      <td>668.000000</td>\n",
              "      <td>668.000000</td>\n",
              "      <td>668.000000</td>\n",
              "    </tr>\n",
              "    <tr>\n",
              "      <th>mean</th>\n",
              "      <td>447.450599</td>\n",
              "      <td>0.378743</td>\n",
              "      <td>2.333832</td>\n",
              "      <td>29.421343</td>\n",
              "      <td>0.553892</td>\n",
              "      <td>0.372754</td>\n",
              "      <td>32.179397</td>\n",
              "    </tr>\n",
              "    <tr>\n",
              "      <th>std</th>\n",
              "      <td>258.038366</td>\n",
              "      <td>0.485437</td>\n",
              "      <td>0.823707</td>\n",
              "      <td>14.526010</td>\n",
              "      <td>1.185279</td>\n",
              "      <td>0.795588</td>\n",
              "      <td>51.604012</td>\n",
              "    </tr>\n",
              "    <tr>\n",
              "      <th>min</th>\n",
              "      <td>1.000000</td>\n",
              "      <td>0.000000</td>\n",
              "      <td>1.000000</td>\n",
              "      <td>0.420000</td>\n",
              "      <td>0.000000</td>\n",
              "      <td>0.000000</td>\n",
              "      <td>0.000000</td>\n",
              "    </tr>\n",
              "    <tr>\n",
              "      <th>25%</th>\n",
              "      <td>221.750000</td>\n",
              "      <td>0.000000</td>\n",
              "      <td>2.000000</td>\n",
              "      <td>20.750000</td>\n",
              "      <td>0.000000</td>\n",
              "      <td>0.000000</td>\n",
              "      <td>7.925000</td>\n",
              "    </tr>\n",
              "    <tr>\n",
              "      <th>50%</th>\n",
              "      <td>452.500000</td>\n",
              "      <td>0.000000</td>\n",
              "      <td>3.000000</td>\n",
              "      <td>28.000000</td>\n",
              "      <td>0.000000</td>\n",
              "      <td>0.000000</td>\n",
              "      <td>14.400000</td>\n",
              "    </tr>\n",
              "    <tr>\n",
              "      <th>75%</th>\n",
              "      <td>673.500000</td>\n",
              "      <td>1.000000</td>\n",
              "      <td>3.000000</td>\n",
              "      <td>38.000000</td>\n",
              "      <td>1.000000</td>\n",
              "      <td>0.000000</td>\n",
              "      <td>30.500000</td>\n",
              "    </tr>\n",
              "    <tr>\n",
              "      <th>max</th>\n",
              "      <td>891.000000</td>\n",
              "      <td>1.000000</td>\n",
              "      <td>3.000000</td>\n",
              "      <td>80.000000</td>\n",
              "      <td>8.000000</td>\n",
              "      <td>6.000000</td>\n",
              "      <td>512.329200</td>\n",
              "    </tr>\n",
              "  </tbody>\n",
              "</table>\n",
              "</div>"
            ],
            "text/plain": [
              "       PassengerId    Survived      Pclass  ...       SibSp       Parch        Fare\n",
              "count   668.000000  668.000000  668.000000  ...  668.000000  668.000000  668.000000\n",
              "mean    447.450599    0.378743    2.333832  ...    0.553892    0.372754   32.179397\n",
              "std     258.038366    0.485437    0.823707  ...    1.185279    0.795588   51.604012\n",
              "min       1.000000    0.000000    1.000000  ...    0.000000    0.000000    0.000000\n",
              "25%     221.750000    0.000000    2.000000  ...    0.000000    0.000000    7.925000\n",
              "50%     452.500000    0.000000    3.000000  ...    0.000000    0.000000   14.400000\n",
              "75%     673.500000    1.000000    3.000000  ...    1.000000    0.000000   30.500000\n",
              "max     891.000000    1.000000    3.000000  ...    8.000000    6.000000  512.329200\n",
              "\n",
              "[8 rows x 7 columns]"
            ]
          },
          "metadata": {
            "tags": []
          },
          "execution_count": 13
        }
      ]
    },
    {
      "cell_type": "code",
      "metadata": {
        "id": "N2eGhaKy_Zdr",
        "colab_type": "code",
        "outputId": "624ab710-6281-4ce4-8646-bc320aef0d73",
        "colab": {
          "base_uri": "https://localhost:8080/",
          "height": 795
        }
      },
      "source": [
        "# 1. Import estimator class\n",
        "from sklearn.linear_model import LinearRegression\n",
        "\n",
        "# 2. Instantiate this class\n",
        "linear_reg = LinearRegression()\n",
        "\n",
        "# 3. Arrange X feature matrices (already did y target vectors)\n",
        "features = ['Pclass', 'Age', 'Fare']\n",
        "X_train = train[features]\n",
        "X_val = val[features]\n",
        "\n",
        "# Impute missing values\n",
        "from sklearn.impute import SimpleImputer\n",
        "imputer = SimpleImputer()\n",
        "X_train_imputed = imputer.fit_transform(X_train)\n",
        "X_val_imputed = imputer.transform(X_val)\n",
        "\n",
        "# 4. Fit the model\n",
        "linear_reg.fit(X_train_imputed, y_train)\n",
        "\n",
        "# 5. Apply the model to new data.\n",
        "# The predictions look like this ...\n",
        "linear_reg.predict(X_val_imputed)\n",
        "\n",
        "## What do these numbers mean?"
      ],
      "execution_count": 0,
      "outputs": [
        {
          "output_type": "execute_result",
          "data": {
            "text/plain": [
              "array([ 0.23418773,  0.414959  ,  0.29142187,  0.60240298,  0.33464094,\n",
              "        0.70204713,  0.22782825,  0.32690633,  0.31821017,  0.70458858,\n",
              "        0.60612454,  0.12990727,  0.2428592 ,  0.22348605,  0.38340904,\n",
              "        0.73591945,  0.57199051,  0.22789544,  0.44401679,  0.53784936,\n",
              "        0.26446032,  0.60380195,  0.298096  ,  0.2925248 ,  0.23355499,\n",
              "        0.37571072,  0.5643901 ,  0.41708001,  0.41611588,  0.21728567,\n",
              "        0.29813129,  0.27780501,  0.63815283,  0.22765856,  0.30499631,\n",
              "        0.24982192,  0.65180034,  0.22782825,  0.63451413,  0.22795194,\n",
              "        0.53575051,  0.23006821,  0.22808277,  0.22782825,  0.12860643,\n",
              "        0.34079898,  0.298354  ,  0.27232222,  0.26374274,  0.5157593 ,\n",
              "        0.40205002,  0.53938723,  0.1736849 ,  0.83797194, -0.01176533,\n",
              "        0.7565994 ,  0.4082248 ,  0.68352778,  0.39693048,  0.29811721,\n",
              "        0.28456041,  0.54381014,  0.44831187,  0.63410525,  0.22782825,\n",
              "        0.23986996,  0.53575051,  0.2307717 ,  0.31103413,  0.52646321,\n",
              "        0.46178026,  0.91162438,  0.6606025 ,  0.61815779,  0.27115922,\n",
              "        0.19014386,  0.22056436,  0.70408319,  0.36994065,  0.16042859,\n",
              "        0.34530614,  0.42842738,  0.6549822 ,  0.22781764,  0.459167  ,\n",
              "        0.37411125,  0.69758253,  0.65651261,  0.55433999,  0.22740404,\n",
              "        0.37618792,  0.38530828,  0.42687469,  0.2278106 ,  0.22795194,\n",
              "        0.23748825,  0.53111516,  0.12317307,  0.38340904,  0.24425774,\n",
              "        0.40130951,  0.18973024,  0.75956181,  0.16946402,  0.22081888,\n",
              "        0.25762364,  0.37853082,  0.52639588,  0.22541617,  0.56717219,\n",
              "        0.65622744,  0.2874821 ,  0.68770686,  0.59011085,  0.80026912,\n",
              "        0.29305149,  0.36151242,  0.38330299,  0.49126225,  0.12530478,\n",
              "        0.46968095,  0.65947149,  0.45212543,  0.63382514,  0.25717823,\n",
              "        0.59706775,  0.50226235,  0.71581246,  0.23351961,  0.28479373,\n",
              "        0.22793786,  0.23418773,  0.41668172,  0.39629502,  0.52856293,\n",
              "        0.33063225,  0.70618438,  0.23068686,  0.14295145,  0.31326827,\n",
              "        0.28511892,  0.34056477,  0.43728259,  0.38770413,  0.18145839,\n",
              "        0.41342135,  0.42381421,  0.17926221,  0.73641945,  0.13664146,\n",
              "        0.22864484,  0.26412096,  0.30478064,  0.2417421 ,  0.22808277,\n",
              "        0.22723436,  0.26918447,  0.22786006,  0.39443832,  0.21703822,\n",
              "        0.26726187,  0.63463551,  0.36320646,  0.68182452,  0.22842917,\n",
              "        0.42510028,  0.46883255,  0.65611078,  0.27792871,  0.18966661,\n",
              "        0.70910646,  0.50462453,  0.59019569,  0.37170901,  0.31094573,\n",
              "        0.22738283,  0.1901121 ,  0.50923771,  0.40661373,  0.52801311,\n",
              "        0.47095356,  0.21061154,  0.25095664,  0.40551086,  0.85861682,\n",
              "        0.52972581,  0.44303761,  0.22795194,  0.64222874,  0.34300388,\n",
              "        0.19744015,  0.40299653,  0.31088566,  0.23215036,  0.30015961,\n",
              "        0.65089911,  0.74737355,  0.39687743,  0.7441172 ,  0.37183989,\n",
              "        0.01388824,  0.22470563,  0.58994204,  0.00326201,  0.29083155,\n",
              "        0.24022201,  0.2321362 ,  0.66961709,  0.23351961,  0.0895021 ,\n",
              "        0.80785398,  0.22350726,  0.6643675 ,  0.22780704,  0.2428592 ,\n",
              "        0.4237939 ,  0.47190808,  0.51886995,  0.46851445,  0.22740404,\n",
              "        0.22795194,  0.46421937,  0.31531504])"
            ]
          },
          "metadata": {
            "tags": []
          },
          "execution_count": 14
        }
      ]
    },
    {
      "cell_type": "code",
      "metadata": {
        "id": "puIK3xOX_Zdt",
        "colab_type": "code",
        "outputId": "4fb3898b-8e55-4d82-f5ce-6664a23c2ad0",
        "colab": {
          "base_uri": "https://localhost:8080/",
          "height": 86
        }
      },
      "source": [
        "# Get coefficients\n",
        "pd.Series(linear_reg.coef_, features)\n",
        "\n",
        "## What do these numbers mean?"
      ],
      "execution_count": 0,
      "outputs": [
        {
          "output_type": "execute_result",
          "data": {
            "text/plain": [
              "Pclass   -0.195429\n",
              "Age      -0.006734\n",
              "Fare      0.000848\n",
              "dtype: float64"
            ]
          },
          "metadata": {
            "tags": []
          },
          "execution_count": 15
        }
      ]
    },
    {
      "cell_type": "code",
      "metadata": {
        "id": "dMR2-ZKF_Zdw",
        "colab_type": "code",
        "outputId": "9d76e130-abd8-4d96-c139-915ab1054d90",
        "colab": {
          "base_uri": "https://localhost:8080/",
          "height": 35
        }
      },
      "source": [
        "test_case = [[1, 5, 500]]  # 1st class, 5-year old, Rich\n",
        "linear_reg.predict(test_case)\n",
        "\n",
        "## What does this number mean?"
      ],
      "execution_count": 0,
      "outputs": [
        {
          "output_type": "execute_result",
          "data": {
            "text/plain": [
              "array([1.20077135])"
            ]
          },
          "metadata": {
            "tags": []
          },
          "execution_count": 16
        }
      ]
    },
    {
      "cell_type": "markdown",
      "metadata": {
        "id": "g8xn3fQH_Zdz",
        "colab_type": "text"
      },
      "source": [
        "### Logistic Regression!"
      ]
    },
    {
      "cell_type": "code",
      "metadata": {
        "id": "9pBUz2iybAXN",
        "colab_type": "code",
        "outputId": "3c5b61a1-c4af-4f47-df62-f66058688c66",
        "colab": {
          "base_uri": "https://localhost:8080/",
          "height": 362
        }
      },
      "source": [
        "# What happens when we run without referring to the imputed set?\n",
        "\n",
        "# from sklearn.linear_model import LogisticRegression\n",
        "\n",
        "# log_reg = LogisticRegression(solver='lbfgs')\n",
        "# log_reg.fit(X_train, y_train)\n",
        "# print('Validation Accuracy', log_reg.score(X_val, y_val))"
      ],
      "execution_count": 0,
      "outputs": [
        {
          "output_type": "error",
          "ename": "ValueError",
          "evalue": "ignored",
          "traceback": [
            "\u001b[0;31m---------------------------------------------------------------------------\u001b[0m",
            "\u001b[0;31mValueError\u001b[0m                                Traceback (most recent call last)",
            "\u001b[0;32m<ipython-input-17-93d2f55a2f7e>\u001b[0m in \u001b[0;36m<module>\u001b[0;34m()\u001b[0m\n\u001b[1;32m      3\u001b[0m \u001b[0;34m\u001b[0m\u001b[0m\n\u001b[1;32m      4\u001b[0m \u001b[0mlog_reg\u001b[0m \u001b[0;34m=\u001b[0m \u001b[0mLogisticRegression\u001b[0m\u001b[0;34m(\u001b[0m\u001b[0msolver\u001b[0m\u001b[0;34m=\u001b[0m\u001b[0;34m'lbfgs'\u001b[0m\u001b[0;34m)\u001b[0m\u001b[0;34m\u001b[0m\u001b[0;34m\u001b[0m\u001b[0m\n\u001b[0;32m----> 5\u001b[0;31m \u001b[0mlog_reg\u001b[0m\u001b[0;34m.\u001b[0m\u001b[0mfit\u001b[0m\u001b[0;34m(\u001b[0m\u001b[0mX_train\u001b[0m\u001b[0;34m,\u001b[0m \u001b[0my_train\u001b[0m\u001b[0;34m)\u001b[0m\u001b[0;34m\u001b[0m\u001b[0;34m\u001b[0m\u001b[0m\n\u001b[0m\u001b[1;32m      6\u001b[0m \u001b[0mprint\u001b[0m\u001b[0;34m(\u001b[0m\u001b[0;34m'Validation Accuracy'\u001b[0m\u001b[0;34m,\u001b[0m \u001b[0mlog_reg\u001b[0m\u001b[0;34m.\u001b[0m\u001b[0mscore\u001b[0m\u001b[0;34m(\u001b[0m\u001b[0mX_val\u001b[0m\u001b[0;34m,\u001b[0m \u001b[0my_val\u001b[0m\u001b[0;34m)\u001b[0m\u001b[0;34m)\u001b[0m\u001b[0;34m\u001b[0m\u001b[0;34m\u001b[0m\u001b[0m\n",
            "\u001b[0;32m/usr/local/lib/python3.6/dist-packages/sklearn/linear_model/logistic.py\u001b[0m in \u001b[0;36mfit\u001b[0;34m(self, X, y, sample_weight)\u001b[0m\n\u001b[1;32m   1530\u001b[0m \u001b[0;34m\u001b[0m\u001b[0m\n\u001b[1;32m   1531\u001b[0m         X, y = check_X_y(X, y, accept_sparse='csr', dtype=_dtype, order=\"C\",\n\u001b[0;32m-> 1532\u001b[0;31m                          accept_large_sparse=solver != 'liblinear')\n\u001b[0m\u001b[1;32m   1533\u001b[0m         \u001b[0mcheck_classification_targets\u001b[0m\u001b[0;34m(\u001b[0m\u001b[0my\u001b[0m\u001b[0;34m)\u001b[0m\u001b[0;34m\u001b[0m\u001b[0;34m\u001b[0m\u001b[0m\n\u001b[1;32m   1534\u001b[0m         \u001b[0mself\u001b[0m\u001b[0;34m.\u001b[0m\u001b[0mclasses_\u001b[0m \u001b[0;34m=\u001b[0m \u001b[0mnp\u001b[0m\u001b[0;34m.\u001b[0m\u001b[0munique\u001b[0m\u001b[0;34m(\u001b[0m\u001b[0my\u001b[0m\u001b[0;34m)\u001b[0m\u001b[0;34m\u001b[0m\u001b[0;34m\u001b[0m\u001b[0m\n",
            "\u001b[0;32m/usr/local/lib/python3.6/dist-packages/sklearn/utils/validation.py\u001b[0m in \u001b[0;36mcheck_X_y\u001b[0;34m(X, y, accept_sparse, accept_large_sparse, dtype, order, copy, force_all_finite, ensure_2d, allow_nd, multi_output, ensure_min_samples, ensure_min_features, y_numeric, warn_on_dtype, estimator)\u001b[0m\n\u001b[1;32m    717\u001b[0m                     \u001b[0mensure_min_features\u001b[0m\u001b[0;34m=\u001b[0m\u001b[0mensure_min_features\u001b[0m\u001b[0;34m,\u001b[0m\u001b[0;34m\u001b[0m\u001b[0;34m\u001b[0m\u001b[0m\n\u001b[1;32m    718\u001b[0m                     \u001b[0mwarn_on_dtype\u001b[0m\u001b[0;34m=\u001b[0m\u001b[0mwarn_on_dtype\u001b[0m\u001b[0;34m,\u001b[0m\u001b[0;34m\u001b[0m\u001b[0;34m\u001b[0m\u001b[0m\n\u001b[0;32m--> 719\u001b[0;31m                     estimator=estimator)\n\u001b[0m\u001b[1;32m    720\u001b[0m     \u001b[0;32mif\u001b[0m \u001b[0mmulti_output\u001b[0m\u001b[0;34m:\u001b[0m\u001b[0;34m\u001b[0m\u001b[0;34m\u001b[0m\u001b[0m\n\u001b[1;32m    721\u001b[0m         y = check_array(y, 'csr', force_all_finite=True, ensure_2d=False,\n",
            "\u001b[0;32m/usr/local/lib/python3.6/dist-packages/sklearn/utils/validation.py\u001b[0m in \u001b[0;36mcheck_array\u001b[0;34m(array, accept_sparse, accept_large_sparse, dtype, order, copy, force_all_finite, ensure_2d, allow_nd, ensure_min_samples, ensure_min_features, warn_on_dtype, estimator)\u001b[0m\n\u001b[1;32m    540\u001b[0m         \u001b[0;32mif\u001b[0m \u001b[0mforce_all_finite\u001b[0m\u001b[0;34m:\u001b[0m\u001b[0;34m\u001b[0m\u001b[0;34m\u001b[0m\u001b[0m\n\u001b[1;32m    541\u001b[0m             _assert_all_finite(array,\n\u001b[0;32m--> 542\u001b[0;31m                                allow_nan=force_all_finite == 'allow-nan')\n\u001b[0m\u001b[1;32m    543\u001b[0m \u001b[0;34m\u001b[0m\u001b[0m\n\u001b[1;32m    544\u001b[0m     \u001b[0;32mif\u001b[0m \u001b[0mensure_min_samples\u001b[0m \u001b[0;34m>\u001b[0m \u001b[0;36m0\u001b[0m\u001b[0;34m:\u001b[0m\u001b[0;34m\u001b[0m\u001b[0;34m\u001b[0m\u001b[0m\n",
            "\u001b[0;32m/usr/local/lib/python3.6/dist-packages/sklearn/utils/validation.py\u001b[0m in \u001b[0;36m_assert_all_finite\u001b[0;34m(X, allow_nan)\u001b[0m\n\u001b[1;32m     54\u001b[0m                 not allow_nan and not np.isfinite(X).all()):\n\u001b[1;32m     55\u001b[0m             \u001b[0mtype_err\u001b[0m \u001b[0;34m=\u001b[0m \u001b[0;34m'infinity'\u001b[0m \u001b[0;32mif\u001b[0m \u001b[0mallow_nan\u001b[0m \u001b[0;32melse\u001b[0m \u001b[0;34m'NaN, infinity'\u001b[0m\u001b[0;34m\u001b[0m\u001b[0;34m\u001b[0m\u001b[0m\n\u001b[0;32m---> 56\u001b[0;31m             \u001b[0;32mraise\u001b[0m \u001b[0mValueError\u001b[0m\u001b[0;34m(\u001b[0m\u001b[0mmsg_err\u001b[0m\u001b[0;34m.\u001b[0m\u001b[0mformat\u001b[0m\u001b[0;34m(\u001b[0m\u001b[0mtype_err\u001b[0m\u001b[0;34m,\u001b[0m \u001b[0mX\u001b[0m\u001b[0;34m.\u001b[0m\u001b[0mdtype\u001b[0m\u001b[0;34m)\u001b[0m\u001b[0;34m)\u001b[0m\u001b[0;34m\u001b[0m\u001b[0;34m\u001b[0m\u001b[0m\n\u001b[0m\u001b[1;32m     57\u001b[0m     \u001b[0;31m# for object dtype data, we only check for NaNs (GH-13254)\u001b[0m\u001b[0;34m\u001b[0m\u001b[0;34m\u001b[0m\u001b[0;34m\u001b[0m\u001b[0m\n\u001b[1;32m     58\u001b[0m     \u001b[0;32melif\u001b[0m \u001b[0mX\u001b[0m\u001b[0;34m.\u001b[0m\u001b[0mdtype\u001b[0m \u001b[0;34m==\u001b[0m \u001b[0mnp\u001b[0m\u001b[0;34m.\u001b[0m\u001b[0mdtype\u001b[0m\u001b[0;34m(\u001b[0m\u001b[0;34m'object'\u001b[0m\u001b[0;34m)\u001b[0m \u001b[0;32mand\u001b[0m \u001b[0;32mnot\u001b[0m \u001b[0mallow_nan\u001b[0m\u001b[0;34m:\u001b[0m\u001b[0;34m\u001b[0m\u001b[0;34m\u001b[0m\u001b[0m\n",
            "\u001b[0;31mValueError\u001b[0m: Input contains NaN, infinity or a value too large for dtype('float64')."
          ]
        }
      ]
    },
    {
      "cell_type": "code",
      "metadata": {
        "id": "n20KyOVF_Zd0",
        "colab_type": "code",
        "outputId": "4a42b26c-91da-480c-df89-44182f0ea5d6",
        "colab": {
          "base_uri": "https://localhost:8080/",
          "height": 35
        }
      },
      "source": [
        "from sklearn.linear_model import LogisticRegression\n",
        "\n",
        "log_reg = LogisticRegression(solver='lbfgs')\n",
        "log_reg.fit(X_train_imputed, y_train)\n",
        "print('Validation Accuracy', log_reg.score(X_val_imputed, y_val))"
      ],
      "execution_count": 0,
      "outputs": [
        {
          "output_type": "stream",
          "text": [
            "Validation Accuracy 0.7354260089686099\n"
          ],
          "name": "stdout"
        }
      ]
    },
    {
      "cell_type": "code",
      "metadata": {
        "id": "uxGMJB11_Zd2",
        "colab_type": "code",
        "outputId": "64d8378d-edee-4f05-c14d-51ee1a1e9ddb",
        "colab": {
          "base_uri": "https://localhost:8080/",
          "height": 207
        }
      },
      "source": [
        "# The predictions look like this\n",
        "log_reg.predict(X_val_imputed)"
      ],
      "execution_count": 0,
      "outputs": [
        {
          "output_type": "execute_result",
          "data": {
            "text/plain": [
              "array([0, 0, 0, 1, 0, 1, 0, 0, 0, 1, 1, 0, 0, 0, 0, 1, 1, 0, 0, 1, 0, 1,\n",
              "       0, 0, 0, 0, 1, 0, 0, 0, 0, 0, 1, 0, 0, 0, 1, 0, 1, 0, 1, 0, 0, 0,\n",
              "       0, 0, 0, 0, 0, 1, 0, 1, 0, 1, 0, 1, 0, 1, 0, 0, 0, 1, 0, 1, 0, 0,\n",
              "       1, 0, 0, 1, 0, 1, 1, 1, 0, 0, 0, 1, 0, 0, 0, 0, 1, 0, 0, 0, 1, 1,\n",
              "       1, 0, 0, 0, 0, 0, 0, 0, 1, 0, 0, 0, 0, 0, 1, 0, 0, 0, 0, 1, 0, 1,\n",
              "       1, 0, 1, 1, 1, 0, 0, 0, 0, 0, 0, 1, 0, 1, 0, 1, 0, 1, 0, 0, 0, 0,\n",
              "       0, 0, 1, 0, 1, 0, 0, 0, 0, 0, 0, 0, 0, 0, 0, 0, 1, 0, 0, 0, 0, 0,\n",
              "       0, 0, 0, 0, 0, 0, 0, 1, 0, 1, 0, 0, 0, 1, 0, 0, 1, 1, 1, 0, 0, 0,\n",
              "       0, 1, 0, 1, 0, 0, 0, 0, 1, 1, 0, 0, 1, 0, 0, 0, 0, 0, 0, 1, 1, 0,\n",
              "       1, 0, 0, 0, 1, 0, 0, 0, 0, 1, 0, 0, 1, 0, 1, 0, 0, 0, 0, 1, 0, 0,\n",
              "       0, 0, 0])"
            ]
          },
          "metadata": {
            "tags": []
          },
          "execution_count": 19
        }
      ]
    },
    {
      "cell_type": "code",
      "metadata": {
        "id": "WFcgRO5H_Zed",
        "colab_type": "code",
        "outputId": "1b1608f5-8f6a-4078-9af2-b87ce6de3e86",
        "colab": {
          "base_uri": "https://localhost:8080/",
          "height": 35
        }
      },
      "source": [
        "log_reg.predict(test_case)"
      ],
      "execution_count": 0,
      "outputs": [
        {
          "output_type": "execute_result",
          "data": {
            "text/plain": [
              "array([1])"
            ]
          },
          "metadata": {
            "tags": []
          },
          "execution_count": 20
        }
      ]
    },
    {
      "cell_type": "code",
      "metadata": {
        "id": "CvC7KpXl_Zef",
        "colab_type": "code",
        "outputId": "a7619a6b-8543-4801-c52d-3f3838e663af",
        "colab": {
          "base_uri": "https://localhost:8080/",
          "height": 35
        }
      },
      "source": [
        "log_reg.predict_proba(test_case)"
      ],
      "execution_count": 0,
      "outputs": [
        {
          "output_type": "execute_result",
          "data": {
            "text/plain": [
              "array([[0.02418324, 0.97581676]])"
            ]
          },
          "metadata": {
            "tags": []
          },
          "execution_count": 21
        }
      ]
    },
    {
      "cell_type": "code",
      "metadata": {
        "id": "LFPBZpE1bh6o",
        "colab_type": "code",
        "outputId": "40e4e99e-09e8-4ca6-eff1-cdbe5ae6f802",
        "colab": {
          "base_uri": "https://localhost:8080/",
          "height": 1000
        }
      },
      "source": [
        "log_reg.predict_proba(X_val_imputed)"
      ],
      "execution_count": 0,
      "outputs": [
        {
          "output_type": "execute_result",
          "data": {
            "text/plain": [
              "array([[0.76585193, 0.23414807],\n",
              "       [0.60189285, 0.39810715],\n",
              "       [0.71510353, 0.28489647],\n",
              "       [0.3781011 , 0.6218989 ],\n",
              "       [0.67084901, 0.32915099],\n",
              "       [0.28250165, 0.71749835],\n",
              "       [0.77246986, 0.22753014],\n",
              "       [0.6775088 , 0.3224912 ],\n",
              "       [0.68854331, 0.31145669],\n",
              "       [0.29019721, 0.70980279],\n",
              "       [0.3887811 , 0.6112189 ],\n",
              "       [0.84380319, 0.15619681],\n",
              "       [0.75661474, 0.24338526],\n",
              "       [0.77615821, 0.22384179],\n",
              "       [0.63662454, 0.36337546],\n",
              "       [0.25816201, 0.74183799],\n",
              "       [0.42802656, 0.57197344],\n",
              "       [0.77240063, 0.22759937],\n",
              "       [0.56784703, 0.43215297],\n",
              "       [0.4682094 , 0.5317906 ],\n",
              "       [0.74044841, 0.25955159],\n",
              "       [0.39740221, 0.60259779],\n",
              "       [0.70861978, 0.29138022],\n",
              "       [0.71378465, 0.28621535],\n",
              "       [0.76651633, 0.23348367],\n",
              "       [0.62277308, 0.37722692],\n",
              "       [0.44266763, 0.55733237],\n",
              "       [0.59891018, 0.40108982],\n",
              "       [0.57677655, 0.42322345],\n",
              "       [0.78112791, 0.21887209],\n",
              "       [0.70857707, 0.29142293],\n",
              "       [0.72811872, 0.27188128],\n",
              "       [0.35818122, 0.64181878],\n",
              "       [0.77264462, 0.22735538],\n",
              "       [0.70177257, 0.29822743],\n",
              "       [0.75242302, 0.24757698],\n",
              "       [0.3424065 , 0.6575935 ],\n",
              "       [0.77246986, 0.22753014],\n",
              "       [0.36209476, 0.63790524],\n",
              "       [0.7723424 , 0.2276576 ],\n",
              "       [0.44532875, 0.55467125],\n",
              "       [0.77071353, 0.22928647],\n",
              "       [0.77220755, 0.22779245],\n",
              "       [0.77246986, 0.22753014],\n",
              "       [0.84381856, 0.15618144],\n",
              "       [0.65946636, 0.34053364],\n",
              "       [0.70830744, 0.29169256],\n",
              "       [0.73296675, 0.26703325],\n",
              "       [0.74125592, 0.25874408],\n",
              "       [0.47989962, 0.52010038],\n",
              "       [0.59495595, 0.40504405],\n",
              "       [0.45663713, 0.54336287],\n",
              "       [0.81156916, 0.18843084],\n",
              "       [0.16573392, 0.83426608],\n",
              "       [0.91368848, 0.08631152],\n",
              "       [0.23294216, 0.76705784],\n",
              "       [0.60952635, 0.39047365],\n",
              "       [0.2682086 , 0.7317914 ],\n",
              "       [0.61987026, 0.38012974],\n",
              "       [0.70859411, 0.29140589],\n",
              "       [0.72172028, 0.27827972],\n",
              "       [0.44849856, 0.55150144],\n",
              "       [0.55980962, 0.44019038],\n",
              "       [0.36365328, 0.63634672],\n",
              "       [0.77246986, 0.22753014],\n",
              "       [0.77633032, 0.22366968],\n",
              "       [0.44532875, 0.55467125],\n",
              "       [0.76998404, 0.23001596],\n",
              "       [0.69590462, 0.30409538],\n",
              "       [0.47548564, 0.52451436],\n",
              "       [0.54400152, 0.45599848],\n",
              "       [0.10905526, 0.89094474],\n",
              "       [0.3342189 , 0.6657811 ],\n",
              "       [0.36865625, 0.63134375],\n",
              "       [0.73429884, 0.26570116],\n",
              "       [0.80119803, 0.19880197],\n",
              "       [0.77847266, 0.22152734],\n",
              "       [0.28618442, 0.71381558],\n",
              "       [0.65128   , 0.34872   ],\n",
              "       [0.82206928, 0.17793072],\n",
              "       [0.6535089 , 0.3464911 ],\n",
              "       [0.58647968, 0.41352032],\n",
              "       [0.31835658, 0.68164342],\n",
              "       [0.77248079, 0.22751921],\n",
              "       [0.56617904, 0.43382096],\n",
              "       [0.65750596, 0.34249404],\n",
              "       [0.28020241, 0.71979759],\n",
              "       [0.33287184, 0.66712816],\n",
              "       [0.4609747 , 0.5390253 ],\n",
              "       [0.77290657, 0.22709343],\n",
              "       [0.62387917, 0.37612083],\n",
              "       [0.61125453, 0.38874547],\n",
              "       [0.60300812, 0.39699188],\n",
              "       [0.77248804, 0.22751196],\n",
              "       [0.7723424 , 0.2276576 ],\n",
              "       [0.76429289, 0.23570711],\n",
              "       [0.47617537, 0.52382463],\n",
              "       [0.84796981, 0.15203019],\n",
              "       [0.63662454, 0.36337546],\n",
              "       [0.75844824, 0.24155176],\n",
              "       [0.63305313, 0.36694687],\n",
              "       [0.80277533, 0.19722467],\n",
              "       [0.22852762, 0.77147238],\n",
              "       [0.81757368, 0.18242632],\n",
              "       [0.77821528, 0.22178472],\n",
              "       [0.74665757, 0.25334243],\n",
              "       [0.63629156, 0.36370844],\n",
              "       [0.48495422, 0.51504578],\n",
              "       [0.77418656, 0.22581344],\n",
              "       [0.43864837, 0.56135163],\n",
              "       [0.33420916, 0.66579084],\n",
              "       [0.7190269 , 0.2809731 ],\n",
              "       [0.29448074, 0.70551926],\n",
              "       [0.41312326, 0.58687674],\n",
              "       [0.17748403, 0.82251597],\n",
              "       [0.71315355, 0.28684645],\n",
              "       [0.67393693, 0.32606307],\n",
              "       [0.63676833, 0.36323167],\n",
              "       [0.5084218 , 0.4915782 ],\n",
              "       [0.84340008, 0.15659992],\n",
              "       [0.5380955 , 0.4619045 ],\n",
              "       [0.3257252 , 0.6742748 ],\n",
              "       [0.56340565, 0.43659435],\n",
              "       [0.34457419, 0.65542581],\n",
              "       [0.74715109, 0.25284891],\n",
              "       [0.40508114, 0.59491886],\n",
              "       [0.51655337, 0.48344663],\n",
              "       [0.26938332, 0.73061668],\n",
              "       [0.76655344, 0.23344656],\n",
              "       [0.72144554, 0.27855446],\n",
              "       [0.77235692, 0.22764308],\n",
              "       [0.76585193, 0.23414807],\n",
              "       [0.60231334, 0.39768666],\n",
              "       [0.60305809, 0.39694191],\n",
              "       [0.47803434, 0.52196566],\n",
              "       [0.67436971, 0.32563029],\n",
              "       [0.27249043, 0.72750957],\n",
              "       [0.7700721 , 0.2299279 ],\n",
              "       [0.83553329, 0.16446671],\n",
              "       [0.69152706, 0.30847294],\n",
              "       [0.72106233, 0.27893767],\n",
              "       [0.67957177, 0.32042823],\n",
              "       [0.57567312, 0.42432688],\n",
              "       [0.62903063, 0.37096937],\n",
              "       [0.80568048, 0.19431952],\n",
              "       [0.59865087, 0.40134913],\n",
              "       [0.59120833, 0.40879167],\n",
              "       [0.82231026, 0.17768974],\n",
              "       [0.23880505, 0.76119495],\n",
              "       [0.83954399, 0.16045601],\n",
              "       [0.77162752, 0.22837248],\n",
              "       [0.7408305 , 0.2591695 ],\n",
              "       [0.70203706, 0.29796294],\n",
              "       [0.75781847, 0.24218153],\n",
              "       [0.77220755, 0.22779245],\n",
              "       [0.77308109, 0.22691891],\n",
              "       [0.72708976, 0.27291024],\n",
              "       [0.77243708, 0.22756292],\n",
              "       [0.62154167, 0.37845833],\n",
              "       [0.78009049, 0.21990951],\n",
              "       [0.73800663, 0.26199337],\n",
              "       [0.36293436, 0.63706564],\n",
              "       [0.65850381, 0.34149619],\n",
              "       [0.30169444, 0.69830556],\n",
              "       [0.7718502 , 0.2281498 ],\n",
              "       [0.59829914, 0.40170086],\n",
              "       [0.53933125, 0.46066875],\n",
              "       [0.33436132, 0.66563868],\n",
              "       [0.72797516, 0.27202484],\n",
              "       [0.80283437, 0.19716563],\n",
              "       [0.27869594, 0.72130406],\n",
              "       [0.49635043, 0.50364957],\n",
              "       [0.4130027 , 0.5869973 ],\n",
              "       [0.63001909, 0.36998091],\n",
              "       [0.69601427, 0.30398573],\n",
              "       [0.77292839, 0.22707161],\n",
              "       [0.79882537, 0.20117463],\n",
              "       [0.49146834, 0.50853166],\n",
              "       [0.59031072, 0.40968928],\n",
              "       [0.48539954, 0.51460046],\n",
              "       [0.53624101, 0.46375899],\n",
              "       [0.78648437, 0.21351563],\n",
              "       [0.75258264, 0.24741736],\n",
              "       [0.58824095, 0.41175905],\n",
              "       [0.13766983, 0.86233017],\n",
              "       [0.48382984, 0.51617016],\n",
              "       [0.56556913, 0.43443087],\n",
              "       [0.7723424 , 0.2276576 ],\n",
              "       [0.35270793, 0.64729207],\n",
              "       [0.67972844, 0.32027156],\n",
              "       [0.79429843, 0.20570157],\n",
              "       [0.61501882, 0.38498118],\n",
              "       [0.69608875, 0.30391125],\n",
              "       [0.76854974, 0.23145026],\n",
              "       [0.71982328, 0.28017672],\n",
              "       [0.33184282, 0.66815718],\n",
              "       [0.21621583, 0.78378417],\n",
              "       [0.62171092, 0.37828908],\n",
              "       [0.2476656 , 0.7523344 ],\n",
              "       [0.62633262, 0.37366738],\n",
              "       [0.90371437, 0.09628563],\n",
              "       [0.77491382, 0.22508618],\n",
              "       [0.39362831, 0.60637169],\n",
              "       [0.90774962, 0.09225038],\n",
              "       [0.71580793, 0.28419207],\n",
              "       [0.75944992, 0.24055008],\n",
              "       [0.76856451, 0.23143549],\n",
              "       [0.30638327, 0.69361673],\n",
              "       [0.76655344, 0.23344656],\n",
              "       [0.8674483 , 0.1325517 ],\n",
              "       [0.17368033, 0.82631967],\n",
              "       [0.77613661, 0.22386339],\n",
              "       [0.31782422, 0.68217578],\n",
              "       [0.77249171, 0.22750829],\n",
              "       [0.75661474, 0.24338526],\n",
              "       [0.5694401 , 0.4305599 ],\n",
              "       [0.53111173, 0.46888827],\n",
              "       [0.48847171, 0.51152829],\n",
              "       [0.53606205, 0.46393795],\n",
              "       [0.77290657, 0.22709343],\n",
              "       [0.7723424 , 0.2276576 ],\n",
              "       [0.54418001, 0.45581999],\n",
              "       [0.68896205, 0.31103795]])"
            ]
          },
          "metadata": {
            "tags": []
          },
          "execution_count": 22
        }
      ]
    },
    {
      "cell_type": "code",
      "metadata": {
        "id": "18ZmvUcG_Zeh",
        "colab_type": "code",
        "outputId": "0e83f2ea-db5d-4b5e-8a7e-90eabf3d20b8",
        "colab": {
          "base_uri": "https://localhost:8080/",
          "height": 35
        }
      },
      "source": [
        "# What's the math?\n",
        "log_reg.coef_"
      ],
      "execution_count": 0,
      "outputs": [
        {
          "output_type": "execute_result",
          "data": {
            "text/plain": [
              "array([[-0.84573613, -0.03196344,  0.0049728 ]])"
            ]
          },
          "metadata": {
            "tags": []
          },
          "execution_count": 23
        }
      ]
    },
    {
      "cell_type": "code",
      "metadata": {
        "id": "XtCVpELy_Zej",
        "colab_type": "code",
        "outputId": "7752a8d4-e02b-494a-bf8f-9716f999df5f",
        "colab": {
          "base_uri": "https://localhost:8080/",
          "height": 35
        }
      },
      "source": [
        "log_reg.intercept_"
      ],
      "execution_count": 0,
      "outputs": [
        {
          "output_type": "execute_result",
          "data": {
            "text/plain": [
              "array([2.21676629])"
            ]
          },
          "metadata": {
            "tags": []
          },
          "execution_count": 24
        }
      ]
    },
    {
      "cell_type": "code",
      "metadata": {
        "id": "0VaCqx0mcn1f",
        "colab_type": "code",
        "colab": {}
      },
      "source": [
        ""
      ],
      "execution_count": 0,
      "outputs": []
    },
    {
      "cell_type": "markdown",
      "metadata": {
        "id": "RHDbp1HEcy35",
        "colab_type": "text"
      },
      "source": [
        "![](https://miro.medium.com/max/800/0*gKOV65tvGfY8SMem.png)"
      ]
    },
    {
      "cell_type": "code",
      "metadata": {
        "id": "7l6lSatg_Zel",
        "colab_type": "code",
        "colab": {}
      },
      "source": [
        "# The logistic sigmoid \"squishing\" function, \n",
        "# implemented to accept numpy arrays\n",
        "import numpy as np\n",
        "\n",
        "def sigmoid(x):\n",
        "    return 1 / (1 + np.e**(-x))\n",
        "\n",
        "# 1 + np.e**(-2) \n",
        "1 + np.e**(-322222) \n"
      ],
      "execution_count": 0,
      "outputs": []
    },
    {
      "cell_type": "code",
      "metadata": {
        "lines_to_next_cell": 2,
        "id": "W7pl2PDL_Zem",
        "colab_type": "code",
        "colab": {}
      },
      "source": [
        "sigmoid(log_reg.intercept_ + np.dot(log_reg.coef_, np.transpose(test_case)))"
      ],
      "execution_count": 0,
      "outputs": []
    },
    {
      "cell_type": "markdown",
      "metadata": {
        "id": "RWz4ECL4_Zeo",
        "colab_type": "text"
      },
      "source": [
        "So, clearly a more appropriate model in this situation! For more on the math, [see this Wikipedia example](https://en.wikipedia.org/wiki/Logistic_regression#Probability_of_passing_an_exam_versus_hours_of_study)."
      ]
    },
    {
      "cell_type": "markdown",
      "metadata": {
        "id": "JWfWjBRB_Zep",
        "colab_type": "text"
      },
      "source": [
        "# Use sklearn.linear_model.LogisticRegression to fit and interpret Logistic Regression models"
      ]
    },
    {
      "cell_type": "markdown",
      "metadata": {
        "id": "T8Mrx3Vg_Zeq",
        "colab_type": "text"
      },
      "source": [
        "## Overview\n",
        "\n",
        "Now that we have more intuition and interpretation of Logistic Regression, let's use it within a realistic, complete scikit-learn workflow, with more features and transformations."
      ]
    },
    {
      "cell_type": "markdown",
      "metadata": {
        "id": "WYYGnHXL_Zer",
        "colab_type": "text"
      },
      "source": [
        "## Follow Along\n",
        "\n",
        "Select these features: `['Pclass', 'Sex', 'Age', 'SibSp', 'Parch', 'Fare', 'Embarked']`\n",
        "\n",
        "(Why shouldn't we include the `Name` or `Ticket` features? What would happen here?) \n",
        "\n",
        "Fit this sequence of transformers & estimator:\n",
        "\n",
        "- [category_encoders.one_hot.OneHotEncoder](https://contrib.scikit-learn.org/categorical-encoding/onehot.html)\n",
        "- [sklearn.impute.SimpleImputer](https://scikit-learn.org/stable/modules/generated/sklearn.impute.SimpleImputer.html)\n",
        "- [sklearn.preprocessing.StandardScaler](https://scikit-learn.org/stable/modules/generated/sklearn.preprocessing.StandardScaler.html)\n",
        "- [sklearn.linear_model.LogisticRegression](https://scikit-learn.org/stable/modules/generated/sklearn.linear_model.LogisticRegression.html)\n",
        "\n",
        "Get validation accuracy."
      ]
    },
    {
      "cell_type": "code",
      "metadata": {
        "id": "qIErMyXG_Zer",
        "colab_type": "code",
        "outputId": "28c57300-26a9-45b9-ac16-e33686f9c31a",
        "colab": {
          "base_uri": "https://localhost:8080/",
          "height": 296
        }
      },
      "source": [
        "# TODO\n",
        "!pip install category_encoders"
      ],
      "execution_count": 0,
      "outputs": [
        {
          "output_type": "stream",
          "text": [
            "Collecting category_encoders\n",
            "\u001b[?25l  Downloading https://files.pythonhosted.org/packages/a0/52/c54191ad3782de633ea3d6ee3bb2837bda0cf3bc97644bb6375cf14150a0/category_encoders-2.1.0-py2.py3-none-any.whl (100kB)\n",
            "\r\u001b[K     |███▎                            | 10kB 17.4MB/s eta 0:00:01\r\u001b[K     |██████▌                         | 20kB 1.8MB/s eta 0:00:01\r\u001b[K     |█████████▉                      | 30kB 2.6MB/s eta 0:00:01\r\u001b[K     |█████████████                   | 40kB 1.7MB/s eta 0:00:01\r\u001b[K     |████████████████▍               | 51kB 2.1MB/s eta 0:00:01\r\u001b[K     |███████████████████▋            | 61kB 2.5MB/s eta 0:00:01\r\u001b[K     |██████████████████████▉         | 71kB 2.9MB/s eta 0:00:01\r\u001b[K     |██████████████████████████▏     | 81kB 3.3MB/s eta 0:00:01\r\u001b[K     |█████████████████████████████▍  | 92kB 3.7MB/s eta 0:00:01\r\u001b[K     |████████████████████████████████| 102kB 2.3MB/s \n",
            "\u001b[?25hRequirement already satisfied: numpy>=1.11.3 in /usr/local/lib/python3.6/dist-packages (from category_encoders) (1.17.3)\n",
            "Requirement already satisfied: patsy>=0.4.1 in /usr/local/lib/python3.6/dist-packages (from category_encoders) (0.5.1)\n",
            "Requirement already satisfied: scipy>=0.19.0 in /usr/local/lib/python3.6/dist-packages (from category_encoders) (1.3.1)\n",
            "Requirement already satisfied: pandas>=0.21.1 in /usr/local/lib/python3.6/dist-packages (from category_encoders) (0.25.3)\n",
            "Requirement already satisfied: statsmodels>=0.6.1 in /usr/local/lib/python3.6/dist-packages (from category_encoders) (0.10.1)\n",
            "Requirement already satisfied: scikit-learn>=0.20.0 in /usr/local/lib/python3.6/dist-packages (from category_encoders) (0.21.3)\n",
            "Requirement already satisfied: six in /usr/local/lib/python3.6/dist-packages (from patsy>=0.4.1->category_encoders) (1.12.0)\n",
            "Requirement already satisfied: python-dateutil>=2.6.1 in /usr/local/lib/python3.6/dist-packages (from pandas>=0.21.1->category_encoders) (2.6.1)\n",
            "Requirement already satisfied: pytz>=2017.2 in /usr/local/lib/python3.6/dist-packages (from pandas>=0.21.1->category_encoders) (2018.9)\n",
            "Requirement already satisfied: joblib>=0.11 in /usr/local/lib/python3.6/dist-packages (from scikit-learn>=0.20.0->category_encoders) (0.14.0)\n",
            "Installing collected packages: category-encoders\n",
            "Successfully installed category-encoders-2.1.0\n"
          ],
          "name": "stdout"
        }
      ]
    },
    {
      "cell_type": "code",
      "metadata": {
        "colab_type": "code",
        "outputId": "ce04f4e1-67be-4407-8737-470b19e4cdc5",
        "id": "FLH20EdSJ3r7",
        "colab": {
          "base_uri": "https://localhost:8080/",
          "height": 89
        }
      },
      "source": [
        "# TODO\n",
        "import category_encoders as ce \n",
        "from sklearn.impute import SimpleImputer\n",
        "from sklearn.linear_model import LogisticRegression\n",
        "from sklearn.preprocessing import StandardScaler\n",
        "\n",
        "target = 'Survived'\n",
        "features = ['Pclass', 'Sex', 'Age', 'SibSp', 'Parch', 'Fare', 'Embarked']\n",
        "X_train = train[features]\n",
        "y_train = train[target]\n",
        "\n",
        "X_val = val[features]\n",
        "y_val = val[target]\n",
        "\n",
        "encoder = ce.OneHotEncoder(use_cat_names=True)\n",
        "X_train_encoded = encoder.fit_transform(X_train)\n",
        "X_val_encoded = encoder.transform(X_val)\n",
        "# X_train_encoded.head()\n",
        "\n",
        "imputer = SimpleImputer()\n",
        "X_train_imputed = imputer.fit_transform(X_train_encoded)\n",
        "X_val_imputed = imputer.transform(X_val_encoded)\n",
        "\n",
        "scaler = StandardScaler()\n",
        "X_train_scaled = scaler.fit_transform(X_train_imputed)\n",
        "X_val_scaled = scaler.transform(X_val_imputed)\n",
        "\n",
        "model = LogisticRegression(random_state=42)\n",
        "model.fit(X_train_scaled, y_train)\n",
        "print ('Validation Accuracy', model.score(X_val_scaled,y_val))\n"
      ],
      "execution_count": 0,
      "outputs": [
        {
          "output_type": "stream",
          "text": [
            "Validation Accuracy 0.8071748878923767\n"
          ],
          "name": "stdout"
        },
        {
          "output_type": "stream",
          "text": [
            "/usr/local/lib/python3.6/dist-packages/sklearn/linear_model/logistic.py:432: FutureWarning: Default solver will be changed to 'lbfgs' in 0.22. Specify a solver to silence this warning.\n",
            "  FutureWarning)\n"
          ],
          "name": "stderr"
        }
      ]
    },
    {
      "cell_type": "markdown",
      "metadata": {
        "id": "9gJayfOS_Zeu",
        "colab_type": "text"
      },
      "source": [
        "Plot coefficients:"
      ]
    },
    {
      "cell_type": "code",
      "metadata": {
        "id": "TuI_jQIS_Zeu",
        "colab_type": "code",
        "outputId": "99477061-c342-409d-e736-ce77cc232360",
        "colab": {
          "base_uri": "https://localhost:8080/",
          "height": 265
        }
      },
      "source": [
        "# TODO\n",
        "%matplotlib inline\n",
        "coefficients = pd.Series(model.coef_[0], X_train_encoded.columns)\n",
        "coefficients.sort_values().plot.barh();"
      ],
      "execution_count": 0,
      "outputs": [
        {
          "output_type": "display_data",
          "data": {
            "image/png": "[encoded data removed]",
            "text/plain": [
              "<Figure size 432x288 with 1 Axes>"
            ]
          },
          "metadata": {
            "tags": []
          }
        }
      ]
    },
    {
      "cell_type": "markdown",
      "metadata": {
        "id": "sMvePOMw_Zew",
        "colab_type": "text"
      },
      "source": [
        "Generate [Kaggle](https://www.kaggle.com/c/titanic) submission:"
      ]
    },
    {
      "cell_type": "code",
      "metadata": {
        "id": "M07rcHmT_Zew",
        "colab_type": "code",
        "outputId": "6bf798cd-4768-4ed7-ee25-7f9414c6ba94",
        "colab": {
          "base_uri": "https://localhost:8080/",
          "height": 225
        }
      },
      "source": [
        "# TODO\n",
        "X_test = test[features]\n",
        "X_test_encoded = encoder.transform(X_test)\n",
        "X_test_imputed = imputer.transform(X_test_encoded)\n",
        "X_test_scaled = scaler.transform(X_test_imputed)\n",
        "y_pred = model.predict(X_test_scaled)\n",
        "submission = test[['PassengerId']].copy()\n",
        "submission['Survived'] = y_pred\n",
        "# submission['Survived']\n",
        "submission.to_csv('titanic-submission-01.csv', index=False)"
      ],
      "execution_count": 0,
      "outputs": [
        {
          "output_type": "execute_result",
          "data": {
            "text/plain": [
              "0      0\n",
              "1      0\n",
              "2      0\n",
              "3      0\n",
              "4      1\n",
              "      ..\n",
              "413    0\n",
              "414    1\n",
              "415    0\n",
              "416    0\n",
              "417    0\n",
              "Name: Survived, Length: 418, dtype: int64"
            ]
          },
          "metadata": {
            "tags": []
          },
          "execution_count": 40
        }
      ]
    },
    {
      "cell_type": "markdown",
      "metadata": {
        "id": "7k869nJY_Zey",
        "colab_type": "text"
      },
      "source": [
        "## Challenge\n",
        "\n",
        "You'll use Logistic Regression for your first model in our Kaggle challenge!"
      ]
    },
    {
      "cell_type": "markdown",
      "metadata": {
        "id": "38lsarEV_Zey",
        "colab_type": "text"
      },
      "source": [
        "# Review\n",
        "\n",
        "For your assignment, make your first submission to our Kaggle challenge. The assignment notebook has code to load the data, and more details about the instructions:\n",
        "\n",
        "- [Sign up for a Kaggle account](https://www.kaggle.com/), if you don’t already have one. Go to our Kaggle InClass competition website. You will be given the URL in Slack. Go to the Rules page. Accept the rules of the competition.\n",
        "- Do train/validate/test split with the Tanzania Waterpumps data.\n",
        "- Begin with baselines for classification.\n",
        "- Use scikit-learn for logistic regression.\n",
        "- Get your validation accuracy score.\n",
        "- Submit your predictions to our Kaggle competition. (Go to our Kaggle InClass competition webpage. Use the blue **Submit Predictions** button to upload your CSV file. Or you can use the Kaggle API to submit your predictions.)"
      ]
    },
    {
      "cell_type": "markdown",
      "metadata": {
        "id": "NwT6xEGN_Zez",
        "colab_type": "text"
      },
      "source": [
        "# Sources\n",
        "- Brandon Rohrer, [Training, Validation, and Testing Data Sets](https://end-to-end-machine-learning.teachable.com/blog/146320/training-validation-testing-data-sets)\n",
        "- Hadley Wickham, [R for Data Science](https://r4ds.had.co.nz/model-intro.html#hypothesis-generation-vs.hypothesis-confirmation), Hypothesis generation vs. hypothesis confirmation\n",
        "- Hastie, Tibshirani, and Friedman, [The Elements of Statistical Learning](http://statweb.stanford.edu/~tibs/ElemStatLearn/), Chapter 7: Model Assessment and Selection\n",
        "- Mueller and Guido, [Introduction to Machine Learning with Python](https://books.google.com/books?id=1-4lDQAAQBAJ&pg=PA270), Chapter 5.2.2: The Danger of Overfitting the Parameters and the Validation Set\n",
        "- Provost and Fawcett, [Data Science for Business](https://books.google.com/books?id=4ZctAAAAQBAJ&pg=PT276), Chapter 7.3: Evaluation, Baseline Performance, and Implications for Investments in Data\n",
        "- Rachel Thomas, [How (and why) to create a good validation set](https://www.fast.ai/2017/11/13/validation-sets/)\n",
        "- Sebastian Raschka, [Model Evaluation](https://sebastianraschka.com/blog/2018/model-evaluation-selection-part4.html)\n",
        "- Will Koehrsen, [\"A baseline for classification can be the most common class in the training dataset.\"](https://twitter.com/koehrsen_will/status/1088863527778111488)"
      ]
    }
  ]
}