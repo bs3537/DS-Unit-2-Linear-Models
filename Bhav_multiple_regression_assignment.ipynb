{
  "nbformat": 4,
  "nbformat_minor": 0,
  "metadata": {
    "colab": {
      "name": "Bhav_multiple_regression_assignment.ipynb",
      "provenance": [],
      "collapsed_sections": [],
      "include_colab_link": true
    },
    "kernelspec": {
      "display_name": "Python 3",
      "language": "python",
      "name": "python3"
    },
    "language_info": {
      "codemirror_mode": {
        "name": "ipython",
        "version": 3
      },
      "file_extension": ".py",
      "mimetype": "text/x-python",
      "name": "python",
      "nbconvert_exporter": "python",
      "pygments_lexer": "ipython3",
      "version": "3.7.3"
    }
  },
  "cells": [
    {
      "cell_type": "markdown",
      "metadata": {
        "id": "view-in-github",
        "colab_type": "text"
      },
      "source": [
        "<a href=\"https://colab.research.google.com/github/bs3537/DS-Unit-2-Linear-Models/blob/master/Bhav_multiple_regression_assignment.ipynb\" target=\"_parent\"><img src=\"https://colab.research.google.com/assets/colab-badge.svg\" alt=\"Open In Colab\"/></a>"
      ]
    },
    {
      "cell_type": "markdown",
      "metadata": {
        "id": "Cx7fAxX8SpBU",
        "colab_type": "text"
      },
      "source": [
        "Lambda School Data Science\n",
        "\n",
        "*Unit 2, Sprint 1, Module 2*\n",
        "\n",
        "---"
      ]
    },
    {
      "cell_type": "markdown",
      "metadata": {
        "colab_type": "text",
        "id": "7IXUfiQ2UKj6"
      },
      "source": [
        "# Regression 2\n",
        "\n",
        "## Assignment\n",
        "\n",
        "You'll continue to **predict how much it costs to rent an apartment in NYC,** using the dataset from renthop.com.\n",
        "\n",
        "- [ ] Do train/test split. Use data from April & May 2016 to train. Use data from June 2016 to test.\n",
        "- [ ] Engineer at least two new features. (See below for explanation & ideas.)\n",
        "- [ ] Fit a linear regression model with at least two features.\n",
        "- [ ] Get the model's coefficients and intercept.\n",
        "- [ ] Get regression metrics RMSE, MAE, and $R^2$, for both the train and test data.\n",
        "- [ ] What's the best test MAE you can get? Share your score and features used with your cohort on Slack!\n",
        "- [ ] As always, commit your notebook to your fork of the GitHub repo.\n",
        "\n",
        "\n",
        "#### [Feature Engineering](https://en.wikipedia.org/wiki/Feature_engineering)\n",
        "\n",
        "> \"Some machine learning projects succeed and some fail. What makes the difference? Easily the most important factor is the features used.\" — Pedro Domingos, [\"A Few Useful Things to Know about Machine Learning\"](https://homes.cs.washington.edu/~pedrod/papers/cacm12.pdf)\n",
        "\n",
        "> \"Coming up with features is difficult, time-consuming, requires expert knowledge. 'Applied machine learning' is basically feature engineering.\" — Andrew Ng, [Machine Learning and AI via Brain simulations](https://forum.stanford.edu/events/2011/2011slides/plenary/2011plenaryNg.pdf) \n",
        "\n",
        "> Feature engineering is the process of using domain knowledge of the data to create features that make machine learning algorithms work. \n",
        "\n",
        "#### Feature Ideas\n",
        "- Does the apartment have a description?\n",
        "- How long is the description?\n",
        "- How many total perks does each apartment have?\n",
        "- Are cats _or_ dogs allowed?\n",
        "- Are cats _and_ dogs allowed?\n",
        "- Total number of rooms (beds + baths)\n",
        "- Ratio of beds to baths\n",
        "- What's the neighborhood, based on address or latitude & longitude?\n",
        "\n",
        "## Stretch Goals\n",
        "- [ ] If you want more math, skim [_An Introduction to Statistical Learning_](http://faculty.marshall.usc.edu/gareth-james/ISL/ISLR%20Seventh%20Printing.pdf),  Chapter 3.1, Simple Linear Regression, & Chapter 3.2, Multiple Linear Regression\n",
        "- [ ] If you want more introduction, watch [Brandon Foltz, Statistics 101: Simple Linear Regression](https://www.youtube.com/watch?v=ZkjP5RJLQF4)\n",
        "(20 minutes, over 1 million views)\n",
        "- [ ] Add your own stretch goal(s) !"
      ]
    },
    {
      "cell_type": "code",
      "metadata": {
        "colab_type": "code",
        "id": "o9eSnDYhUGD7",
        "colab": {}
      },
      "source": [
        "%%capture\n",
        "import sys\n",
        "\n",
        "# If you're on Colab:\n",
        "if 'google.colab' in sys.modules:\n",
        "    DATA_PATH = 'https://raw.githubusercontent.com/LambdaSchool/DS-Unit-2-Applied-Modeling/master/data/'\n",
        "    !pip install category_encoders==2.*\n",
        "\n",
        "# If you're working locally:\n",
        "else:\n",
        "    DATA_PATH = '../data/'\n",
        "    \n",
        "# Ignore this Numpy warning when using Plotly Express:\n",
        "# FutureWarning: Method .ptp is deprecated and will be removed in a future version. Use numpy.ptp instead.\n",
        "import warnings\n",
        "warnings.filterwarnings(action='ignore', category=FutureWarning, module='numpy')"
      ],
      "execution_count": 0,
      "outputs": []
    },
    {
      "cell_type": "code",
      "metadata": {
        "colab_type": "code",
        "id": "cvrw-T3bZOuW",
        "colab": {}
      },
      "source": [
        "import numpy as np\n",
        "import pandas as pd\n",
        "\n",
        "# Read New York City apartment rental listing data\n",
        "df = pd.read_csv(DATA_PATH+'apartments/renthop-nyc.csv')\n",
        "assert df.shape == (49352, 34)\n",
        "\n",
        "# Remove the most extreme 1% prices,\n",
        "# the most extreme .1% latitudes, &\n",
        "# the most extreme .1% longitudes\n",
        "df = df[(df['price'] >= np.percentile(df['price'], 0.5)) & \n",
        "        (df['price'] <= np.percentile(df['price'], 99.5)) & \n",
        "        (df['latitude'] >= np.percentile(df['latitude'], 0.05)) & \n",
        "        (df['latitude'] < np.percentile(df['latitude'], 99.95)) &\n",
        "        (df['longitude'] >= np.percentile(df['longitude'], 0.05)) & \n",
        "        (df['longitude'] <= np.percentile(df['longitude'], 99.95))]"
      ],
      "execution_count": 0,
      "outputs": []
    },
    {
      "cell_type": "code",
      "metadata": {
        "id": "DPml-ia8Wkw2",
        "colab_type": "code",
        "outputId": "c9385d2d-b259-4061-941a-2c4a149ad2dc",
        "colab": {
          "base_uri": "https://localhost:8080/",
          "height": 512
        }
      },
      "source": [
        "df.head()"
      ],
      "execution_count": 0,
      "outputs": [
        {
          "output_type": "execute_result",
          "data": {
            "text/html": [
              "<div>\n",
              "<style scoped>\n",
              "    .dataframe tbody tr th:only-of-type {\n",
              "        vertical-align: middle;\n",
              "    }\n",
              "\n",
              "    .dataframe tbody tr th {\n",
              "        vertical-align: top;\n",
              "    }\n",
              "\n",
              "    .dataframe thead th {\n",
              "        text-align: right;\n",
              "    }\n",
              "</style>\n",
              "<table border=\"1\" class=\"dataframe\">\n",
              "  <thead>\n",
              "    <tr style=\"text-align: right;\">\n",
              "      <th></th>\n",
              "      <th>bathrooms</th>\n",
              "      <th>bedrooms</th>\n",
              "      <th>created</th>\n",
              "      <th>description</th>\n",
              "      <th>display_address</th>\n",
              "      <th>latitude</th>\n",
              "      <th>longitude</th>\n",
              "      <th>price</th>\n",
              "      <th>street_address</th>\n",
              "      <th>interest_level</th>\n",
              "      <th>elevator</th>\n",
              "      <th>cats_allowed</th>\n",
              "      <th>hardwood_floors</th>\n",
              "      <th>dogs_allowed</th>\n",
              "      <th>doorman</th>\n",
              "      <th>dishwasher</th>\n",
              "      <th>no_fee</th>\n",
              "      <th>laundry_in_building</th>\n",
              "      <th>fitness_center</th>\n",
              "      <th>pre-war</th>\n",
              "      <th>laundry_in_unit</th>\n",
              "      <th>roof_deck</th>\n",
              "      <th>outdoor_space</th>\n",
              "      <th>dining_room</th>\n",
              "      <th>high_speed_internet</th>\n",
              "      <th>balcony</th>\n",
              "      <th>swimming_pool</th>\n",
              "      <th>new_construction</th>\n",
              "      <th>terrace</th>\n",
              "      <th>exclusive</th>\n",
              "      <th>loft</th>\n",
              "      <th>garden_patio</th>\n",
              "      <th>wheelchair_access</th>\n",
              "      <th>common_outdoor_space</th>\n",
              "    </tr>\n",
              "  </thead>\n",
              "  <tbody>\n",
              "    <tr>\n",
              "      <th>0</th>\n",
              "      <td>1.5</td>\n",
              "      <td>3</td>\n",
              "      <td>2016-06-24 07:54:24</td>\n",
              "      <td>A Brand New 3 Bedroom 1.5 bath ApartmentEnjoy ...</td>\n",
              "      <td>Metropolitan Avenue</td>\n",
              "      <td>40.7145</td>\n",
              "      <td>-73.9425</td>\n",
              "      <td>3000</td>\n",
              "      <td>792 Metropolitan Avenue</td>\n",
              "      <td>medium</td>\n",
              "      <td>0</td>\n",
              "      <td>0</td>\n",
              "      <td>0</td>\n",
              "      <td>0</td>\n",
              "      <td>0</td>\n",
              "      <td>0</td>\n",
              "      <td>0</td>\n",
              "      <td>0</td>\n",
              "      <td>0</td>\n",
              "      <td>0</td>\n",
              "      <td>0</td>\n",
              "      <td>0</td>\n",
              "      <td>0</td>\n",
              "      <td>0</td>\n",
              "      <td>0</td>\n",
              "      <td>0</td>\n",
              "      <td>0</td>\n",
              "      <td>0</td>\n",
              "      <td>0</td>\n",
              "      <td>0</td>\n",
              "      <td>0</td>\n",
              "      <td>0</td>\n",
              "      <td>0</td>\n",
              "      <td>0</td>\n",
              "    </tr>\n",
              "    <tr>\n",
              "      <th>1</th>\n",
              "      <td>1.0</td>\n",
              "      <td>2</td>\n",
              "      <td>2016-06-12 12:19:27</td>\n",
              "      <td></td>\n",
              "      <td>Columbus Avenue</td>\n",
              "      <td>40.7947</td>\n",
              "      <td>-73.9667</td>\n",
              "      <td>5465</td>\n",
              "      <td>808 Columbus Avenue</td>\n",
              "      <td>low</td>\n",
              "      <td>1</td>\n",
              "      <td>1</td>\n",
              "      <td>0</td>\n",
              "      <td>1</td>\n",
              "      <td>1</td>\n",
              "      <td>0</td>\n",
              "      <td>0</td>\n",
              "      <td>0</td>\n",
              "      <td>1</td>\n",
              "      <td>0</td>\n",
              "      <td>0</td>\n",
              "      <td>0</td>\n",
              "      <td>0</td>\n",
              "      <td>0</td>\n",
              "      <td>0</td>\n",
              "      <td>0</td>\n",
              "      <td>0</td>\n",
              "      <td>0</td>\n",
              "      <td>0</td>\n",
              "      <td>0</td>\n",
              "      <td>0</td>\n",
              "      <td>0</td>\n",
              "      <td>0</td>\n",
              "      <td>0</td>\n",
              "    </tr>\n",
              "    <tr>\n",
              "      <th>2</th>\n",
              "      <td>1.0</td>\n",
              "      <td>1</td>\n",
              "      <td>2016-04-17 03:26:41</td>\n",
              "      <td>Top Top West Village location, beautiful Pre-w...</td>\n",
              "      <td>W 13 Street</td>\n",
              "      <td>40.7388</td>\n",
              "      <td>-74.0018</td>\n",
              "      <td>2850</td>\n",
              "      <td>241 W 13 Street</td>\n",
              "      <td>high</td>\n",
              "      <td>0</td>\n",
              "      <td>0</td>\n",
              "      <td>1</td>\n",
              "      <td>0</td>\n",
              "      <td>0</td>\n",
              "      <td>1</td>\n",
              "      <td>0</td>\n",
              "      <td>1</td>\n",
              "      <td>0</td>\n",
              "      <td>0</td>\n",
              "      <td>0</td>\n",
              "      <td>0</td>\n",
              "      <td>0</td>\n",
              "      <td>0</td>\n",
              "      <td>0</td>\n",
              "      <td>0</td>\n",
              "      <td>0</td>\n",
              "      <td>0</td>\n",
              "      <td>0</td>\n",
              "      <td>0</td>\n",
              "      <td>0</td>\n",
              "      <td>0</td>\n",
              "      <td>0</td>\n",
              "      <td>0</td>\n",
              "    </tr>\n",
              "    <tr>\n",
              "      <th>3</th>\n",
              "      <td>1.0</td>\n",
              "      <td>1</td>\n",
              "      <td>2016-04-18 02:22:02</td>\n",
              "      <td>Building Amenities - Garage - Garden - fitness...</td>\n",
              "      <td>East 49th Street</td>\n",
              "      <td>40.7539</td>\n",
              "      <td>-73.9677</td>\n",
              "      <td>3275</td>\n",
              "      <td>333 East 49th Street</td>\n",
              "      <td>low</td>\n",
              "      <td>0</td>\n",
              "      <td>0</td>\n",
              "      <td>1</td>\n",
              "      <td>0</td>\n",
              "      <td>0</td>\n",
              "      <td>0</td>\n",
              "      <td>1</td>\n",
              "      <td>0</td>\n",
              "      <td>0</td>\n",
              "      <td>0</td>\n",
              "      <td>0</td>\n",
              "      <td>0</td>\n",
              "      <td>0</td>\n",
              "      <td>0</td>\n",
              "      <td>0</td>\n",
              "      <td>0</td>\n",
              "      <td>0</td>\n",
              "      <td>0</td>\n",
              "      <td>0</td>\n",
              "      <td>0</td>\n",
              "      <td>0</td>\n",
              "      <td>0</td>\n",
              "      <td>0</td>\n",
              "      <td>0</td>\n",
              "    </tr>\n",
              "    <tr>\n",
              "      <th>4</th>\n",
              "      <td>1.0</td>\n",
              "      <td>4</td>\n",
              "      <td>2016-04-28 01:32:41</td>\n",
              "      <td>Beautifully renovated 3 bedroom flex 4 bedroom...</td>\n",
              "      <td>West 143rd Street</td>\n",
              "      <td>40.8241</td>\n",
              "      <td>-73.9493</td>\n",
              "      <td>3350</td>\n",
              "      <td>500 West 143rd Street</td>\n",
              "      <td>low</td>\n",
              "      <td>0</td>\n",
              "      <td>0</td>\n",
              "      <td>0</td>\n",
              "      <td>0</td>\n",
              "      <td>0</td>\n",
              "      <td>0</td>\n",
              "      <td>0</td>\n",
              "      <td>0</td>\n",
              "      <td>0</td>\n",
              "      <td>1</td>\n",
              "      <td>0</td>\n",
              "      <td>0</td>\n",
              "      <td>0</td>\n",
              "      <td>0</td>\n",
              "      <td>0</td>\n",
              "      <td>0</td>\n",
              "      <td>0</td>\n",
              "      <td>0</td>\n",
              "      <td>0</td>\n",
              "      <td>0</td>\n",
              "      <td>0</td>\n",
              "      <td>0</td>\n",
              "      <td>0</td>\n",
              "      <td>0</td>\n",
              "    </tr>\n",
              "  </tbody>\n",
              "</table>\n",
              "</div>"
            ],
            "text/plain": [
              "   bathrooms  bedrooms  ... wheelchair_access common_outdoor_space\n",
              "0        1.5         3  ...                 0                    0\n",
              "1        1.0         2  ...                 0                    0\n",
              "2        1.0         1  ...                 0                    0\n",
              "3        1.0         1  ...                 0                    0\n",
              "4        1.0         4  ...                 0                    0\n",
              "\n",
              "[5 rows x 34 columns]"
            ]
          },
          "metadata": {
            "tags": []
          },
          "execution_count": 69
        }
      ]
    },
    {
      "cell_type": "code",
      "metadata": {
        "id": "cXtB9J_3W8np",
        "colab_type": "code",
        "colab": {}
      },
      "source": [
        "#Let us exclude non-numeric columns from dataset\n",
        "df2 = df.select_dtypes(include='number')"
      ],
      "execution_count": 0,
      "outputs": []
    },
    {
      "cell_type": "code",
      "metadata": {
        "id": "hJEs7JasXI_m",
        "colab_type": "code",
        "outputId": "0fa3cc96-f4c2-4595-bfa7-2722da622d2c",
        "colab": {
          "base_uri": "https://localhost:8080/",
          "height": 235
        }
      },
      "source": [
        "df2.head()"
      ],
      "execution_count": 0,
      "outputs": [
        {
          "output_type": "execute_result",
          "data": {
            "text/html": [
              "<div>\n",
              "<style scoped>\n",
              "    .dataframe tbody tr th:only-of-type {\n",
              "        vertical-align: middle;\n",
              "    }\n",
              "\n",
              "    .dataframe tbody tr th {\n",
              "        vertical-align: top;\n",
              "    }\n",
              "\n",
              "    .dataframe thead th {\n",
              "        text-align: right;\n",
              "    }\n",
              "</style>\n",
              "<table border=\"1\" class=\"dataframe\">\n",
              "  <thead>\n",
              "    <tr style=\"text-align: right;\">\n",
              "      <th></th>\n",
              "      <th>bathrooms</th>\n",
              "      <th>bedrooms</th>\n",
              "      <th>latitude</th>\n",
              "      <th>longitude</th>\n",
              "      <th>price</th>\n",
              "      <th>elevator</th>\n",
              "      <th>cats_allowed</th>\n",
              "      <th>hardwood_floors</th>\n",
              "      <th>dogs_allowed</th>\n",
              "      <th>doorman</th>\n",
              "      <th>dishwasher</th>\n",
              "      <th>no_fee</th>\n",
              "      <th>laundry_in_building</th>\n",
              "      <th>fitness_center</th>\n",
              "      <th>pre-war</th>\n",
              "      <th>laundry_in_unit</th>\n",
              "      <th>roof_deck</th>\n",
              "      <th>outdoor_space</th>\n",
              "      <th>dining_room</th>\n",
              "      <th>high_speed_internet</th>\n",
              "      <th>balcony</th>\n",
              "      <th>swimming_pool</th>\n",
              "      <th>new_construction</th>\n",
              "      <th>terrace</th>\n",
              "      <th>exclusive</th>\n",
              "      <th>loft</th>\n",
              "      <th>garden_patio</th>\n",
              "      <th>wheelchair_access</th>\n",
              "      <th>common_outdoor_space</th>\n",
              "    </tr>\n",
              "  </thead>\n",
              "  <tbody>\n",
              "    <tr>\n",
              "      <th>0</th>\n",
              "      <td>1.5</td>\n",
              "      <td>3</td>\n",
              "      <td>40.7145</td>\n",
              "      <td>-73.9425</td>\n",
              "      <td>3000</td>\n",
              "      <td>0</td>\n",
              "      <td>0</td>\n",
              "      <td>0</td>\n",
              "      <td>0</td>\n",
              "      <td>0</td>\n",
              "      <td>0</td>\n",
              "      <td>0</td>\n",
              "      <td>0</td>\n",
              "      <td>0</td>\n",
              "      <td>0</td>\n",
              "      <td>0</td>\n",
              "      <td>0</td>\n",
              "      <td>0</td>\n",
              "      <td>0</td>\n",
              "      <td>0</td>\n",
              "      <td>0</td>\n",
              "      <td>0</td>\n",
              "      <td>0</td>\n",
              "      <td>0</td>\n",
              "      <td>0</td>\n",
              "      <td>0</td>\n",
              "      <td>0</td>\n",
              "      <td>0</td>\n",
              "      <td>0</td>\n",
              "    </tr>\n",
              "    <tr>\n",
              "      <th>1</th>\n",
              "      <td>1.0</td>\n",
              "      <td>2</td>\n",
              "      <td>40.7947</td>\n",
              "      <td>-73.9667</td>\n",
              "      <td>5465</td>\n",
              "      <td>1</td>\n",
              "      <td>1</td>\n",
              "      <td>0</td>\n",
              "      <td>1</td>\n",
              "      <td>1</td>\n",
              "      <td>0</td>\n",
              "      <td>0</td>\n",
              "      <td>0</td>\n",
              "      <td>1</td>\n",
              "      <td>0</td>\n",
              "      <td>0</td>\n",
              "      <td>0</td>\n",
              "      <td>0</td>\n",
              "      <td>0</td>\n",
              "      <td>0</td>\n",
              "      <td>0</td>\n",
              "      <td>0</td>\n",
              "      <td>0</td>\n",
              "      <td>0</td>\n",
              "      <td>0</td>\n",
              "      <td>0</td>\n",
              "      <td>0</td>\n",
              "      <td>0</td>\n",
              "      <td>0</td>\n",
              "    </tr>\n",
              "    <tr>\n",
              "      <th>2</th>\n",
              "      <td>1.0</td>\n",
              "      <td>1</td>\n",
              "      <td>40.7388</td>\n",
              "      <td>-74.0018</td>\n",
              "      <td>2850</td>\n",
              "      <td>0</td>\n",
              "      <td>0</td>\n",
              "      <td>1</td>\n",
              "      <td>0</td>\n",
              "      <td>0</td>\n",
              "      <td>1</td>\n",
              "      <td>0</td>\n",
              "      <td>1</td>\n",
              "      <td>0</td>\n",
              "      <td>0</td>\n",
              "      <td>0</td>\n",
              "      <td>0</td>\n",
              "      <td>0</td>\n",
              "      <td>0</td>\n",
              "      <td>0</td>\n",
              "      <td>0</td>\n",
              "      <td>0</td>\n",
              "      <td>0</td>\n",
              "      <td>0</td>\n",
              "      <td>0</td>\n",
              "      <td>0</td>\n",
              "      <td>0</td>\n",
              "      <td>0</td>\n",
              "      <td>0</td>\n",
              "    </tr>\n",
              "    <tr>\n",
              "      <th>3</th>\n",
              "      <td>1.0</td>\n",
              "      <td>1</td>\n",
              "      <td>40.7539</td>\n",
              "      <td>-73.9677</td>\n",
              "      <td>3275</td>\n",
              "      <td>0</td>\n",
              "      <td>0</td>\n",
              "      <td>1</td>\n",
              "      <td>0</td>\n",
              "      <td>0</td>\n",
              "      <td>0</td>\n",
              "      <td>1</td>\n",
              "      <td>0</td>\n",
              "      <td>0</td>\n",
              "      <td>0</td>\n",
              "      <td>0</td>\n",
              "      <td>0</td>\n",
              "      <td>0</td>\n",
              "      <td>0</td>\n",
              "      <td>0</td>\n",
              "      <td>0</td>\n",
              "      <td>0</td>\n",
              "      <td>0</td>\n",
              "      <td>0</td>\n",
              "      <td>0</td>\n",
              "      <td>0</td>\n",
              "      <td>0</td>\n",
              "      <td>0</td>\n",
              "      <td>0</td>\n",
              "    </tr>\n",
              "    <tr>\n",
              "      <th>4</th>\n",
              "      <td>1.0</td>\n",
              "      <td>4</td>\n",
              "      <td>40.8241</td>\n",
              "      <td>-73.9493</td>\n",
              "      <td>3350</td>\n",
              "      <td>0</td>\n",
              "      <td>0</td>\n",
              "      <td>0</td>\n",
              "      <td>0</td>\n",
              "      <td>0</td>\n",
              "      <td>0</td>\n",
              "      <td>0</td>\n",
              "      <td>0</td>\n",
              "      <td>0</td>\n",
              "      <td>1</td>\n",
              "      <td>0</td>\n",
              "      <td>0</td>\n",
              "      <td>0</td>\n",
              "      <td>0</td>\n",
              "      <td>0</td>\n",
              "      <td>0</td>\n",
              "      <td>0</td>\n",
              "      <td>0</td>\n",
              "      <td>0</td>\n",
              "      <td>0</td>\n",
              "      <td>0</td>\n",
              "      <td>0</td>\n",
              "      <td>0</td>\n",
              "      <td>0</td>\n",
              "    </tr>\n",
              "  </tbody>\n",
              "</table>\n",
              "</div>"
            ],
            "text/plain": [
              "   bathrooms  bedrooms  ...  wheelchair_access  common_outdoor_space\n",
              "0        1.5         3  ...                  0                     0\n",
              "1        1.0         2  ...                  0                     0\n",
              "2        1.0         1  ...                  0                     0\n",
              "3        1.0         1  ...                  0                     0\n",
              "4        1.0         4  ...                  0                     0\n",
              "\n",
              "[5 rows x 29 columns]"
            ]
          },
          "metadata": {
            "tags": []
          },
          "execution_count": 71
        }
      ]
    },
    {
      "cell_type": "code",
      "metadata": {
        "id": "fdlciyMrXM3I",
        "colab_type": "code",
        "colab": {}
      },
      "source": [
        "#convert negative number to absolute numbers\n",
        "df3 = df2.abs()"
      ],
      "execution_count": 0,
      "outputs": []
    },
    {
      "cell_type": "code",
      "metadata": {
        "id": "Tm0--kmLXWAP",
        "colab_type": "code",
        "outputId": "270bb719-b49b-4da8-9031-b02f42cd1730",
        "colab": {
          "base_uri": "https://localhost:8080/",
          "height": 235
        }
      },
      "source": [
        "df3.head()"
      ],
      "execution_count": 0,
      "outputs": [
        {
          "output_type": "execute_result",
          "data": {
            "text/html": [
              "<div>\n",
              "<style scoped>\n",
              "    .dataframe tbody tr th:only-of-type {\n",
              "        vertical-align: middle;\n",
              "    }\n",
              "\n",
              "    .dataframe tbody tr th {\n",
              "        vertical-align: top;\n",
              "    }\n",
              "\n",
              "    .dataframe thead th {\n",
              "        text-align: right;\n",
              "    }\n",
              "</style>\n",
              "<table border=\"1\" class=\"dataframe\">\n",
              "  <thead>\n",
              "    <tr style=\"text-align: right;\">\n",
              "      <th></th>\n",
              "      <th>bathrooms</th>\n",
              "      <th>bedrooms</th>\n",
              "      <th>latitude</th>\n",
              "      <th>longitude</th>\n",
              "      <th>price</th>\n",
              "      <th>elevator</th>\n",
              "      <th>cats_allowed</th>\n",
              "      <th>hardwood_floors</th>\n",
              "      <th>dogs_allowed</th>\n",
              "      <th>doorman</th>\n",
              "      <th>dishwasher</th>\n",
              "      <th>no_fee</th>\n",
              "      <th>laundry_in_building</th>\n",
              "      <th>fitness_center</th>\n",
              "      <th>pre-war</th>\n",
              "      <th>laundry_in_unit</th>\n",
              "      <th>roof_deck</th>\n",
              "      <th>outdoor_space</th>\n",
              "      <th>dining_room</th>\n",
              "      <th>high_speed_internet</th>\n",
              "      <th>balcony</th>\n",
              "      <th>swimming_pool</th>\n",
              "      <th>new_construction</th>\n",
              "      <th>terrace</th>\n",
              "      <th>exclusive</th>\n",
              "      <th>loft</th>\n",
              "      <th>garden_patio</th>\n",
              "      <th>wheelchair_access</th>\n",
              "      <th>common_outdoor_space</th>\n",
              "    </tr>\n",
              "  </thead>\n",
              "  <tbody>\n",
              "    <tr>\n",
              "      <th>0</th>\n",
              "      <td>1.5</td>\n",
              "      <td>3.0</td>\n",
              "      <td>40.7145</td>\n",
              "      <td>73.9425</td>\n",
              "      <td>3000.0</td>\n",
              "      <td>0.0</td>\n",
              "      <td>0.0</td>\n",
              "      <td>0.0</td>\n",
              "      <td>0.0</td>\n",
              "      <td>0.0</td>\n",
              "      <td>0.0</td>\n",
              "      <td>0.0</td>\n",
              "      <td>0.0</td>\n",
              "      <td>0.0</td>\n",
              "      <td>0.0</td>\n",
              "      <td>0.0</td>\n",
              "      <td>0.0</td>\n",
              "      <td>0.0</td>\n",
              "      <td>0.0</td>\n",
              "      <td>0.0</td>\n",
              "      <td>0.0</td>\n",
              "      <td>0.0</td>\n",
              "      <td>0.0</td>\n",
              "      <td>0.0</td>\n",
              "      <td>0.0</td>\n",
              "      <td>0.0</td>\n",
              "      <td>0.0</td>\n",
              "      <td>0.0</td>\n",
              "      <td>0.0</td>\n",
              "    </tr>\n",
              "    <tr>\n",
              "      <th>1</th>\n",
              "      <td>1.0</td>\n",
              "      <td>2.0</td>\n",
              "      <td>40.7947</td>\n",
              "      <td>73.9667</td>\n",
              "      <td>5465.0</td>\n",
              "      <td>1.0</td>\n",
              "      <td>1.0</td>\n",
              "      <td>0.0</td>\n",
              "      <td>1.0</td>\n",
              "      <td>1.0</td>\n",
              "      <td>0.0</td>\n",
              "      <td>0.0</td>\n",
              "      <td>0.0</td>\n",
              "      <td>1.0</td>\n",
              "      <td>0.0</td>\n",
              "      <td>0.0</td>\n",
              "      <td>0.0</td>\n",
              "      <td>0.0</td>\n",
              "      <td>0.0</td>\n",
              "      <td>0.0</td>\n",
              "      <td>0.0</td>\n",
              "      <td>0.0</td>\n",
              "      <td>0.0</td>\n",
              "      <td>0.0</td>\n",
              "      <td>0.0</td>\n",
              "      <td>0.0</td>\n",
              "      <td>0.0</td>\n",
              "      <td>0.0</td>\n",
              "      <td>0.0</td>\n",
              "    </tr>\n",
              "    <tr>\n",
              "      <th>2</th>\n",
              "      <td>1.0</td>\n",
              "      <td>1.0</td>\n",
              "      <td>40.7388</td>\n",
              "      <td>74.0018</td>\n",
              "      <td>2850.0</td>\n",
              "      <td>0.0</td>\n",
              "      <td>0.0</td>\n",
              "      <td>1.0</td>\n",
              "      <td>0.0</td>\n",
              "      <td>0.0</td>\n",
              "      <td>1.0</td>\n",
              "      <td>0.0</td>\n",
              "      <td>1.0</td>\n",
              "      <td>0.0</td>\n",
              "      <td>0.0</td>\n",
              "      <td>0.0</td>\n",
              "      <td>0.0</td>\n",
              "      <td>0.0</td>\n",
              "      <td>0.0</td>\n",
              "      <td>0.0</td>\n",
              "      <td>0.0</td>\n",
              "      <td>0.0</td>\n",
              "      <td>0.0</td>\n",
              "      <td>0.0</td>\n",
              "      <td>0.0</td>\n",
              "      <td>0.0</td>\n",
              "      <td>0.0</td>\n",
              "      <td>0.0</td>\n",
              "      <td>0.0</td>\n",
              "    </tr>\n",
              "    <tr>\n",
              "      <th>3</th>\n",
              "      <td>1.0</td>\n",
              "      <td>1.0</td>\n",
              "      <td>40.7539</td>\n",
              "      <td>73.9677</td>\n",
              "      <td>3275.0</td>\n",
              "      <td>0.0</td>\n",
              "      <td>0.0</td>\n",
              "      <td>1.0</td>\n",
              "      <td>0.0</td>\n",
              "      <td>0.0</td>\n",
              "      <td>0.0</td>\n",
              "      <td>1.0</td>\n",
              "      <td>0.0</td>\n",
              "      <td>0.0</td>\n",
              "      <td>0.0</td>\n",
              "      <td>0.0</td>\n",
              "      <td>0.0</td>\n",
              "      <td>0.0</td>\n",
              "      <td>0.0</td>\n",
              "      <td>0.0</td>\n",
              "      <td>0.0</td>\n",
              "      <td>0.0</td>\n",
              "      <td>0.0</td>\n",
              "      <td>0.0</td>\n",
              "      <td>0.0</td>\n",
              "      <td>0.0</td>\n",
              "      <td>0.0</td>\n",
              "      <td>0.0</td>\n",
              "      <td>0.0</td>\n",
              "    </tr>\n",
              "    <tr>\n",
              "      <th>4</th>\n",
              "      <td>1.0</td>\n",
              "      <td>4.0</td>\n",
              "      <td>40.8241</td>\n",
              "      <td>73.9493</td>\n",
              "      <td>3350.0</td>\n",
              "      <td>0.0</td>\n",
              "      <td>0.0</td>\n",
              "      <td>0.0</td>\n",
              "      <td>0.0</td>\n",
              "      <td>0.0</td>\n",
              "      <td>0.0</td>\n",
              "      <td>0.0</td>\n",
              "      <td>0.0</td>\n",
              "      <td>0.0</td>\n",
              "      <td>1.0</td>\n",
              "      <td>0.0</td>\n",
              "      <td>0.0</td>\n",
              "      <td>0.0</td>\n",
              "      <td>0.0</td>\n",
              "      <td>0.0</td>\n",
              "      <td>0.0</td>\n",
              "      <td>0.0</td>\n",
              "      <td>0.0</td>\n",
              "      <td>0.0</td>\n",
              "      <td>0.0</td>\n",
              "      <td>0.0</td>\n",
              "      <td>0.0</td>\n",
              "      <td>0.0</td>\n",
              "      <td>0.0</td>\n",
              "    </tr>\n",
              "  </tbody>\n",
              "</table>\n",
              "</div>"
            ],
            "text/plain": [
              "   bathrooms  bedrooms  ...  wheelchair_access  common_outdoor_space\n",
              "0        1.5       3.0  ...                0.0                   0.0\n",
              "1        1.0       2.0  ...                0.0                   0.0\n",
              "2        1.0       1.0  ...                0.0                   0.0\n",
              "3        1.0       1.0  ...                0.0                   0.0\n",
              "4        1.0       4.0  ...                0.0                   0.0\n",
              "\n",
              "[5 rows x 29 columns]"
            ]
          },
          "metadata": {
            "tags": []
          },
          "execution_count": 73
        }
      ]
    },
    {
      "cell_type": "code",
      "metadata": {
        "id": "M9W6Tf5OXZjT",
        "colab_type": "code",
        "outputId": "f82a1c22-9d02-4827-a457-f5aaf95b28dc",
        "colab": {
          "base_uri": "https://localhost:8080/",
          "height": 563
        }
      },
      "source": [
        "#find null values\n",
        "df3.isnull().sum()"
      ],
      "execution_count": 0,
      "outputs": [
        {
          "output_type": "execute_result",
          "data": {
            "text/plain": [
              "bathrooms               0\n",
              "bedrooms                0\n",
              "latitude                0\n",
              "longitude               0\n",
              "price                   0\n",
              "elevator                0\n",
              "cats_allowed            0\n",
              "hardwood_floors         0\n",
              "dogs_allowed            0\n",
              "doorman                 0\n",
              "dishwasher              0\n",
              "no_fee                  0\n",
              "laundry_in_building     0\n",
              "fitness_center          0\n",
              "pre-war                 0\n",
              "laundry_in_unit         0\n",
              "roof_deck               0\n",
              "outdoor_space           0\n",
              "dining_room             0\n",
              "high_speed_internet     0\n",
              "balcony                 0\n",
              "swimming_pool           0\n",
              "new_construction        0\n",
              "terrace                 0\n",
              "exclusive               0\n",
              "loft                    0\n",
              "garden_patio            0\n",
              "wheelchair_access       0\n",
              "common_outdoor_space    0\n",
              "dtype: int64"
            ]
          },
          "metadata": {
            "tags": []
          },
          "execution_count": 74
        }
      ]
    },
    {
      "cell_type": "code",
      "metadata": {
        "id": "b3KVO0TZjNCt",
        "colab_type": "code",
        "outputId": "2b9926ea-7b9f-4247-c5fd-aa4467f0b624",
        "colab": {
          "base_uri": "https://localhost:8080/",
          "height": 35
        }
      },
      "source": [
        "df3.shape"
      ],
      "execution_count": 0,
      "outputs": [
        {
          "output_type": "execute_result",
          "data": {
            "text/plain": [
              "(48817, 29)"
            ]
          },
          "metadata": {
            "tags": []
          },
          "execution_count": 75
        }
      ]
    },
    {
      "cell_type": "markdown",
      "metadata": {
        "id": "JeUNg1pKeF0k",
        "colab_type": "text"
      },
      "source": [
        "Split dataset into train and test datasets"
      ]
    },
    {
      "cell_type": "code",
      "metadata": {
        "id": "YTZfFQkSeFHW",
        "colab_type": "code",
        "colab": {}
      },
      "source": [
        "import pandas as pd\n",
        "from sklearn import datasets, linear_model\n",
        "from sklearn.model_selection import train_test_split\n",
        "from matplotlib import pyplot as plt"
      ],
      "execution_count": 0,
      "outputs": []
    },
    {
      "cell_type": "code",
      "metadata": {
        "id": "pC2xO--Ai_5t",
        "colab_type": "code",
        "colab": {}
      },
      "source": [
        "# create training and test datasets\n",
        "# create training and testing vars\n",
        "train, test = train_test_split(df3, test_size=0.2, random_state = 0)"
      ],
      "execution_count": 0,
      "outputs": []
    },
    {
      "cell_type": "code",
      "metadata": {
        "id": "0P9eljsNlOSy",
        "colab_type": "code",
        "outputId": "f6b758f4-3e9a-43c9-b21c-f9bbb6ea1283",
        "colab": {
          "base_uri": "https://localhost:8080/",
          "height": 35
        }
      },
      "source": [
        "train.shape"
      ],
      "execution_count": 0,
      "outputs": [
        {
          "output_type": "execute_result",
          "data": {
            "text/plain": [
              "(39053, 29)"
            ]
          },
          "metadata": {
            "tags": []
          },
          "execution_count": 78
        }
      ]
    },
    {
      "cell_type": "code",
      "metadata": {
        "id": "Mow5oQ1glU-2",
        "colab_type": "code",
        "outputId": "cc13df03-e293-4f50-9fbc-572168e6dc65",
        "colab": {
          "base_uri": "https://localhost:8080/",
          "height": 35
        }
      },
      "source": [
        "test.shape"
      ],
      "execution_count": 0,
      "outputs": [
        {
          "output_type": "execute_result",
          "data": {
            "text/plain": [
              "(9764, 29)"
            ]
          },
          "metadata": {
            "tags": []
          },
          "execution_count": 79
        }
      ]
    },
    {
      "cell_type": "markdown",
      "metadata": {
        "id": "4KmluRmyvSdW",
        "colab_type": "text"
      },
      "source": [
        "Begin with baselines,, zero features"
      ]
    },
    {
      "cell_type": "code",
      "metadata": {
        "id": "Dt44PCthvYUX",
        "colab_type": "code",
        "outputId": "253d65c6-cada-48be-8ae6-73e3715ccd12",
        "colab": {
          "base_uri": "https://localhost:8080/",
          "height": 35
        }
      },
      "source": [
        "train['price'].mean()"
      ],
      "execution_count": 0,
      "outputs": [
        {
          "output_type": "execute_result",
          "data": {
            "text/plain": [
              "3578.6967710547206"
            ]
          },
          "metadata": {
            "tags": []
          },
          "execution_count": 80
        }
      ]
    },
    {
      "cell_type": "code",
      "metadata": {
        "id": "xexo9MrFvhok",
        "colab_type": "code",
        "outputId": "7f651599-66fe-45a3-aa38-6c218d185c1a",
        "colab": {
          "base_uri": "https://localhost:8080/",
          "height": 72
        }
      },
      "source": [
        "from sklearn.metrics import mean_absolute_error\n",
        "\n",
        "# Arrange y target vectors\n",
        "target = 'price'\n",
        "y_train = train[target]\n",
        "y_test = test[target]\n",
        "\n",
        "# Get mean baseline\n",
        "print('Mean Baseline (using 0 features)')\n",
        "guess = y_train.mean()\n",
        "\n",
        "# Train Error\n",
        "y_pred = [guess] * len(y_train)\n",
        "mae = mean_absolute_error(y_train, y_pred)\n",
        "print(f'Train Error (NYC rent): {mae:.2f} USD')\n",
        "\n",
        "# Test Error\n",
        "y_pred = [guess] * len(y_test)\n",
        "mae = mean_absolute_error(y_test, y_pred)\n",
        "print(f'Test Error (NYC rent): {mae:.2f} USD')"
      ],
      "execution_count": 0,
      "outputs": [
        {
          "output_type": "stream",
          "text": [
            "Mean Baseline (using 0 features)\n",
            "Train Error (NYC rent): 1199.02 USD\n",
            "Test Error (NYC rent): 1210.35 USD\n"
          ],
          "name": "stdout"
        }
      ]
    },
    {
      "cell_type": "markdown",
      "metadata": {
        "id": "ovmMBE7YxRte",
        "colab_type": "text"
      },
      "source": [
        "Exploring relationship of price with one variable"
      ]
    },
    {
      "cell_type": "code",
      "metadata": {
        "id": "oldozg0jxLpr",
        "colab_type": "code",
        "outputId": "480b2299-7e50-4c64-c9cb-0d150b97fb92",
        "colab": {
          "base_uri": "https://localhost:8080/",
          "height": 387
        }
      },
      "source": [
        "import pandas as pd\n",
        "import seaborn as sns\n",
        "sns.lmplot(data=X_train, x=\"price\", y=\"longitude\")\n"
      ],
      "execution_count": 0,
      "outputs": [
        {
          "output_type": "execute_result",
          "data": {
            "text/plain": [
              "<seaborn.axisgrid.FacetGrid at 0x7f0fe3c27e10>"
            ]
          },
          "metadata": {
            "tags": []
          },
          "execution_count": 83
        },
        {
          "output_type": "display_data",
          "data": {
            "image/png": "[encoded data removed]",
            "text/plain": [
              "<Figure size 360x360 with 1 Axes>"
            ]
          },
          "metadata": {
            "tags": []
          }
        }
      ]
    },
    {
      "cell_type": "markdown",
      "metadata": {
        "id": "5kj9YmtUy8qo",
        "colab_type": "text"
      },
      "source": [
        "Linear regression with a single variable "
      ]
    },
    {
      "cell_type": "code",
      "metadata": {
        "id": "gGMSn3rHy7li",
        "colab_type": "code",
        "outputId": "819372fc-506d-43ad-d956-d4226ba6a2b5",
        "colab": {
          "base_uri": "https://localhost:8080/",
          "height": 72
        }
      },
      "source": [
        "# 1. Import the appropriate estimator class from Scikit-Learn\n",
        "from sklearn.linear_model import LinearRegression\n",
        "\n",
        "# 2. Instantiate this class\n",
        "model = LinearRegression()\n",
        "\n",
        "# 3. Arrange X features matrices (already did y target vectors)\n",
        "features = ['longitude']\n",
        "X_train = train[features]\n",
        "X_test = test[features]\n",
        "print(f'Linear Regression, dependent on: {features}')\n",
        "\n",
        "# 4. Fit the model\n",
        "model.fit(X_train, y_train)\n",
        "y_pred = model.predict(X_train)\n",
        "mae = mean_absolute_error(y_train, y_pred)\n",
        "print(f'Train Error: {mae:.2f} USD')\n",
        "\n",
        "# 5. Apply the model to new data\n",
        "y_pred = model.predict(X_test)\n",
        "mae = mean_absolute_error(y_test, y_pred)\n",
        "print(f'Test Error: {mae:.2f} USD')"
      ],
      "execution_count": 0,
      "outputs": [
        {
          "output_type": "stream",
          "text": [
            "Linear Regression, dependent on: ['longitude']\n",
            "Train Error: 1141.55 USD\n",
            "Test Error: 1153.83 USD\n"
          ],
          "name": "stdout"
        }
      ]
    },
    {
      "cell_type": "markdown",
      "metadata": {
        "id": "6L-dXCplzXAy",
        "colab_type": "text"
      },
      "source": [
        "####Thus, both train error and test error are lower after including a single variable, longitude which appears to have a linear relationship with price on the seaborn plot.\n"
      ]
    },
    {
      "cell_type": "markdown",
      "metadata": {
        "id": "Yfz-UHEizwc9",
        "colab_type": "text"
      },
      "source": [
        "Now, let us do linear regression including two variables, longitude and latitude"
      ]
    },
    {
      "cell_type": "code",
      "metadata": {
        "id": "6magQkur0ebE",
        "colab_type": "code",
        "outputId": "7d048644-4151-4f1f-9872-bb4124627db9",
        "colab": {
          "base_uri": "https://localhost:8080/",
          "height": 72
        }
      },
      "source": [
        "from sklearn.preprocessing import StandardScaler\n",
        "\n",
        "\n",
        "# Re-arrange X features matrices\n",
        "features = ['longitude', \n",
        "            'latitude']\n",
        "print(f'Linear Regression, dependent on: {features}')\n",
        "X_train = train[features]\n",
        "X_test = test[features]\n",
        "\n",
        "# Scale the data\n",
        "scaler = StandardScaler()\n",
        "scaler.fit(X_train)\n",
        "X_train_scaled = scaler.transform(X_train)\n",
        "X_test_scaled = scaler.transform(X_test)\n",
        "\n",
        "# Fit the model\n",
        "model.fit(X_train_scaled, y_train)\n",
        "y_pred_train = model.predict(X_train_scaled)\n",
        "mae_train = mean_absolute_error(y_train, y_pred_train)\n",
        "print(f'Train error: {mae_train:.2f} USD')\n",
        "\n",
        "# Apply the model to new data\n",
        "y_pred_test = model.predict(X_test_scaled)\n",
        "mae_test = mean_absolute_error(y_test, y_pred_test)\n",
        "print(f'Test error: {mae_test:.2f} USD')"
      ],
      "execution_count": 0,
      "outputs": [
        {
          "output_type": "stream",
          "text": [
            "Linear Regression, dependent on: ['longitude', 'latitude']\n",
            "Train error: 1143.85 USD\n",
            "Test error: 1155.20 USD\n"
          ],
          "name": "stdout"
        }
      ]
    },
    {
      "cell_type": "markdown",
      "metadata": {
        "id": "rvwRxYSb0xP4",
        "colab_type": "text"
      },
      "source": [
        "By including latitude, our train and test errors are higher than just univariate linear regression with longitude, so latitude is not a good feature"
      ]
    },
    {
      "cell_type": "markdown",
      "metadata": {
        "id": "aOHTbwyV1Eip",
        "colab_type": "text"
      },
      "source": [
        "Let us try including some other features like bedrooms, bathrooms, pets allowed or not, terrace etc. since these are theoretically expected to have a relationship with rent. "
      ]
    },
    {
      "cell_type": "code",
      "metadata": {
        "id": "1D_NbEYU1Atm",
        "colab_type": "code",
        "outputId": "50b0c972-2a1b-4e70-8100-bd98df6ae25a",
        "colab": {
          "base_uri": "https://localhost:8080/",
          "height": 92
        }
      },
      "source": [
        "from sklearn.preprocessing import StandardScaler\n",
        "\n",
        "\n",
        "# Re-arrange X features matrices\n",
        "features = ['bathrooms', \n",
        "            'bedrooms',\n",
        "            'longitude',\n",
        "            'latitude',\n",
        "            'terrace',\n",
        "            'swimming_pool',\n",
        "            'dogs_allowed',\n",
        "            'cats_allowed',\n",
        "            'elevator',\n",
        "            'fitness_center',\n",
        "            'pre-war',\n",
        "            'laundry_in_unit',\n",
        "            'roof_deck',\n",
        "            'high_speed_internet',\n",
        "            'doorman',\n",
        "            'loft',\n",
        "            'garden_patio',\n",
        "            'no_fee']\n",
        "print(f'Linear Regression, dependent on: {features}')\n",
        "X_train = train[features]\n",
        "X_test = test[features]\n",
        "\n",
        "# Scale the data\n",
        "scaler = StandardScaler()\n",
        "scaler.fit(X_train)\n",
        "X_train_scaled = scaler.transform(X_train)\n",
        "X_test_scaled = scaler.transform(X_test)\n",
        "\n",
        "# Fit the model\n",
        "model.fit(X_train_scaled, y_train)\n",
        "y_pred_train = model.predict(X_train_scaled)\n",
        "mae_train = mean_absolute_error(y_train, y_pred_train)\n",
        "print(f'Train error: {mae_train:.2f} USD')\n",
        "\n",
        "# Apply the model to new data\n",
        "y_pred_test = model.predict(X_test_scaled)\n",
        "mae_test = mean_absolute_error(y_test, y_pred_test)\n",
        "print(f'Test error: {mae_test:.2f} USD')"
      ],
      "execution_count": 0,
      "outputs": [
        {
          "output_type": "stream",
          "text": [
            "Linear Regression, dependent on: ['bathrooms', 'bedrooms', 'longitude', 'latitude', 'terrace', 'swimming_pool', 'dogs_allowed', 'cats_allowed', 'elevator', 'fitness_center', 'pre-war', 'laundry_in_unit', 'roof_deck', 'high_speed_internet', 'doorman', 'loft', 'garden_patio', 'no_fee']\n",
            "Train error: 700.97 USD\n",
            "Test error: 703.18 USD\n"
          ],
          "name": "stdout"
        }
      ]
    },
    {
      "cell_type": "markdown",
      "metadata": {
        "id": "nDe1J9xB4FxN",
        "colab_type": "text"
      },
      "source": [
        "Thus, our multivariate regression model was able to significantly reduce the train and test errors from zero feature and single feature by including multiple features which are expected to have a relationship with the apartment rent. "
      ]
    },
    {
      "cell_type": "markdown",
      "metadata": {
        "id": "pjlPns2C40MJ",
        "colab_type": "text"
      },
      "source": [
        "Get the model's coefficients and intercept."
      ]
    },
    {
      "cell_type": "code",
      "metadata": {
        "id": "uwVQVFXI414m",
        "colab_type": "code",
        "outputId": "2d4f99d2-4ae0-4066-87a5-cdbaa7f4e856",
        "colab": {
          "base_uri": "https://localhost:8080/",
          "height": 35
        }
      },
      "source": [
        "print(\"Model Intercept\", model.intercept_)"
      ],
      "execution_count": 0,
      "outputs": [
        {
          "output_type": "stream",
          "text": [
            "Model Intercept 3578.6967710546814\n"
          ],
          "name": "stdout"
        }
      ]
    },
    {
      "cell_type": "code",
      "metadata": {
        "id": "-yOcj0Zh5cUO",
        "colab_type": "code",
        "outputId": "df2c4afb-2d54-4ba6-a242-1864db9fb628",
        "colab": {
          "base_uri": "https://localhost:8080/",
          "height": 90
        }
      },
      "source": [
        "print(\"Model Coefficients\", model.coef_)\n",
        "#The output has multiple coefficients since we included 18 features in our linear regression model."
      ],
      "execution_count": 0,
      "outputs": [
        {
          "output_type": "stream",
          "text": [
            "Model Coefficients [852.14279879 529.05705244 387.55568763  66.52495951  21.24624212\n",
            "  16.81817964  77.04867757 -33.89605173  49.43010647  51.05463895\n",
            " -13.98904173 163.48425463 -53.24357465 -92.79853782 246.90129258\n",
            "  24.14842841   8.84573754 -98.46589881]\n"
          ],
          "name": "stdout"
        }
      ]
    },
    {
      "cell_type": "code",
      "metadata": {
        "id": "DvnoKMXI8kGk",
        "colab_type": "code",
        "colab": {}
      },
      "source": [
        "#Features in the model = \n",
        "#numerical variables = number of bathrooms, number of bedrooms, longitude, latitude\n",
        "#categorical variables (1=yes, 0 =no): terrace, swimming pool, dog allowed, cats allowed, elevator, \n",
        "#                                      fitness center, pre-war, laundry in the unit, roof deck, high speed internet, \n",
        "#                                      doorman, loft, garden patio, no fee. \n"
      ],
      "execution_count": 0,
      "outputs": []
    },
    {
      "cell_type": "code",
      "metadata": {
        "id": "FfIth5E78fZb",
        "colab_type": "code",
        "outputId": "49cb9b29-22a0-4c11-dd3f-97182018f10b",
        "colab": {
          "base_uri": "https://localhost:8080/",
          "height": 35
        }
      },
      "source": [
        "#Testing the model #with terrace and swimming pool and fitness center, 2 bedrooms and 1 bathroom\n",
        "model.predict([[1, 2, 73.9425, 40.7145, 1, 1, 1, 1, 1, 1, 1, 1, 0, 0, 1, 1, 0, 0]])"
      ],
      "execution_count": 0,
      "outputs": [
        {
          "output_type": "execute_result",
          "data": {
            "text/plain": [
              "array([37456.56729824])"
            ]
          },
          "metadata": {
            "tags": []
          },
          "execution_count": 97
        }
      ]
    },
    {
      "cell_type": "code",
      "metadata": {
        "id": "0RmuUPhI_pME",
        "colab_type": "code",
        "outputId": "a1e36567-8e27-400f-bfa4-33b6378d3d2a",
        "colab": {
          "base_uri": "https://localhost:8080/",
          "height": 35
        }
      },
      "source": [
        "#Testing the model #with terrace and swimming pool and fitness center, 3 bedrooms and 2 bathrooms\n",
        "model.predict([[2, 3, 73.9425, 40.7145, 1, 1, 1, 1, 1, 1, 1, 1, 0, 0, 1, 1, 0, 0]])"
      ],
      "execution_count": 0,
      "outputs": [
        {
          "output_type": "execute_result",
          "data": {
            "text/plain": [
              "array([38837.76714946])"
            ]
          },
          "metadata": {
            "tags": []
          },
          "execution_count": 100
        }
      ]
    },
    {
      "cell_type": "code",
      "metadata": {
        "id": "jjaqXR65-9RE",
        "colab_type": "code",
        "outputId": "a90c9cda-19a1-4ab2-e47a-ef0ca6e44bc3",
        "colab": {
          "base_uri": "https://localhost:8080/",
          "height": 35
        }
      },
      "source": [
        "#Testing the model with 1 bedroom, 1 bathroom and no swimming pool, terrace or fitness center and not pre-war and different location by longitude and latitude.\n",
        "model.predict([[1, 1, 73.9667, 40.7947, 0, 0, 1, 1, 1, 0, 0, 1, 0, 0, 0, 1, 0, 0]])"
      ],
      "execution_count": 0,
      "outputs": [
        {
          "output_type": "execute_result",
          "data": {
            "text/plain": [
              "array([36620.19308363])"
            ]
          },
          "metadata": {
            "tags": []
          },
          "execution_count": 102
        }
      ]
    },
    {
      "cell_type": "markdown",
      "metadata": {
        "id": "4WelOkb9733u",
        "colab_type": "text"
      },
      "source": [
        "Get regression metrics RMSE, MAE, and  R2 , for both the train and test data"
      ]
    },
    {
      "cell_type": "code",
      "metadata": {
        "id": "RqJKDHHwJghX",
        "colab_type": "code",
        "outputId": "e7658d2b-923f-4be8-cbb5-add69a040ff4",
        "colab": {
          "base_uri": "https://localhost:8080/",
          "height": 799
        }
      },
      "source": [
        "#Train data\n",
        "import statsmodels.api as sm # import statsmodels \n",
        "\n",
        "X = X_train_scaled ## X usually means our input variables (or independent variables)\n",
        "y = y_train ## Y usually means our output/dependent variable\n",
        "X = sm.add_constant(X) ## let's add an intercept (beta_0) to our model\n",
        "\n",
        "# Note the difference in argument order\n",
        "model = sm.OLS(y, X).fit() ## sm.OLS(output, input)\n",
        "predictions = model.predict(X)\n",
        "\n",
        "# Print out the statistics\n",
        "model.summary()"
      ],
      "execution_count": 0,
      "outputs": [
        {
          "output_type": "execute_result",
          "data": {
            "text/html": [
              "<table class=\"simpletable\">\n",
              "<caption>OLS Regression Results</caption>\n",
              "<tr>\n",
              "  <th>Dep. Variable:</th>          <td>price</td>      <th>  R-squared:         </th>  <td>   0.612</td>  \n",
              "</tr>\n",
              "<tr>\n",
              "  <th>Model:</th>                   <td>OLS</td>       <th>  Adj. R-squared:    </th>  <td>   0.612</td>  \n",
              "</tr>\n",
              "<tr>\n",
              "  <th>Method:</th>             <td>Least Squares</td>  <th>  F-statistic:       </th>  <td>   3419.</td>  \n",
              "</tr>\n",
              "<tr>\n",
              "  <th>Date:</th>             <td>Sat, 02 Nov 2019</td> <th>  Prob (F-statistic):</th>   <td>  0.00</td>   \n",
              "</tr>\n",
              "<tr>\n",
              "  <th>Time:</th>                 <td>03:29:12</td>     <th>  Log-Likelihood:    </th> <td>-3.2876e+05</td>\n",
              "</tr>\n",
              "<tr>\n",
              "  <th>No. Observations:</th>      <td> 39053</td>      <th>  AIC:               </th>  <td>6.576e+05</td> \n",
              "</tr>\n",
              "<tr>\n",
              "  <th>Df Residuals:</th>          <td> 39034</td>      <th>  BIC:               </th>  <td>6.577e+05</td> \n",
              "</tr>\n",
              "<tr>\n",
              "  <th>Df Model:</th>              <td>    18</td>      <th>                     </th>      <td> </td>     \n",
              "</tr>\n",
              "<tr>\n",
              "  <th>Covariance Type:</th>      <td>nonrobust</td>    <th>                     </th>      <td> </td>     \n",
              "</tr>\n",
              "</table>\n",
              "<table class=\"simpletable\">\n",
              "<tr>\n",
              "    <td></td>       <th>coef</th>     <th>std err</th>      <th>t</th>      <th>P>|t|</th>  <th>[0.025</th>    <th>0.975]</th>  \n",
              "</tr>\n",
              "<tr>\n",
              "  <th>const</th> <td> 3578.6968</td> <td>    5.547</td> <td>  645.215</td> <td> 0.000</td> <td> 3567.825</td> <td> 3589.568</td>\n",
              "</tr>\n",
              "<tr>\n",
              "  <th>x1</th>    <td>  852.1428</td> <td>    6.766</td> <td>  125.941</td> <td> 0.000</td> <td>  838.881</td> <td>  865.405</td>\n",
              "</tr>\n",
              "<tr>\n",
              "  <th>x2</th>    <td>  529.0571</td> <td>    6.759</td> <td>   78.277</td> <td> 0.000</td> <td>  515.810</td> <td>  542.305</td>\n",
              "</tr>\n",
              "<tr>\n",
              "  <th>x3</th>    <td>  387.5557</td> <td>    6.179</td> <td>   62.725</td> <td> 0.000</td> <td>  375.445</td> <td>  399.666</td>\n",
              "</tr>\n",
              "<tr>\n",
              "  <th>x4</th>    <td>   66.5250</td> <td>    5.923</td> <td>   11.232</td> <td> 0.000</td> <td>   54.916</td> <td>   78.133</td>\n",
              "</tr>\n",
              "<tr>\n",
              "  <th>x5</th>    <td>   21.2462</td> <td>    6.203</td> <td>    3.425</td> <td> 0.001</td> <td>    9.088</td> <td>   33.405</td>\n",
              "</tr>\n",
              "<tr>\n",
              "  <th>x6</th>    <td>   16.8182</td> <td>    6.051</td> <td>    2.780</td> <td> 0.005</td> <td>    4.959</td> <td>   28.677</td>\n",
              "</tr>\n",
              "<tr>\n",
              "  <th>x7</th>    <td>   77.0487</td> <td>   15.944</td> <td>    4.833</td> <td> 0.000</td> <td>   45.799</td> <td>  108.299</td>\n",
              "</tr>\n",
              "<tr>\n",
              "  <th>x8</th>    <td>  -33.8961</td> <td>   15.924</td> <td>   -2.129</td> <td> 0.033</td> <td>  -65.107</td> <td>   -2.686</td>\n",
              "</tr>\n",
              "<tr>\n",
              "  <th>x9</th>    <td>   49.4301</td> <td>    7.200</td> <td>    6.866</td> <td> 0.000</td> <td>   35.318</td> <td>   63.542</td>\n",
              "</tr>\n",
              "<tr>\n",
              "  <th>x10</th>   <td>   51.0546</td> <td>    7.755</td> <td>    6.584</td> <td> 0.000</td> <td>   35.855</td> <td>   66.254</td>\n",
              "</tr>\n",
              "<tr>\n",
              "  <th>x11</th>   <td>  -13.9890</td> <td>    5.623</td> <td>   -2.488</td> <td> 0.013</td> <td>  -25.011</td> <td>   -2.967</td>\n",
              "</tr>\n",
              "<tr>\n",
              "  <th>x12</th>   <td>  163.4843</td> <td>    6.053</td> <td>   27.011</td> <td> 0.000</td> <td>  151.621</td> <td>  175.347</td>\n",
              "</tr>\n",
              "<tr>\n",
              "  <th>x13</th>   <td>  -53.2436</td> <td>    7.007</td> <td>   -7.598</td> <td> 0.000</td> <td>  -66.978</td> <td>  -39.509</td>\n",
              "</tr>\n",
              "<tr>\n",
              "  <th>x14</th>   <td>  -92.7985</td> <td>    6.653</td> <td>  -13.949</td> <td> 0.000</td> <td> -105.838</td> <td>  -79.759</td>\n",
              "</tr>\n",
              "<tr>\n",
              "  <th>x15</th>   <td>  246.9013</td> <td>    8.178</td> <td>   30.190</td> <td> 0.000</td> <td>  230.872</td> <td>  262.931</td>\n",
              "</tr>\n",
              "<tr>\n",
              "  <th>x16</th>   <td>   24.1484</td> <td>    5.664</td> <td>    4.263</td> <td> 0.000</td> <td>   13.047</td> <td>   35.250</td>\n",
              "</tr>\n",
              "<tr>\n",
              "  <th>x17</th>   <td>    8.8457</td> <td>    6.134</td> <td>    1.442</td> <td> 0.149</td> <td>   -3.178</td> <td>   20.870</td>\n",
              "</tr>\n",
              "<tr>\n",
              "  <th>x18</th>   <td>  -98.4659</td> <td>    6.171</td> <td>  -15.956</td> <td> 0.000</td> <td> -110.562</td> <td>  -86.370</td>\n",
              "</tr>\n",
              "</table>\n",
              "<table class=\"simpletable\">\n",
              "<tr>\n",
              "  <th>Omnibus:</th>       <td>21547.040</td> <th>  Durbin-Watson:     </th>  <td>   2.006</td> \n",
              "</tr>\n",
              "<tr>\n",
              "  <th>Prob(Omnibus):</th>  <td> 0.000</td>   <th>  Jarque-Bera (JB):  </th> <td>427297.082</td>\n",
              "</tr>\n",
              "<tr>\n",
              "  <th>Skew:</th>           <td> 2.237</td>   <th>  Prob(JB):          </th>  <td>    0.00</td> \n",
              "</tr>\n",
              "<tr>\n",
              "  <th>Kurtosis:</th>       <td>18.575</td>   <th>  Cond. No.          </th>  <td>    7.49</td> \n",
              "</tr>\n",
              "</table><br/><br/>Warnings:<br/>[1] Standard Errors assume that the covariance matrix of the errors is correctly specified."
            ],
            "text/plain": [
              "<class 'statsmodels.iolib.summary.Summary'>\n",
              "\"\"\"\n",
              "                            OLS Regression Results                            \n",
              "==============================================================================\n",
              "Dep. Variable:                  price   R-squared:                       0.612\n",
              "Model:                            OLS   Adj. R-squared:                  0.612\n",
              "Method:                 Least Squares   F-statistic:                     3419.\n",
              "Date:                Sat, 02 Nov 2019   Prob (F-statistic):               0.00\n",
              "Time:                        03:29:12   Log-Likelihood:            -3.2876e+05\n",
              "No. Observations:               39053   AIC:                         6.576e+05\n",
              "Df Residuals:                   39034   BIC:                         6.577e+05\n",
              "Df Model:                          18                                         \n",
              "Covariance Type:            nonrobust                                         \n",
              "==============================================================================\n",
              "                 coef    std err          t      P>|t|      [0.025      0.975]\n",
              "------------------------------------------------------------------------------\n",
              "const       3578.6968      5.547    645.215      0.000    3567.825    3589.568\n",
              "x1           852.1428      6.766    125.941      0.000     838.881     865.405\n",
              "x2           529.0571      6.759     78.277      0.000     515.810     542.305\n",
              "x3           387.5557      6.179     62.725      0.000     375.445     399.666\n",
              "x4            66.5250      5.923     11.232      0.000      54.916      78.133\n",
              "x5            21.2462      6.203      3.425      0.001       9.088      33.405\n",
              "x6            16.8182      6.051      2.780      0.005       4.959      28.677\n",
              "x7            77.0487     15.944      4.833      0.000      45.799     108.299\n",
              "x8           -33.8961     15.924     -2.129      0.033     -65.107      -2.686\n",
              "x9            49.4301      7.200      6.866      0.000      35.318      63.542\n",
              "x10           51.0546      7.755      6.584      0.000      35.855      66.254\n",
              "x11          -13.9890      5.623     -2.488      0.013     -25.011      -2.967\n",
              "x12          163.4843      6.053     27.011      0.000     151.621     175.347\n",
              "x13          -53.2436      7.007     -7.598      0.000     -66.978     -39.509\n",
              "x14          -92.7985      6.653    -13.949      0.000    -105.838     -79.759\n",
              "x15          246.9013      8.178     30.190      0.000     230.872     262.931\n",
              "x16           24.1484      5.664      4.263      0.000      13.047      35.250\n",
              "x17            8.8457      6.134      1.442      0.149      -3.178      20.870\n",
              "x18          -98.4659      6.171    -15.956      0.000    -110.562     -86.370\n",
              "==============================================================================\n",
              "Omnibus:                    21547.040   Durbin-Watson:                   2.006\n",
              "Prob(Omnibus):                  0.000   Jarque-Bera (JB):           427297.082\n",
              "Skew:                           2.237   Prob(JB):                         0.00\n",
              "Kurtosis:                      18.575   Cond. No.                         7.49\n",
              "==============================================================================\n",
              "\n",
              "Warnings:\n",
              "[1] Standard Errors assume that the covariance matrix of the errors is correctly specified.\n",
              "\"\"\""
            ]
          },
          "metadata": {
            "tags": []
          },
          "execution_count": 121
        }
      ]
    },
    {
      "cell_type": "markdown",
      "metadata": {
        "id": "Ctk-D2txaBF_",
        "colab_type": "text"
      },
      "source": [
        "The output above gives R2 = 0.612, so 61.2% of the variance in rent price is explained by our multivariate linear regression model.\n",
        "The output summary for the model also gives us the constant 3578.69 which is the model intercept.\n",
        "The output summary for the model also gives us all the 18 coefficients for the 18 different variables that we selected. "
      ]
    },
    {
      "cell_type": "code",
      "metadata": {
        "id": "bzK6jy13K9Wk",
        "colab_type": "code",
        "outputId": "c353be85-772d-4cc6-af7c-8f16afeb1740",
        "colab": {
          "base_uri": "https://localhost:8080/",
          "height": 799
        }
      },
      "source": [
        "#Model summary for test dataset\n",
        "X1 = X_test_scaled ## X usually means our input variables (or independent variables)\n",
        "y1 = y_pred_test ## Y usually means our output/dependent variable\n",
        "X1 = sm.add_constant(X1) ## let's add an intercept (beta_0) to our model\n",
        "\n",
        "# Note the difference in argument order\n",
        "model = sm.OLS(y1, X1).fit() ## sm.OLS(output, input)\n",
        "predictions = model.predict(X1)\n",
        "\n",
        "# Print out the statistics\n",
        "model.summary()"
      ],
      "execution_count": 0,
      "outputs": [
        {
          "output_type": "execute_result",
          "data": {
            "text/html": [
              "<table class=\"simpletable\">\n",
              "<caption>OLS Regression Results</caption>\n",
              "<tr>\n",
              "  <th>Dep. Variable:</th>            <td>y</td>        <th>  R-squared:         </th>  <td>   1.000</td> \n",
              "</tr>\n",
              "<tr>\n",
              "  <th>Model:</th>                   <td>OLS</td>       <th>  Adj. R-squared:    </th>  <td>   1.000</td> \n",
              "</tr>\n",
              "<tr>\n",
              "  <th>Method:</th>             <td>Least Squares</td>  <th>  F-statistic:       </th>  <td>2.451e+31</td>\n",
              "</tr>\n",
              "<tr>\n",
              "  <th>Date:</th>             <td>Sat, 02 Nov 2019</td> <th>  Prob (F-statistic):</th>   <td>  0.00</td>  \n",
              "</tr>\n",
              "<tr>\n",
              "  <th>Time:</th>                 <td>03:49:09</td>     <th>  Log-Likelihood:    </th> <td>2.3756e+05</td>\n",
              "</tr>\n",
              "<tr>\n",
              "  <th>No. Observations:</th>      <td>  9764</td>      <th>  AIC:               </th> <td>-4.751e+05</td>\n",
              "</tr>\n",
              "<tr>\n",
              "  <th>Df Residuals:</th>          <td>  9745</td>      <th>  BIC:               </th> <td>-4.749e+05</td>\n",
              "</tr>\n",
              "<tr>\n",
              "  <th>Df Model:</th>              <td>    18</td>      <th>                     </th>      <td> </td>    \n",
              "</tr>\n",
              "<tr>\n",
              "  <th>Covariance Type:</th>      <td>nonrobust</td>    <th>                     </th>      <td> </td>    \n",
              "</tr>\n",
              "</table>\n",
              "<table class=\"simpletable\">\n",
              "<tr>\n",
              "    <td></td>       <th>coef</th>     <th>std err</th>      <th>t</th>      <th>P>|t|</th>  <th>[0.025</th>    <th>0.975]</th>  \n",
              "</tr>\n",
              "<tr>\n",
              "  <th>const</th> <td> 3578.6968</td> <td> 6.66e-14</td> <td> 5.37e+16</td> <td> 0.000</td> <td> 3578.697</td> <td> 3578.697</td>\n",
              "</tr>\n",
              "<tr>\n",
              "  <th>x1</th>    <td>  852.1428</td> <td> 8.07e-14</td> <td> 1.06e+16</td> <td> 0.000</td> <td>  852.143</td> <td>  852.143</td>\n",
              "</tr>\n",
              "<tr>\n",
              "  <th>x2</th>    <td>  529.0571</td> <td> 8.16e-14</td> <td> 6.49e+15</td> <td> 0.000</td> <td>  529.057</td> <td>  529.057</td>\n",
              "</tr>\n",
              "<tr>\n",
              "  <th>x3</th>    <td>  387.5557</td> <td> 7.51e-14</td> <td> 5.16e+15</td> <td> 0.000</td> <td>  387.556</td> <td>  387.556</td>\n",
              "</tr>\n",
              "<tr>\n",
              "  <th>x4</th>    <td>   66.5250</td> <td> 6.99e-14</td> <td> 9.52e+14</td> <td> 0.000</td> <td>   66.525</td> <td>   66.525</td>\n",
              "</tr>\n",
              "<tr>\n",
              "  <th>x5</th>    <td>   21.2462</td> <td> 7.62e-14</td> <td> 2.79e+14</td> <td> 0.000</td> <td>   21.246</td> <td>   21.246</td>\n",
              "</tr>\n",
              "<tr>\n",
              "  <th>x6</th>    <td>   16.8182</td> <td>  7.1e-14</td> <td> 2.37e+14</td> <td> 0.000</td> <td>   16.818</td> <td>   16.818</td>\n",
              "</tr>\n",
              "<tr>\n",
              "  <th>x7</th>    <td>   77.0487</td> <td> 1.92e-13</td> <td> 4.01e+14</td> <td> 0.000</td> <td>   77.049</td> <td>   77.049</td>\n",
              "</tr>\n",
              "<tr>\n",
              "  <th>x8</th>    <td>  -33.8961</td> <td> 1.92e-13</td> <td>-1.76e+14</td> <td> 0.000</td> <td>  -33.896</td> <td>  -33.896</td>\n",
              "</tr>\n",
              "<tr>\n",
              "  <th>x9</th>    <td>   49.4301</td> <td> 8.61e-14</td> <td> 5.74e+14</td> <td> 0.000</td> <td>   49.430</td> <td>   49.430</td>\n",
              "</tr>\n",
              "<tr>\n",
              "  <th>x10</th>   <td>   51.0546</td> <td> 9.23e-14</td> <td> 5.53e+14</td> <td> 0.000</td> <td>   51.055</td> <td>   51.055</td>\n",
              "</tr>\n",
              "<tr>\n",
              "  <th>x11</th>   <td>  -13.9890</td> <td> 6.65e-14</td> <td> -2.1e+14</td> <td> 0.000</td> <td>  -13.989</td> <td>  -13.989</td>\n",
              "</tr>\n",
              "<tr>\n",
              "  <th>x12</th>   <td>  163.4843</td> <td> 7.16e-14</td> <td> 2.28e+15</td> <td> 0.000</td> <td>  163.484</td> <td>  163.484</td>\n",
              "</tr>\n",
              "<tr>\n",
              "  <th>x13</th>   <td>  -53.2436</td> <td> 8.48e-14</td> <td>-6.28e+14</td> <td> 0.000</td> <td>  -53.244</td> <td>  -53.244</td>\n",
              "</tr>\n",
              "<tr>\n",
              "  <th>x14</th>   <td>  -92.7985</td> <td>  7.9e-14</td> <td>-1.17e+15</td> <td> 0.000</td> <td>  -92.799</td> <td>  -92.799</td>\n",
              "</tr>\n",
              "<tr>\n",
              "  <th>x15</th>   <td>  246.9013</td> <td> 9.92e-14</td> <td> 2.49e+15</td> <td> 0.000</td> <td>  246.901</td> <td>  246.901</td>\n",
              "</tr>\n",
              "<tr>\n",
              "  <th>x16</th>   <td>   24.1484</td> <td> 6.99e-14</td> <td> 3.45e+14</td> <td> 0.000</td> <td>   24.148</td> <td>   24.148</td>\n",
              "</tr>\n",
              "<tr>\n",
              "  <th>x17</th>   <td>    8.8457</td> <td> 7.74e-14</td> <td> 1.14e+14</td> <td> 0.000</td> <td>    8.846</td> <td>    8.846</td>\n",
              "</tr>\n",
              "<tr>\n",
              "  <th>x18</th>   <td>  -98.4659</td> <td> 7.39e-14</td> <td>-1.33e+15</td> <td> 0.000</td> <td>  -98.466</td> <td>  -98.466</td>\n",
              "</tr>\n",
              "</table>\n",
              "<table class=\"simpletable\">\n",
              "<tr>\n",
              "  <th>Omnibus:</th>       <td>1649.636</td> <th>  Durbin-Watson:     </th> <td>   1.275</td>\n",
              "</tr>\n",
              "<tr>\n",
              "  <th>Prob(Omnibus):</th>  <td> 0.000</td>  <th>  Jarque-Bera (JB):  </th> <td>2780.997</td>\n",
              "</tr>\n",
              "<tr>\n",
              "  <th>Skew:</th>           <td> 1.119</td>  <th>  Prob(JB):          </th> <td>    0.00</td>\n",
              "</tr>\n",
              "<tr>\n",
              "  <th>Kurtosis:</th>       <td> 4.353</td>  <th>  Cond. No.          </th> <td>    7.60</td>\n",
              "</tr>\n",
              "</table><br/><br/>Warnings:<br/>[1] Standard Errors assume that the covariance matrix of the errors is correctly specified."
            ],
            "text/plain": [
              "<class 'statsmodels.iolib.summary.Summary'>\n",
              "\"\"\"\n",
              "                            OLS Regression Results                            \n",
              "==============================================================================\n",
              "Dep. Variable:                      y   R-squared:                       1.000\n",
              "Model:                            OLS   Adj. R-squared:                  1.000\n",
              "Method:                 Least Squares   F-statistic:                 2.451e+31\n",
              "Date:                Sat, 02 Nov 2019   Prob (F-statistic):               0.00\n",
              "Time:                        03:49:09   Log-Likelihood:             2.3756e+05\n",
              "No. Observations:                9764   AIC:                        -4.751e+05\n",
              "Df Residuals:                    9745   BIC:                        -4.749e+05\n",
              "Df Model:                          18                                         \n",
              "Covariance Type:            nonrobust                                         \n",
              "==============================================================================\n",
              "                 coef    std err          t      P>|t|      [0.025      0.975]\n",
              "------------------------------------------------------------------------------\n",
              "const       3578.6968   6.66e-14   5.37e+16      0.000    3578.697    3578.697\n",
              "x1           852.1428   8.07e-14   1.06e+16      0.000     852.143     852.143\n",
              "x2           529.0571   8.16e-14   6.49e+15      0.000     529.057     529.057\n",
              "x3           387.5557   7.51e-14   5.16e+15      0.000     387.556     387.556\n",
              "x4            66.5250   6.99e-14   9.52e+14      0.000      66.525      66.525\n",
              "x5            21.2462   7.62e-14   2.79e+14      0.000      21.246      21.246\n",
              "x6            16.8182    7.1e-14   2.37e+14      0.000      16.818      16.818\n",
              "x7            77.0487   1.92e-13   4.01e+14      0.000      77.049      77.049\n",
              "x8           -33.8961   1.92e-13  -1.76e+14      0.000     -33.896     -33.896\n",
              "x9            49.4301   8.61e-14   5.74e+14      0.000      49.430      49.430\n",
              "x10           51.0546   9.23e-14   5.53e+14      0.000      51.055      51.055\n",
              "x11          -13.9890   6.65e-14   -2.1e+14      0.000     -13.989     -13.989\n",
              "x12          163.4843   7.16e-14   2.28e+15      0.000     163.484     163.484\n",
              "x13          -53.2436   8.48e-14  -6.28e+14      0.000     -53.244     -53.244\n",
              "x14          -92.7985    7.9e-14  -1.17e+15      0.000     -92.799     -92.799\n",
              "x15          246.9013   9.92e-14   2.49e+15      0.000     246.901     246.901\n",
              "x16           24.1484   6.99e-14   3.45e+14      0.000      24.148      24.148\n",
              "x17            8.8457   7.74e-14   1.14e+14      0.000       8.846       8.846\n",
              "x18          -98.4659   7.39e-14  -1.33e+15      0.000     -98.466     -98.466\n",
              "==============================================================================\n",
              "Omnibus:                     1649.636   Durbin-Watson:                   1.275\n",
              "Prob(Omnibus):                  0.000   Jarque-Bera (JB):             2780.997\n",
              "Skew:                           1.119   Prob(JB):                         0.00\n",
              "Kurtosis:                       4.353   Cond. No.                         7.60\n",
              "==============================================================================\n",
              "\n",
              "Warnings:\n",
              "[1] Standard Errors assume that the covariance matrix of the errors is correctly specified.\n",
              "\"\"\""
            ]
          },
          "metadata": {
            "tags": []
          },
          "execution_count": 122
        }
      ]
    },
    {
      "cell_type": "markdown",
      "metadata": {
        "id": "NBO34h90RPgH",
        "colab_type": "text"
      },
      "source": [
        "####R2 for the test dataset is 1, so 100% of the variance in rent in test dataset is explained by our multivariate regression model. Thus, our multivariate linear regression has 100% predictive accuracy in predicting rent in the test dataset. That is a good result."
      ]
    },
    {
      "cell_type": "markdown",
      "metadata": {
        "id": "uwRRJ3lBTCNO",
        "colab_type": "text"
      },
      "source": [
        "In machine learning, the test data accuracy is more important, so my multiple regression model has 100% predictive accuracy."
      ]
    },
    {
      "cell_type": "markdown",
      "metadata": {
        "id": "x6M2kawrYxtA",
        "colab_type": "text"
      },
      "source": [
        "I also played around with some other variables but was unable to get R2 of higher than 61.2% in train dataset. I would prefer >70% for train dataset but for this dataset, I can't get higher R2 in train data."
      ]
    }
  ]
}