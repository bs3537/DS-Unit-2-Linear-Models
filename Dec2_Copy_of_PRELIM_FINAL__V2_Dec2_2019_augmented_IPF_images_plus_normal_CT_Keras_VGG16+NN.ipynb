{
  "nbformat": 4,
  "nbformat_minor": 0,
  "metadata": {
    "colab": {
      "name": "Dec2_Copy of PRELIM_FINAL__V2_Dec2_2019_augmented IPF images plus normal CT_Keras_VGG16+NN.ipynb",
      "provenance": [],
      "collapsed_sections": [],
      "include_colab_link": true
    },
    "kernelspec": {
      "name": "python3",
      "display_name": "Python 3"
    },
    "accelerator": "GPU"
  },
  "cells": [
    {
      "cell_type": "markdown",
      "metadata": {
        "id": "view-in-github",
        "colab_type": "text"
      },
      "source": [
        "<a href=\"https://colab.research.google.com/github/bs3537/DS-Unit-2-Linear-Models/blob/master/Dec2_Copy_of_PRELIM_FINAL__V2_Dec2_2019_augmented_IPF_images_plus_normal_CT_Keras_VGG16%2BNN.ipynb\" target=\"_parent\"><img src=\"https://colab.research.google.com/assets/colab-badge.svg\" alt=\"Open In Colab\"/></a>"
      ]
    },
    {
      "cell_type": "code",
      "metadata": {
        "id": "6bEj3uocWEzb",
        "colab_type": "code",
        "colab": {}
      },
      "source": [
        "#lowest val loss =0.36 with layers 200 and 75, binary, shuffle true, activation Relu, epochs 6, GPU."
      ],
      "execution_count": 0,
      "outputs": []
    },
    {
      "cell_type": "code",
      "metadata": {
        "id": "hR0uXMG_Txpj",
        "colab_type": "code",
        "outputId": "19078a8a-8489-4d0f-b2ed-9640d2e87d8e",
        "colab": {
          "base_uri": "https://localhost:8080/",
          "height": 539
        }
      },
      "source": [
        "import pandas as pd\n",
        "import numpy as np \n",
        "import itertools\n",
        "import keras\n",
        "from sklearn import metrics\n",
        "from sklearn.model_selection import train_test_split\n",
        "from sklearn.metrics import confusion_matrix\n",
        "from keras.preprocessing.image import ImageDataGenerator, img_to_array, load_img \n",
        "from keras.models import Sequential \n",
        "from keras import optimizers\n",
        "from keras.preprocessing import image\n",
        "from keras.layers import Dropout, Flatten, Dense \n",
        "from keras import applications \n",
        "from keras.utils.np_utils import to_categorical \n",
        "import matplotlib.pyplot as plt \n",
        "import matplotlib.image as mpimg\n",
        "%matplotlib inline\n",
        "import math \n",
        "import datetime\n",
        "import time"
      ],
      "execution_count": 0,
      "outputs": [
        {
          "output_type": "stream",
          "text": [
            "Using TensorFlow backend.\n",
            "/usr/local/lib/python3.6/dist-packages/tensorflow/python/framework/dtypes.py:516: FutureWarning: Passing (type, 1) or '1type' as a synonym of type is deprecated; in a future version of numpy, it will be understood as (type, (1,)) / '(1,)type'.\n",
            "  _np_qint8 = np.dtype([(\"qint8\", np.int8, 1)])\n",
            "/usr/local/lib/python3.6/dist-packages/tensorflow/python/framework/dtypes.py:517: FutureWarning: Passing (type, 1) or '1type' as a synonym of type is deprecated; in a future version of numpy, it will be understood as (type, (1,)) / '(1,)type'.\n",
            "  _np_quint8 = np.dtype([(\"quint8\", np.uint8, 1)])\n",
            "/usr/local/lib/python3.6/dist-packages/tensorflow/python/framework/dtypes.py:518: FutureWarning: Passing (type, 1) or '1type' as a synonym of type is deprecated; in a future version of numpy, it will be understood as (type, (1,)) / '(1,)type'.\n",
            "  _np_qint16 = np.dtype([(\"qint16\", np.int16, 1)])\n",
            "/usr/local/lib/python3.6/dist-packages/tensorflow/python/framework/dtypes.py:519: FutureWarning: Passing (type, 1) or '1type' as a synonym of type is deprecated; in a future version of numpy, it will be understood as (type, (1,)) / '(1,)type'.\n",
            "  _np_quint16 = np.dtype([(\"quint16\", np.uint16, 1)])\n",
            "/usr/local/lib/python3.6/dist-packages/tensorflow/python/framework/dtypes.py:520: FutureWarning: Passing (type, 1) or '1type' as a synonym of type is deprecated; in a future version of numpy, it will be understood as (type, (1,)) / '(1,)type'.\n",
            "  _np_qint32 = np.dtype([(\"qint32\", np.int32, 1)])\n",
            "/usr/local/lib/python3.6/dist-packages/tensorflow/python/framework/dtypes.py:525: FutureWarning: Passing (type, 1) or '1type' as a synonym of type is deprecated; in a future version of numpy, it will be understood as (type, (1,)) / '(1,)type'.\n",
            "  np_resource = np.dtype([(\"resource\", np.ubyte, 1)])\n",
            "/usr/local/lib/python3.6/dist-packages/tensorboard/compat/tensorflow_stub/dtypes.py:541: FutureWarning: Passing (type, 1) or '1type' as a synonym of type is deprecated; in a future version of numpy, it will be understood as (type, (1,)) / '(1,)type'.\n",
            "  _np_qint8 = np.dtype([(\"qint8\", np.int8, 1)])\n",
            "/usr/local/lib/python3.6/dist-packages/tensorboard/compat/tensorflow_stub/dtypes.py:542: FutureWarning: Passing (type, 1) or '1type' as a synonym of type is deprecated; in a future version of numpy, it will be understood as (type, (1,)) / '(1,)type'.\n",
            "  _np_quint8 = np.dtype([(\"quint8\", np.uint8, 1)])\n",
            "/usr/local/lib/python3.6/dist-packages/tensorboard/compat/tensorflow_stub/dtypes.py:543: FutureWarning: Passing (type, 1) or '1type' as a synonym of type is deprecated; in a future version of numpy, it will be understood as (type, (1,)) / '(1,)type'.\n",
            "  _np_qint16 = np.dtype([(\"qint16\", np.int16, 1)])\n",
            "/usr/local/lib/python3.6/dist-packages/tensorboard/compat/tensorflow_stub/dtypes.py:544: FutureWarning: Passing (type, 1) or '1type' as a synonym of type is deprecated; in a future version of numpy, it will be understood as (type, (1,)) / '(1,)type'.\n",
            "  _np_quint16 = np.dtype([(\"quint16\", np.uint16, 1)])\n",
            "/usr/local/lib/python3.6/dist-packages/tensorboard/compat/tensorflow_stub/dtypes.py:545: FutureWarning: Passing (type, 1) or '1type' as a synonym of type is deprecated; in a future version of numpy, it will be understood as (type, (1,)) / '(1,)type'.\n",
            "  _np_qint32 = np.dtype([(\"qint32\", np.int32, 1)])\n",
            "/usr/local/lib/python3.6/dist-packages/tensorboard/compat/tensorflow_stub/dtypes.py:550: FutureWarning: Passing (type, 1) or '1type' as a synonym of type is deprecated; in a future version of numpy, it will be understood as (type, (1,)) / '(1,)type'.\n",
            "  np_resource = np.dtype([(\"resource\", np.ubyte, 1)])\n"
          ],
          "name": "stderr"
        },
        {
          "output_type": "display_data",
          "data": {
            "text/html": [
              "<p style=\"color: red;\">\n",
              "The default version of TensorFlow in Colab will soon switch to TensorFlow 2.x.<br>\n",
              "We recommend you <a href=\"https://www.tensorflow.org/guide/migrate\" target=\"_blank\">upgrade</a> now \n",
              "or ensure your notebook will continue to use TensorFlow 1.x via the <code>%tensorflow_version 1.x</code> magic:\n",
              "<a href=\"https://colab.research.google.com/notebooks/tensorflow_version.ipynb\" target=\"_blank\">more info</a>.</p>\n"
            ],
            "text/plain": [
              "<IPython.core.display.HTML object>"
            ]
          },
          "metadata": {
            "tags": []
          }
        }
      ]
    },
    {
      "cell_type": "code",
      "metadata": {
        "id": "ay_Lt1w-Se5e",
        "colab_type": "code",
        "colab": {}
      },
      "source": [
        "%%capture\n",
        "import sys\n"
      ],
      "execution_count": 0,
      "outputs": []
    },
    {
      "cell_type": "code",
      "metadata": {
        "id": "wyEcvumRTkCV",
        "colab_type": "code",
        "outputId": "92e74147-d534-4557-c36f-f2af27e646b3",
        "colab": {
          "base_uri": "https://localhost:8080/",
          "height": 35
        }
      },
      "source": [
        "from google.colab import drive\n",
        "drive.mount('/content/drive')"
      ],
      "execution_count": 0,
      "outputs": [
        {
          "output_type": "stream",
          "text": [
            "Drive already mounted at /content/drive; to attempt to forcibly remount, call drive.mount(\"/content/drive\", force_remount=True).\n"
          ],
          "name": "stdout"
        }
      ]
    },
    {
      "cell_type": "code",
      "metadata": {
        "id": "ojHzOla-ZaV5",
        "colab_type": "code",
        "colab": {}
      },
      "source": [
        "train_data_dir = ('/content/drive/My Drive/Dec 1 2019 keras ipf ct data/Train')\n",
        "validation_data_dir = ('/content/drive/My Drive/Dec 1 2019 keras ipf ct data/Test')"
      ],
      "execution_count": 0,
      "outputs": []
    },
    {
      "cell_type": "code",
      "metadata": {
        "id": "Ebi4CiL_UIfa",
        "colab_type": "code",
        "colab": {}
      },
      "source": [
        "#Default dimensions of image\n",
        "img_width, img_height = 224, 224 \n",
        " \n",
        "#Create a bottleneck file\n",
        "top_model_weights_path = 'bottleneck_fc_model.h5'\n",
        "# loading up our datasets\n",
        "\n",
        "#test_data_dir = 'data/test'\n",
        " \n",
        "# number of epochs to train top model \n",
        "epochs = 6 #this has been changed after multiple model run \n",
        "# batch size used by flow_from_directory and predict_generator \n",
        "batch_size = 24"
      ],
      "execution_count": 0,
      "outputs": []
    },
    {
      "cell_type": "code",
      "metadata": {
        "id": "HmuGuJuJWnqH",
        "colab_type": "code",
        "outputId": "9c0ab316-ecf6-44c8-c1d5-8d1f226b641a",
        "colab": {
          "base_uri": "https://localhost:8080/",
          "height": 235
        }
      },
      "source": [
        "#Loading vgg16 model for feature extraction from image files\n",
        "from keras import applications\n",
        "vgg16 = applications.VGG16(include_top=False, weights='imagenet', input_shape=(224,224,3))\n",
        "from keras.preprocessing.image import ImageDataGenerator\n",
        "datagen = ImageDataGenerator(rescale=1. / 255) \n",
        "#needed to create the bottleneck .npy files"
      ],
      "execution_count": 0,
      "outputs": [
        {
          "output_type": "stream",
          "text": [
            "WARNING:tensorflow:From /usr/local/lib/python3.6/dist-packages/keras/backend/tensorflow_backend.py:66: The name tf.get_default_graph is deprecated. Please use tf.compat.v1.get_default_graph instead.\n",
            "\n",
            "WARNING:tensorflow:From /usr/local/lib/python3.6/dist-packages/keras/backend/tensorflow_backend.py:541: The name tf.placeholder is deprecated. Please use tf.compat.v1.placeholder instead.\n",
            "\n",
            "WARNING:tensorflow:From /usr/local/lib/python3.6/dist-packages/keras/backend/tensorflow_backend.py:4432: The name tf.random_uniform is deprecated. Please use tf.random.uniform instead.\n",
            "\n",
            "WARNING:tensorflow:From /usr/local/lib/python3.6/dist-packages/keras/backend/tensorflow_backend.py:4267: The name tf.nn.max_pool is deprecated. Please use tf.nn.max_pool2d instead.\n",
            "\n",
            "WARNING:tensorflow:From /usr/local/lib/python3.6/dist-packages/keras/backend/tensorflow_backend.py:190: The name tf.get_default_session is deprecated. Please use tf.compat.v1.get_default_session instead.\n",
            "\n",
            "WARNING:tensorflow:From /usr/local/lib/python3.6/dist-packages/keras/backend/tensorflow_backend.py:197: The name tf.ConfigProto is deprecated. Please use tf.compat.v1.ConfigProto instead.\n",
            "\n"
          ],
          "name": "stdout"
        }
      ]
    },
    {
      "cell_type": "code",
      "metadata": {
        "id": "PgRuNxCaX5ox",
        "colab_type": "code",
        "outputId": "2ad4ab36-e623-4e59-e761-2c5590352357",
        "colab": {
          "base_uri": "https://localhost:8080/",
          "height": 72
        }
      },
      "source": [
        "#feature extraction\n",
        "\n",
        "import datetime\n",
        "import numpy as np\n",
        "import math\n",
        "start = datetime.datetime.now()\n",
        " \n",
        "generator = datagen.flow_from_directory( \n",
        "    train_data_dir, \n",
        "    target_size=(224, 224), \n",
        "    batch_size=batch_size, \n",
        "    class_mode='binary', \n",
        "    shuffle=True) \n",
        " \n",
        "\n",
        "generator2 = datagen.flow_from_directory( \n",
        "    validation_data_dir, \n",
        "    target_size=(224, 224), \n",
        "    batch_size=batch_size, \n",
        "    class_mode='binary', \n",
        "    shuffle=True) \n",
        "nb_train_samples = len(generator.filenames) \n",
        "num_classes = len(generator.class_indices) \n",
        "nb_validation_samples = len(generator2.filenames) \n",
        "num_classes = len(generator.class_indices)  \n",
        "predict_size_train = int(math.ceil(nb_train_samples / batch_size)) \n",
        "predict_size_validation = int(math.ceil(nb_validation_samples / batch_size)) \n",
        "bottleneck_features_train = vgg16.predict_generator(generator, predict_size_train) \n",
        "bottleneck_features_validation = vgg16.predict_generator(generator, predict_size_validation) \n",
        "np.save('bottleneck_features_train.npy', bottleneck_features_train)\n",
        " \n",
        "np.save('bottleneck_features_validation.npy', bottleneck_features_validation)\n",
        "end= datetime.datetime.now()\n",
        "elapsed= end-start\n",
        "print (\"Time: \", elapsed)"
      ],
      "execution_count": 0,
      "outputs": [
        {
          "output_type": "stream",
          "text": [
            "Found 165 images belonging to 2 classes.\n",
            "Found 24 images belonging to 2 classes.\n",
            "Time:  0:01:33.253754\n"
          ],
          "name": "stdout"
        }
      ]
    },
    {
      "cell_type": "code",
      "metadata": {
        "id": "dwtph7kwghIa",
        "colab_type": "code",
        "outputId": "6c076fe0-0365-4578-ad5e-260148f9c397",
        "colab": {
          "base_uri": "https://localhost:8080/",
          "height": 35
        }
      },
      "source": [
        "#training data\n",
        "generator_top = datagen.flow_from_directory( \n",
        "   train_data_dir, \n",
        "   target_size=(224, 224), \n",
        "   batch_size=batch_size, \n",
        "   class_mode='binary', \n",
        "   shuffle=True) \n",
        " \n",
        "nb_train_samples = len(generator_top.filenames) \n",
        "num_classes = len(generator_top.class_indices) \n",
        " \n",
        "# load the bottleneck features saved earlier \n",
        "train_data = np.load('bottleneck_features_train.npy') \n",
        " \n",
        "# get the class labels for the training data, in the original order \n",
        "train_labels = generator_top.classes \n",
        " \n",
        "# convert the training labels to categorical vectors \n",
        "train_labels = to_categorical(train_labels, num_classes=num_classes)"
      ],
      "execution_count": 0,
      "outputs": [
        {
          "output_type": "stream",
          "text": [
            "Found 165 images belonging to 2 classes.\n"
          ],
          "name": "stdout"
        }
      ]
    },
    {
      "cell_type": "code",
      "metadata": {
        "id": "Gn90QoragjwY",
        "colab_type": "code",
        "outputId": "b0661420-50a4-44a8-b895-98b44a20fe8c",
        "colab": {
          "base_uri": "https://localhost:8080/",
          "height": 35
        }
      },
      "source": [
        "#validation data\n",
        "\n",
        "generator_top = datagen.flow_from_directory( \n",
        "   validation_data_dir, \n",
        "   target_size=(224, 224), \n",
        "   batch_size=batch_size, \n",
        "   class_mode='binary', \n",
        "   shuffle=True) \n",
        " \n",
        "nb_validation_samples = len(generator_top.filenames) \n",
        "num_classes = len(generator_top.class_indices) \n",
        " \n",
        "# load the bottleneck features saved earlier \n",
        "validation_data = np.load('bottleneck_features_validation.npy') \n",
        " \n",
        "# get the class labels for the training data, in the original order \n",
        "validation_labels = generator_top.classes \n",
        " \n",
        "# convert the training labels to categorical vectors \n",
        "validation_labels = to_categorical(validation_labels, num_classes=num_classes)"
      ],
      "execution_count": 0,
      "outputs": [
        {
          "output_type": "stream",
          "text": [
            "Found 24 images belonging to 2 classes.\n"
          ],
          "name": "stdout"
        }
      ]
    },
    {
      "cell_type": "code",
      "metadata": {
        "id": "traCAY7DL9AW",
        "colab_type": "code",
        "outputId": "a99269f2-7c0d-4a09-dc75-2bb67e34200d",
        "colab": {
          "base_uri": "https://localhost:8080/",
          "height": 92
        }
      },
      "source": [
        "#CNN Model\n",
        "start = datetime.datetime.now()\n",
        "model = Sequential() \n",
        "model.add(Flatten(input_shape=train_data.shape[1:])) \n",
        "model.add(Dense(200, activation='relu'))\n",
        "model.add(Dropout(0.5)) \n",
        "model.add(Dense(75, activation='relu'))\n",
        "model.add(Dropout(0.3)) \n",
        "model.add(Dense(num_classes, activation='softmax'))"
      ],
      "execution_count": 0,
      "outputs": [
        {
          "output_type": "stream",
          "text": [
            "WARNING:tensorflow:From /usr/local/lib/python3.6/dist-packages/keras/backend/tensorflow_backend.py:3733: calling dropout (from tensorflow.python.ops.nn_ops) with keep_prob is deprecated and will be removed in a future version.\n",
            "Instructions for updating:\n",
            "Please use `rate` instead of `keep_prob`. Rate should be set to `rate = 1 - keep_prob`.\n"
          ],
          "name": "stdout"
        }
      ]
    },
    {
      "cell_type": "code",
      "metadata": {
        "id": "GoivELBza9mB",
        "colab_type": "code",
        "outputId": "e632028c-48e4-4094-c098-8161fbd43ad7",
        "colab": {
          "base_uri": "https://localhost:8080/",
          "height": 437
        }
      },
      "source": [
        "#compile model\n",
        "model.compile(loss='binary_crossentropy', \n",
        "              optimizer=optimizers.RMSprop(lr=1e-4),\n",
        "              metrics=['acc'])\n",
        "\n",
        "history = model.fit(train_data, train_labels, \n",
        "   epochs=6,\n",
        "   batch_size=batch_size, \n",
        "   validation_data=(validation_data, validation_labels))\n",
        "model.save_weights(top_model_weights_path)\n",
        "(eval_loss, eval_accuracy) = model.evaluate( \n",
        "    validation_data, validation_labels, batch_size=batch_size, verbose=1)\n",
        "print(\"[INFO] accuracy: {:.2f}%\".format(eval_accuracy * 100)) \n",
        "print(\"[INFO] Loss: {}\".format(eval_loss)) \n",
        "end= datetime.datetime.now()\n",
        "elapsed= end-start\n",
        "print (\"Time: \", elapsed)"
      ],
      "execution_count": 0,
      "outputs": [
        {
          "output_type": "stream",
          "text": [
            "WARNING:tensorflow:From /usr/local/lib/python3.6/dist-packages/keras/optimizers.py:793: The name tf.train.Optimizer is deprecated. Please use tf.compat.v1.train.Optimizer instead.\n",
            "\n",
            "WARNING:tensorflow:From /usr/local/lib/python3.6/dist-packages/tensorflow/python/ops/nn_impl.py:180: add_dispatch_support.<locals>.wrapper (from tensorflow.python.ops.array_ops) is deprecated and will be removed in a future version.\n",
            "Instructions for updating:\n",
            "Use tf.where in 2.0, which has the same broadcast rule as np.where\n",
            "Train on 165 samples, validate on 24 samples\n",
            "Epoch 1/6\n",
            "165/165 [==============================] - 1s 5ms/step - loss: 0.3918 - acc: 0.8788 - val_loss: 0.8300 - val_acc: 0.8750\n",
            "Epoch 2/6\n",
            "165/165 [==============================] - 0s 3ms/step - loss: 0.2474 - acc: 0.9515 - val_loss: 0.7739 - val_acc: 0.8750\n",
            "Epoch 3/6\n",
            "165/165 [==============================] - 0s 3ms/step - loss: 0.2358 - acc: 0.9576 - val_loss: 0.6768 - val_acc: 0.8750\n",
            "Epoch 4/6\n",
            "165/165 [==============================] - 0s 3ms/step - loss: 0.2034 - acc: 0.9515 - val_loss: 0.6992 - val_acc: 0.8750\n",
            "Epoch 5/6\n",
            "165/165 [==============================] - 0s 3ms/step - loss: 0.1475 - acc: 0.9515 - val_loss: 0.6618 - val_acc: 0.8750\n",
            "Epoch 6/6\n",
            "165/165 [==============================] - 0s 3ms/step - loss: 0.1230 - acc: 0.9636 - val_loss: 0.6258 - val_acc: 0.8750\n",
            "24/24 [==============================] - 0s 296us/step\n",
            "[INFO] accuracy: 87.50%\n",
            "[INFO] Loss: 0.6258495450019836\n",
            "Time:  0:00:03.873812\n"
          ],
          "name": "stdout"
        }
      ]
    },
    {
      "cell_type": "code",
      "metadata": {
        "id": "HBkIySpviMmx",
        "colab_type": "code",
        "outputId": "4af82e51-22e8-40ee-cd39-75deac4a2271",
        "colab": {
          "base_uri": "https://localhost:8080/",
          "height": 573
        }
      },
      "source": [
        "#Graphing our training and validation\n",
        "acc = history.history['acc']\n",
        "val_acc = history.history['val_acc']\n",
        "loss = history.history['loss']\n",
        "val_loss = history.history['val_loss']\n",
        "epochs = range(len(acc))\n",
        "plt.plot(epochs, acc, 'r', label='Training acc')\n",
        "plt.plot(epochs, val_acc, 'b', label='Validation acc')\n",
        "plt.title(\"Training and validation accuracy\")\n",
        "plt.ylabel(\"accuracy\") \n",
        "plt.xlabel(\"epoch\")\n",
        "plt.legend()\n",
        "plt.figure()\n",
        "plt.plot(epochs, loss, 'r', label=\"Training loss\")\n",
        "plt.plot(epochs, val_loss, 'b', label=\"Validation loss\")\n",
        "plt.title(\"Training and validation loss\")\n",
        "plt.ylabel(\"loss\") \n",
        "plt.xlabel(\"epoch\")\n",
        "plt.legend()\n",
        "plt.show()"
      ],
      "execution_count": 0,
      "outputs": [
        {
          "output_type": "display_data",
          "data": {
            "image/png": "[encoded data removed]",
            "text/plain": [
              "<Figure size 432x288 with 1 Axes>"
            ]
          },
          "metadata": {
            "tags": []
          }
        },
        {
          "output_type": "display_data",
          "data": {
            "image/png": "[encoded data removed]",
            "text/plain": [
              "<Figure size 432x288 with 1 Axes>"
            ]
          },
          "metadata": {
            "tags": []
          }
        }
      ]
    }
  ]
}